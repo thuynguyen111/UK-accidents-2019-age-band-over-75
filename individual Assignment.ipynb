{
 "cells": [
  {
   "cell_type": "markdown",
   "id": "b167df8f",
   "metadata": {},
   "source": [
    "**Candidate Number:** 179535"
   ]
  },
  {
   "cell_type": "markdown",
   "id": "1d8cdabe",
   "metadata": {},
   "source": [
    "# Big Data Coursework - UK Vehicle Dataset - Individual Part"
   ]
  },
  {
   "cell_type": "markdown",
   "id": "91500996",
   "metadata": {},
   "source": [
    "**Table of Contents**\n",
    "1. Business Objective\n",
    "2. Setting up Enviroment\n",
    "3. Data Pre-processing\n",
    "4. Exploratory Data Analysis\n",
    "5. Cleaning and Transformation\n",
    "6. Feature Selection\n",
    "7. Model Building\n",
    "8. Conclusion\n",
    "9. Possible Future Improvement"
   ]
  },
  {
   "cell_type": "markdown",
   "id": "b04c2a53",
   "metadata": {},
   "source": [
    "# 1. Business Objective"
   ]
  },
  {
   "cell_type": "markdown",
   "id": "65c0485d",
   "metadata": {},
   "source": [
    "In our group work, we comprehensively studied different elements (environmental, individualistic,vehicular,\n",
    "geographical and road related factors) leading to fatal/non-fatal accidents. With a view to provide insurance companies with a useful predictive model, I'd like to delve deeper into the individual factors, such as demographics (age, sex of drivers, drive home area, etc.) to better understand drivers' driving behaviours, as well as drivers' vehicle factors (vehicle type, vehicle age, engine capacity, and so on) to assess drivers' accident risk.\n",
    "\n",
    "These details can be easily gathered by insurance companies when the driver signs up for coverage. Insurance companies can then create classification models to **predict level of accident severity** that the drivers can potentially cause. These predictions can be used by insurers to better price and tailor coverage alternatives, as well as to alert clients to take preventative measures.  Both insurers and drivers should gain from this predictive classification model.\n",
    "\n",
    "This workbook aims to build a classification model that achieve the best possible accuracy score with the information provided. From our group analysis, because 2020 is an unusual year (fewer accidents due to Covid-19 lockdown), I will utilise the 2019 dataset to create a more realistic model. Furthermore, in this analysis, the classification model is only fitted for the over 75 year-old age group, as they are the most vunerable group to fatality (When compared to other age groups, there are three times as many deadly instances) yet they are capable of changing their driving behaviors."
   ]
  },
  {
   "cell_type": "markdown",
   "id": "aeee8b53",
   "metadata": {},
   "source": [
    "# 2. Setting up Environment"
   ]
  },
  {
   "cell_type": "markdown",
   "id": "ec5efccb",
   "metadata": {},
   "source": [
    "I will repeat some of the steps from the group project to pre-process the data before building a model. Therefore, many codes from the group work are also used in section 2,3,4,5."
   ]
  },
  {
   "cell_type": "code",
   "execution_count": 105,
   "id": "55b9d153",
   "metadata": {},
   "outputs": [],
   "source": [
    "# import the required libraries\n",
    "\n",
    "# base libraries\n",
    "import os\n",
    "import time\n",
    "\n",
    "\n",
    "# Visualization\n",
    "import matplotlib.pyplot as plt\n",
    "import seaborn as sns\n",
    "import squarify\n",
    "\n",
    "# Data manipulation\n",
    "import numpy as np\n",
    "import pandas as pd\n",
    "\n",
    "# Data Pre-processing and transformation\n",
    "from sklearn.model_selection import train_test_split\n",
    "from sklearn.impute import SimpleImputer\n",
    "from sklearn.preprocessing import OneHotEncoder\n",
    "from functools import reduce\n",
    "\n",
    "#confusion matrix \n",
    "from sklearn.metrics import precision_recall_fscore_support, classification_report\n",
    "from sklearn.metrics import confusion_matrix, ConfusionMatrixDisplay\n",
    "from sklearn.model_selection import cross_val_predict\n",
    "\n",
    "#model\n",
    "from sklearn.model_selection import GridSearchCV\n",
    "import lightgbm as lgb\n",
    "from lightgbm import LGBMClassifier\n",
    "\n",
    "#imbalance\n",
    "from imblearn.pipeline import Pipeline\n",
    "from imblearn.over_sampling import SMOTE\n",
    "from imblearn.under_sampling import ClusterCentroids\n",
    "from sklearn.ensemble import RandomForestClassifier\n",
    "\n",
    "# do not print warnings\n",
    "import warnings\n",
    "warnings.filterwarnings(\"ignore\")"
   ]
  },
  {
   "cell_type": "code",
   "execution_count": 106,
   "id": "25fbe09a",
   "metadata": {},
   "outputs": [],
   "source": [
    "def evaluate_on_test(model, ytest, Xtest):\n",
    "    yhat = model.predict(Xtest)\n",
    "    print(classification_report(ytest, yhat))"
   ]
  },
  {
   "cell_type": "markdown",
   "id": "79265ada",
   "metadata": {},
   "source": [
    "# 3.Data Pre-Processing\n"
   ]
  },
  {
   "cell_type": "markdown",
   "id": "e018800a",
   "metadata": {},
   "source": [
    "## 3.1 Data Loading and Preparation"
   ]
  },
  {
   "cell_type": "code",
   "execution_count": 31,
   "id": "eaca0447",
   "metadata": {},
   "outputs": [],
   "source": [
    "# import datasets onto python and save in dataframe\n",
    "vehicle = pd.read_csv(\"dft-road-casualty-statistics-vehicle-2019.csv\")\n",
    "accidents = pd.read_csv(\"dft-road-casualty-statistics-accident-2019.csv\")\n",
    "# import the dataset guide file that will provide us with labels for Cat variables\n",
    "guide = pd.read_excel(\"Road-Safety-Open-Dataset-Data-Guide.xlsx\", header=0)\n",
    "guide = guide.drop('note', axis=1)"
   ]
  },
  {
   "cell_type": "code",
   "execution_count": 32,
   "id": "d959abe8",
   "metadata": {},
   "outputs": [
    {
     "name": "stdout",
     "output_type": "stream",
     "text": [
      "<class 'pandas.core.frame.DataFrame'>\n",
      "RangeIndex: 216381 entries, 0 to 216380\n",
      "Data columns (total 27 columns):\n",
      " #   Column                            Non-Null Count   Dtype \n",
      "---  ------                            --------------   ----- \n",
      " 0   accident_index                    216381 non-null  object\n",
      " 1   accident_year                     216381 non-null  int64 \n",
      " 2   accident_reference                216381 non-null  object\n",
      " 3   vehicle_reference                 216381 non-null  int64 \n",
      " 4   vehicle_type                      216381 non-null  int64 \n",
      " 5   towing_and_articulation           216381 non-null  int64 \n",
      " 6   vehicle_manoeuvre                 216381 non-null  int64 \n",
      " 7   vehicle_direction_from            216381 non-null  int64 \n",
      " 8   vehicle_direction_to              216381 non-null  int64 \n",
      " 9   vehicle_location_restricted_lane  216381 non-null  int64 \n",
      " 10  junction_location                 216381 non-null  int64 \n",
      " 11  skidding_and_overturning          216381 non-null  int64 \n",
      " 12  hit_object_in_carriageway         216381 non-null  int64 \n",
      " 13  vehicle_leaving_carriageway       216381 non-null  int64 \n",
      " 14  hit_object_off_carriageway        216381 non-null  int64 \n",
      " 15  first_point_of_impact             216381 non-null  int64 \n",
      " 16  vehicle_left_hand_drive           216381 non-null  int64 \n",
      " 17  journey_purpose_of_driver         216381 non-null  int64 \n",
      " 18  sex_of_driver                     216381 non-null  int64 \n",
      " 19  age_of_driver                     216381 non-null  int64 \n",
      " 20  age_band_of_driver                216381 non-null  int64 \n",
      " 21  engine_capacity_cc                216381 non-null  int64 \n",
      " 22  propulsion_code                   216381 non-null  int64 \n",
      " 23  age_of_vehicle                    216381 non-null  int64 \n",
      " 24  generic_make_model                216381 non-null  int64 \n",
      " 25  driver_imd_decile                 216381 non-null  int64 \n",
      " 26  driver_home_area_type             216381 non-null  int64 \n",
      "dtypes: int64(25), object(2)\n",
      "memory usage: 44.6+ MB\n"
     ]
    }
   ],
   "source": [
    "vehicle.info()"
   ]
  },
  {
   "cell_type": "markdown",
   "id": "66199f6c",
   "metadata": {},
   "source": [
    "The choosen independent variables from the 3 dataset are: vehicle type, age of driver, age band of driver, sex of driver, age of vehicle, driver home area type, engine capacity, driver's deprivation index band, propulsion mode. They are easily collected when the driver signs up for insurance, so this experiment is realistic and can be replicated by insurance companies."
   ]
  },
  {
   "cell_type": "code",
   "execution_count": 33,
   "id": "dcb88bc0",
   "metadata": {},
   "outputs": [],
   "source": [
    "# With the necessary variables identified, we'll now proceed to remove any redundant variables\n",
    "\n",
    "# we assign a list with all the columns we require in each of the 3 datasets below\n",
    "accidentrequired = [\"accident_index\", \"accident_severity\"]\n",
    "\n",
    "# next we run a loop over the accidents dataset to only keep columns in the previous list\n",
    "for column in accidents:\n",
    "    if column not in accidentrequired:\n",
    "        del accidents[column]\n",
    "\n",
    "# Repeat above process for the vehicle dataset\n",
    "\n",
    "vehiclerequired = [\"accident_index\", \"vehicle_type\", \"age_of_driver\", 'age_band_of_driver', \"sex_of_driver\",\n",
    "                \"age_of_vehicle\", \"driver_home_area_type\",\"engine_capacity_cc\",\"driver_imd_decile\",\"propulsion_code\",\n",
    "                 \"generic_make_model\"]\n",
    "\n",
    "for column in vehicle:\n",
    "    if column not in vehiclerequired:\n",
    "        del vehicle[column]"
   ]
  },
  {
   "cell_type": "markdown",
   "id": "89bfc13d",
   "metadata": {},
   "source": [
    "## 3.2 Mapping Categorical Variable Labels"
   ]
  },
  {
   "cell_type": "code",
   "execution_count": 34,
   "id": "c264226d",
   "metadata": {},
   "outputs": [],
   "source": [
    "# get the label data as a grouped object from the data guide\n",
    "g = guide.groupby(guide['field name'])\n",
    "n= list(g.groups.keys())"
   ]
  },
  {
   "cell_type": "code",
   "execution_count": 35,
   "id": "5e8565b2",
   "metadata": {},
   "outputs": [],
   "source": [
    "# define a function to create individual dictionaries for each categorical variable and value pair\n",
    "def getfunc(object, column):\n",
    "    \n",
    "    # gets the group corresponding to the categorical column and drops non-required columns\n",
    "    x = object.get_group(column).drop(columns=['table', 'field name'])\n",
    "\n",
    "    # convert the object to a dictionary with only the code/format and label columns remaining\n",
    "    x = x.set_index('code/format')['label'].to_dict()\n",
    "\n",
    "    return x \n",
    "\n",
    "# we can use this function for all of our datasets"
   ]
  },
  {
   "cell_type": "code",
   "execution_count": 36,
   "id": "c99fab0f",
   "metadata": {},
   "outputs": [],
   "source": [
    "# Create a list with all the column names of the variables that need to be mapped\n",
    "listdf =[\"vehicle_type\", 'age_band_of_driver', \"sex_of_driver\", \"driver_home_area_type\",\"driver_imd_decile\",\"propulsion_code\"]\n"
   ]
  },
  {
   "cell_type": "code",
   "execution_count": 37,
   "id": "1ef252cd",
   "metadata": {},
   "outputs": [],
   "source": [
    "#Create a for loop to replace the label with the label from the guide\n",
    "for col in listdf:\n",
    "    if col in n:\n",
    "         vehicle[col] = vehicle[col].map(getfunc(g,col))"
   ]
  },
  {
   "cell_type": "code",
   "execution_count": 38,
   "id": "ff652245",
   "metadata": {},
   "outputs": [],
   "source": [
    "#we replace columns with the label dictionaries we get from applying the above function to grouped object\n",
    "accidents['accident_severity'] = accidents['accident_severity'].map(getfunc(g, \"accident_severity\"))"
   ]
  },
  {
   "cell_type": "code",
   "execution_count": 39,
   "id": "67a675be",
   "metadata": {},
   "outputs": [
    {
     "data": {
      "text/html": [
       "<div>\n",
       "<style scoped>\n",
       "    .dataframe tbody tr th:only-of-type {\n",
       "        vertical-align: middle;\n",
       "    }\n",
       "\n",
       "    .dataframe tbody tr th {\n",
       "        vertical-align: top;\n",
       "    }\n",
       "\n",
       "    .dataframe thead th {\n",
       "        text-align: right;\n",
       "    }\n",
       "</style>\n",
       "<table border=\"1\" class=\"dataframe\">\n",
       "  <thead>\n",
       "    <tr style=\"text-align: right;\">\n",
       "      <th></th>\n",
       "      <th>accident_index</th>\n",
       "      <th>vehicle_type</th>\n",
       "      <th>sex_of_driver</th>\n",
       "      <th>age_of_driver</th>\n",
       "      <th>age_band_of_driver</th>\n",
       "      <th>engine_capacity_cc</th>\n",
       "      <th>propulsion_code</th>\n",
       "      <th>age_of_vehicle</th>\n",
       "      <th>generic_make_model</th>\n",
       "      <th>driver_imd_decile</th>\n",
       "      <th>driver_home_area_type</th>\n",
       "    </tr>\n",
       "  </thead>\n",
       "  <tbody>\n",
       "    <tr>\n",
       "      <th>0</th>\n",
       "      <td>2019010128300</td>\n",
       "      <td>Car</td>\n",
       "      <td>Male</td>\n",
       "      <td>58</td>\n",
       "      <td>56 - 65</td>\n",
       "      <td>-1</td>\n",
       "      <td>Undefined</td>\n",
       "      <td>-1</td>\n",
       "      <td>-1</td>\n",
       "      <td>More deprived 10-20%</td>\n",
       "      <td>Urban area</td>\n",
       "    </tr>\n",
       "    <tr>\n",
       "      <th>1</th>\n",
       "      <td>2019010128300</td>\n",
       "      <td>Car</td>\n",
       "      <td>Not known</td>\n",
       "      <td>-1</td>\n",
       "      <td>Data missing or out of range</td>\n",
       "      <td>-1</td>\n",
       "      <td>Undefined</td>\n",
       "      <td>-1</td>\n",
       "      <td>-1</td>\n",
       "      <td>More deprived 10-20%</td>\n",
       "      <td>Urban area</td>\n",
       "    </tr>\n",
       "    <tr>\n",
       "      <th>2</th>\n",
       "      <td>2019010152270</td>\n",
       "      <td>Car</td>\n",
       "      <td>Female</td>\n",
       "      <td>24</td>\n",
       "      <td>21 - 25</td>\n",
       "      <td>-1</td>\n",
       "      <td>Undefined</td>\n",
       "      <td>-1</td>\n",
       "      <td>-1</td>\n",
       "      <td>More deprived 20-30%</td>\n",
       "      <td>Urban area</td>\n",
       "    </tr>\n",
       "    <tr>\n",
       "      <th>3</th>\n",
       "      <td>2019010152270</td>\n",
       "      <td>Car</td>\n",
       "      <td>Not known</td>\n",
       "      <td>-1</td>\n",
       "      <td>Data missing or out of range</td>\n",
       "      <td>-1</td>\n",
       "      <td>Undefined</td>\n",
       "      <td>-1</td>\n",
       "      <td>-1</td>\n",
       "      <td>Less deprived 40-50%</td>\n",
       "      <td>Urban area</td>\n",
       "    </tr>\n",
       "    <tr>\n",
       "      <th>4</th>\n",
       "      <td>2019010155191</td>\n",
       "      <td>Car</td>\n",
       "      <td>Male</td>\n",
       "      <td>45</td>\n",
       "      <td>36 - 45</td>\n",
       "      <td>-1</td>\n",
       "      <td>Undefined</td>\n",
       "      <td>-1</td>\n",
       "      <td>-1</td>\n",
       "      <td>More deprived 30-40%</td>\n",
       "      <td>Urban area</td>\n",
       "    </tr>\n",
       "  </tbody>\n",
       "</table>\n",
       "</div>"
      ],
      "text/plain": [
       "  accident_index vehicle_type sex_of_driver  age_of_driver  \\\n",
       "0  2019010128300          Car          Male             58   \n",
       "1  2019010128300          Car     Not known             -1   \n",
       "2  2019010152270          Car        Female             24   \n",
       "3  2019010152270          Car     Not known             -1   \n",
       "4  2019010155191          Car          Male             45   \n",
       "\n",
       "             age_band_of_driver  engine_capacity_cc propulsion_code  \\\n",
       "0                       56 - 65                  -1       Undefined   \n",
       "1  Data missing or out of range                  -1       Undefined   \n",
       "2                       21 - 25                  -1       Undefined   \n",
       "3  Data missing or out of range                  -1       Undefined   \n",
       "4                       36 - 45                  -1       Undefined   \n",
       "\n",
       "   age_of_vehicle  generic_make_model     driver_imd_decile  \\\n",
       "0              -1                  -1  More deprived 10-20%   \n",
       "1              -1                  -1  More deprived 10-20%   \n",
       "2              -1                  -1  More deprived 20-30%   \n",
       "3              -1                  -1  Less deprived 40-50%   \n",
       "4              -1                  -1  More deprived 30-40%   \n",
       "\n",
       "  driver_home_area_type  \n",
       "0            Urban area  \n",
       "1            Urban area  \n",
       "2            Urban area  \n",
       "3            Urban area  \n",
       "4            Urban area  "
      ]
     },
     "execution_count": 39,
     "metadata": {},
     "output_type": "execute_result"
    }
   ],
   "source": [
    "vehicle.head()"
   ]
  },
  {
   "cell_type": "markdown",
   "id": "9289d9bf",
   "metadata": {},
   "source": [
    "## 3.3 Merging and Joining our Dataframes"
   ]
  },
  {
   "cell_type": "code",
   "execution_count": 40,
   "id": "f49b9d34",
   "metadata": {},
   "outputs": [
    {
     "name": "stdout",
     "output_type": "stream",
     "text": [
      "(175665, 12)\n",
      "(175227, 12)\n"
     ]
    }
   ],
   "source": [
    "# merging both dataframes\n",
    "# we merge the dataframes as 'inner' to ensure only accident data observed in all 3 datasets are merged. \n",
    "df2 = vehicle.merge(accidents,on='accident_index', how='inner')\n",
    "# inspect the dimensions of our new combined dataset and drop any duplicates\n",
    "print(df2.shape)\n",
    "df2.drop_duplicates(keep ='first', inplace = True)\n",
    "print(df2.shape)"
   ]
  },
  {
   "cell_type": "markdown",
   "id": "349df936",
   "metadata": {},
   "source": [
    "## 3.4 Mapping unknown data (Coded as -1)"
   ]
  },
  {
   "cell_type": "code",
   "execution_count": 41,
   "id": "8d3189f1",
   "metadata": {},
   "outputs": [
    {
     "data": {
      "text/plain": [
       "accident_index           0\n",
       "vehicle_type             0\n",
       "sex_of_driver            0\n",
       "age_of_driver            0\n",
       "age_band_of_driver       0\n",
       "engine_capacity_cc       0\n",
       "propulsion_code          0\n",
       "age_of_vehicle           0\n",
       "generic_make_model       0\n",
       "driver_imd_decile        0\n",
       "driver_home_area_type    0\n",
       "accident_severity        0\n",
       "dtype: int64"
      ]
     },
     "execution_count": 41,
     "metadata": {},
     "output_type": "execute_result"
    }
   ],
   "source": [
    "# check for missing (NaN) values in our dataset before replacing\n",
    "df2.isnull().sum()"
   ]
  },
  {
   "cell_type": "code",
   "execution_count": 42,
   "id": "bb4ec2bd",
   "metadata": {},
   "outputs": [],
   "source": [
    "# replace all values in the dataset coded -1 to be Null\n",
    "df2.replace(-1, np.nan, inplace=True)"
   ]
  },
  {
   "cell_type": "code",
   "execution_count": 43,
   "id": "afe01ec3",
   "metadata": {},
   "outputs": [],
   "source": [
    "# some values in the dataset have been mapped as 'Data Missing' or 'Unknown' during mapping in 3.2\n",
    "# We will also replace these values as null same as those above\n",
    "to_remove = ['Data missing or out of range', 'unknown (self reported)', \n",
    "            'Unknown vehicle type (self rep only)','Not known','Unknown','Unknown or other',\n",
    "             'Undefined']\n",
    "\n",
    "df2.replace(to_replace=to_remove, value=np.nan, inplace=True)"
   ]
  },
  {
   "cell_type": "code",
   "execution_count": 44,
   "id": "b6ccf82c",
   "metadata": {},
   "outputs": [
    {
     "data": {
      "text/plain": [
       "accident_index                0\n",
       "vehicle_type                175\n",
       "sex_of_driver             19711\n",
       "age_of_driver             24389\n",
       "age_band_of_driver        24389\n",
       "engine_capacity_cc        45597\n",
       "propulsion_code           45188\n",
       "age_of_vehicle            45257\n",
       "generic_make_model       175227\n",
       "driver_imd_decile         35753\n",
       "driver_home_area_type     35738\n",
       "accident_severity             0\n",
       "dtype: int64"
      ]
     },
     "execution_count": 44,
     "metadata": {},
     "output_type": "execute_result"
    }
   ],
   "source": [
    "df2.isnull().sum()"
   ]
  },
  {
   "cell_type": "code",
   "execution_count": 45,
   "id": "bd69dad7",
   "metadata": {},
   "outputs": [
    {
     "name": "stdout",
     "output_type": "stream",
     "text": [
      "<class 'pandas.core.frame.DataFrame'>\n",
      "Int64Index: 175227 entries, 0 to 175664\n",
      "Data columns (total 12 columns):\n",
      " #   Column                 Non-Null Count   Dtype  \n",
      "---  ------                 --------------   -----  \n",
      " 0   accident_index         175227 non-null  object \n",
      " 1   vehicle_type           175052 non-null  object \n",
      " 2   sex_of_driver          155516 non-null  object \n",
      " 3   age_of_driver          150838 non-null  float64\n",
      " 4   age_band_of_driver     150838 non-null  object \n",
      " 5   engine_capacity_cc     129630 non-null  float64\n",
      " 6   propulsion_code        130039 non-null  object \n",
      " 7   age_of_vehicle         129970 non-null  float64\n",
      " 8   generic_make_model     0 non-null       float64\n",
      " 9   driver_imd_decile      139474 non-null  object \n",
      " 10  driver_home_area_type  139489 non-null  object \n",
      " 11  accident_severity      175227 non-null  object \n",
      "dtypes: float64(4), object(8)\n",
      "memory usage: 17.4+ MB\n"
     ]
    }
   ],
   "source": [
    "df2.info()"
   ]
  },
  {
   "cell_type": "code",
   "execution_count": 46,
   "id": "c89d10be",
   "metadata": {},
   "outputs": [],
   "source": [
    "#generic_make_model does not have any non-null value, so we remove it\n",
    "df2=df2.drop(columns=['accident_index','generic_make_model'])"
   ]
  },
  {
   "cell_type": "markdown",
   "id": "9e5a1438",
   "metadata": {},
   "source": [
    "## 3.5 Transform the target"
   ]
  },
  {
   "cell_type": "code",
   "execution_count": 47,
   "id": "072e9e09",
   "metadata": {},
   "outputs": [],
   "source": [
    "# We will only consider fatal vs non-fatal data\n",
    "# define a function to create the required feature column on a given dataset\n",
    "def extractfatality(data, column, target):\n",
    "    \n",
    "    # create new column equivalent to true or false from the given column target combination\n",
    "    data[target] = data[column] == target\n",
    "\n",
    "    # replace true, and false values in the new column as 1, and 0 respectively\n",
    "    data.replace({True:1,False:0}, inplace=True)\n",
    "\n",
    "    # drop the original column used to create our feature column\n",
    "    data.drop(column, axis=1, inplace=True)\n",
    "\n",
    "    return data\n",
    "\n",
    "# run the function on both training and test sets\n",
    "df2 = extractfatality(df2, 'accident_severity', 'Fatal')\n"
   ]
  },
  {
   "cell_type": "markdown",
   "id": "e0c143db",
   "metadata": {},
   "source": [
    "## 3.6 Focus on age band over 75"
   ]
  },
  {
   "cell_type": "code",
   "execution_count": 48,
   "id": "16e63261",
   "metadata": {},
   "outputs": [
    {
     "data": {
      "text/html": [
       "<div>\n",
       "<style scoped>\n",
       "    .dataframe tbody tr th:only-of-type {\n",
       "        vertical-align: middle;\n",
       "    }\n",
       "\n",
       "    .dataframe tbody tr th {\n",
       "        vertical-align: top;\n",
       "    }\n",
       "\n",
       "    .dataframe thead th {\n",
       "        text-align: right;\n",
       "    }\n",
       "</style>\n",
       "<table border=\"1\" class=\"dataframe\">\n",
       "  <thead>\n",
       "    <tr style=\"text-align: right;\">\n",
       "      <th></th>\n",
       "      <th>age_band_of_driver</th>\n",
       "      <th>total</th>\n",
       "      <th>fatal</th>\n",
       "      <th>percent %</th>\n",
       "    </tr>\n",
       "  </thead>\n",
       "  <tbody>\n",
       "    <tr>\n",
       "      <th>0</th>\n",
       "      <td>Over 75</td>\n",
       "      <td>4881</td>\n",
       "      <td>175</td>\n",
       "      <td>3.585331</td>\n",
       "    </tr>\n",
       "    <tr>\n",
       "      <th>1</th>\n",
       "      <td>66 - 75</td>\n",
       "      <td>7896</td>\n",
       "      <td>196</td>\n",
       "      <td>2.482270</td>\n",
       "    </tr>\n",
       "    <tr>\n",
       "      <th>2</th>\n",
       "      <td>56 - 65</td>\n",
       "      <td>16348</td>\n",
       "      <td>341</td>\n",
       "      <td>2.085882</td>\n",
       "    </tr>\n",
       "    <tr>\n",
       "      <th>3</th>\n",
       "      <td>46 - 55</td>\n",
       "      <td>26096</td>\n",
       "      <td>479</td>\n",
       "      <td>1.835530</td>\n",
       "    </tr>\n",
       "    <tr>\n",
       "      <th>4</th>\n",
       "      <td>36 - 45</td>\n",
       "      <td>28310</td>\n",
       "      <td>393</td>\n",
       "      <td>1.388202</td>\n",
       "    </tr>\n",
       "    <tr>\n",
       "      <th>5</th>\n",
       "      <td>26 - 35</td>\n",
       "      <td>37748</td>\n",
       "      <td>465</td>\n",
       "      <td>1.231853</td>\n",
       "    </tr>\n",
       "    <tr>\n",
       "      <th>6</th>\n",
       "      <td>21 - 25</td>\n",
       "      <td>16730</td>\n",
       "      <td>226</td>\n",
       "      <td>1.350867</td>\n",
       "    </tr>\n",
       "    <tr>\n",
       "      <th>7</th>\n",
       "      <td>16 - 20</td>\n",
       "      <td>11102</td>\n",
       "      <td>143</td>\n",
       "      <td>1.288056</td>\n",
       "    </tr>\n",
       "    <tr>\n",
       "      <th>8</th>\n",
       "      <td>11 - 15</td>\n",
       "      <td>1382</td>\n",
       "      <td>11</td>\n",
       "      <td>0.795948</td>\n",
       "    </tr>\n",
       "    <tr>\n",
       "      <th>9</th>\n",
       "      <td>0 - 5</td>\n",
       "      <td>35</td>\n",
       "      <td>1</td>\n",
       "      <td>2.857143</td>\n",
       "    </tr>\n",
       "  </tbody>\n",
       "</table>\n",
       "</div>"
      ],
      "text/plain": [
       "  age_band_of_driver  total  fatal  percent %\n",
       "0            Over 75   4881    175   3.585331\n",
       "1            66 - 75   7896    196   2.482270\n",
       "2            56 - 65  16348    341   2.085882\n",
       "3            46 - 55  26096    479   1.835530\n",
       "4            36 - 45  28310    393   1.388202\n",
       "5            26 - 35  37748    465   1.231853\n",
       "6            21 - 25  16730    226   1.350867\n",
       "7            16 - 20  11102    143   1.288056\n",
       "8            11 - 15   1382     11   0.795948\n",
       "9              0 - 5     35      1   2.857143"
      ]
     },
     "execution_count": 48,
     "metadata": {},
     "output_type": "execute_result"
    }
   ],
   "source": [
    "#calculate the percentage of fatal cases in each age band\n",
    "#group and count the total number of accident cases in each age group\n",
    "total = df2.groupby('age_band_of_driver').size()\\\n",
    "                                                .reset_index(name='total')\\\n",
    "                                                    .sort_values(by='age_band_of_driver',ascending=False)\n",
    "#group and count the number of deadly accident cases in each age group\n",
    "fatal = df2[df2['Fatal']==1]\n",
    "fatal = fatal.groupby('age_band_of_driver').size()\\\n",
    "                                                .reset_index(name='fatal')\\\n",
    "                                                    .sort_values(by='age_band_of_driver',ascending=False)\n",
    "\n",
    "#calculate the percentage of fatality in each age group\n",
    "percent = total.merge(fatal,on='age_band_of_driver', how='inner')\n",
    "percent['percent %'] = percent['fatal'] / percent['total'] * 100\n",
    "percent"
   ]
  },
  {
   "cell_type": "code",
   "execution_count": 49,
   "id": "a51704c0",
   "metadata": {},
   "outputs": [
    {
     "data": {
      "image/png": "[encoded data removed]",
      "text/plain": [
       "<Figure size 720x576 with 1 Axes>"
      ]
     },
     "metadata": {
      "needs_background": "light"
     },
     "output_type": "display_data"
    }
   ],
   "source": [
    "#draw a treemap\n",
    "fig, ax = plt.subplots(1, figsize = (10,8))\n",
    "colors=['#fae588','#f79d65','#f9dc5c','#e8ac65','#e76f51','#ef233c','#b7094c']\n",
    "squarify.plot(sizes=percent['percent %'], \n",
    "              label=percent['age_band_of_driver'][:10], color = colors,\n",
    "              alpha=.8 )\n",
    "plt.title('\\n Fatal percentage vs age_band_of_driver\\n', fontsize=14, fontweight='bold')\n",
    "plt.axis('off')\n",
    "plt.show()"
   ]
  },
  {
   "cell_type": "markdown",
   "id": "65b2c7e5",
   "metadata": {},
   "source": [
    "People over the age of 75 are the most susceptible to traffic deaths, accounting for 3.58 percent of all fatalities. Drivers in the age groups 0-5 are likewise particularly vulnerable to mortality (2.86%), but they are at an age in which they are unaware of the driving activities, therefore it is more appropriate to argue that their parents (who belongs to other age groups) are responsible. At the same time, overall incidents involving drivers aged 0 to 5 are extremely rare, with only 35 cases reported. As a result, it's vital to analyse and predict the driving patterns of people over 75, because this is the group in which an improvement in insurance firms' pricing strategies would have the greatest influence compared to other groups. At the same time, over 75 drivers are capable of utilizing the information provided to take precautionary measures. "
   ]
  },
  {
   "cell_type": "code",
   "execution_count": 50,
   "id": "1a485d6e",
   "metadata": {},
   "outputs": [
    {
     "name": "stdout",
     "output_type": "stream",
     "text": [
      "<class 'pandas.core.frame.DataFrame'>\n",
      "Int64Index: 4881 entries, 15 to 175663\n",
      "Data columns (total 9 columns):\n",
      " #   Column                 Non-Null Count  Dtype  \n",
      "---  ------                 --------------  -----  \n",
      " 0   vehicle_type           4880 non-null   object \n",
      " 1   sex_of_driver          4855 non-null   object \n",
      " 2   age_of_driver          4881 non-null   float64\n",
      " 3   engine_capacity_cc     4246 non-null   float64\n",
      " 4   propulsion_code        4254 non-null   object \n",
      " 5   age_of_vehicle         4248 non-null   float64\n",
      " 6   driver_imd_decile      4496 non-null   object \n",
      " 7   driver_home_area_type  4497 non-null   object \n",
      " 8   Fatal                  4881 non-null   int64  \n",
      "dtypes: float64(3), int64(1), object(5)\n",
      "memory usage: 381.3+ KB\n"
     ]
    }
   ],
   "source": [
    "# Create a new dataset with information of only drivers over 75 years old\n",
    "df2 = df2[df2['age_band_of_driver']=='Over 75']\n",
    "\n",
    "#drop the age_band_of_driver column\n",
    "df2 = df2.drop('age_band_of_driver', 1)\n",
    "df2.info()"
   ]
  },
  {
   "cell_type": "code",
   "execution_count": 51,
   "id": "cdc3d18d",
   "metadata": {},
   "outputs": [
    {
     "data": {
      "text/plain": [
       "vehicle_type               1\n",
       "sex_of_driver             26\n",
       "age_of_driver              0\n",
       "engine_capacity_cc       635\n",
       "propulsion_code          627\n",
       "age_of_vehicle           633\n",
       "driver_imd_decile        385\n",
       "driver_home_area_type    384\n",
       "Fatal                      0\n",
       "dtype: int64"
      ]
     },
     "execution_count": 51,
     "metadata": {},
     "output_type": "execute_result"
    }
   ],
   "source": [
    "# check for missing (NaN) values in our new dataset \n",
    "df2.isnull().sum()"
   ]
  },
  {
   "cell_type": "markdown",
   "id": "56d31ad3",
   "metadata": {},
   "source": [
    "## 3.6 Train-Test Split "
   ]
  },
  {
   "cell_type": "code",
   "execution_count": 52,
   "id": "4be3da5e",
   "metadata": {},
   "outputs": [
    {
     "name": "stdout",
     "output_type": "stream",
     "text": [
      "3904 train and 977 test instances\n"
     ]
    }
   ],
   "source": [
    "# once we have preliminary dataset ready, we'll need to split them into train and test sets\n",
    "\n",
    "# import the Stratified Shuffle Split class from sklearn\n",
    "from sklearn.model_selection import StratifiedShuffleSplit\n",
    "\n",
    "# instantiate a stratified splitter class with test size of 20%\n",
    "stratified_splitter = StratifiedShuffleSplit(n_splits=1, test_size=0.2, train_size=0.8, random_state=7)\n",
    "\n",
    "# the stratified splitter provides integer values as indexes on the original dataset df2\n",
    "train_index, test_index = list(stratified_splitter.split(df2, df2['Fatal']))[0]\n",
    "\n",
    "# we take all rows with corresponding index values matching with both train_index and df2 to trainset\n",
    "trainset = df2.iloc[train_index]\n",
    "\n",
    "# same process for test set as we did for our training set\n",
    "testset = df2.iloc[test_index]\n",
    "\n",
    "# verify the dimensions of the datasets\n",
    "print(f\"{trainset.shape[0]} train and {testset.shape[0]} test instances\")"
   ]
  },
  {
   "cell_type": "code",
   "execution_count": 53,
   "id": "e117ee6b",
   "metadata": {},
   "outputs": [
    {
     "data": {
      "text/html": [
       "<div>\n",
       "<style scoped>\n",
       "    .dataframe tbody tr th:only-of-type {\n",
       "        vertical-align: middle;\n",
       "    }\n",
       "\n",
       "    .dataframe tbody tr th {\n",
       "        vertical-align: top;\n",
       "    }\n",
       "\n",
       "    .dataframe thead th {\n",
       "        text-align: right;\n",
       "    }\n",
       "</style>\n",
       "<table border=\"1\" class=\"dataframe\">\n",
       "  <thead>\n",
       "    <tr style=\"text-align: right;\">\n",
       "      <th></th>\n",
       "      <th>Overall</th>\n",
       "      <th>Random test set</th>\n",
       "      <th>Stratified test set</th>\n",
       "      <th>Rand. %error</th>\n",
       "      <th>Strat. %error</th>\n",
       "    </tr>\n",
       "  </thead>\n",
       "  <tbody>\n",
       "    <tr>\n",
       "      <th>0</th>\n",
       "      <td>0.964147</td>\n",
       "      <td>0.959058</td>\n",
       "      <td>0.964176</td>\n",
       "      <td>-0.527757</td>\n",
       "      <td>0.003045</td>\n",
       "    </tr>\n",
       "    <tr>\n",
       "      <th>1</th>\n",
       "      <td>0.035853</td>\n",
       "      <td>0.040942</td>\n",
       "      <td>0.035824</td>\n",
       "      <td>14.192133</td>\n",
       "      <td>-0.081883</td>\n",
       "    </tr>\n",
       "  </tbody>\n",
       "</table>\n",
       "</div>"
      ],
      "text/plain": [
       "    Overall  Random test set  Stratified test set  Rand. %error  Strat. %error\n",
       "0  0.964147         0.959058             0.964176     -0.527757       0.003045\n",
       "1  0.035853         0.040942             0.035824     14.192133      -0.081883"
      ]
     },
     "execution_count": 53,
     "metadata": {},
     "output_type": "execute_result"
    }
   ],
   "source": [
    "# As we have used the stratified split, we can check for the proportionality of our split.\n",
    "\n",
    "# define a function to return the proportion of respective accident severities\n",
    "def severity_proportions(data):\n",
    "    return data[\"Fatal\"].value_counts() / len(data)\n",
    "\n",
    "# create a random split\n",
    "rand_train_set, rand_test_set = train_test_split(df2, test_size=0.2, random_state=7)\n",
    "\n",
    "# create a temporary dataframe for easy visualization\n",
    "df_tmp = pd.DataFrame({\n",
    "    \"Overall\": severity_proportions(df2),\n",
    "    \"Random test set\": severity_proportions(rand_test_set),\n",
    "    \"Stratified test set\": severity_proportions(testset),\n",
    "}).sort_index()\n",
    "\n",
    "# add two columns for the percent of the difference to the overall proportion\n",
    "df_tmp[\"Rand. %error\"] = 100 * df_tmp[\"Random test set\"] / df_tmp[\"Overall\"] - 100\n",
    "df_tmp[\"Strat. %error\"] = 100 * df_tmp[\"Stratified test set\"] / df_tmp[\"Overall\"] - 100\n",
    "\n",
    "df_tmp"
   ]
  },
  {
   "cell_type": "markdown",
   "id": "3bc29bc8",
   "metadata": {},
   "source": [
    "# 4. Exploratory Data Analysis"
   ]
  },
  {
   "cell_type": "markdown",
   "id": "dda6a85a",
   "metadata": {},
   "source": [
    "## 4.1 Target Exploration"
   ]
  },
  {
   "cell_type": "code",
   "execution_count": 54,
   "id": "e225f6c5",
   "metadata": {},
   "outputs": [
    {
     "data": {
      "text/html": [
       "<div>\n",
       "<style scoped>\n",
       "    .dataframe tbody tr th:only-of-type {\n",
       "        vertical-align: middle;\n",
       "    }\n",
       "\n",
       "    .dataframe tbody tr th {\n",
       "        vertical-align: top;\n",
       "    }\n",
       "\n",
       "    .dataframe thead th {\n",
       "        text-align: right;\n",
       "    }\n",
       "</style>\n",
       "<table border=\"1\" class=\"dataframe\">\n",
       "  <thead>\n",
       "    <tr style=\"text-align: right;\">\n",
       "      <th></th>\n",
       "      <th>Fatal</th>\n",
       "      <th>Percent</th>\n",
       "    </tr>\n",
       "  </thead>\n",
       "  <tbody>\n",
       "    <tr>\n",
       "      <th>0</th>\n",
       "      <td>0</td>\n",
       "      <td>96.41</td>\n",
       "    </tr>\n",
       "    <tr>\n",
       "      <th>1</th>\n",
       "      <td>1</td>\n",
       "      <td>3.59</td>\n",
       "    </tr>\n",
       "  </tbody>\n",
       "</table>\n",
       "</div>"
      ],
      "text/plain": [
       "   Fatal  Percent\n",
       "0      0    96.41\n",
       "1      1     3.59"
      ]
     },
     "execution_count": 54,
     "metadata": {},
     "output_type": "execute_result"
    }
   ],
   "source": [
    "# Calculate the percentage of total accidents in each severity category\n",
    "severity = round(trainset.loc[:,'Fatal'].value_counts(normalize=True),4)\n",
    "severity= severity.mul(100).rename('Percent').reset_index()\n",
    "severity= severity.rename({'index':'Fatal'}, axis =1)\n",
    "severity"
   ]
  },
  {
   "cell_type": "code",
   "execution_count": 55,
   "id": "09418548",
   "metadata": {},
   "outputs": [
    {
     "data": {
      "image/png": "[encoded data removed]",
      "text/plain": [
       "<Figure size 360x360 with 1 Axes>"
      ]
     },
     "metadata": {
      "needs_background": "light"
     },
     "output_type": "display_data"
    }
   ],
   "source": [
    "#Visualize accident severity\n",
    "g = sns.catplot(x= 'Fatal', y= 'Percent', kind='bar', data=severity)\n",
    "g.ax.set_ylim(0,100)\n",
    "for p in g.ax.patches:\n",
    "        txt = str(p.get_height().round(1)) + '%'\n",
    "        txt_x = p.get_x() \n",
    "        txt_y = p.get_height()\n",
    "        g.ax.text(txt_x,txt_y,txt, fontsize=15)"
   ]
  },
  {
   "cell_type": "markdown",
   "id": "2e1a0b23",
   "metadata": {},
   "source": [
    "From the graph, we can see an imbalance in the 2 categories, fatal vs non-fatal. Non-fatal cases accounts for 98.6% of the total cases while deadly accidents only account for 1.5%. I am going to address this issue when building the model."
   ]
  },
  {
   "cell_type": "markdown",
   "id": "12c88ab8",
   "metadata": {},
   "source": [
    "## 4.2 Numerical Data Exploration"
   ]
  },
  {
   "cell_type": "code",
   "execution_count": 56,
   "id": "051df37b",
   "metadata": {},
   "outputs": [
    {
     "data": {
      "text/plain": [
       "array([[<AxesSubplot:title={'center':'age_of_driver'}>,\n",
       "        <AxesSubplot:title={'center':'engine_capacity_cc'}>],\n",
       "       [<AxesSubplot:title={'center':'age_of_vehicle'}>, <AxesSubplot:>]],\n",
       "      dtype=object)"
      ]
     },
     "execution_count": 56,
     "metadata": {},
     "output_type": "execute_result"
    },
    {
     "data": {
      "image/png": "[encoded data removed]",
      "text/plain": [
       "<Figure size 1080x432 with 4 Axes>"
      ]
     },
     "metadata": {
      "needs_background": "light"
     },
     "output_type": "display_data"
    }
   ],
   "source": [
    "# plot a histogram containing all numerical variables in the dataset.\n",
    "numerical_vis = trainset.drop('Fatal', 1)\n",
    "numerical_vis.hist(bins=50, figsize=(15,6), histtype='bar')"
   ]
  },
  {
   "cell_type": "markdown",
   "id": "24827e12",
   "metadata": {},
   "source": [
    "Age of driver and age of vehicle are right-skewed. The 2 plots suggests that there might be some correlations between the 2 variables. "
   ]
  },
  {
   "cell_type": "markdown",
   "id": "ea315de6",
   "metadata": {},
   "source": [
    "## 4.3 Categorical Data Exploration"
   ]
  },
  {
   "cell_type": "code",
   "execution_count": 57,
   "id": "aaf13796",
   "metadata": {},
   "outputs": [
    {
     "data": {
      "image/png": "[encoded data removed]",
      "text/plain": [
       "<Figure size 1800x288 with 3 Axes>"
      ]
     },
     "metadata": {
      "needs_background": "light"
     },
     "output_type": "display_data"
    }
   ],
   "source": [
    "# graphs for categorical variables\n",
    "categorical_features = [\"propulsion_code\",\"driver_imd_decile\",\"driver_home_area_type\"]\n",
    "fig, ax = plt.subplots(1, len(categorical_features))\n",
    "for i, categorical_feature in enumerate(trainset[categorical_features]):\n",
    "    trainset[categorical_feature].value_counts().plot(kind='bar', figsize=(25, 4),ax=ax[i]).set_title(categorical_feature)\n",
    "fig.show()"
   ]
  },
  {
   "cell_type": "code",
   "execution_count": 58,
   "id": "65cc6eac",
   "metadata": {},
   "outputs": [
    {
     "data": {
      "image/png": "[encoded data removed]",
      "text/plain": [
       "<Figure size 1800x288 with 2 Axes>"
      ]
     },
     "metadata": {
      "needs_background": "light"
     },
     "output_type": "display_data"
    }
   ],
   "source": [
    "# graphs for categorical variables\n",
    "categorical_features = [\"vehicle_type\",\"sex_of_driver\"]\n",
    "fig, ax = plt.subplots(1, len(categorical_features))\n",
    "for i, categorical_feature in enumerate(trainset[categorical_features]):\n",
    "    trainset[categorical_feature].value_counts().plot(kind='bar', figsize=(25, 4),ax=ax[i]).set_title(categorical_feature)\n",
    "fig.show()"
   ]
  },
  {
   "cell_type": "markdown",
   "id": "7000d3de",
   "metadata": {},
   "source": [
    "Car accidents occur in a disproportionately large quantity compared to other types of accidents. It's possible that we'll need to combine the groups into larger groupings. Similarly, there most of the propulsion type are petrol and oils, suggesting potential groupings. "
   ]
  },
  {
   "cell_type": "markdown",
   "id": "797326ce",
   "metadata": {},
   "source": [
    "# 5. Cleaning Dataset and Transformations"
   ]
  },
  {
   "cell_type": "markdown",
   "id": "b1977c0d",
   "metadata": {},
   "source": [
    "## 5.1. Feature Engineering"
   ]
  },
  {
   "cell_type": "code",
   "execution_count": 59,
   "id": "b7e2ec47",
   "metadata": {},
   "outputs": [],
   "source": [
    "# we will group vehicle type to fewer groups\n",
    "trainset['vehicle_type'] = trainset['vehicle_type'].replace(['Goods 7.5 tonnes mgw and over',\n",
    "                                                             \"Bus or coach (17 or more pass seats)\",\n",
    "                                                             \"Motorcycle over 125cc and up to 500cc\",\n",
    "                                                             \"Motorcycle 50cc and under\", \"Other vehicle\",\n",
    "                                                             \"Goods vehicle - unknown weight\",\n",
    "                                                             \"Goods over 3.5t. and under 7.5t\",\"Agricultural vehicle\",\n",
    "                                                             \"Motorcycle - unknown cc\",\"Minibus (8 - 16 passenger seats)\",\n",
    "                                                             \"Mobility scooter\", \"Ridden horse\",\"Electric motorcycle\",\n",
    "                                                             \"Tram\",'Van / Goods 3.5 tonnes mgw or under',\n",
    "                                                            'Motorcycle 125cc and under',\n",
    "                                                            'Motorcycle over 500cc',\n",
    "                                                            'Taxi/Private hire car'],'Other vehicle')"
   ]
  },
  {
   "cell_type": "code",
   "execution_count": 60,
   "id": "c6b2727b",
   "metadata": {},
   "outputs": [
    {
     "data": {
      "text/plain": [
       "<AxesSubplot:>"
      ]
     },
     "execution_count": 60,
     "metadata": {},
     "output_type": "execute_result"
    },
    {
     "data": {
      "image/png": "[encoded data removed]",
      "text/plain": [
       "<Figure size 432x288 with 1 Axes>"
      ]
     },
     "metadata": {
      "needs_background": "light"
     },
     "output_type": "display_data"
    }
   ],
   "source": [
    "trainset['vehicle_type'].value_counts().plot(kind='bar')"
   ]
  },
  {
   "cell_type": "code",
   "execution_count": 61,
   "id": "20ba4ab9",
   "metadata": {},
   "outputs": [],
   "source": [
    "# Do a similar grouping on the testset\n",
    "testset['vehicle_type'] = testset['vehicle_type'].replace(['Goods 7.5 tonnes mgw and over',\n",
    "                                                             \"Bus or coach (17 or more pass seats)\",\n",
    "                                                             \"Motorcycle over 125cc and up to 500cc\",\n",
    "                                                             \"Motorcycle 50cc and under\", \"Other vehicle\",\n",
    "                                                             \"Goods vehicle - unknown weight\",\n",
    "                                                             \"Goods over 3.5t. and under 7.5t\",\"Agricultural vehicle\",\n",
    "                                                             \"Motorcycle - unknown cc\",\"Minibus (8 - 16 passenger seats)\",\n",
    "                                                             \"Mobility scooter\", \"Ridden horse\",\"Electric motorcycle\",\n",
    "                                                             \"Tram\",'Van / Goods 3.5 tonnes mgw or under',\n",
    "                                                            'Motorcycle 125cc and under',\n",
    "                                                            'Motorcycle over 500cc',\n",
    "                                                            'Taxi/Private hire car'],'Other vehicle')"
   ]
  },
  {
   "cell_type": "code",
   "execution_count": 62,
   "id": "2c3ce189",
   "metadata": {},
   "outputs": [],
   "source": [
    "# we will group propulsion to fewer groups\n",
    "trainset['propulsion_code'] = trainset['propulsion_code'].replace(['Electric',\n",
    "                                                             \"Bus or coach (17 or more pass seats)\",\n",
    "                                                             \"Gas/Bi-fuel\",\n",
    "                                                             \"Electric diesel\", \"Gas\",\n",
    "                                                             \"Petrol/Gas (LPG)\",\n",
    "                                                             \"New fuel technology\",\"Gas Diesel\",\n",
    "                                                             \"Steam\",'Hybrid electric'],'Other propulsion type')"
   ]
  },
  {
   "cell_type": "code",
   "execution_count": 63,
   "id": "3ac66bd0",
   "metadata": {},
   "outputs": [
    {
     "data": {
      "text/plain": [
       "<AxesSubplot:>"
      ]
     },
     "execution_count": 63,
     "metadata": {},
     "output_type": "execute_result"
    },
    {
     "data": {
      "image/png": "[encoded data removed]",
      "text/plain": [
       "<Figure size 432x288 with 1 Axes>"
      ]
     },
     "metadata": {
      "needs_background": "light"
     },
     "output_type": "display_data"
    }
   ],
   "source": [
    "trainset['propulsion_code'].value_counts().plot(kind='bar')"
   ]
  },
  {
   "cell_type": "code",
   "execution_count": 64,
   "id": "38f31fdd",
   "metadata": {},
   "outputs": [],
   "source": [
    "# Do a similar grouping on the testset\n",
    "testset['propulsion_code'] = testset['propulsion_code'].replace(['Electric',\n",
    "                                                             \"Bus or coach (17 or more pass seats)\",\n",
    "                                                             \"Gas/Bi-fuel\",\n",
    "                                                             \"Electric diesel\", \"Gas\",\n",
    "                                                             \"Petrol/Gas (LPG)\",\n",
    "                                                             \"New fuel technology\",\"Gas Diesel\",\n",
    "                                                             \"Steam\",'Hybrid electric'],'Other propulsion type')"
   ]
  },
  {
   "cell_type": "markdown",
   "id": "95f2bfd9",
   "metadata": {},
   "source": [
    "## 5.2 Handling Missing Values"
   ]
  },
  {
   "cell_type": "code",
   "execution_count": 65,
   "id": "9b1e655f",
   "metadata": {},
   "outputs": [
    {
     "data": {
      "text/plain": [
       "vehicle_type               0\n",
       "sex_of_driver             25\n",
       "age_of_driver              0\n",
       "engine_capacity_cc       505\n",
       "propulsion_code          499\n",
       "age_of_vehicle           503\n",
       "driver_imd_decile        307\n",
       "driver_home_area_type    306\n",
       "Fatal                      0\n",
       "dtype: int64"
      ]
     },
     "execution_count": 65,
     "metadata": {},
     "output_type": "execute_result"
    }
   ],
   "source": [
    "trainset.isnull().sum()"
   ]
  },
  {
   "cell_type": "markdown",
   "id": "a150925b",
   "metadata": {},
   "source": [
    "### 5.2.1 Handle numerical missing values"
   ]
  },
  {
   "cell_type": "code",
   "execution_count": 66,
   "id": "dad38481",
   "metadata": {},
   "outputs": [],
   "source": [
    "# import the SimpleImputer class and instantiate the object\n",
    "from sklearn.impute import SimpleImputer\n",
    "\n",
    "# instantiate imputer object with median\n",
    "imputer = SimpleImputer(strategy ='median')\n",
    "\n",
    "# define a function that imputes missing values on a given train,test dataset pair.\n",
    "def imputefunc(trainset, testset):\n",
    "    \n",
    "    # seperate features into numerical and categorical sets\n",
    "    trainset_num = trainset.select_dtypes(include=['float64'])\n",
    "    trainset_cat = trainset.select_dtypes(include=['object','int64'])\n",
    "\n",
    "    testset_num = testset.select_dtypes(include=['float64'])\n",
    "    testset_cat = testset.select_dtypes(include=['object','int64'])\n",
    "\n",
    "    # fit the impute on our training set and subsequently transform both sets\n",
    "    trainset = pd.DataFrame(imputer.fit_transform(trainset_num),columns = trainset_num.columns)\n",
    "    testset = pd.DataFrame(imputer.transform(testset_num), columns = testset_num.columns)\n",
    "    \n",
    "    # reset the index of both our sets as concatenation requires consistent indexes\n",
    "    trainset_cat.reset_index(level=0, inplace=True)\n",
    "    testset_cat.reset_index(level=0, inplace=True)  \n",
    "\n",
    "    # drop the old indexes of the train and test set categoricals\n",
    "    trainset_cat.drop(columns='index', axis=1, inplace=True)\n",
    "    testset_cat.drop(columns='index', axis=1, inplace=True)\n",
    "\n",
    "    # next we join back the two dataframes \n",
    "    trainset = pd.concat([trainset, trainset_cat], axis=1)\n",
    "    testset = pd.concat([testset, testset_cat], axis=1)\n",
    "\n",
    "    return trainset, testset\n",
    "\n",
    "\n",
    "trainset, testset = imputefunc(trainset, testset)"
   ]
  },
  {
   "cell_type": "code",
   "execution_count": 67,
   "id": "4bd74848",
   "metadata": {},
   "outputs": [
    {
     "name": "stdout",
     "output_type": "stream",
     "text": [
      "<class 'pandas.core.frame.DataFrame'>\n",
      "RangeIndex: 3904 entries, 0 to 3903\n",
      "Data columns (total 9 columns):\n",
      " #   Column                 Non-Null Count  Dtype  \n",
      "---  ------                 --------------  -----  \n",
      " 0   age_of_driver          3904 non-null   float64\n",
      " 1   engine_capacity_cc     3904 non-null   float64\n",
      " 2   age_of_vehicle         3904 non-null   float64\n",
      " 3   vehicle_type           3904 non-null   object \n",
      " 4   sex_of_driver          3879 non-null   object \n",
      " 5   propulsion_code        3405 non-null   object \n",
      " 6   driver_imd_decile      3597 non-null   object \n",
      " 7   driver_home_area_type  3598 non-null   object \n",
      " 8   Fatal                  3904 non-null   int64  \n",
      "dtypes: float64(3), int64(1), object(5)\n",
      "memory usage: 274.6+ KB\n"
     ]
    }
   ],
   "source": [
    "trainset.info()"
   ]
  },
  {
   "cell_type": "markdown",
   "id": "7bc7d0a9",
   "metadata": {},
   "source": [
    "## 5.2.2 handle categorical missing values"
   ]
  },
  {
   "cell_type": "code",
   "execution_count": 68,
   "id": "58b70a5d",
   "metadata": {},
   "outputs": [],
   "source": [
    "# import the SimpleImputer class and instantiate the object\n",
    "from sklearn.impute import SimpleImputer\n",
    "\n",
    "# instantiate imputer object with median\n",
    "imputer = SimpleImputer(strategy ='most_frequent')\n",
    "\n",
    "# define a function that imputes missing values on a given train,test dataset pair.\n",
    "def imputefunc(trainset, testset):\n",
    "    \n",
    "    # seperate features into numerical and categorical sets\n",
    "    trainset_num = trainset.select_dtypes(include=['float64','int64'])\n",
    "    trainset_cat = trainset.select_dtypes(include=['object'])\n",
    "\n",
    "    testset_num = testset.select_dtypes(include=['float64','int64'])\n",
    "    testset_cat = testset.select_dtypes(include=['object'])\n",
    "\n",
    "    # fit the impute on our training set and subsequently transform both sets\n",
    "    trainset = pd.DataFrame(imputer.fit_transform(trainset_cat),columns = trainset_cat.columns)\n",
    "    testset = pd.DataFrame(imputer.transform(testset_cat), columns = testset_cat.columns)\n",
    "    \n",
    "    # reset the index of both our sets as concatenation requires consistent indexes\n",
    "    trainset_num.reset_index(level=0, inplace=True)\n",
    "    testset_num.reset_index(level=0, inplace=True)  \n",
    "\n",
    "    # drop the old indexes of the train and test set categoricals\n",
    "    trainset_num.drop(columns='index', axis=1, inplace=True)\n",
    "    testset_num.drop(columns='index', axis=1, inplace=True)\n",
    "\n",
    "    # next we join back the two dataframes \n",
    "    trainset = pd.concat([trainset, trainset_num], axis=1)\n",
    "    testset = pd.concat([testset, testset_num], axis=1)\n",
    "\n",
    "    return trainset, testset\n",
    "\n",
    "\n",
    "trainset, testset = imputefunc(trainset, testset)"
   ]
  },
  {
   "cell_type": "code",
   "execution_count": 69,
   "id": "93ae51d2",
   "metadata": {},
   "outputs": [
    {
     "name": "stdout",
     "output_type": "stream",
     "text": [
      "<class 'pandas.core.frame.DataFrame'>\n",
      "RangeIndex: 3904 entries, 0 to 3903\n",
      "Data columns (total 9 columns):\n",
      " #   Column                 Non-Null Count  Dtype  \n",
      "---  ------                 --------------  -----  \n",
      " 0   vehicle_type           3904 non-null   object \n",
      " 1   sex_of_driver          3904 non-null   object \n",
      " 2   propulsion_code        3904 non-null   object \n",
      " 3   driver_imd_decile      3904 non-null   object \n",
      " 4   driver_home_area_type  3904 non-null   object \n",
      " 5   age_of_driver          3904 non-null   float64\n",
      " 6   engine_capacity_cc     3904 non-null   float64\n",
      " 7   age_of_vehicle         3904 non-null   float64\n",
      " 8   Fatal                  3904 non-null   int64  \n",
      "dtypes: float64(3), int64(1), object(5)\n",
      "memory usage: 274.6+ KB\n"
     ]
    }
   ],
   "source": [
    "trainset.info()"
   ]
  },
  {
   "cell_type": "markdown",
   "id": "d1bfe633",
   "metadata": {},
   "source": [
    "## 5.3 Encoding Dummy Variables"
   ]
  },
  {
   "cell_type": "code",
   "execution_count": 70,
   "id": "8a9681cc",
   "metadata": {},
   "outputs": [
    {
     "data": {
      "text/html": [
       "<div>\n",
       "<style scoped>\n",
       "    .dataframe tbody tr th:only-of-type {\n",
       "        vertical-align: middle;\n",
       "    }\n",
       "\n",
       "    .dataframe tbody tr th {\n",
       "        vertical-align: top;\n",
       "    }\n",
       "\n",
       "    .dataframe thead th {\n",
       "        text-align: right;\n",
       "    }\n",
       "</style>\n",
       "<table border=\"1\" class=\"dataframe\">\n",
       "  <thead>\n",
       "    <tr style=\"text-align: right;\">\n",
       "      <th></th>\n",
       "      <th>vehicle_type</th>\n",
       "      <th>sex_of_driver</th>\n",
       "      <th>propulsion_code</th>\n",
       "      <th>driver_imd_decile</th>\n",
       "      <th>driver_home_area_type</th>\n",
       "      <th>age_of_driver</th>\n",
       "      <th>engine_capacity_cc</th>\n",
       "      <th>age_of_vehicle</th>\n",
       "      <th>Fatal</th>\n",
       "      <th>Other vehicle</th>\n",
       "      <th>...</th>\n",
       "      <th>Less deprived 20-30%</th>\n",
       "      <th>Less deprived 30-40%</th>\n",
       "      <th>Less deprived 40-50%</th>\n",
       "      <th>More deprived 10-20%</th>\n",
       "      <th>More deprived 20-30%</th>\n",
       "      <th>More deprived 30-40%</th>\n",
       "      <th>More deprived 40-50%</th>\n",
       "      <th>Most deprived 10%</th>\n",
       "      <th>Small town</th>\n",
       "      <th>Urban area</th>\n",
       "    </tr>\n",
       "  </thead>\n",
       "  <tbody>\n",
       "    <tr>\n",
       "      <th>0</th>\n",
       "      <td>Car</td>\n",
       "      <td>Female</td>\n",
       "      <td>Petrol</td>\n",
       "      <td>Less deprived 10-20%</td>\n",
       "      <td>Small town</td>\n",
       "      <td>79.0</td>\n",
       "      <td>998.0</td>\n",
       "      <td>7.0</td>\n",
       "      <td>0</td>\n",
       "      <td>0.0</td>\n",
       "      <td>...</td>\n",
       "      <td>0.0</td>\n",
       "      <td>0.0</td>\n",
       "      <td>0.0</td>\n",
       "      <td>0.0</td>\n",
       "      <td>0.0</td>\n",
       "      <td>0.0</td>\n",
       "      <td>0.0</td>\n",
       "      <td>0.0</td>\n",
       "      <td>1.0</td>\n",
       "      <td>0.0</td>\n",
       "    </tr>\n",
       "    <tr>\n",
       "      <th>1</th>\n",
       "      <td>Car</td>\n",
       "      <td>Male</td>\n",
       "      <td>Petrol</td>\n",
       "      <td>Most deprived 10%</td>\n",
       "      <td>Urban area</td>\n",
       "      <td>78.0</td>\n",
       "      <td>1398.0</td>\n",
       "      <td>3.0</td>\n",
       "      <td>0</td>\n",
       "      <td>0.0</td>\n",
       "      <td>...</td>\n",
       "      <td>0.0</td>\n",
       "      <td>0.0</td>\n",
       "      <td>0.0</td>\n",
       "      <td>0.0</td>\n",
       "      <td>0.0</td>\n",
       "      <td>0.0</td>\n",
       "      <td>0.0</td>\n",
       "      <td>1.0</td>\n",
       "      <td>0.0</td>\n",
       "      <td>1.0</td>\n",
       "    </tr>\n",
       "    <tr>\n",
       "      <th>2</th>\n",
       "      <td>Car</td>\n",
       "      <td>Male</td>\n",
       "      <td>Petrol</td>\n",
       "      <td>Less deprived 30-40%</td>\n",
       "      <td>Rural</td>\n",
       "      <td>77.0</td>\n",
       "      <td>1598.0</td>\n",
       "      <td>12.0</td>\n",
       "      <td>0</td>\n",
       "      <td>0.0</td>\n",
       "      <td>...</td>\n",
       "      <td>0.0</td>\n",
       "      <td>1.0</td>\n",
       "      <td>0.0</td>\n",
       "      <td>0.0</td>\n",
       "      <td>0.0</td>\n",
       "      <td>0.0</td>\n",
       "      <td>0.0</td>\n",
       "      <td>0.0</td>\n",
       "      <td>0.0</td>\n",
       "      <td>0.0</td>\n",
       "    </tr>\n",
       "    <tr>\n",
       "      <th>3</th>\n",
       "      <td>Car</td>\n",
       "      <td>Male</td>\n",
       "      <td>Petrol</td>\n",
       "      <td>More deprived 30-40%</td>\n",
       "      <td>Rural</td>\n",
       "      <td>83.0</td>\n",
       "      <td>999.0</td>\n",
       "      <td>5.0</td>\n",
       "      <td>0</td>\n",
       "      <td>0.0</td>\n",
       "      <td>...</td>\n",
       "      <td>0.0</td>\n",
       "      <td>0.0</td>\n",
       "      <td>0.0</td>\n",
       "      <td>0.0</td>\n",
       "      <td>0.0</td>\n",
       "      <td>1.0</td>\n",
       "      <td>0.0</td>\n",
       "      <td>0.0</td>\n",
       "      <td>0.0</td>\n",
       "      <td>0.0</td>\n",
       "    </tr>\n",
       "    <tr>\n",
       "      <th>4</th>\n",
       "      <td>Car</td>\n",
       "      <td>Male</td>\n",
       "      <td>Petrol</td>\n",
       "      <td>Less deprived 40-50%</td>\n",
       "      <td>Rural</td>\n",
       "      <td>91.0</td>\n",
       "      <td>1199.0</td>\n",
       "      <td>17.0</td>\n",
       "      <td>0</td>\n",
       "      <td>0.0</td>\n",
       "      <td>...</td>\n",
       "      <td>0.0</td>\n",
       "      <td>0.0</td>\n",
       "      <td>1.0</td>\n",
       "      <td>0.0</td>\n",
       "      <td>0.0</td>\n",
       "      <td>0.0</td>\n",
       "      <td>0.0</td>\n",
       "      <td>0.0</td>\n",
       "      <td>0.0</td>\n",
       "      <td>0.0</td>\n",
       "    </tr>\n",
       "  </tbody>\n",
       "</table>\n",
       "<p>5 rows × 25 columns</p>\n",
       "</div>"
      ],
      "text/plain": [
       "  vehicle_type sex_of_driver propulsion_code     driver_imd_decile  \\\n",
       "0          Car        Female          Petrol  Less deprived 10-20%   \n",
       "1          Car          Male          Petrol     Most deprived 10%   \n",
       "2          Car          Male          Petrol  Less deprived 30-40%   \n",
       "3          Car          Male          Petrol  More deprived 30-40%   \n",
       "4          Car          Male          Petrol  Less deprived 40-50%   \n",
       "\n",
       "  driver_home_area_type  age_of_driver  engine_capacity_cc  age_of_vehicle  \\\n",
       "0            Small town           79.0               998.0             7.0   \n",
       "1            Urban area           78.0              1398.0             3.0   \n",
       "2                 Rural           77.0              1598.0            12.0   \n",
       "3                 Rural           83.0               999.0             5.0   \n",
       "4                 Rural           91.0              1199.0            17.0   \n",
       "\n",
       "   Fatal  Other vehicle  ...  Less deprived 20-30%  Less deprived 30-40%  \\\n",
       "0      0            0.0  ...                   0.0                   0.0   \n",
       "1      0            0.0  ...                   0.0                   0.0   \n",
       "2      0            0.0  ...                   0.0                   1.0   \n",
       "3      0            0.0  ...                   0.0                   0.0   \n",
       "4      0            0.0  ...                   0.0                   0.0   \n",
       "\n",
       "   Less deprived 40-50%  More deprived 10-20%  More deprived 20-30%  \\\n",
       "0                   0.0                   0.0                   0.0   \n",
       "1                   0.0                   0.0                   0.0   \n",
       "2                   0.0                   0.0                   0.0   \n",
       "3                   0.0                   0.0                   0.0   \n",
       "4                   1.0                   0.0                   0.0   \n",
       "\n",
       "   More deprived 30-40%  More deprived 40-50%  Most deprived 10%  Small town  \\\n",
       "0                   0.0                   0.0                0.0         1.0   \n",
       "1                   0.0                   0.0                1.0         0.0   \n",
       "2                   0.0                   0.0                0.0         0.0   \n",
       "3                   1.0                   0.0                0.0         0.0   \n",
       "4                   0.0                   0.0                0.0         0.0   \n",
       "\n",
       "   Urban area  \n",
       "0         0.0  \n",
       "1         1.0  \n",
       "2         0.0  \n",
       "3         0.0  \n",
       "4         0.0  \n",
       "\n",
       "[5 rows x 25 columns]"
      ]
     },
     "execution_count": 70,
     "metadata": {},
     "output_type": "execute_result"
    }
   ],
   "source": [
    "# import the onehotencoder class to implement encoding\n",
    "from sklearn.preprocessing import OneHotEncoder\n",
    "\n",
    "\n",
    "# set aside the categorical columns as a list object \n",
    "catcols = trainset.select_dtypes(['object']).columns.tolist()\n",
    "\n",
    "# define the get dummies function to return encoded train and test sets\n",
    "def get_dummies(trainset, testset, old_col_name):\n",
    "    \"\"\"Given a trainset, a testset, and the name of a column holding a \n",
    "    categorical variable, fit an encoder on the trainset, and use the \n",
    "    encoder to add dummy columns into the trainset and testset\n",
    "    \"\"\"\n",
    "    \n",
    "    one_hot_encoder = OneHotEncoder(drop=\"first\", sparse=False)\n",
    "    \n",
    "    # the input to the encoder must be a 2-d numpy array,\n",
    "    # so we take the column, extract their values and reshape the array to be 2-d\n",
    "    # the old_col_name will be taken from the categorical columns list defined previously\n",
    "    cat_vals = trainset[old_col_name].values.reshape(-1,1)\n",
    "\n",
    "    # fit an encoder and transform the **trainset**\n",
    "    # the output is a new numpy array\n",
    "    transformed = one_hot_encoder.fit_transform(cat_vals)\n",
    "    \n",
    "    # in the list of new columns, convert numpy array to a list and\n",
    "    # drop the first column, because we requested \"drop='first'\"\n",
    "    new_col_names = one_hot_encoder.categories_[0].tolist()[1:]\n",
    "    \n",
    "    for i, new_col_name in enumerate(new_col_names):\n",
    "        \n",
    "        # put the transformed data as columns in the trainset dataframe\n",
    "        trainset[new_col_name] = transformed[:,i]\n",
    "    \n",
    "    # transform the **testset** using the fitted encoder\n",
    "    \n",
    "    cat_vals = testset[old_col_name].values.reshape(-1,1)\n",
    "    transformed = one_hot_encoder.transform(cat_vals)\n",
    "\n",
    "    for i, new_col_name in enumerate(new_col_names):\n",
    "        \n",
    "        # put the transformed data as columns in the testset dataframe\n",
    "        testset[new_col_name] = transformed[:,i]\n",
    "    \n",
    "    return trainset, testset\n",
    "\n",
    "\n",
    "for col_name in catcols:\n",
    "    trainset, testset = get_dummies(trainset, testset, col_name)\n",
    "\n",
    "# check if the dummies are produced correctly in the trainset\n",
    "trainset.head()\n"
   ]
  },
  {
   "cell_type": "code",
   "execution_count": 71,
   "id": "7afce2f1",
   "metadata": {},
   "outputs": [
    {
     "data": {
      "text/html": [
       "<div>\n",
       "<style scoped>\n",
       "    .dataframe tbody tr th:only-of-type {\n",
       "        vertical-align: middle;\n",
       "    }\n",
       "\n",
       "    .dataframe tbody tr th {\n",
       "        vertical-align: top;\n",
       "    }\n",
       "\n",
       "    .dataframe thead th {\n",
       "        text-align: right;\n",
       "    }\n",
       "</style>\n",
       "<table border=\"1\" class=\"dataframe\">\n",
       "  <thead>\n",
       "    <tr style=\"text-align: right;\">\n",
       "      <th></th>\n",
       "      <th>age_of_driver</th>\n",
       "      <th>engine_capacity_cc</th>\n",
       "      <th>age_of_vehicle</th>\n",
       "      <th>Fatal</th>\n",
       "      <th>Other vehicle</th>\n",
       "      <th>Pedal cycle</th>\n",
       "      <th>Male</th>\n",
       "      <th>Other propulsion type</th>\n",
       "      <th>Petrol</th>\n",
       "      <th>Less deprived 10-20%</th>\n",
       "      <th>Less deprived 20-30%</th>\n",
       "      <th>Less deprived 30-40%</th>\n",
       "      <th>Less deprived 40-50%</th>\n",
       "      <th>More deprived 10-20%</th>\n",
       "      <th>More deprived 20-30%</th>\n",
       "      <th>More deprived 30-40%</th>\n",
       "      <th>More deprived 40-50%</th>\n",
       "      <th>Most deprived 10%</th>\n",
       "      <th>Small town</th>\n",
       "      <th>Urban area</th>\n",
       "    </tr>\n",
       "  </thead>\n",
       "  <tbody>\n",
       "    <tr>\n",
       "      <th>0</th>\n",
       "      <td>79.0</td>\n",
       "      <td>998.0</td>\n",
       "      <td>7.0</td>\n",
       "      <td>0</td>\n",
       "      <td>0.0</td>\n",
       "      <td>0.0</td>\n",
       "      <td>0.0</td>\n",
       "      <td>0.0</td>\n",
       "      <td>1.0</td>\n",
       "      <td>1.0</td>\n",
       "      <td>0.0</td>\n",
       "      <td>0.0</td>\n",
       "      <td>0.0</td>\n",
       "      <td>0.0</td>\n",
       "      <td>0.0</td>\n",
       "      <td>0.0</td>\n",
       "      <td>0.0</td>\n",
       "      <td>0.0</td>\n",
       "      <td>1.0</td>\n",
       "      <td>0.0</td>\n",
       "    </tr>\n",
       "    <tr>\n",
       "      <th>1</th>\n",
       "      <td>78.0</td>\n",
       "      <td>1398.0</td>\n",
       "      <td>3.0</td>\n",
       "      <td>0</td>\n",
       "      <td>0.0</td>\n",
       "      <td>0.0</td>\n",
       "      <td>1.0</td>\n",
       "      <td>0.0</td>\n",
       "      <td>1.0</td>\n",
       "      <td>0.0</td>\n",
       "      <td>0.0</td>\n",
       "      <td>0.0</td>\n",
       "      <td>0.0</td>\n",
       "      <td>0.0</td>\n",
       "      <td>0.0</td>\n",
       "      <td>0.0</td>\n",
       "      <td>0.0</td>\n",
       "      <td>1.0</td>\n",
       "      <td>0.0</td>\n",
       "      <td>1.0</td>\n",
       "    </tr>\n",
       "    <tr>\n",
       "      <th>2</th>\n",
       "      <td>77.0</td>\n",
       "      <td>1598.0</td>\n",
       "      <td>12.0</td>\n",
       "      <td>0</td>\n",
       "      <td>0.0</td>\n",
       "      <td>0.0</td>\n",
       "      <td>1.0</td>\n",
       "      <td>0.0</td>\n",
       "      <td>1.0</td>\n",
       "      <td>0.0</td>\n",
       "      <td>0.0</td>\n",
       "      <td>1.0</td>\n",
       "      <td>0.0</td>\n",
       "      <td>0.0</td>\n",
       "      <td>0.0</td>\n",
       "      <td>0.0</td>\n",
       "      <td>0.0</td>\n",
       "      <td>0.0</td>\n",
       "      <td>0.0</td>\n",
       "      <td>0.0</td>\n",
       "    </tr>\n",
       "    <tr>\n",
       "      <th>3</th>\n",
       "      <td>83.0</td>\n",
       "      <td>999.0</td>\n",
       "      <td>5.0</td>\n",
       "      <td>0</td>\n",
       "      <td>0.0</td>\n",
       "      <td>0.0</td>\n",
       "      <td>1.0</td>\n",
       "      <td>0.0</td>\n",
       "      <td>1.0</td>\n",
       "      <td>0.0</td>\n",
       "      <td>0.0</td>\n",
       "      <td>0.0</td>\n",
       "      <td>0.0</td>\n",
       "      <td>0.0</td>\n",
       "      <td>0.0</td>\n",
       "      <td>1.0</td>\n",
       "      <td>0.0</td>\n",
       "      <td>0.0</td>\n",
       "      <td>0.0</td>\n",
       "      <td>0.0</td>\n",
       "    </tr>\n",
       "    <tr>\n",
       "      <th>4</th>\n",
       "      <td>91.0</td>\n",
       "      <td>1199.0</td>\n",
       "      <td>17.0</td>\n",
       "      <td>0</td>\n",
       "      <td>0.0</td>\n",
       "      <td>0.0</td>\n",
       "      <td>1.0</td>\n",
       "      <td>0.0</td>\n",
       "      <td>1.0</td>\n",
       "      <td>0.0</td>\n",
       "      <td>0.0</td>\n",
       "      <td>0.0</td>\n",
       "      <td>1.0</td>\n",
       "      <td>0.0</td>\n",
       "      <td>0.0</td>\n",
       "      <td>0.0</td>\n",
       "      <td>0.0</td>\n",
       "      <td>0.0</td>\n",
       "      <td>0.0</td>\n",
       "      <td>0.0</td>\n",
       "    </tr>\n",
       "  </tbody>\n",
       "</table>\n",
       "</div>"
      ],
      "text/plain": [
       "   age_of_driver  engine_capacity_cc  age_of_vehicle  Fatal  Other vehicle  \\\n",
       "0           79.0               998.0             7.0      0            0.0   \n",
       "1           78.0              1398.0             3.0      0            0.0   \n",
       "2           77.0              1598.0            12.0      0            0.0   \n",
       "3           83.0               999.0             5.0      0            0.0   \n",
       "4           91.0              1199.0            17.0      0            0.0   \n",
       "\n",
       "   Pedal cycle  Male  Other propulsion type  Petrol  Less deprived 10-20%  \\\n",
       "0          0.0   0.0                    0.0     1.0                   1.0   \n",
       "1          0.0   1.0                    0.0     1.0                   0.0   \n",
       "2          0.0   1.0                    0.0     1.0                   0.0   \n",
       "3          0.0   1.0                    0.0     1.0                   0.0   \n",
       "4          0.0   1.0                    0.0     1.0                   0.0   \n",
       "\n",
       "   Less deprived 20-30%  Less deprived 30-40%  Less deprived 40-50%  \\\n",
       "0                   0.0                   0.0                   0.0   \n",
       "1                   0.0                   0.0                   0.0   \n",
       "2                   0.0                   1.0                   0.0   \n",
       "3                   0.0                   0.0                   0.0   \n",
       "4                   0.0                   0.0                   1.0   \n",
       "\n",
       "   More deprived 10-20%  More deprived 20-30%  More deprived 30-40%  \\\n",
       "0                   0.0                   0.0                   0.0   \n",
       "1                   0.0                   0.0                   0.0   \n",
       "2                   0.0                   0.0                   0.0   \n",
       "3                   0.0                   0.0                   1.0   \n",
       "4                   0.0                   0.0                   0.0   \n",
       "\n",
       "   More deprived 40-50%  Most deprived 10%  Small town  Urban area  \n",
       "0                   0.0                0.0         1.0         0.0  \n",
       "1                   0.0                1.0         0.0         1.0  \n",
       "2                   0.0                0.0         0.0         0.0  \n",
       "3                   0.0                0.0         0.0         0.0  \n",
       "4                   0.0                0.0         0.0         0.0  "
      ]
     },
     "execution_count": 71,
     "metadata": {},
     "output_type": "execute_result"
    }
   ],
   "source": [
    "# with our dummy variables in place, we no longer need old columns\n",
    "def dropfunc(data, column_list):\n",
    "    for column in data:\n",
    "        if column in column_list:\n",
    "            del data[column]\n",
    "\n",
    "# implement the above function on the categorical columns list previously defined\n",
    "dropfunc(trainset, catcols)\n",
    "dropfunc(testset, catcols)\n",
    "\n",
    "trainset.head()"
   ]
  },
  {
   "cell_type": "code",
   "execution_count": 72,
   "id": "b5e9e464",
   "metadata": {},
   "outputs": [
    {
     "name": "stdout",
     "output_type": "stream",
     "text": [
      "(3904, 20) (977, 20)\n"
     ]
    }
   ],
   "source": [
    "# verify the dimensions of the datasets following encoding\n",
    "print(trainset.shape, testset.shape)"
   ]
  },
  {
   "cell_type": "markdown",
   "id": "dd3c7135",
   "metadata": {},
   "source": [
    "## 5.4 Handling Outliers & Anomalies"
   ]
  },
  {
   "cell_type": "markdown",
   "id": "cc17c6d4",
   "metadata": {},
   "source": [
    "We will use isolation forest to figure out the anomalies and outliers in the dataset. Here, we strive to create an 'anomaly'column, acting as an indicative variable (flag if an observation is an anomaly or outlier). Removing outliers or converting the outliers to median values can potentially change the dataset shape to normally distributed when it is actually not. "
   ]
  },
  {
   "cell_type": "code",
   "execution_count": 74,
   "id": "7eeffe7f",
   "metadata": {},
   "outputs": [
    {
     "name": "stdout",
     "output_type": "stream",
     "text": [
      "Percentage of anomalies in trainset: 1.02\n"
     ]
    }
   ],
   "source": [
    "from sklearn.ensemble import IsolationForest\n",
    "\n",
    "# fit the trainset into the model\n",
    "iso_model=IsolationForest(n_estimators=50, max_samples='auto', contamination=float(.010),max_features=1.0)\n",
    "iso_model.fit(trainset)\n",
    "\n",
    "#create two additional columns to checj the score \n",
    "trainset['anomaly']=iso_model.predict(trainset)\n",
    "trainset['scores']=iso_model.decision_function(trainset)\n",
    "\n",
    "#print anomaly\n",
    "print(\"Percentage of anomalies in trainset: {:.2f}\".format((len(trainset.loc[trainset['anomaly']==-1])/len(trainset))*100))"
   ]
  },
  {
   "cell_type": "markdown",
   "id": "7a31e8fb",
   "metadata": {},
   "source": [
    "Here, we created 2 columns, anomaly and scores. Any observations with a value in the 'anomaly'column =-1 is an anomaly. We tuned the contamination parameter to decide the percentage of anomalies in the dataset. "
   ]
  },
  {
   "cell_type": "code",
   "execution_count": 75,
   "id": "6f099877",
   "metadata": {},
   "outputs": [
    {
     "data": {
      "text/plain": [
       "<AxesSubplot:>"
      ]
     },
     "execution_count": 75,
     "metadata": {},
     "output_type": "execute_result"
    },
    {
     "data": {
      "image/png": "[encoded data removed]",
      "text/plain": [
       "<Figure size 432x288 with 1 Axes>"
      ]
     },
     "metadata": {
      "needs_background": "light"
     },
     "output_type": "display_data"
    }
   ],
   "source": [
    "#visualization and tuning\n",
    "trainset['scores'].hist()"
   ]
  },
  {
   "cell_type": "markdown",
   "id": "39b30070",
   "metadata": {},
   "source": [
    "From this graph, we can see that inliers have positive scores and are grouped together on the right. Outliers are all the points on the left of 0 with negative score. I want to flag only the most extreme outliers and after inputing several number for the contamination parameter and observing the graph, it seems that contamination of 0.01 is a suitable one. "
   ]
  },
  {
   "cell_type": "code",
   "execution_count": 76,
   "id": "fdde0a6e",
   "metadata": {},
   "outputs": [
    {
     "data": {
      "text/plain": [
       "0    3864\n",
       "1      40\n",
       "Name: anomaly, dtype: int64"
      ]
     },
     "execution_count": 76,
     "metadata": {},
     "output_type": "execute_result"
    }
   ],
   "source": [
    "#change the values in the 'anomaly'column:\n",
    "#normal observation =0\n",
    "# anomaly = 1\n",
    "trainset.loc[trainset['anomaly'] == 1,'anomaly'] = 0\n",
    "trainset.loc[trainset['anomaly'] == -1,'anomaly'] = 1\n",
    "trainset['anomaly'].value_counts()"
   ]
  },
  {
   "cell_type": "code",
   "execution_count": 77,
   "id": "2ed69425",
   "metadata": {},
   "outputs": [],
   "source": [
    "#delete scores column on trainset\n",
    "trainset = trainset.drop('scores', 1)"
   ]
  },
  {
   "cell_type": "code",
   "execution_count": 79,
   "id": "fca47825",
   "metadata": {},
   "outputs": [
    {
     "data": {
      "text/plain": [
       "0    967\n",
       "1     10\n",
       "Name: anomaly, dtype: int64"
      ]
     },
     "execution_count": 79,
     "metadata": {},
     "output_type": "execute_result"
    }
   ],
   "source": [
    "#repeat the same steps with testset\n",
    "iso_model=IsolationForest(n_estimators=50, max_samples='auto', contamination=float(.010),max_features=1.0)\n",
    "iso_model.fit(testset)\n",
    "\n",
    "testset['anomaly']=iso_model.predict(testset)\n",
    "testset['scores']=iso_model.decision_function(testset)\n",
    "\n",
    "#delete scores column on trainset\n",
    "del testset['scores']\n",
    "\n",
    "#change the values in the 'anomaly'column:\n",
    "#normal observation =0\n",
    "# anomaly = 1\n",
    "testset.loc[testset['anomaly'] == 1,'anomaly'] = 0\n",
    "testset.loc[testset['anomaly'] == -1,'anomaly'] = 1\n",
    "testset['anomaly'].value_counts()\n"
   ]
  },
  {
   "cell_type": "code",
   "execution_count": 80,
   "id": "d2978c8a",
   "metadata": {},
   "outputs": [
    {
     "name": "stdout",
     "output_type": "stream",
     "text": [
      "<class 'pandas.core.frame.DataFrame'>\n",
      "RangeIndex: 3904 entries, 0 to 3903\n",
      "Data columns (total 21 columns):\n",
      " #   Column                 Non-Null Count  Dtype  \n",
      "---  ------                 --------------  -----  \n",
      " 0   age_of_driver          3904 non-null   float64\n",
      " 1   engine_capacity_cc     3904 non-null   float64\n",
      " 2   age_of_vehicle         3904 non-null   float64\n",
      " 3   Fatal                  3904 non-null   int64  \n",
      " 4   Other vehicle          3904 non-null   float64\n",
      " 5   Pedal cycle            3904 non-null   float64\n",
      " 6   Male                   3904 non-null   float64\n",
      " 7   Other propulsion type  3904 non-null   float64\n",
      " 8   Petrol                 3904 non-null   float64\n",
      " 9   Less deprived 10-20%   3904 non-null   float64\n",
      " 10  Less deprived 20-30%   3904 non-null   float64\n",
      " 11  Less deprived 30-40%   3904 non-null   float64\n",
      " 12  Less deprived 40-50%   3904 non-null   float64\n",
      " 13  More deprived 10-20%   3904 non-null   float64\n",
      " 14  More deprived 20-30%   3904 non-null   float64\n",
      " 15  More deprived 30-40%   3904 non-null   float64\n",
      " 16  More deprived 40-50%   3904 non-null   float64\n",
      " 17  Most deprived 10%      3904 non-null   float64\n",
      " 18  Small town             3904 non-null   float64\n",
      " 19  Urban area             3904 non-null   float64\n",
      " 20  anomaly                3904 non-null   int64  \n",
      "dtypes: float64(19), int64(2)\n",
      "memory usage: 640.6 KB\n"
     ]
    }
   ],
   "source": [
    "trainset.info()"
   ]
  },
  {
   "cell_type": "code",
   "execution_count": 81,
   "id": "69c8f7b4",
   "metadata": {},
   "outputs": [
    {
     "data": {
      "text/plain": [
       "0    3764\n",
       "1     140\n",
       "Name: Fatal, dtype: int64"
      ]
     },
     "execution_count": 81,
     "metadata": {},
     "output_type": "execute_result"
    }
   ],
   "source": [
    "trainset['Fatal'].value_counts()"
   ]
  },
  {
   "cell_type": "markdown",
   "id": "6436ca79",
   "metadata": {},
   "source": [
    "## 5.5 Feature Scaling"
   ]
  },
  {
   "cell_type": "code",
   "execution_count": 82,
   "id": "fe5317d1",
   "metadata": {},
   "outputs": [
    {
     "data": {
      "text/html": [
       "<div>\n",
       "<style scoped>\n",
       "    .dataframe tbody tr th:only-of-type {\n",
       "        vertical-align: middle;\n",
       "    }\n",
       "\n",
       "    .dataframe tbody tr th {\n",
       "        vertical-align: top;\n",
       "    }\n",
       "\n",
       "    .dataframe thead th {\n",
       "        text-align: right;\n",
       "    }\n",
       "</style>\n",
       "<table border=\"1\" class=\"dataframe\">\n",
       "  <thead>\n",
       "    <tr style=\"text-align: right;\">\n",
       "      <th></th>\n",
       "      <th>age_of_driver</th>\n",
       "      <th>engine_capacity_cc</th>\n",
       "      <th>age_of_vehicle</th>\n",
       "      <th>Other vehicle</th>\n",
       "      <th>Pedal cycle</th>\n",
       "      <th>Male</th>\n",
       "      <th>Other propulsion type</th>\n",
       "      <th>Petrol</th>\n",
       "      <th>Less deprived 10-20%</th>\n",
       "      <th>Less deprived 20-30%</th>\n",
       "      <th>...</th>\n",
       "      <th>Less deprived 40-50%</th>\n",
       "      <th>More deprived 10-20%</th>\n",
       "      <th>More deprived 20-30%</th>\n",
       "      <th>More deprived 30-40%</th>\n",
       "      <th>More deprived 40-50%</th>\n",
       "      <th>Most deprived 10%</th>\n",
       "      <th>Small town</th>\n",
       "      <th>Urban area</th>\n",
       "      <th>anomaly</th>\n",
       "      <th>Fatal</th>\n",
       "    </tr>\n",
       "  </thead>\n",
       "  <tbody>\n",
       "    <tr>\n",
       "      <th>0</th>\n",
       "      <td>-0.571621</td>\n",
       "      <td>-0.894544</td>\n",
       "      <td>-0.257306</td>\n",
       "      <td>-0.226181</td>\n",
       "      <td>-0.168674</td>\n",
       "      <td>-1.48324</td>\n",
       "      <td>-0.141846</td>\n",
       "      <td>0.525183</td>\n",
       "      <td>1.985390</td>\n",
       "      <td>-0.368611</td>\n",
       "      <td>...</td>\n",
       "      <td>-0.345814</td>\n",
       "      <td>-0.226806</td>\n",
       "      <td>-0.249046</td>\n",
       "      <td>-0.300330</td>\n",
       "      <td>-0.336927</td>\n",
       "      <td>-0.219212</td>\n",
       "      <td>2.729508</td>\n",
       "      <td>-1.475319</td>\n",
       "      <td>-0.101745</td>\n",
       "      <td>0</td>\n",
       "    </tr>\n",
       "    <tr>\n",
       "      <th>1</th>\n",
       "      <td>-0.795926</td>\n",
       "      <td>-0.186555</td>\n",
       "      <td>-0.963721</td>\n",
       "      <td>-0.226181</td>\n",
       "      <td>-0.168674</td>\n",
       "      <td>0.67420</td>\n",
       "      <td>-0.141846</td>\n",
       "      <td>0.525183</td>\n",
       "      <td>-0.503679</td>\n",
       "      <td>-0.368611</td>\n",
       "      <td>...</td>\n",
       "      <td>-0.345814</td>\n",
       "      <td>-0.226806</td>\n",
       "      <td>-0.249046</td>\n",
       "      <td>-0.300330</td>\n",
       "      <td>-0.336927</td>\n",
       "      <td>4.561804</td>\n",
       "      <td>-0.366366</td>\n",
       "      <td>0.677819</td>\n",
       "      <td>-0.101745</td>\n",
       "      <td>0</td>\n",
       "    </tr>\n",
       "    <tr>\n",
       "      <th>2</th>\n",
       "      <td>-1.020230</td>\n",
       "      <td>0.167439</td>\n",
       "      <td>0.625713</td>\n",
       "      <td>-0.226181</td>\n",
       "      <td>-0.168674</td>\n",
       "      <td>0.67420</td>\n",
       "      <td>-0.141846</td>\n",
       "      <td>0.525183</td>\n",
       "      <td>-0.503679</td>\n",
       "      <td>-0.368611</td>\n",
       "      <td>...</td>\n",
       "      <td>-0.345814</td>\n",
       "      <td>-0.226806</td>\n",
       "      <td>-0.249046</td>\n",
       "      <td>-0.300330</td>\n",
       "      <td>-0.336927</td>\n",
       "      <td>-0.219212</td>\n",
       "      <td>-0.366366</td>\n",
       "      <td>-1.475319</td>\n",
       "      <td>-0.101745</td>\n",
       "      <td>0</td>\n",
       "    </tr>\n",
       "    <tr>\n",
       "      <th>3</th>\n",
       "      <td>0.325598</td>\n",
       "      <td>-0.892774</td>\n",
       "      <td>-0.610513</td>\n",
       "      <td>-0.226181</td>\n",
       "      <td>-0.168674</td>\n",
       "      <td>0.67420</td>\n",
       "      <td>-0.141846</td>\n",
       "      <td>0.525183</td>\n",
       "      <td>-0.503679</td>\n",
       "      <td>-0.368611</td>\n",
       "      <td>...</td>\n",
       "      <td>-0.345814</td>\n",
       "      <td>-0.226806</td>\n",
       "      <td>-0.249046</td>\n",
       "      <td>3.329668</td>\n",
       "      <td>-0.336927</td>\n",
       "      <td>-0.219212</td>\n",
       "      <td>-0.366366</td>\n",
       "      <td>-1.475319</td>\n",
       "      <td>-0.101745</td>\n",
       "      <td>0</td>\n",
       "    </tr>\n",
       "    <tr>\n",
       "      <th>4</th>\n",
       "      <td>2.120036</td>\n",
       "      <td>-0.538780</td>\n",
       "      <td>1.508732</td>\n",
       "      <td>-0.226181</td>\n",
       "      <td>-0.168674</td>\n",
       "      <td>0.67420</td>\n",
       "      <td>-0.141846</td>\n",
       "      <td>0.525183</td>\n",
       "      <td>-0.503679</td>\n",
       "      <td>-0.368611</td>\n",
       "      <td>...</td>\n",
       "      <td>2.891731</td>\n",
       "      <td>-0.226806</td>\n",
       "      <td>-0.249046</td>\n",
       "      <td>-0.300330</td>\n",
       "      <td>-0.336927</td>\n",
       "      <td>-0.219212</td>\n",
       "      <td>-0.366366</td>\n",
       "      <td>-1.475319</td>\n",
       "      <td>-0.101745</td>\n",
       "      <td>0</td>\n",
       "    </tr>\n",
       "  </tbody>\n",
       "</table>\n",
       "<p>5 rows × 21 columns</p>\n",
       "</div>"
      ],
      "text/plain": [
       "   age_of_driver  engine_capacity_cc  age_of_vehicle  Other vehicle  \\\n",
       "0      -0.571621           -0.894544       -0.257306      -0.226181   \n",
       "1      -0.795926           -0.186555       -0.963721      -0.226181   \n",
       "2      -1.020230            0.167439        0.625713      -0.226181   \n",
       "3       0.325598           -0.892774       -0.610513      -0.226181   \n",
       "4       2.120036           -0.538780        1.508732      -0.226181   \n",
       "\n",
       "   Pedal cycle     Male  Other propulsion type    Petrol  \\\n",
       "0    -0.168674 -1.48324              -0.141846  0.525183   \n",
       "1    -0.168674  0.67420              -0.141846  0.525183   \n",
       "2    -0.168674  0.67420              -0.141846  0.525183   \n",
       "3    -0.168674  0.67420              -0.141846  0.525183   \n",
       "4    -0.168674  0.67420              -0.141846  0.525183   \n",
       "\n",
       "   Less deprived 10-20%  Less deprived 20-30%  ...  Less deprived 40-50%  \\\n",
       "0              1.985390             -0.368611  ...             -0.345814   \n",
       "1             -0.503679             -0.368611  ...             -0.345814   \n",
       "2             -0.503679             -0.368611  ...             -0.345814   \n",
       "3             -0.503679             -0.368611  ...             -0.345814   \n",
       "4             -0.503679             -0.368611  ...              2.891731   \n",
       "\n",
       "   More deprived 10-20%  More deprived 20-30%  More deprived 30-40%  \\\n",
       "0             -0.226806             -0.249046             -0.300330   \n",
       "1             -0.226806             -0.249046             -0.300330   \n",
       "2             -0.226806             -0.249046             -0.300330   \n",
       "3             -0.226806             -0.249046              3.329668   \n",
       "4             -0.226806             -0.249046             -0.300330   \n",
       "\n",
       "   More deprived 40-50%  Most deprived 10%  Small town  Urban area   anomaly  \\\n",
       "0             -0.336927          -0.219212    2.729508   -1.475319 -0.101745   \n",
       "1             -0.336927           4.561804   -0.366366    0.677819 -0.101745   \n",
       "2             -0.336927          -0.219212   -0.366366   -1.475319 -0.101745   \n",
       "3             -0.336927          -0.219212   -0.366366   -1.475319 -0.101745   \n",
       "4             -0.336927          -0.219212   -0.366366   -1.475319 -0.101745   \n",
       "\n",
       "   Fatal  \n",
       "0      0  \n",
       "1      0  \n",
       "2      0  \n",
       "3      0  \n",
       "4      0  \n",
       "\n",
       "[5 rows x 21 columns]"
      ]
     },
     "execution_count": 82,
     "metadata": {},
     "output_type": "execute_result"
    }
   ],
   "source": [
    "# import the standard scaler class and instantiate the object\n",
    "from sklearn.preprocessing import StandardScaler\n",
    "scaler = StandardScaler()\n",
    "\n",
    "# seperate into predictor and target sets, we do not scale our target\n",
    "trainset_target = trainset['Fatal'].values\n",
    "# we do not include and scale date + accident index as part of modelling going forward\n",
    "trainset_predictors = trainset.drop(columns=['Fatal'], axis=1)\n",
    "\n",
    "# call the fit and transform method on our predictors\n",
    "scaled_vals = scaler.fit_transform(trainset_predictors)\n",
    "\n",
    "# put the scaled values back into the trainset dataframe\n",
    "trainset = pd.DataFrame(scaled_vals, columns=trainset_predictors.columns)\n",
    "\n",
    "# put the non-scaled target back in\n",
    "trainset['Fatal'] = trainset_target\n",
    "\n",
    "# inspect the data\n",
    "trainset.head()"
   ]
  },
  {
   "cell_type": "code",
   "execution_count": 83,
   "id": "18bb0f29",
   "metadata": {},
   "outputs": [
    {
     "data": {
      "text/html": [
       "<div>\n",
       "<style scoped>\n",
       "    .dataframe tbody tr th:only-of-type {\n",
       "        vertical-align: middle;\n",
       "    }\n",
       "\n",
       "    .dataframe tbody tr th {\n",
       "        vertical-align: top;\n",
       "    }\n",
       "\n",
       "    .dataframe thead th {\n",
       "        text-align: right;\n",
       "    }\n",
       "</style>\n",
       "<table border=\"1\" class=\"dataframe\">\n",
       "  <thead>\n",
       "    <tr style=\"text-align: right;\">\n",
       "      <th></th>\n",
       "      <th>age_of_driver</th>\n",
       "      <th>engine_capacity_cc</th>\n",
       "      <th>age_of_vehicle</th>\n",
       "      <th>Other vehicle</th>\n",
       "      <th>Pedal cycle</th>\n",
       "      <th>Male</th>\n",
       "      <th>Other propulsion type</th>\n",
       "      <th>Petrol</th>\n",
       "      <th>Less deprived 10-20%</th>\n",
       "      <th>Less deprived 20-30%</th>\n",
       "      <th>...</th>\n",
       "      <th>Less deprived 40-50%</th>\n",
       "      <th>More deprived 10-20%</th>\n",
       "      <th>More deprived 20-30%</th>\n",
       "      <th>More deprived 30-40%</th>\n",
       "      <th>More deprived 40-50%</th>\n",
       "      <th>Most deprived 10%</th>\n",
       "      <th>Small town</th>\n",
       "      <th>Urban area</th>\n",
       "      <th>anomaly</th>\n",
       "      <th>Fatal</th>\n",
       "    </tr>\n",
       "  </thead>\n",
       "  <tbody>\n",
       "    <tr>\n",
       "      <th>0</th>\n",
       "      <td>-0.347316</td>\n",
       "      <td>-0.239654</td>\n",
       "      <td>0.272505</td>\n",
       "      <td>-0.226181</td>\n",
       "      <td>-0.168674</td>\n",
       "      <td>0.67420</td>\n",
       "      <td>-0.141846</td>\n",
       "      <td>0.525183</td>\n",
       "      <td>-0.503679</td>\n",
       "      <td>-0.368611</td>\n",
       "      <td>...</td>\n",
       "      <td>-0.345814</td>\n",
       "      <td>-0.226806</td>\n",
       "      <td>4.015322</td>\n",
       "      <td>-0.30033</td>\n",
       "      <td>-0.336927</td>\n",
       "      <td>-0.219212</td>\n",
       "      <td>-0.366366</td>\n",
       "      <td>0.677819</td>\n",
       "      <td>-0.101745</td>\n",
       "      <td>0</td>\n",
       "    </tr>\n",
       "    <tr>\n",
       "      <th>1</th>\n",
       "      <td>0.549903</td>\n",
       "      <td>-0.540550</td>\n",
       "      <td>-1.140325</td>\n",
       "      <td>-0.226181</td>\n",
       "      <td>-0.168674</td>\n",
       "      <td>-1.48324</td>\n",
       "      <td>-0.141846</td>\n",
       "      <td>0.525183</td>\n",
       "      <td>1.985390</td>\n",
       "      <td>-0.368611</td>\n",
       "      <td>...</td>\n",
       "      <td>-0.345814</td>\n",
       "      <td>-0.226806</td>\n",
       "      <td>-0.249046</td>\n",
       "      <td>-0.30033</td>\n",
       "      <td>-0.336927</td>\n",
       "      <td>-0.219212</td>\n",
       "      <td>2.729508</td>\n",
       "      <td>-1.475319</td>\n",
       "      <td>-0.101745</td>\n",
       "      <td>0</td>\n",
       "    </tr>\n",
       "    <tr>\n",
       "      <th>2</th>\n",
       "      <td>0.998512</td>\n",
       "      <td>0.100180</td>\n",
       "      <td>-0.963721</td>\n",
       "      <td>-0.226181</td>\n",
       "      <td>-0.168674</td>\n",
       "      <td>0.67420</td>\n",
       "      <td>-0.141846</td>\n",
       "      <td>-1.904099</td>\n",
       "      <td>-0.503679</td>\n",
       "      <td>-0.368611</td>\n",
       "      <td>...</td>\n",
       "      <td>2.891731</td>\n",
       "      <td>-0.226806</td>\n",
       "      <td>-0.249046</td>\n",
       "      <td>-0.30033</td>\n",
       "      <td>-0.336927</td>\n",
       "      <td>-0.219212</td>\n",
       "      <td>-0.366366</td>\n",
       "      <td>-1.475319</td>\n",
       "      <td>-0.101745</td>\n",
       "      <td>0</td>\n",
       "    </tr>\n",
       "    <tr>\n",
       "      <th>3</th>\n",
       "      <td>0.325598</td>\n",
       "      <td>-0.892774</td>\n",
       "      <td>-0.610513</td>\n",
       "      <td>-0.226181</td>\n",
       "      <td>-0.168674</td>\n",
       "      <td>-1.48324</td>\n",
       "      <td>-0.141846</td>\n",
       "      <td>0.525183</td>\n",
       "      <td>1.985390</td>\n",
       "      <td>-0.368611</td>\n",
       "      <td>...</td>\n",
       "      <td>-0.345814</td>\n",
       "      <td>-0.226806</td>\n",
       "      <td>-0.249046</td>\n",
       "      <td>-0.30033</td>\n",
       "      <td>-0.336927</td>\n",
       "      <td>-0.219212</td>\n",
       "      <td>-0.366366</td>\n",
       "      <td>0.677819</td>\n",
       "      <td>-0.101745</td>\n",
       "      <td>0</td>\n",
       "    </tr>\n",
       "    <tr>\n",
       "      <th>4</th>\n",
       "      <td>0.325598</td>\n",
       "      <td>-0.188325</td>\n",
       "      <td>1.508732</td>\n",
       "      <td>-0.226181</td>\n",
       "      <td>-0.168674</td>\n",
       "      <td>0.67420</td>\n",
       "      <td>-0.141846</td>\n",
       "      <td>0.525183</td>\n",
       "      <td>-0.503679</td>\n",
       "      <td>-0.368611</td>\n",
       "      <td>...</td>\n",
       "      <td>-0.345814</td>\n",
       "      <td>-0.226806</td>\n",
       "      <td>-0.249046</td>\n",
       "      <td>-0.30033</td>\n",
       "      <td>-0.336927</td>\n",
       "      <td>-0.219212</td>\n",
       "      <td>-0.366366</td>\n",
       "      <td>0.677819</td>\n",
       "      <td>-0.101745</td>\n",
       "      <td>0</td>\n",
       "    </tr>\n",
       "  </tbody>\n",
       "</table>\n",
       "<p>5 rows × 21 columns</p>\n",
       "</div>"
      ],
      "text/plain": [
       "   age_of_driver  engine_capacity_cc  age_of_vehicle  Other vehicle  \\\n",
       "0      -0.347316           -0.239654        0.272505      -0.226181   \n",
       "1       0.549903           -0.540550       -1.140325      -0.226181   \n",
       "2       0.998512            0.100180       -0.963721      -0.226181   \n",
       "3       0.325598           -0.892774       -0.610513      -0.226181   \n",
       "4       0.325598           -0.188325        1.508732      -0.226181   \n",
       "\n",
       "   Pedal cycle     Male  Other propulsion type    Petrol  \\\n",
       "0    -0.168674  0.67420              -0.141846  0.525183   \n",
       "1    -0.168674 -1.48324              -0.141846  0.525183   \n",
       "2    -0.168674  0.67420              -0.141846 -1.904099   \n",
       "3    -0.168674 -1.48324              -0.141846  0.525183   \n",
       "4    -0.168674  0.67420              -0.141846  0.525183   \n",
       "\n",
       "   Less deprived 10-20%  Less deprived 20-30%  ...  Less deprived 40-50%  \\\n",
       "0             -0.503679             -0.368611  ...             -0.345814   \n",
       "1              1.985390             -0.368611  ...             -0.345814   \n",
       "2             -0.503679             -0.368611  ...              2.891731   \n",
       "3              1.985390             -0.368611  ...             -0.345814   \n",
       "4             -0.503679             -0.368611  ...             -0.345814   \n",
       "\n",
       "   More deprived 10-20%  More deprived 20-30%  More deprived 30-40%  \\\n",
       "0             -0.226806              4.015322              -0.30033   \n",
       "1             -0.226806             -0.249046              -0.30033   \n",
       "2             -0.226806             -0.249046              -0.30033   \n",
       "3             -0.226806             -0.249046              -0.30033   \n",
       "4             -0.226806             -0.249046              -0.30033   \n",
       "\n",
       "   More deprived 40-50%  Most deprived 10%  Small town  Urban area   anomaly  \\\n",
       "0             -0.336927          -0.219212   -0.366366    0.677819 -0.101745   \n",
       "1             -0.336927          -0.219212    2.729508   -1.475319 -0.101745   \n",
       "2             -0.336927          -0.219212   -0.366366   -1.475319 -0.101745   \n",
       "3             -0.336927          -0.219212   -0.366366    0.677819 -0.101745   \n",
       "4             -0.336927          -0.219212   -0.366366    0.677819 -0.101745   \n",
       "\n",
       "   Fatal  \n",
       "0      0  \n",
       "1      0  \n",
       "2      0  \n",
       "3      0  \n",
       "4      0  \n",
       "\n",
       "[5 rows x 21 columns]"
      ]
     },
     "execution_count": 83,
     "metadata": {},
     "output_type": "execute_result"
    }
   ],
   "source": [
    "# we repeat much of the scaling steps for the test set as well\n",
    "# the only difference here is that we do not call the fit transform, but only fit\n",
    "\n",
    "testset_target = testset[\"Fatal\"].values\n",
    "\n",
    "testset_predictors = testset.drop(columns=[\"Fatal\"], axis=1)\n",
    "\n",
    "scaled_vals = scaler.transform(testset_predictors)\n",
    "testset = pd.DataFrame(scaled_vals, columns=testset_predictors.columns)\n",
    "\n",
    "# put the non-scaled variables back in\n",
    "testset['Fatal'] = testset_target\n",
    "\n",
    "\n",
    " \n",
    "testset.head()"
   ]
  },
  {
   "cell_type": "code",
   "execution_count": 84,
   "id": "d8a1a3a6",
   "metadata": {},
   "outputs": [],
   "source": [
    "# drop labels for training set, but keep all others\n",
    "Xtrain = trainset.drop(\"Fatal\", axis=1)\n",
    "Xtest = testset.drop(\"Fatal\", axis=1)\n",
    "\n",
    "\n",
    "ytrain = trainset[\"Fatal\"].copy()\n",
    "ytest = testset[\"Fatal\"].copy()"
   ]
  },
  {
   "cell_type": "code",
   "execution_count": 85,
   "id": "6d8d9a67",
   "metadata": {},
   "outputs": [
    {
     "data": {
      "text/html": [
       "<div>\n",
       "<style scoped>\n",
       "    .dataframe tbody tr th:only-of-type {\n",
       "        vertical-align: middle;\n",
       "    }\n",
       "\n",
       "    .dataframe tbody tr th {\n",
       "        vertical-align: top;\n",
       "    }\n",
       "\n",
       "    .dataframe thead th {\n",
       "        text-align: right;\n",
       "    }\n",
       "</style>\n",
       "<table border=\"1\" class=\"dataframe\">\n",
       "  <thead>\n",
       "    <tr style=\"text-align: right;\">\n",
       "      <th></th>\n",
       "      <th>age_of_driver</th>\n",
       "      <th>engine_capacity_cc</th>\n",
       "      <th>age_of_vehicle</th>\n",
       "      <th>Other vehicle</th>\n",
       "      <th>Pedal cycle</th>\n",
       "      <th>Male</th>\n",
       "      <th>Other propulsion type</th>\n",
       "      <th>Petrol</th>\n",
       "      <th>Less deprived 10-20%</th>\n",
       "      <th>Less deprived 20-30%</th>\n",
       "      <th>Less deprived 30-40%</th>\n",
       "      <th>Less deprived 40-50%</th>\n",
       "      <th>More deprived 10-20%</th>\n",
       "      <th>More deprived 20-30%</th>\n",
       "      <th>More deprived 30-40%</th>\n",
       "      <th>More deprived 40-50%</th>\n",
       "      <th>Most deprived 10%</th>\n",
       "      <th>Small town</th>\n",
       "      <th>Urban area</th>\n",
       "      <th>anomaly</th>\n",
       "    </tr>\n",
       "  </thead>\n",
       "  <tbody>\n",
       "    <tr>\n",
       "      <th>0</th>\n",
       "      <td>-0.571621</td>\n",
       "      <td>-0.894544</td>\n",
       "      <td>-0.257306</td>\n",
       "      <td>-0.226181</td>\n",
       "      <td>-0.168674</td>\n",
       "      <td>-1.48324</td>\n",
       "      <td>-0.141846</td>\n",
       "      <td>0.525183</td>\n",
       "      <td>1.985390</td>\n",
       "      <td>-0.368611</td>\n",
       "      <td>-0.360495</td>\n",
       "      <td>-0.345814</td>\n",
       "      <td>-0.226806</td>\n",
       "      <td>-0.249046</td>\n",
       "      <td>-0.300330</td>\n",
       "      <td>-0.336927</td>\n",
       "      <td>-0.219212</td>\n",
       "      <td>2.729508</td>\n",
       "      <td>-1.475319</td>\n",
       "      <td>-0.101745</td>\n",
       "    </tr>\n",
       "    <tr>\n",
       "      <th>1</th>\n",
       "      <td>-0.795926</td>\n",
       "      <td>-0.186555</td>\n",
       "      <td>-0.963721</td>\n",
       "      <td>-0.226181</td>\n",
       "      <td>-0.168674</td>\n",
       "      <td>0.67420</td>\n",
       "      <td>-0.141846</td>\n",
       "      <td>0.525183</td>\n",
       "      <td>-0.503679</td>\n",
       "      <td>-0.368611</td>\n",
       "      <td>-0.360495</td>\n",
       "      <td>-0.345814</td>\n",
       "      <td>-0.226806</td>\n",
       "      <td>-0.249046</td>\n",
       "      <td>-0.300330</td>\n",
       "      <td>-0.336927</td>\n",
       "      <td>4.561804</td>\n",
       "      <td>-0.366366</td>\n",
       "      <td>0.677819</td>\n",
       "      <td>-0.101745</td>\n",
       "    </tr>\n",
       "    <tr>\n",
       "      <th>2</th>\n",
       "      <td>-1.020230</td>\n",
       "      <td>0.167439</td>\n",
       "      <td>0.625713</td>\n",
       "      <td>-0.226181</td>\n",
       "      <td>-0.168674</td>\n",
       "      <td>0.67420</td>\n",
       "      <td>-0.141846</td>\n",
       "      <td>0.525183</td>\n",
       "      <td>-0.503679</td>\n",
       "      <td>-0.368611</td>\n",
       "      <td>2.773964</td>\n",
       "      <td>-0.345814</td>\n",
       "      <td>-0.226806</td>\n",
       "      <td>-0.249046</td>\n",
       "      <td>-0.300330</td>\n",
       "      <td>-0.336927</td>\n",
       "      <td>-0.219212</td>\n",
       "      <td>-0.366366</td>\n",
       "      <td>-1.475319</td>\n",
       "      <td>-0.101745</td>\n",
       "    </tr>\n",
       "    <tr>\n",
       "      <th>3</th>\n",
       "      <td>0.325598</td>\n",
       "      <td>-0.892774</td>\n",
       "      <td>-0.610513</td>\n",
       "      <td>-0.226181</td>\n",
       "      <td>-0.168674</td>\n",
       "      <td>0.67420</td>\n",
       "      <td>-0.141846</td>\n",
       "      <td>0.525183</td>\n",
       "      <td>-0.503679</td>\n",
       "      <td>-0.368611</td>\n",
       "      <td>-0.360495</td>\n",
       "      <td>-0.345814</td>\n",
       "      <td>-0.226806</td>\n",
       "      <td>-0.249046</td>\n",
       "      <td>3.329668</td>\n",
       "      <td>-0.336927</td>\n",
       "      <td>-0.219212</td>\n",
       "      <td>-0.366366</td>\n",
       "      <td>-1.475319</td>\n",
       "      <td>-0.101745</td>\n",
       "    </tr>\n",
       "    <tr>\n",
       "      <th>4</th>\n",
       "      <td>2.120036</td>\n",
       "      <td>-0.538780</td>\n",
       "      <td>1.508732</td>\n",
       "      <td>-0.226181</td>\n",
       "      <td>-0.168674</td>\n",
       "      <td>0.67420</td>\n",
       "      <td>-0.141846</td>\n",
       "      <td>0.525183</td>\n",
       "      <td>-0.503679</td>\n",
       "      <td>-0.368611</td>\n",
       "      <td>-0.360495</td>\n",
       "      <td>2.891731</td>\n",
       "      <td>-0.226806</td>\n",
       "      <td>-0.249046</td>\n",
       "      <td>-0.300330</td>\n",
       "      <td>-0.336927</td>\n",
       "      <td>-0.219212</td>\n",
       "      <td>-0.366366</td>\n",
       "      <td>-1.475319</td>\n",
       "      <td>-0.101745</td>\n",
       "    </tr>\n",
       "  </tbody>\n",
       "</table>\n",
       "</div>"
      ],
      "text/plain": [
       "   age_of_driver  engine_capacity_cc  age_of_vehicle  Other vehicle  \\\n",
       "0      -0.571621           -0.894544       -0.257306      -0.226181   \n",
       "1      -0.795926           -0.186555       -0.963721      -0.226181   \n",
       "2      -1.020230            0.167439        0.625713      -0.226181   \n",
       "3       0.325598           -0.892774       -0.610513      -0.226181   \n",
       "4       2.120036           -0.538780        1.508732      -0.226181   \n",
       "\n",
       "   Pedal cycle     Male  Other propulsion type    Petrol  \\\n",
       "0    -0.168674 -1.48324              -0.141846  0.525183   \n",
       "1    -0.168674  0.67420              -0.141846  0.525183   \n",
       "2    -0.168674  0.67420              -0.141846  0.525183   \n",
       "3    -0.168674  0.67420              -0.141846  0.525183   \n",
       "4    -0.168674  0.67420              -0.141846  0.525183   \n",
       "\n",
       "   Less deprived 10-20%  Less deprived 20-30%  Less deprived 30-40%  \\\n",
       "0              1.985390             -0.368611             -0.360495   \n",
       "1             -0.503679             -0.368611             -0.360495   \n",
       "2             -0.503679             -0.368611              2.773964   \n",
       "3             -0.503679             -0.368611             -0.360495   \n",
       "4             -0.503679             -0.368611             -0.360495   \n",
       "\n",
       "   Less deprived 40-50%  More deprived 10-20%  More deprived 20-30%  \\\n",
       "0             -0.345814             -0.226806             -0.249046   \n",
       "1             -0.345814             -0.226806             -0.249046   \n",
       "2             -0.345814             -0.226806             -0.249046   \n",
       "3             -0.345814             -0.226806             -0.249046   \n",
       "4              2.891731             -0.226806             -0.249046   \n",
       "\n",
       "   More deprived 30-40%  More deprived 40-50%  Most deprived 10%  Small town  \\\n",
       "0             -0.300330             -0.336927          -0.219212    2.729508   \n",
       "1             -0.300330             -0.336927           4.561804   -0.366366   \n",
       "2             -0.300330             -0.336927          -0.219212   -0.366366   \n",
       "3              3.329668             -0.336927          -0.219212   -0.366366   \n",
       "4             -0.300330             -0.336927          -0.219212   -0.366366   \n",
       "\n",
       "   Urban area   anomaly  \n",
       "0   -1.475319 -0.101745  \n",
       "1    0.677819 -0.101745  \n",
       "2   -1.475319 -0.101745  \n",
       "3   -1.475319 -0.101745  \n",
       "4   -1.475319 -0.101745  "
      ]
     },
     "execution_count": 85,
     "metadata": {},
     "output_type": "execute_result"
    }
   ],
   "source": [
    "# inspect the train set \n",
    "Xtrain.head()"
   ]
  },
  {
   "cell_type": "code",
   "execution_count": 86,
   "id": "79e0101f",
   "metadata": {},
   "outputs": [
    {
     "data": {
      "text/html": [
       "<div>\n",
       "<style scoped>\n",
       "    .dataframe tbody tr th:only-of-type {\n",
       "        vertical-align: middle;\n",
       "    }\n",
       "\n",
       "    .dataframe tbody tr th {\n",
       "        vertical-align: top;\n",
       "    }\n",
       "\n",
       "    .dataframe thead th {\n",
       "        text-align: right;\n",
       "    }\n",
       "</style>\n",
       "<table border=\"1\" class=\"dataframe\">\n",
       "  <thead>\n",
       "    <tr style=\"text-align: right;\">\n",
       "      <th></th>\n",
       "      <th>age_of_driver</th>\n",
       "      <th>engine_capacity_cc</th>\n",
       "      <th>age_of_vehicle</th>\n",
       "      <th>Other vehicle</th>\n",
       "      <th>Pedal cycle</th>\n",
       "      <th>Male</th>\n",
       "      <th>Other propulsion type</th>\n",
       "      <th>Petrol</th>\n",
       "      <th>Less deprived 10-20%</th>\n",
       "      <th>Less deprived 20-30%</th>\n",
       "      <th>Less deprived 30-40%</th>\n",
       "      <th>Less deprived 40-50%</th>\n",
       "      <th>More deprived 10-20%</th>\n",
       "      <th>More deprived 20-30%</th>\n",
       "      <th>More deprived 30-40%</th>\n",
       "      <th>More deprived 40-50%</th>\n",
       "      <th>Most deprived 10%</th>\n",
       "      <th>Small town</th>\n",
       "      <th>Urban area</th>\n",
       "      <th>anomaly</th>\n",
       "    </tr>\n",
       "  </thead>\n",
       "  <tbody>\n",
       "    <tr>\n",
       "      <th>0</th>\n",
       "      <td>-0.347316</td>\n",
       "      <td>-0.239654</td>\n",
       "      <td>0.272505</td>\n",
       "      <td>-0.226181</td>\n",
       "      <td>-0.168674</td>\n",
       "      <td>0.67420</td>\n",
       "      <td>-0.141846</td>\n",
       "      <td>0.525183</td>\n",
       "      <td>-0.503679</td>\n",
       "      <td>-0.368611</td>\n",
       "      <td>-0.360495</td>\n",
       "      <td>-0.345814</td>\n",
       "      <td>-0.226806</td>\n",
       "      <td>4.015322</td>\n",
       "      <td>-0.30033</td>\n",
       "      <td>-0.336927</td>\n",
       "      <td>-0.219212</td>\n",
       "      <td>-0.366366</td>\n",
       "      <td>0.677819</td>\n",
       "      <td>-0.101745</td>\n",
       "    </tr>\n",
       "    <tr>\n",
       "      <th>1</th>\n",
       "      <td>0.549903</td>\n",
       "      <td>-0.540550</td>\n",
       "      <td>-1.140325</td>\n",
       "      <td>-0.226181</td>\n",
       "      <td>-0.168674</td>\n",
       "      <td>-1.48324</td>\n",
       "      <td>-0.141846</td>\n",
       "      <td>0.525183</td>\n",
       "      <td>1.985390</td>\n",
       "      <td>-0.368611</td>\n",
       "      <td>-0.360495</td>\n",
       "      <td>-0.345814</td>\n",
       "      <td>-0.226806</td>\n",
       "      <td>-0.249046</td>\n",
       "      <td>-0.30033</td>\n",
       "      <td>-0.336927</td>\n",
       "      <td>-0.219212</td>\n",
       "      <td>2.729508</td>\n",
       "      <td>-1.475319</td>\n",
       "      <td>-0.101745</td>\n",
       "    </tr>\n",
       "    <tr>\n",
       "      <th>2</th>\n",
       "      <td>0.998512</td>\n",
       "      <td>0.100180</td>\n",
       "      <td>-0.963721</td>\n",
       "      <td>-0.226181</td>\n",
       "      <td>-0.168674</td>\n",
       "      <td>0.67420</td>\n",
       "      <td>-0.141846</td>\n",
       "      <td>-1.904099</td>\n",
       "      <td>-0.503679</td>\n",
       "      <td>-0.368611</td>\n",
       "      <td>-0.360495</td>\n",
       "      <td>2.891731</td>\n",
       "      <td>-0.226806</td>\n",
       "      <td>-0.249046</td>\n",
       "      <td>-0.30033</td>\n",
       "      <td>-0.336927</td>\n",
       "      <td>-0.219212</td>\n",
       "      <td>-0.366366</td>\n",
       "      <td>-1.475319</td>\n",
       "      <td>-0.101745</td>\n",
       "    </tr>\n",
       "    <tr>\n",
       "      <th>3</th>\n",
       "      <td>0.325598</td>\n",
       "      <td>-0.892774</td>\n",
       "      <td>-0.610513</td>\n",
       "      <td>-0.226181</td>\n",
       "      <td>-0.168674</td>\n",
       "      <td>-1.48324</td>\n",
       "      <td>-0.141846</td>\n",
       "      <td>0.525183</td>\n",
       "      <td>1.985390</td>\n",
       "      <td>-0.368611</td>\n",
       "      <td>-0.360495</td>\n",
       "      <td>-0.345814</td>\n",
       "      <td>-0.226806</td>\n",
       "      <td>-0.249046</td>\n",
       "      <td>-0.30033</td>\n",
       "      <td>-0.336927</td>\n",
       "      <td>-0.219212</td>\n",
       "      <td>-0.366366</td>\n",
       "      <td>0.677819</td>\n",
       "      <td>-0.101745</td>\n",
       "    </tr>\n",
       "    <tr>\n",
       "      <th>4</th>\n",
       "      <td>0.325598</td>\n",
       "      <td>-0.188325</td>\n",
       "      <td>1.508732</td>\n",
       "      <td>-0.226181</td>\n",
       "      <td>-0.168674</td>\n",
       "      <td>0.67420</td>\n",
       "      <td>-0.141846</td>\n",
       "      <td>0.525183</td>\n",
       "      <td>-0.503679</td>\n",
       "      <td>-0.368611</td>\n",
       "      <td>-0.360495</td>\n",
       "      <td>-0.345814</td>\n",
       "      <td>-0.226806</td>\n",
       "      <td>-0.249046</td>\n",
       "      <td>-0.30033</td>\n",
       "      <td>-0.336927</td>\n",
       "      <td>-0.219212</td>\n",
       "      <td>-0.366366</td>\n",
       "      <td>0.677819</td>\n",
       "      <td>-0.101745</td>\n",
       "    </tr>\n",
       "  </tbody>\n",
       "</table>\n",
       "</div>"
      ],
      "text/plain": [
       "   age_of_driver  engine_capacity_cc  age_of_vehicle  Other vehicle  \\\n",
       "0      -0.347316           -0.239654        0.272505      -0.226181   \n",
       "1       0.549903           -0.540550       -1.140325      -0.226181   \n",
       "2       0.998512            0.100180       -0.963721      -0.226181   \n",
       "3       0.325598           -0.892774       -0.610513      -0.226181   \n",
       "4       0.325598           -0.188325        1.508732      -0.226181   \n",
       "\n",
       "   Pedal cycle     Male  Other propulsion type    Petrol  \\\n",
       "0    -0.168674  0.67420              -0.141846  0.525183   \n",
       "1    -0.168674 -1.48324              -0.141846  0.525183   \n",
       "2    -0.168674  0.67420              -0.141846 -1.904099   \n",
       "3    -0.168674 -1.48324              -0.141846  0.525183   \n",
       "4    -0.168674  0.67420              -0.141846  0.525183   \n",
       "\n",
       "   Less deprived 10-20%  Less deprived 20-30%  Less deprived 30-40%  \\\n",
       "0             -0.503679             -0.368611             -0.360495   \n",
       "1              1.985390             -0.368611             -0.360495   \n",
       "2             -0.503679             -0.368611             -0.360495   \n",
       "3              1.985390             -0.368611             -0.360495   \n",
       "4             -0.503679             -0.368611             -0.360495   \n",
       "\n",
       "   Less deprived 40-50%  More deprived 10-20%  More deprived 20-30%  \\\n",
       "0             -0.345814             -0.226806              4.015322   \n",
       "1             -0.345814             -0.226806             -0.249046   \n",
       "2              2.891731             -0.226806             -0.249046   \n",
       "3             -0.345814             -0.226806             -0.249046   \n",
       "4             -0.345814             -0.226806             -0.249046   \n",
       "\n",
       "   More deprived 30-40%  More deprived 40-50%  Most deprived 10%  Small town  \\\n",
       "0              -0.30033             -0.336927          -0.219212   -0.366366   \n",
       "1              -0.30033             -0.336927          -0.219212    2.729508   \n",
       "2              -0.30033             -0.336927          -0.219212   -0.366366   \n",
       "3              -0.30033             -0.336927          -0.219212   -0.366366   \n",
       "4              -0.30033             -0.336927          -0.219212   -0.366366   \n",
       "\n",
       "   Urban area   anomaly  \n",
       "0    0.677819 -0.101745  \n",
       "1   -1.475319 -0.101745  \n",
       "2   -1.475319 -0.101745  \n",
       "3    0.677819 -0.101745  \n",
       "4    0.677819 -0.101745  "
      ]
     },
     "execution_count": 86,
     "metadata": {},
     "output_type": "execute_result"
    }
   ],
   "source": [
    "# inspect the test set\n",
    "Xtest.head()"
   ]
  },
  {
   "cell_type": "code",
   "execution_count": 87,
   "id": "617ee72c",
   "metadata": {},
   "outputs": [
    {
     "name": "stdout",
     "output_type": "stream",
     "text": [
      "(3904, 20) (977, 20)\n"
     ]
    }
   ],
   "source": [
    "# verify the shape of our data\n",
    "print(Xtrain.shape, Xtest.shape)"
   ]
  },
  {
   "cell_type": "markdown",
   "id": "8dc3ecf5",
   "metadata": {},
   "source": [
    "# 6. Feature selection"
   ]
  },
  {
   "cell_type": "code",
   "execution_count": 88,
   "id": "196b6493",
   "metadata": {},
   "outputs": [
    {
     "name": "stdout",
     "output_type": "stream",
     "text": [
      "('age_of_driver', 0.265730126935121)\n",
      "('age_of_vehicle', 0.2098941486098015)\n",
      "('engine_capacity_cc', 0.19696467765147424)\n",
      "('Urban area', 0.0442309225717708)\n",
      "('Petrol', 0.031204307722474595)\n",
      "('Male', 0.030710832101990614)\n",
      "('More deprived 40-50%', 0.029342399312075253)\n",
      "('More deprived 30-40%', 0.025841468658053045)\n",
      "('Less deprived 30-40%', 0.025503592577815194)\n",
      "('anomaly', 0.02199049924499346)\n",
      "('Small town', 0.021768092836330636)\n",
      "('Less deprived 40-50%', 0.021686355034974708)\n",
      "('More deprived 20-30%', 0.017588905019168787)\n",
      "('Less deprived 10-20%', 0.017517510448751387)\n",
      "('Less deprived 20-30%', 0.017125945587390366)\n",
      "('Most deprived 10%', 0.012510135243601917)\n",
      "('More deprived 10-20%', 0.007987718197457722)\n",
      "('Other vehicle', 0.0015050634524883763)\n",
      "('Pedal cycle', 0.000897298794266448)\n",
      "('Other propulsion type', 0.0)\n"
     ]
    }
   ],
   "source": [
    "from sklearn.tree import DecisionTreeRegressor\n",
    "\n",
    "model = DecisionTreeRegressor()\n",
    "# fit the model\n",
    "model.fit(Xtrain, ytrain)\n",
    "# get importance\n",
    "importance = model.feature_importances_\n",
    "# summarize feature importance\n",
    "impList = zip(Xtrain.columns, importance)\n",
    "for feature in sorted(impList, key = lambda t: t[1], reverse=True):\n",
    "    print(feature)"
   ]
  },
  {
   "cell_type": "markdown",
   "id": "86ea6279",
   "metadata": {},
   "source": [
    "We fit a decision tree into the model to see the ranking of the different features. This Decision Tree has been rerun. The first Decision Tree's feature importances contains some variables with 0 weights. The features at the bottom are the categories with low number of accident cases (as show in the graph in EDA part). We also see that our anomaly flag  become an important feature. Here, we are going to group again the features with low accident cases and also at the bottom in the list of important features. The grouping is done at the Feature Engineering section."
   ]
  },
  {
   "cell_type": "markdown",
   "id": "0c8417b0",
   "metadata": {},
   "source": [
    "# 7. Model Building"
   ]
  },
  {
   "cell_type": "markdown",
   "id": "8c590b84",
   "metadata": {},
   "source": [
    "## 7.1 Baseline"
   ]
  },
  {
   "cell_type": "markdown",
   "id": "c5c185b3",
   "metadata": {},
   "source": [
    "Calculate the F-score for the majority baseline (every class label is \"non-fatal\"):"
   ]
  },
  {
   "cell_type": "code",
   "execution_count": 89,
   "id": "d3cd588b",
   "metadata": {},
   "outputs": [
    {
     "data": {
      "text/plain": [
       "0    3764\n",
       "1     140\n",
       "Name: Fatal, dtype: int64"
      ]
     },
     "execution_count": 89,
     "metadata": {},
     "output_type": "execute_result"
    }
   ],
   "source": [
    "trainset[\"Fatal\"].value_counts()"
   ]
  },
  {
   "cell_type": "markdown",
   "id": "e8298201",
   "metadata": {},
   "source": [
    "Fatal is 1 and non-fatal is 0."
   ]
  },
  {
   "cell_type": "code",
   "execution_count": 90,
   "id": "415bb10d",
   "metadata": {},
   "outputs": [],
   "source": [
    "n_non_fatal = trainset[\"Fatal\"].value_counts()[0]\n",
    "n_instances = trainset.shape[0]"
   ]
  },
  {
   "cell_type": "code",
   "execution_count": 91,
   "id": "3b90d2ef",
   "metadata": {},
   "outputs": [
    {
     "name": "stdout",
     "output_type": "stream",
     "text": [
      "Precision: 0.48207\n",
      "Recall: 0.5\n",
      "F-score: 0.49087\n"
     ]
    }
   ],
   "source": [
    "# For the \"Non-fatal\" label, the accuracy measures will be:\n",
    "non_fatal_precision = n_non_fatal/n_instances\n",
    "non_fatal_recall = n_non_fatal/n_non_fatal\n",
    "non_fatal_fscore = 2/(1/non_fatal_precision + 1/non_fatal_recall)\n",
    "\n",
    "# For the \"fatal\" label, it will be:\n",
    "fatal_precision = 0.0\n",
    "fatal_recall = 0.0\n",
    "fatal_fscore = 0.0\n",
    "\n",
    "# The averages of the two classes, i.e. the eventual baseline scores:\n",
    "p = (non_fatal_precision+fatal_precision)/2\n",
    "r = (non_fatal_recall+fatal_recall)/2\n",
    "f = (non_fatal_fscore+fatal_fscore)/2\n",
    "\n",
    "print(f\"Precision: {p:.5}\")\n",
    "print(f\"Recall: {r:.5}\")\n",
    "print(f\"F-score: {f:.5}\")"
   ]
  },
  {
   "cell_type": "markdown",
   "id": "261d62bc",
   "metadata": {},
   "source": [
    "## 7.2 Training and evaluation"
   ]
  },
  {
   "cell_type": "markdown",
   "id": "26e441a6",
   "metadata": {},
   "source": [
    "While the overall f-measure is important, I place a larger priority in this research on the model's ability to properly identify fatal situations. Not only do accurate fatal predictions save lives, but they also save insurance companies a huge amount of coverage."
   ]
  },
  {
   "cell_type": "markdown",
   "id": "4e18307b",
   "metadata": {},
   "source": [
    "1. Logistic Regression\n",
    "2. Support Vector Machine\n",
    "3. Decision Tree\n",
    "4. Random Forest\n",
    "5. Light gmb"
   ]
  },
  {
   "cell_type": "markdown",
   "id": "da1c8f05",
   "metadata": {},
   "source": [
    "To deal with imbalanced data, in all 5 models, I will include the 'class_weight' parameter. Each model will also be applied Upsampling and Downsampling to find the models with the best results. Also, through testing, I find that some methods will yield the highest score with cv=5: "
   ]
  },
  {
   "cell_type": "markdown",
   "id": "38052357",
   "metadata": {},
   "source": [
    "### 7.2.1 Logistic Regression"
   ]
  },
  {
   "cell_type": "markdown",
   "id": "f3908867",
   "metadata": {},
   "source": [
    "For logistic regression, I use the parameter 'class weight' to adjust the imbalance between non-fatal and fatal cases."
   ]
  },
  {
   "cell_type": "code",
   "execution_count": 96,
   "id": "e02b9e36",
   "metadata": {},
   "outputs": [
    {
     "name": "stdout",
     "output_type": "stream",
     "text": [
      "best parameters {'C': 0.001, 'class_weight': 'balanced', 'penalty': 'l2'}\n",
      "f-score : 0.4492515869791435\n",
      "Took 0.8538892269134521 seconds\n"
     ]
    }
   ],
   "source": [
    "from sklearn.model_selection import GridSearchCV\n",
    "from sklearn.linear_model import LogisticRegression\n",
    "\n",
    "grid={\"C\":np.logspace(-3,3,7), #create an array of 7 equally spaced values between -3 and 3 on the logarithmic scale\n",
    "      \"penalty\":[\"l1\",\"l2\"],# l1 lasso l2 ridge elastic_net both l1 & l2 are added\n",
    "     'class_weight':[\"balanced\"]} #adjust weights inversely proportional to class frequencies in the input data\n",
    "logistic_reg=LogisticRegression(random_state=2022)\n",
    "\n",
    "# we'll use 10-fold cross-validation\n",
    "logistic_reg_cv=GridSearchCV(logistic_reg,grid,cv=10, scoring='f1_macro',return_train_score=True)\n",
    "\n",
    "#estimate the time to run the model\n",
    "start = time.time()\n",
    "logistic_reg_cv.fit(Xtrain,ytrain)\n",
    "end = time.time() - start\n",
    "\n",
    "#Print results\n",
    "print(\"best parameters\",logistic_reg_cv.best_params_)\n",
    "print(\"f-score :\",logistic_reg_cv.best_score_)\n",
    "print(f\"Took {end} seconds\")"
   ]
  },
  {
   "cell_type": "code",
   "execution_count": 97,
   "id": "7aab8aac",
   "metadata": {},
   "outputs": [
    {
     "data": {
      "text/html": [
       "<div>\n",
       "<style scoped>\n",
       "    .dataframe tbody tr th:only-of-type {\n",
       "        vertical-align: middle;\n",
       "    }\n",
       "\n",
       "    .dataframe tbody tr th {\n",
       "        vertical-align: top;\n",
       "    }\n",
       "\n",
       "    .dataframe thead th {\n",
       "        text-align: right;\n",
       "    }\n",
       "</style>\n",
       "<table border=\"1\" class=\"dataframe\">\n",
       "  <thead>\n",
       "    <tr style=\"text-align: right;\">\n",
       "      <th></th>\n",
       "      <th>params</th>\n",
       "      <th>mean_train_score</th>\n",
       "      <th>mean_test_score</th>\n",
       "      <th>diff, %</th>\n",
       "    </tr>\n",
       "  </thead>\n",
       "  <tbody>\n",
       "    <tr>\n",
       "      <th>1</th>\n",
       "      <td>{'C': 0.001, 'class_weight': 'balanced', 'penalty': 'l2'}</td>\n",
       "      <td>0.461915</td>\n",
       "      <td>0.449252</td>\n",
       "      <td>2.741604</td>\n",
       "    </tr>\n",
       "    <tr>\n",
       "      <th>3</th>\n",
       "      <td>{'C': 0.01, 'class_weight': 'balanced', 'penalty': 'l2'}</td>\n",
       "      <td>0.438470</td>\n",
       "      <td>0.424567</td>\n",
       "      <td>3.170738</td>\n",
       "    </tr>\n",
       "    <tr>\n",
       "      <th>5</th>\n",
       "      <td>{'C': 0.1, 'class_weight': 'balanced', 'penalty': 'l2'}</td>\n",
       "      <td>0.434644</td>\n",
       "      <td>0.422991</td>\n",
       "      <td>2.681055</td>\n",
       "    </tr>\n",
       "    <tr>\n",
       "      <th>7</th>\n",
       "      <td>{'C': 1.0, 'class_weight': 'balanced', 'penalty': 'l2'}</td>\n",
       "      <td>0.434467</td>\n",
       "      <td>0.422560</td>\n",
       "      <td>2.740629</td>\n",
       "    </tr>\n",
       "    <tr>\n",
       "      <th>9</th>\n",
       "      <td>{'C': 10.0, 'class_weight': 'balanced', 'penalty': 'l2'}</td>\n",
       "      <td>0.434484</td>\n",
       "      <td>0.422432</td>\n",
       "      <td>2.773815</td>\n",
       "    </tr>\n",
       "    <tr>\n",
       "      <th>11</th>\n",
       "      <td>{'C': 100.0, 'class_weight': 'balanced', 'penalty': 'l2'}</td>\n",
       "      <td>0.434498</td>\n",
       "      <td>0.422432</td>\n",
       "      <td>2.777042</td>\n",
       "    </tr>\n",
       "    <tr>\n",
       "      <th>13</th>\n",
       "      <td>{'C': 1000.0, 'class_weight': 'balanced', 'penalty': 'l2'}</td>\n",
       "      <td>0.434498</td>\n",
       "      <td>0.422432</td>\n",
       "      <td>2.777042</td>\n",
       "    </tr>\n",
       "    <tr>\n",
       "      <th>0</th>\n",
       "      <td>{'C': 0.001, 'class_weight': 'balanced', 'penalty': 'l1'}</td>\n",
       "      <td>NaN</td>\n",
       "      <td>NaN</td>\n",
       "      <td>NaN</td>\n",
       "    </tr>\n",
       "    <tr>\n",
       "      <th>2</th>\n",
       "      <td>{'C': 0.01, 'class_weight': 'balanced', 'penalty': 'l1'}</td>\n",
       "      <td>NaN</td>\n",
       "      <td>NaN</td>\n",
       "      <td>NaN</td>\n",
       "    </tr>\n",
       "    <tr>\n",
       "      <th>4</th>\n",
       "      <td>{'C': 0.1, 'class_weight': 'balanced', 'penalty': 'l1'}</td>\n",
       "      <td>NaN</td>\n",
       "      <td>NaN</td>\n",
       "      <td>NaN</td>\n",
       "    </tr>\n",
       "    <tr>\n",
       "      <th>6</th>\n",
       "      <td>{'C': 1.0, 'class_weight': 'balanced', 'penalty': 'l1'}</td>\n",
       "      <td>NaN</td>\n",
       "      <td>NaN</td>\n",
       "      <td>NaN</td>\n",
       "    </tr>\n",
       "    <tr>\n",
       "      <th>8</th>\n",
       "      <td>{'C': 10.0, 'class_weight': 'balanced', 'penalty': 'l1'}</td>\n",
       "      <td>NaN</td>\n",
       "      <td>NaN</td>\n",
       "      <td>NaN</td>\n",
       "    </tr>\n",
       "    <tr>\n",
       "      <th>10</th>\n",
       "      <td>{'C': 100.0, 'class_weight': 'balanced', 'penalty': 'l1'}</td>\n",
       "      <td>NaN</td>\n",
       "      <td>NaN</td>\n",
       "      <td>NaN</td>\n",
       "    </tr>\n",
       "    <tr>\n",
       "      <th>12</th>\n",
       "      <td>{'C': 1000.0, 'class_weight': 'balanced', 'penalty': 'l1'}</td>\n",
       "      <td>NaN</td>\n",
       "      <td>NaN</td>\n",
       "      <td>NaN</td>\n",
       "    </tr>\n",
       "  </tbody>\n",
       "</table>\n",
       "</div>"
      ],
      "text/plain": [
       "                                                        params  \\\n",
       "1    {'C': 0.001, 'class_weight': 'balanced', 'penalty': 'l2'}   \n",
       "3     {'C': 0.01, 'class_weight': 'balanced', 'penalty': 'l2'}   \n",
       "5      {'C': 0.1, 'class_weight': 'balanced', 'penalty': 'l2'}   \n",
       "7      {'C': 1.0, 'class_weight': 'balanced', 'penalty': 'l2'}   \n",
       "9     {'C': 10.0, 'class_weight': 'balanced', 'penalty': 'l2'}   \n",
       "11   {'C': 100.0, 'class_weight': 'balanced', 'penalty': 'l2'}   \n",
       "13  {'C': 1000.0, 'class_weight': 'balanced', 'penalty': 'l2'}   \n",
       "0    {'C': 0.001, 'class_weight': 'balanced', 'penalty': 'l1'}   \n",
       "2     {'C': 0.01, 'class_weight': 'balanced', 'penalty': 'l1'}   \n",
       "4      {'C': 0.1, 'class_weight': 'balanced', 'penalty': 'l1'}   \n",
       "6      {'C': 1.0, 'class_weight': 'balanced', 'penalty': 'l1'}   \n",
       "8     {'C': 10.0, 'class_weight': 'balanced', 'penalty': 'l1'}   \n",
       "10   {'C': 100.0, 'class_weight': 'balanced', 'penalty': 'l1'}   \n",
       "12  {'C': 1000.0, 'class_weight': 'balanced', 'penalty': 'l1'}   \n",
       "\n",
       "    mean_train_score  mean_test_score   diff, %  \n",
       "1           0.461915         0.449252  2.741604  \n",
       "3           0.438470         0.424567  3.170738  \n",
       "5           0.434644         0.422991  2.681055  \n",
       "7           0.434467         0.422560  2.740629  \n",
       "9           0.434484         0.422432  2.773815  \n",
       "11          0.434498         0.422432  2.777042  \n",
       "13          0.434498         0.422432  2.777042  \n",
       "0                NaN              NaN       NaN  \n",
       "2                NaN              NaN       NaN  \n",
       "4                NaN              NaN       NaN  \n",
       "6                NaN              NaN       NaN  \n",
       "8                NaN              NaN       NaN  \n",
       "10               NaN              NaN       NaN  \n",
       "12               NaN              NaN       NaN  "
      ]
     },
     "execution_count": 97,
     "metadata": {},
     "output_type": "execute_result"
    }
   ],
   "source": [
    "# training and validation RMSE\n",
    "log_cv_results = pd.DataFrame(logistic_reg_cv.cv_results_\n",
    "                         )[['params', 'mean_train_score', 'mean_test_score']]\n",
    "log_cv_results[\"diff, %\"] = 100*(log_cv_results[\"mean_train_score\"]-log_cv_results[\"mean_test_score\"])/log_cv_results[\"mean_train_score\"]\n",
    "\n",
    "pd.set_option('display.max_colwidth', 100)\n",
    "log_cv_results.sort_values('mean_test_score', ascending=False)"
   ]
  },
  {
   "cell_type": "markdown",
   "id": "81821abb",
   "metadata": {},
   "source": [
    "The best model is of 0.448, worse than that of baseline, 0.496. The percentage difference column also shows that no overfitting happens. "
   ]
  },
  {
   "cell_type": "markdown",
   "id": "db5140a3",
   "metadata": {},
   "source": [
    "Build a confusion matrix on the training data: "
   ]
  },
  {
   "cell_type": "code",
   "execution_count": 98,
   "id": "becef971",
   "metadata": {},
   "outputs": [
    {
     "data": {
      "text/plain": [
       "<sklearn.metrics._plot.confusion_matrix.ConfusionMatrixDisplay at 0x7febb1a92e80>"
      ]
     },
     "execution_count": 98,
     "metadata": {},
     "output_type": "execute_result"
    },
    {
     "data": {
      "image/png": "[encoded data removed]",
      "text/plain": [
       "<Figure size 432x288 with 2 Axes>"
      ]
     },
     "metadata": {
      "needs_background": "light"
     },
     "output_type": "display_data"
    }
   ],
   "source": [
    "# cross-validation confusion matrix, training data\n",
    "y_pred = cross_val_predict(logistic_reg_cv.best_estimator_, Xtrain, ytrain, cv=10)\n",
    "conf_mat = confusion_matrix(ytrain, y_pred, normalize=\"true\")\n",
    "ConfusionMatrixDisplay(confusion_matrix=conf_mat,\n",
    "                       display_labels=logistic_reg_cv.best_estimator_.classes_\n",
    "                      ).plot(cmap=plt.cm.Blues)"
   ]
  },
  {
   "cell_type": "markdown",
   "id": "f9c35bbf",
   "metadata": {},
   "source": [
    "The confusion matrix on the test data:"
   ]
  },
  {
   "cell_type": "code",
   "execution_count": 99,
   "id": "7950c9c5",
   "metadata": {},
   "outputs": [
    {
     "data": {
      "text/plain": [
       "<sklearn.metrics._plot.confusion_matrix.ConfusionMatrixDisplay at 0x7feb816c1d30>"
      ]
     },
     "execution_count": 99,
     "metadata": {},
     "output_type": "execute_result"
    },
    {
     "data": {
      "image/png": "[encoded data removed]",
      "text/plain": [
       "<Figure size 432x288 with 2 Axes>"
      ]
     },
     "metadata": {
      "needs_background": "light"
     },
     "output_type": "display_data"
    }
   ],
   "source": [
    "ConfusionMatrixDisplay.from_estimator(logistic_reg_cv.best_estimator_, Xtest, ytest,\n",
    "                                 display_labels=logistic_reg_cv.best_estimator_.classes_,\n",
    "                                 cmap=plt.cm.Blues,\n",
    "                                 normalize='true')"
   ]
  },
  {
   "cell_type": "markdown",
   "id": "3b5f970a",
   "metadata": {},
   "source": [
    "Here we can see that the model has accurately predict 71% of the non-fatal cases and 49% of the fatal cases. Since we want to emphasize on the fatality, we seek to improve the model's fatality prediction (true negative rate): "
   ]
  },
  {
   "cell_type": "markdown",
   "id": "8d36979b",
   "metadata": {},
   "source": [
    "###  Oversampling for logistic regression"
   ]
  },
  {
   "cell_type": "code",
   "execution_count": 100,
   "id": "19fdffa2",
   "metadata": {},
   "outputs": [
    {
     "name": "stdout",
     "output_type": "stream",
     "text": [
      "best parameters {'log__C': 0.001, 'log__class_weight': 'balanced', 'log__penalty': 'l2', 'smote__sampling_strategy': 0.5}\n",
      "f-score : 0.4308739527105333\n",
      "Took 4.77445125579834 seconds\n"
     ]
    }
   ],
   "source": [
    "from imblearn.pipeline import Pipeline\n",
    "from imblearn.over_sampling import SMOTE\n",
    "\n",
    "pipeline = Pipeline([\n",
    "        ('smote', SMOTE(random_state=2022)),\n",
    "        ('log', LogisticRegression(random_state=2022))\n",
    "    ])\n",
    "\n",
    "param_grid = [\n",
    "    {\n",
    "        'smote__sampling_strategy': [0.5, 0.75, 1.0],\n",
    "        \"log__C\": np.logspace(-3,3,7),\n",
    "        \"log__penalty\":[\"l1\",\"l2\"],\n",
    "        'log__class_weight':[\"balanced\"]\n",
    "    },\n",
    "]\n",
    "\n",
    "# we'll use 10-fold cross-validation\n",
    "\n",
    "log_os_grid_search = GridSearchCV(pipeline, param_grid, cv=10, \n",
    "                              scoring='f1_macro',\n",
    "                              return_train_score=True)\n",
    "\n",
    "start = time.time()\n",
    "log_os_grid_search.fit(Xtrain, ytrain)\n",
    "end = time.time() - start\n",
    "print(\"best parameters\",log_os_grid_search.best_params_)\n",
    "print(\"f-score :\",log_os_grid_search.best_score_)\n",
    "print(f\"Took {end} seconds\")"
   ]
  },
  {
   "cell_type": "code",
   "execution_count": 101,
   "id": "56d2b250",
   "metadata": {},
   "outputs": [
    {
     "data": {
      "text/html": [
       "<div>\n",
       "<style scoped>\n",
       "    .dataframe tbody tr th:only-of-type {\n",
       "        vertical-align: middle;\n",
       "    }\n",
       "\n",
       "    .dataframe tbody tr th {\n",
       "        vertical-align: top;\n",
       "    }\n",
       "\n",
       "    .dataframe thead th {\n",
       "        text-align: right;\n",
       "    }\n",
       "</style>\n",
       "<table border=\"1\" class=\"dataframe\">\n",
       "  <thead>\n",
       "    <tr style=\"text-align: right;\">\n",
       "      <th></th>\n",
       "      <th>params</th>\n",
       "      <th>mean_train_score</th>\n",
       "      <th>mean_test_score</th>\n",
       "      <th>diff, %</th>\n",
       "    </tr>\n",
       "  </thead>\n",
       "  <tbody>\n",
       "    <tr>\n",
       "      <th>3</th>\n",
       "      <td>{'log__C': 0.001, 'log__class_weight': 'balanced', 'log__penalty': 'l2', 'smote__sampling_strate...</td>\n",
       "      <td>0.442847</td>\n",
       "      <td>0.430874</td>\n",
       "      <td>2.703681</td>\n",
       "    </tr>\n",
       "    <tr>\n",
       "      <th>5</th>\n",
       "      <td>{'log__C': 0.001, 'log__class_weight': 'balanced', 'log__penalty': 'l2', 'smote__sampling_strate...</td>\n",
       "      <td>0.438733</td>\n",
       "      <td>0.429239</td>\n",
       "      <td>2.164057</td>\n",
       "    </tr>\n",
       "    <tr>\n",
       "      <th>4</th>\n",
       "      <td>{'log__C': 0.001, 'log__class_weight': 'balanced', 'log__penalty': 'l2', 'smote__sampling_strate...</td>\n",
       "      <td>0.439109</td>\n",
       "      <td>0.429058</td>\n",
       "      <td>2.288937</td>\n",
       "    </tr>\n",
       "    <tr>\n",
       "      <th>11</th>\n",
       "      <td>{'log__C': 0.01, 'log__class_weight': 'balanced', 'log__penalty': 'l2', 'smote__sampling_strateg...</td>\n",
       "      <td>0.426787</td>\n",
       "      <td>0.415719</td>\n",
       "      <td>2.593197</td>\n",
       "    </tr>\n",
       "    <tr>\n",
       "      <th>10</th>\n",
       "      <td>{'log__C': 0.01, 'log__class_weight': 'balanced', 'log__penalty': 'l2', 'smote__sampling_strateg...</td>\n",
       "      <td>0.426438</td>\n",
       "      <td>0.415627</td>\n",
       "      <td>2.535300</td>\n",
       "    </tr>\n",
       "    <tr>\n",
       "      <th>33</th>\n",
       "      <td>{'log__C': 100.0, 'log__class_weight': 'balanced', 'log__penalty': 'l2', 'smote__sampling_strate...</td>\n",
       "      <td>0.426215</td>\n",
       "      <td>0.415053</td>\n",
       "      <td>2.618993</td>\n",
       "    </tr>\n",
       "    <tr>\n",
       "      <th>21</th>\n",
       "      <td>{'log__C': 1.0, 'log__class_weight': 'balanced', 'log__penalty': 'l2', 'smote__sampling_strategy...</td>\n",
       "      <td>0.426230</td>\n",
       "      <td>0.415053</td>\n",
       "      <td>2.622348</td>\n",
       "    </tr>\n",
       "    <tr>\n",
       "      <th>39</th>\n",
       "      <td>{'log__C': 1000.0, 'log__class_weight': 'balanced', 'log__penalty': 'l2', 'smote__sampling_strat...</td>\n",
       "      <td>0.426215</td>\n",
       "      <td>0.415053</td>\n",
       "      <td>2.618993</td>\n",
       "    </tr>\n",
       "    <tr>\n",
       "      <th>27</th>\n",
       "      <td>{'log__C': 10.0, 'log__class_weight': 'balanced', 'log__penalty': 'l2', 'smote__sampling_strateg...</td>\n",
       "      <td>0.426200</td>\n",
       "      <td>0.415053</td>\n",
       "      <td>2.615584</td>\n",
       "    </tr>\n",
       "    <tr>\n",
       "      <th>15</th>\n",
       "      <td>{'log__C': 0.1, 'log__class_weight': 'balanced', 'log__penalty': 'l2', 'smote__sampling_strategy...</td>\n",
       "      <td>0.426086</td>\n",
       "      <td>0.414790</td>\n",
       "      <td>2.651157</td>\n",
       "    </tr>\n",
       "    <tr>\n",
       "      <th>9</th>\n",
       "      <td>{'log__C': 0.01, 'log__class_weight': 'balanced', 'log__penalty': 'l2', 'smote__sampling_strateg...</td>\n",
       "      <td>0.427416</td>\n",
       "      <td>0.414041</td>\n",
       "      <td>3.129237</td>\n",
       "    </tr>\n",
       "    <tr>\n",
       "      <th>16</th>\n",
       "      <td>{'log__C': 0.1, 'log__class_weight': 'balanced', 'log__penalty': 'l2', 'smote__sampling_strategy...</td>\n",
       "      <td>0.425013</td>\n",
       "      <td>0.413332</td>\n",
       "      <td>2.748459</td>\n",
       "    </tr>\n",
       "    <tr>\n",
       "      <th>17</th>\n",
       "      <td>{'log__C': 0.1, 'log__class_weight': 'balanced', 'log__penalty': 'l2', 'smote__sampling_strategy...</td>\n",
       "      <td>0.424173</td>\n",
       "      <td>0.413312</td>\n",
       "      <td>2.560515</td>\n",
       "    </tr>\n",
       "    <tr>\n",
       "      <th>35</th>\n",
       "      <td>{'log__C': 100.0, 'log__class_weight': 'balanced', 'log__penalty': 'l2', 'smote__sampling_strate...</td>\n",
       "      <td>0.423400</td>\n",
       "      <td>0.412690</td>\n",
       "      <td>2.529637</td>\n",
       "    </tr>\n",
       "    <tr>\n",
       "      <th>41</th>\n",
       "      <td>{'log__C': 1000.0, 'log__class_weight': 'balanced', 'log__penalty': 'l2', 'smote__sampling_strat...</td>\n",
       "      <td>0.423400</td>\n",
       "      <td>0.412690</td>\n",
       "      <td>2.529637</td>\n",
       "    </tr>\n",
       "    <tr>\n",
       "      <th>29</th>\n",
       "      <td>{'log__C': 10.0, 'log__class_weight': 'balanced', 'log__penalty': 'l2', 'smote__sampling_strateg...</td>\n",
       "      <td>0.423415</td>\n",
       "      <td>0.412690</td>\n",
       "      <td>2.533030</td>\n",
       "    </tr>\n",
       "    <tr>\n",
       "      <th>23</th>\n",
       "      <td>{'log__C': 1.0, 'log__class_weight': 'balanced', 'log__penalty': 'l2', 'smote__sampling_strategy...</td>\n",
       "      <td>0.423495</td>\n",
       "      <td>0.412675</td>\n",
       "      <td>2.555015</td>\n",
       "    </tr>\n",
       "    <tr>\n",
       "      <th>22</th>\n",
       "      <td>{'log__C': 1.0, 'log__class_weight': 'balanced', 'log__penalty': 'l2', 'smote__sampling_strategy...</td>\n",
       "      <td>0.423888</td>\n",
       "      <td>0.412065</td>\n",
       "      <td>2.789269</td>\n",
       "    </tr>\n",
       "    <tr>\n",
       "      <th>34</th>\n",
       "      <td>{'log__C': 100.0, 'log__class_weight': 'balanced', 'log__penalty': 'l2', 'smote__sampling_strate...</td>\n",
       "      <td>0.423770</td>\n",
       "      <td>0.411801</td>\n",
       "      <td>2.824220</td>\n",
       "    </tr>\n",
       "    <tr>\n",
       "      <th>28</th>\n",
       "      <td>{'log__C': 10.0, 'log__class_weight': 'balanced', 'log__penalty': 'l2', 'smote__sampling_strateg...</td>\n",
       "      <td>0.423770</td>\n",
       "      <td>0.411801</td>\n",
       "      <td>2.824220</td>\n",
       "    </tr>\n",
       "    <tr>\n",
       "      <th>40</th>\n",
       "      <td>{'log__C': 1000.0, 'log__class_weight': 'balanced', 'log__penalty': 'l2', 'smote__sampling_strat...</td>\n",
       "      <td>0.423755</td>\n",
       "      <td>0.411801</td>\n",
       "      <td>2.820770</td>\n",
       "    </tr>\n",
       "    <tr>\n",
       "      <th>0</th>\n",
       "      <td>{'log__C': 0.001, 'log__class_weight': 'balanced', 'log__penalty': 'l1', 'smote__sampling_strate...</td>\n",
       "      <td>NaN</td>\n",
       "      <td>NaN</td>\n",
       "      <td>NaN</td>\n",
       "    </tr>\n",
       "    <tr>\n",
       "      <th>1</th>\n",
       "      <td>{'log__C': 0.001, 'log__class_weight': 'balanced', 'log__penalty': 'l1', 'smote__sampling_strate...</td>\n",
       "      <td>NaN</td>\n",
       "      <td>NaN</td>\n",
       "      <td>NaN</td>\n",
       "    </tr>\n",
       "    <tr>\n",
       "      <th>2</th>\n",
       "      <td>{'log__C': 0.001, 'log__class_weight': 'balanced', 'log__penalty': 'l1', 'smote__sampling_strate...</td>\n",
       "      <td>NaN</td>\n",
       "      <td>NaN</td>\n",
       "      <td>NaN</td>\n",
       "    </tr>\n",
       "    <tr>\n",
       "      <th>6</th>\n",
       "      <td>{'log__C': 0.01, 'log__class_weight': 'balanced', 'log__penalty': 'l1', 'smote__sampling_strateg...</td>\n",
       "      <td>NaN</td>\n",
       "      <td>NaN</td>\n",
       "      <td>NaN</td>\n",
       "    </tr>\n",
       "    <tr>\n",
       "      <th>7</th>\n",
       "      <td>{'log__C': 0.01, 'log__class_weight': 'balanced', 'log__penalty': 'l1', 'smote__sampling_strateg...</td>\n",
       "      <td>NaN</td>\n",
       "      <td>NaN</td>\n",
       "      <td>NaN</td>\n",
       "    </tr>\n",
       "    <tr>\n",
       "      <th>8</th>\n",
       "      <td>{'log__C': 0.01, 'log__class_weight': 'balanced', 'log__penalty': 'l1', 'smote__sampling_strateg...</td>\n",
       "      <td>NaN</td>\n",
       "      <td>NaN</td>\n",
       "      <td>NaN</td>\n",
       "    </tr>\n",
       "    <tr>\n",
       "      <th>12</th>\n",
       "      <td>{'log__C': 0.1, 'log__class_weight': 'balanced', 'log__penalty': 'l1', 'smote__sampling_strategy...</td>\n",
       "      <td>NaN</td>\n",
       "      <td>NaN</td>\n",
       "      <td>NaN</td>\n",
       "    </tr>\n",
       "    <tr>\n",
       "      <th>13</th>\n",
       "      <td>{'log__C': 0.1, 'log__class_weight': 'balanced', 'log__penalty': 'l1', 'smote__sampling_strategy...</td>\n",
       "      <td>NaN</td>\n",
       "      <td>NaN</td>\n",
       "      <td>NaN</td>\n",
       "    </tr>\n",
       "    <tr>\n",
       "      <th>14</th>\n",
       "      <td>{'log__C': 0.1, 'log__class_weight': 'balanced', 'log__penalty': 'l1', 'smote__sampling_strategy...</td>\n",
       "      <td>NaN</td>\n",
       "      <td>NaN</td>\n",
       "      <td>NaN</td>\n",
       "    </tr>\n",
       "    <tr>\n",
       "      <th>18</th>\n",
       "      <td>{'log__C': 1.0, 'log__class_weight': 'balanced', 'log__penalty': 'l1', 'smote__sampling_strategy...</td>\n",
       "      <td>NaN</td>\n",
       "      <td>NaN</td>\n",
       "      <td>NaN</td>\n",
       "    </tr>\n",
       "    <tr>\n",
       "      <th>19</th>\n",
       "      <td>{'log__C': 1.0, 'log__class_weight': 'balanced', 'log__penalty': 'l1', 'smote__sampling_strategy...</td>\n",
       "      <td>NaN</td>\n",
       "      <td>NaN</td>\n",
       "      <td>NaN</td>\n",
       "    </tr>\n",
       "    <tr>\n",
       "      <th>20</th>\n",
       "      <td>{'log__C': 1.0, 'log__class_weight': 'balanced', 'log__penalty': 'l1', 'smote__sampling_strategy...</td>\n",
       "      <td>NaN</td>\n",
       "      <td>NaN</td>\n",
       "      <td>NaN</td>\n",
       "    </tr>\n",
       "    <tr>\n",
       "      <th>24</th>\n",
       "      <td>{'log__C': 10.0, 'log__class_weight': 'balanced', 'log__penalty': 'l1', 'smote__sampling_strateg...</td>\n",
       "      <td>NaN</td>\n",
       "      <td>NaN</td>\n",
       "      <td>NaN</td>\n",
       "    </tr>\n",
       "    <tr>\n",
       "      <th>25</th>\n",
       "      <td>{'log__C': 10.0, 'log__class_weight': 'balanced', 'log__penalty': 'l1', 'smote__sampling_strateg...</td>\n",
       "      <td>NaN</td>\n",
       "      <td>NaN</td>\n",
       "      <td>NaN</td>\n",
       "    </tr>\n",
       "    <tr>\n",
       "      <th>26</th>\n",
       "      <td>{'log__C': 10.0, 'log__class_weight': 'balanced', 'log__penalty': 'l1', 'smote__sampling_strateg...</td>\n",
       "      <td>NaN</td>\n",
       "      <td>NaN</td>\n",
       "      <td>NaN</td>\n",
       "    </tr>\n",
       "    <tr>\n",
       "      <th>30</th>\n",
       "      <td>{'log__C': 100.0, 'log__class_weight': 'balanced', 'log__penalty': 'l1', 'smote__sampling_strate...</td>\n",
       "      <td>NaN</td>\n",
       "      <td>NaN</td>\n",
       "      <td>NaN</td>\n",
       "    </tr>\n",
       "    <tr>\n",
       "      <th>31</th>\n",
       "      <td>{'log__C': 100.0, 'log__class_weight': 'balanced', 'log__penalty': 'l1', 'smote__sampling_strate...</td>\n",
       "      <td>NaN</td>\n",
       "      <td>NaN</td>\n",
       "      <td>NaN</td>\n",
       "    </tr>\n",
       "    <tr>\n",
       "      <th>32</th>\n",
       "      <td>{'log__C': 100.0, 'log__class_weight': 'balanced', 'log__penalty': 'l1', 'smote__sampling_strate...</td>\n",
       "      <td>NaN</td>\n",
       "      <td>NaN</td>\n",
       "      <td>NaN</td>\n",
       "    </tr>\n",
       "    <tr>\n",
       "      <th>36</th>\n",
       "      <td>{'log__C': 1000.0, 'log__class_weight': 'balanced', 'log__penalty': 'l1', 'smote__sampling_strat...</td>\n",
       "      <td>NaN</td>\n",
       "      <td>NaN</td>\n",
       "      <td>NaN</td>\n",
       "    </tr>\n",
       "    <tr>\n",
       "      <th>37</th>\n",
       "      <td>{'log__C': 1000.0, 'log__class_weight': 'balanced', 'log__penalty': 'l1', 'smote__sampling_strat...</td>\n",
       "      <td>NaN</td>\n",
       "      <td>NaN</td>\n",
       "      <td>NaN</td>\n",
       "    </tr>\n",
       "    <tr>\n",
       "      <th>38</th>\n",
       "      <td>{'log__C': 1000.0, 'log__class_weight': 'balanced', 'log__penalty': 'l1', 'smote__sampling_strat...</td>\n",
       "      <td>NaN</td>\n",
       "      <td>NaN</td>\n",
       "      <td>NaN</td>\n",
       "    </tr>\n",
       "  </tbody>\n",
       "</table>\n",
       "</div>"
      ],
      "text/plain": [
       "                                                                                                 params  \\\n",
       "3   {'log__C': 0.001, 'log__class_weight': 'balanced', 'log__penalty': 'l2', 'smote__sampling_strate...   \n",
       "5   {'log__C': 0.001, 'log__class_weight': 'balanced', 'log__penalty': 'l2', 'smote__sampling_strate...   \n",
       "4   {'log__C': 0.001, 'log__class_weight': 'balanced', 'log__penalty': 'l2', 'smote__sampling_strate...   \n",
       "11  {'log__C': 0.01, 'log__class_weight': 'balanced', 'log__penalty': 'l2', 'smote__sampling_strateg...   \n",
       "10  {'log__C': 0.01, 'log__class_weight': 'balanced', 'log__penalty': 'l2', 'smote__sampling_strateg...   \n",
       "33  {'log__C': 100.0, 'log__class_weight': 'balanced', 'log__penalty': 'l2', 'smote__sampling_strate...   \n",
       "21  {'log__C': 1.0, 'log__class_weight': 'balanced', 'log__penalty': 'l2', 'smote__sampling_strategy...   \n",
       "39  {'log__C': 1000.0, 'log__class_weight': 'balanced', 'log__penalty': 'l2', 'smote__sampling_strat...   \n",
       "27  {'log__C': 10.0, 'log__class_weight': 'balanced', 'log__penalty': 'l2', 'smote__sampling_strateg...   \n",
       "15  {'log__C': 0.1, 'log__class_weight': 'balanced', 'log__penalty': 'l2', 'smote__sampling_strategy...   \n",
       "9   {'log__C': 0.01, 'log__class_weight': 'balanced', 'log__penalty': 'l2', 'smote__sampling_strateg...   \n",
       "16  {'log__C': 0.1, 'log__class_weight': 'balanced', 'log__penalty': 'l2', 'smote__sampling_strategy...   \n",
       "17  {'log__C': 0.1, 'log__class_weight': 'balanced', 'log__penalty': 'l2', 'smote__sampling_strategy...   \n",
       "35  {'log__C': 100.0, 'log__class_weight': 'balanced', 'log__penalty': 'l2', 'smote__sampling_strate...   \n",
       "41  {'log__C': 1000.0, 'log__class_weight': 'balanced', 'log__penalty': 'l2', 'smote__sampling_strat...   \n",
       "29  {'log__C': 10.0, 'log__class_weight': 'balanced', 'log__penalty': 'l2', 'smote__sampling_strateg...   \n",
       "23  {'log__C': 1.0, 'log__class_weight': 'balanced', 'log__penalty': 'l2', 'smote__sampling_strategy...   \n",
       "22  {'log__C': 1.0, 'log__class_weight': 'balanced', 'log__penalty': 'l2', 'smote__sampling_strategy...   \n",
       "34  {'log__C': 100.0, 'log__class_weight': 'balanced', 'log__penalty': 'l2', 'smote__sampling_strate...   \n",
       "28  {'log__C': 10.0, 'log__class_weight': 'balanced', 'log__penalty': 'l2', 'smote__sampling_strateg...   \n",
       "40  {'log__C': 1000.0, 'log__class_weight': 'balanced', 'log__penalty': 'l2', 'smote__sampling_strat...   \n",
       "0   {'log__C': 0.001, 'log__class_weight': 'balanced', 'log__penalty': 'l1', 'smote__sampling_strate...   \n",
       "1   {'log__C': 0.001, 'log__class_weight': 'balanced', 'log__penalty': 'l1', 'smote__sampling_strate...   \n",
       "2   {'log__C': 0.001, 'log__class_weight': 'balanced', 'log__penalty': 'l1', 'smote__sampling_strate...   \n",
       "6   {'log__C': 0.01, 'log__class_weight': 'balanced', 'log__penalty': 'l1', 'smote__sampling_strateg...   \n",
       "7   {'log__C': 0.01, 'log__class_weight': 'balanced', 'log__penalty': 'l1', 'smote__sampling_strateg...   \n",
       "8   {'log__C': 0.01, 'log__class_weight': 'balanced', 'log__penalty': 'l1', 'smote__sampling_strateg...   \n",
       "12  {'log__C': 0.1, 'log__class_weight': 'balanced', 'log__penalty': 'l1', 'smote__sampling_strategy...   \n",
       "13  {'log__C': 0.1, 'log__class_weight': 'balanced', 'log__penalty': 'l1', 'smote__sampling_strategy...   \n",
       "14  {'log__C': 0.1, 'log__class_weight': 'balanced', 'log__penalty': 'l1', 'smote__sampling_strategy...   \n",
       "18  {'log__C': 1.0, 'log__class_weight': 'balanced', 'log__penalty': 'l1', 'smote__sampling_strategy...   \n",
       "19  {'log__C': 1.0, 'log__class_weight': 'balanced', 'log__penalty': 'l1', 'smote__sampling_strategy...   \n",
       "20  {'log__C': 1.0, 'log__class_weight': 'balanced', 'log__penalty': 'l1', 'smote__sampling_strategy...   \n",
       "24  {'log__C': 10.0, 'log__class_weight': 'balanced', 'log__penalty': 'l1', 'smote__sampling_strateg...   \n",
       "25  {'log__C': 10.0, 'log__class_weight': 'balanced', 'log__penalty': 'l1', 'smote__sampling_strateg...   \n",
       "26  {'log__C': 10.0, 'log__class_weight': 'balanced', 'log__penalty': 'l1', 'smote__sampling_strateg...   \n",
       "30  {'log__C': 100.0, 'log__class_weight': 'balanced', 'log__penalty': 'l1', 'smote__sampling_strate...   \n",
       "31  {'log__C': 100.0, 'log__class_weight': 'balanced', 'log__penalty': 'l1', 'smote__sampling_strate...   \n",
       "32  {'log__C': 100.0, 'log__class_weight': 'balanced', 'log__penalty': 'l1', 'smote__sampling_strate...   \n",
       "36  {'log__C': 1000.0, 'log__class_weight': 'balanced', 'log__penalty': 'l1', 'smote__sampling_strat...   \n",
       "37  {'log__C': 1000.0, 'log__class_weight': 'balanced', 'log__penalty': 'l1', 'smote__sampling_strat...   \n",
       "38  {'log__C': 1000.0, 'log__class_weight': 'balanced', 'log__penalty': 'l1', 'smote__sampling_strat...   \n",
       "\n",
       "    mean_train_score  mean_test_score   diff, %  \n",
       "3           0.442847         0.430874  2.703681  \n",
       "5           0.438733         0.429239  2.164057  \n",
       "4           0.439109         0.429058  2.288937  \n",
       "11          0.426787         0.415719  2.593197  \n",
       "10          0.426438         0.415627  2.535300  \n",
       "33          0.426215         0.415053  2.618993  \n",
       "21          0.426230         0.415053  2.622348  \n",
       "39          0.426215         0.415053  2.618993  \n",
       "27          0.426200         0.415053  2.615584  \n",
       "15          0.426086         0.414790  2.651157  \n",
       "9           0.427416         0.414041  3.129237  \n",
       "16          0.425013         0.413332  2.748459  \n",
       "17          0.424173         0.413312  2.560515  \n",
       "35          0.423400         0.412690  2.529637  \n",
       "41          0.423400         0.412690  2.529637  \n",
       "29          0.423415         0.412690  2.533030  \n",
       "23          0.423495         0.412675  2.555015  \n",
       "22          0.423888         0.412065  2.789269  \n",
       "34          0.423770         0.411801  2.824220  \n",
       "28          0.423770         0.411801  2.824220  \n",
       "40          0.423755         0.411801  2.820770  \n",
       "0                NaN              NaN       NaN  \n",
       "1                NaN              NaN       NaN  \n",
       "2                NaN              NaN       NaN  \n",
       "6                NaN              NaN       NaN  \n",
       "7                NaN              NaN       NaN  \n",
       "8                NaN              NaN       NaN  \n",
       "12               NaN              NaN       NaN  \n",
       "13               NaN              NaN       NaN  \n",
       "14               NaN              NaN       NaN  \n",
       "18               NaN              NaN       NaN  \n",
       "19               NaN              NaN       NaN  \n",
       "20               NaN              NaN       NaN  \n",
       "24               NaN              NaN       NaN  \n",
       "25               NaN              NaN       NaN  \n",
       "26               NaN              NaN       NaN  \n",
       "30               NaN              NaN       NaN  \n",
       "31               NaN              NaN       NaN  \n",
       "32               NaN              NaN       NaN  \n",
       "36               NaN              NaN       NaN  \n",
       "37               NaN              NaN       NaN  \n",
       "38               NaN              NaN       NaN  "
      ]
     },
     "execution_count": 101,
     "metadata": {},
     "output_type": "execute_result"
    }
   ],
   "source": [
    "# training and validation RMSE\n",
    "log_os_cv_results = pd.DataFrame(log_os_grid_search.cv_results_\n",
    "                         )[['params', 'mean_train_score', 'mean_test_score']]\n",
    "log_os_cv_results[\"diff, %\"] = 100*(log_os_cv_results[\"mean_train_score\"]-log_os_cv_results[\"mean_test_score\"]\n",
    "                                                     )/log_os_cv_results[\"mean_train_score\"]\n",
    "\n",
    "pd.set_option('display.max_colwidth', 100)\n",
    "log_os_cv_results.sort_values('mean_test_score', ascending=False)"
   ]
  },
  {
   "cell_type": "markdown",
   "id": "a9e4350e",
   "metadata": {},
   "source": [
    "With oversampling, we got slightly worse result than the baseline. The f-score increase from 0.449 to 0.431."
   ]
  },
  {
   "cell_type": "code",
   "execution_count": 102,
   "id": "1a1c5d62",
   "metadata": {},
   "outputs": [
    {
     "data": {
      "text/plain": [
       "<sklearn.metrics._plot.confusion_matrix.ConfusionMatrixDisplay at 0x7febd2e9e760>"
      ]
     },
     "execution_count": 102,
     "metadata": {},
     "output_type": "execute_result"
    },
    {
     "data": {
      "image/png": "[encoded data removed]",
      "text/plain": [
       "<Figure size 432x288 with 2 Axes>"
      ]
     },
     "metadata": {
      "needs_background": "light"
     },
     "output_type": "display_data"
    }
   ],
   "source": [
    "# cross-validation confusion matrix on the training data\n",
    "y_pred = cross_val_predict(log_os_grid_search.best_estimator_, Xtrain, ytrain, cv=10)\n",
    "conf_mat = confusion_matrix(ytrain, y_pred, normalize=\"true\")\n",
    "ConfusionMatrixDisplay(confusion_matrix=conf_mat,\n",
    "                       display_labels=log_os_grid_search.best_estimator_.classes_\n",
    "                      ).plot(cmap=plt.cm.Blues)"
   ]
  },
  {
   "cell_type": "code",
   "execution_count": 103,
   "id": "10b2d305",
   "metadata": {},
   "outputs": [
    {
     "data": {
      "text/plain": [
       "<sklearn.metrics._plot.confusion_matrix.ConfusionMatrixDisplay at 0x7febd2ea4850>"
      ]
     },
     "execution_count": 103,
     "metadata": {},
     "output_type": "execute_result"
    },
    {
     "data": {
      "image/png": "[encoded data removed]",
      "text/plain": [
       "<Figure size 432x288 with 2 Axes>"
      ]
     },
     "metadata": {
      "needs_background": "light"
     },
     "output_type": "display_data"
    }
   ],
   "source": [
    "ConfusionMatrixDisplay.from_estimator(log_os_grid_search.best_estimator_, Xtest, ytest,\n",
    "                                 display_labels=log_os_grid_search.best_estimator_.classes_,\n",
    "                                 cmap=plt.cm.Blues,\n",
    "                                 normalize='true')"
   ]
  },
  {
   "cell_type": "markdown",
   "id": "d2ce2724",
   "metadata": {},
   "source": [
    "Here we can see that the model has accurately predict 66% of the non-fatal cases and 54% of the fatal cases. Oversampling notably improve our logistic regression model for the fatal category, but the overall f-score is worse, of 0.431 compared to 0.496 of the baseline and 0.449 of the original logistic model. \n"
   ]
  },
  {
   "cell_type": "markdown",
   "id": "4c24255f",
   "metadata": {},
   "source": [
    "### Undersampling for logistic regression"
   ]
  },
  {
   "cell_type": "code",
   "execution_count": 110,
   "id": "dee5e308",
   "metadata": {},
   "outputs": [
    {
     "name": "stdout",
     "output_type": "stream",
     "text": [
      "best parameters {'cc__sampling_strategy': 1.0, 'log__C': 100.0, 'log__class_weight': 'balanced', 'log__penalty': 'l2'}\n",
      "Took 83.60957479476929 seconds\n"
     ]
    }
   ],
   "source": [
    "#speed up the model by adding n_jobs =-1\n",
    "from imblearn.under_sampling import ClusterCentroids\n",
    "from sklearn.model_selection import RandomizedSearchCV\n",
    "from tune_sklearn import TuneGridSearchCV\n",
    "pipeline = Pipeline([\n",
    "        ('cc', ClusterCentroids(random_state=2022)),\n",
    "        ('log', LogisticRegression(random_state=2022))\n",
    "    ])\n",
    "\n",
    "\n",
    "param_grid = [\n",
    "    {\n",
    "        'cc__sampling_strategy': [0.5, 0.75, 1.0],\n",
    "         \"log__C\": np.logspace(-3,3,7),\n",
    "        \"log__penalty\":[\"l1\",\"l2\"],\n",
    "        'log__class_weight':[\"balanced\"]\n",
    "    },\n",
    "]\n",
    "\n",
    "# we'll use 5-fold cross-validation\n",
    "log_us_grid_search = GridSearchCV(pipeline, param_grid, cv=10, n_jobs =-1,\n",
    "                              scoring='f1_macro',\n",
    "                              return_train_score=True)\n",
    "\n",
    "start = time.time()\n",
    "log_us_grid_search.fit(Xtrain, ytrain)\n",
    "end = time.time() - start\n",
    "print(\"best parameters\",log_us_grid_search.best_params_)\n",
    "print(f\"Took {end} seconds\")"
   ]
  },
  {
   "cell_type": "code",
   "execution_count": 111,
   "id": "a913589c",
   "metadata": {},
   "outputs": [
    {
     "data": {
      "text/html": [
       "<div>\n",
       "<style scoped>\n",
       "    .dataframe tbody tr th:only-of-type {\n",
       "        vertical-align: middle;\n",
       "    }\n",
       "\n",
       "    .dataframe tbody tr th {\n",
       "        vertical-align: top;\n",
       "    }\n",
       "\n",
       "    .dataframe thead th {\n",
       "        text-align: right;\n",
       "    }\n",
       "</style>\n",
       "<table border=\"1\" class=\"dataframe\">\n",
       "  <thead>\n",
       "    <tr style=\"text-align: right;\">\n",
       "      <th></th>\n",
       "      <th>params</th>\n",
       "      <th>mean_train_score</th>\n",
       "      <th>mean_test_score</th>\n",
       "      <th>diff, %</th>\n",
       "    </tr>\n",
       "  </thead>\n",
       "  <tbody>\n",
       "    <tr>\n",
       "      <th>41</th>\n",
       "      <td>{'cc__sampling_strategy': 1.0, 'log__C': 1000.0, 'log__class_weight': 'balanced', 'log__penalty'...</td>\n",
       "      <td>0.337186</td>\n",
       "      <td>0.326987</td>\n",
       "      <td>3.024835</td>\n",
       "    </tr>\n",
       "    <tr>\n",
       "      <th>39</th>\n",
       "      <td>{'cc__sampling_strategy': 1.0, 'log__C': 100.0, 'log__class_weight': 'balanced', 'log__penalty':...</td>\n",
       "      <td>0.337152</td>\n",
       "      <td>0.326987</td>\n",
       "      <td>3.015180</td>\n",
       "    </tr>\n",
       "    <tr>\n",
       "      <th>37</th>\n",
       "      <td>{'cc__sampling_strategy': 1.0, 'log__C': 10.0, 'log__class_weight': 'balanced', 'log__penalty': ...</td>\n",
       "      <td>0.337188</td>\n",
       "      <td>0.326699</td>\n",
       "      <td>3.110814</td>\n",
       "    </tr>\n",
       "    <tr>\n",
       "      <th>35</th>\n",
       "      <td>{'cc__sampling_strategy': 1.0, 'log__C': 1.0, 'log__class_weight': 'balanced', 'log__penalty': '...</td>\n",
       "      <td>0.336318</td>\n",
       "      <td>0.325983</td>\n",
       "      <td>3.073084</td>\n",
       "    </tr>\n",
       "    <tr>\n",
       "      <th>23</th>\n",
       "      <td>{'cc__sampling_strategy': 0.75, 'log__C': 10.0, 'log__class_weight': 'balanced', 'log__penalty':...</td>\n",
       "      <td>0.330791</td>\n",
       "      <td>0.322795</td>\n",
       "      <td>2.417301</td>\n",
       "    </tr>\n",
       "    <tr>\n",
       "      <th>27</th>\n",
       "      <td>{'cc__sampling_strategy': 0.75, 'log__C': 1000.0, 'log__class_weight': 'balanced', 'log__penalty...</td>\n",
       "      <td>0.330807</td>\n",
       "      <td>0.322795</td>\n",
       "      <td>2.421925</td>\n",
       "    </tr>\n",
       "    <tr>\n",
       "      <th>25</th>\n",
       "      <td>{'cc__sampling_strategy': 0.75, 'log__C': 100.0, 'log__class_weight': 'balanced', 'log__penalty'...</td>\n",
       "      <td>0.330807</td>\n",
       "      <td>0.322795</td>\n",
       "      <td>2.421864</td>\n",
       "    </tr>\n",
       "    <tr>\n",
       "      <th>21</th>\n",
       "      <td>{'cc__sampling_strategy': 0.75, 'log__C': 1.0, 'log__class_weight': 'balanced', 'log__penalty': ...</td>\n",
       "      <td>0.330596</td>\n",
       "      <td>0.321620</td>\n",
       "      <td>2.715055</td>\n",
       "    </tr>\n",
       "    <tr>\n",
       "      <th>13</th>\n",
       "      <td>{'cc__sampling_strategy': 0.5, 'log__C': 1000.0, 'log__class_weight': 'balanced', 'log__penalty'...</td>\n",
       "      <td>0.325144</td>\n",
       "      <td>0.321030</td>\n",
       "      <td>1.265120</td>\n",
       "    </tr>\n",
       "    <tr>\n",
       "      <th>11</th>\n",
       "      <td>{'cc__sampling_strategy': 0.5, 'log__C': 100.0, 'log__class_weight': 'balanced', 'log__penalty':...</td>\n",
       "      <td>0.325144</td>\n",
       "      <td>0.321030</td>\n",
       "      <td>1.265120</td>\n",
       "    </tr>\n",
       "    <tr>\n",
       "      <th>9</th>\n",
       "      <td>{'cc__sampling_strategy': 0.5, 'log__C': 10.0, 'log__class_weight': 'balanced', 'log__penalty': ...</td>\n",
       "      <td>0.325111</td>\n",
       "      <td>0.321030</td>\n",
       "      <td>1.255059</td>\n",
       "    </tr>\n",
       "    <tr>\n",
       "      <th>33</th>\n",
       "      <td>{'cc__sampling_strategy': 1.0, 'log__C': 0.1, 'log__class_weight': 'balanced', 'log__penalty': '...</td>\n",
       "      <td>0.332008</td>\n",
       "      <td>0.320221</td>\n",
       "      <td>3.550307</td>\n",
       "    </tr>\n",
       "    <tr>\n",
       "      <th>7</th>\n",
       "      <td>{'cc__sampling_strategy': 0.5, 'log__C': 1.0, 'log__class_weight': 'balanced', 'log__penalty': '...</td>\n",
       "      <td>0.324500</td>\n",
       "      <td>0.320159</td>\n",
       "      <td>1.337645</td>\n",
       "    </tr>\n",
       "    <tr>\n",
       "      <th>19</th>\n",
       "      <td>{'cc__sampling_strategy': 0.75, 'log__C': 0.1, 'log__class_weight': 'balanced', 'log__penalty': ...</td>\n",
       "      <td>0.326222</td>\n",
       "      <td>0.318718</td>\n",
       "      <td>2.300245</td>\n",
       "    </tr>\n",
       "    <tr>\n",
       "      <th>5</th>\n",
       "      <td>{'cc__sampling_strategy': 0.5, 'log__C': 0.1, 'log__class_weight': 'balanced', 'log__penalty': '...</td>\n",
       "      <td>0.321621</td>\n",
       "      <td>0.317534</td>\n",
       "      <td>1.270702</td>\n",
       "    </tr>\n",
       "    <tr>\n",
       "      <th>31</th>\n",
       "      <td>{'cc__sampling_strategy': 1.0, 'log__C': 0.01, 'log__class_weight': 'balanced', 'log__penalty': ...</td>\n",
       "      <td>0.321214</td>\n",
       "      <td>0.313789</td>\n",
       "      <td>2.311547</td>\n",
       "    </tr>\n",
       "    <tr>\n",
       "      <th>29</th>\n",
       "      <td>{'cc__sampling_strategy': 1.0, 'log__C': 0.001, 'log__class_weight': 'balanced', 'log__penalty':...</td>\n",
       "      <td>0.316056</td>\n",
       "      <td>0.313127</td>\n",
       "      <td>0.926954</td>\n",
       "    </tr>\n",
       "    <tr>\n",
       "      <th>17</th>\n",
       "      <td>{'cc__sampling_strategy': 0.75, 'log__C': 0.01, 'log__class_weight': 'balanced', 'log__penalty':...</td>\n",
       "      <td>0.317106</td>\n",
       "      <td>0.312919</td>\n",
       "      <td>1.320314</td>\n",
       "    </tr>\n",
       "    <tr>\n",
       "      <th>3</th>\n",
       "      <td>{'cc__sampling_strategy': 0.5, 'log__C': 0.01, 'log__class_weight': 'balanced', 'log__penalty': ...</td>\n",
       "      <td>0.310973</td>\n",
       "      <td>0.306587</td>\n",
       "      <td>1.410500</td>\n",
       "    </tr>\n",
       "    <tr>\n",
       "      <th>15</th>\n",
       "      <td>{'cc__sampling_strategy': 0.75, 'log__C': 0.001, 'log__class_weight': 'balanced', 'log__penalty'...</td>\n",
       "      <td>0.304668</td>\n",
       "      <td>0.303652</td>\n",
       "      <td>0.333465</td>\n",
       "    </tr>\n",
       "    <tr>\n",
       "      <th>1</th>\n",
       "      <td>{'cc__sampling_strategy': 0.5, 'log__C': 0.001, 'log__class_weight': 'balanced', 'log__penalty':...</td>\n",
       "      <td>0.289224</td>\n",
       "      <td>0.285342</td>\n",
       "      <td>1.342238</td>\n",
       "    </tr>\n",
       "    <tr>\n",
       "      <th>0</th>\n",
       "      <td>{'cc__sampling_strategy': 0.5, 'log__C': 0.001, 'log__class_weight': 'balanced', 'log__penalty':...</td>\n",
       "      <td>NaN</td>\n",
       "      <td>NaN</td>\n",
       "      <td>NaN</td>\n",
       "    </tr>\n",
       "    <tr>\n",
       "      <th>2</th>\n",
       "      <td>{'cc__sampling_strategy': 0.5, 'log__C': 0.01, 'log__class_weight': 'balanced', 'log__penalty': ...</td>\n",
       "      <td>NaN</td>\n",
       "      <td>NaN</td>\n",
       "      <td>NaN</td>\n",
       "    </tr>\n",
       "    <tr>\n",
       "      <th>4</th>\n",
       "      <td>{'cc__sampling_strategy': 0.5, 'log__C': 0.1, 'log__class_weight': 'balanced', 'log__penalty': '...</td>\n",
       "      <td>NaN</td>\n",
       "      <td>NaN</td>\n",
       "      <td>NaN</td>\n",
       "    </tr>\n",
       "    <tr>\n",
       "      <th>6</th>\n",
       "      <td>{'cc__sampling_strategy': 0.5, 'log__C': 1.0, 'log__class_weight': 'balanced', 'log__penalty': '...</td>\n",
       "      <td>NaN</td>\n",
       "      <td>NaN</td>\n",
       "      <td>NaN</td>\n",
       "    </tr>\n",
       "    <tr>\n",
       "      <th>8</th>\n",
       "      <td>{'cc__sampling_strategy': 0.5, 'log__C': 10.0, 'log__class_weight': 'balanced', 'log__penalty': ...</td>\n",
       "      <td>NaN</td>\n",
       "      <td>NaN</td>\n",
       "      <td>NaN</td>\n",
       "    </tr>\n",
       "    <tr>\n",
       "      <th>10</th>\n",
       "      <td>{'cc__sampling_strategy': 0.5, 'log__C': 100.0, 'log__class_weight': 'balanced', 'log__penalty':...</td>\n",
       "      <td>NaN</td>\n",
       "      <td>NaN</td>\n",
       "      <td>NaN</td>\n",
       "    </tr>\n",
       "    <tr>\n",
       "      <th>12</th>\n",
       "      <td>{'cc__sampling_strategy': 0.5, 'log__C': 1000.0, 'log__class_weight': 'balanced', 'log__penalty'...</td>\n",
       "      <td>NaN</td>\n",
       "      <td>NaN</td>\n",
       "      <td>NaN</td>\n",
       "    </tr>\n",
       "    <tr>\n",
       "      <th>14</th>\n",
       "      <td>{'cc__sampling_strategy': 0.75, 'log__C': 0.001, 'log__class_weight': 'balanced', 'log__penalty'...</td>\n",
       "      <td>NaN</td>\n",
       "      <td>NaN</td>\n",
       "      <td>NaN</td>\n",
       "    </tr>\n",
       "    <tr>\n",
       "      <th>16</th>\n",
       "      <td>{'cc__sampling_strategy': 0.75, 'log__C': 0.01, 'log__class_weight': 'balanced', 'log__penalty':...</td>\n",
       "      <td>NaN</td>\n",
       "      <td>NaN</td>\n",
       "      <td>NaN</td>\n",
       "    </tr>\n",
       "    <tr>\n",
       "      <th>18</th>\n",
       "      <td>{'cc__sampling_strategy': 0.75, 'log__C': 0.1, 'log__class_weight': 'balanced', 'log__penalty': ...</td>\n",
       "      <td>NaN</td>\n",
       "      <td>NaN</td>\n",
       "      <td>NaN</td>\n",
       "    </tr>\n",
       "    <tr>\n",
       "      <th>20</th>\n",
       "      <td>{'cc__sampling_strategy': 0.75, 'log__C': 1.0, 'log__class_weight': 'balanced', 'log__penalty': ...</td>\n",
       "      <td>NaN</td>\n",
       "      <td>NaN</td>\n",
       "      <td>NaN</td>\n",
       "    </tr>\n",
       "    <tr>\n",
       "      <th>22</th>\n",
       "      <td>{'cc__sampling_strategy': 0.75, 'log__C': 10.0, 'log__class_weight': 'balanced', 'log__penalty':...</td>\n",
       "      <td>NaN</td>\n",
       "      <td>NaN</td>\n",
       "      <td>NaN</td>\n",
       "    </tr>\n",
       "    <tr>\n",
       "      <th>24</th>\n",
       "      <td>{'cc__sampling_strategy': 0.75, 'log__C': 100.0, 'log__class_weight': 'balanced', 'log__penalty'...</td>\n",
       "      <td>NaN</td>\n",
       "      <td>NaN</td>\n",
       "      <td>NaN</td>\n",
       "    </tr>\n",
       "    <tr>\n",
       "      <th>26</th>\n",
       "      <td>{'cc__sampling_strategy': 0.75, 'log__C': 1000.0, 'log__class_weight': 'balanced', 'log__penalty...</td>\n",
       "      <td>NaN</td>\n",
       "      <td>NaN</td>\n",
       "      <td>NaN</td>\n",
       "    </tr>\n",
       "    <tr>\n",
       "      <th>28</th>\n",
       "      <td>{'cc__sampling_strategy': 1.0, 'log__C': 0.001, 'log__class_weight': 'balanced', 'log__penalty':...</td>\n",
       "      <td>NaN</td>\n",
       "      <td>NaN</td>\n",
       "      <td>NaN</td>\n",
       "    </tr>\n",
       "    <tr>\n",
       "      <th>30</th>\n",
       "      <td>{'cc__sampling_strategy': 1.0, 'log__C': 0.01, 'log__class_weight': 'balanced', 'log__penalty': ...</td>\n",
       "      <td>NaN</td>\n",
       "      <td>NaN</td>\n",
       "      <td>NaN</td>\n",
       "    </tr>\n",
       "    <tr>\n",
       "      <th>32</th>\n",
       "      <td>{'cc__sampling_strategy': 1.0, 'log__C': 0.1, 'log__class_weight': 'balanced', 'log__penalty': '...</td>\n",
       "      <td>NaN</td>\n",
       "      <td>NaN</td>\n",
       "      <td>NaN</td>\n",
       "    </tr>\n",
       "    <tr>\n",
       "      <th>34</th>\n",
       "      <td>{'cc__sampling_strategy': 1.0, 'log__C': 1.0, 'log__class_weight': 'balanced', 'log__penalty': '...</td>\n",
       "      <td>NaN</td>\n",
       "      <td>NaN</td>\n",
       "      <td>NaN</td>\n",
       "    </tr>\n",
       "    <tr>\n",
       "      <th>36</th>\n",
       "      <td>{'cc__sampling_strategy': 1.0, 'log__C': 10.0, 'log__class_weight': 'balanced', 'log__penalty': ...</td>\n",
       "      <td>NaN</td>\n",
       "      <td>NaN</td>\n",
       "      <td>NaN</td>\n",
       "    </tr>\n",
       "    <tr>\n",
       "      <th>38</th>\n",
       "      <td>{'cc__sampling_strategy': 1.0, 'log__C': 100.0, 'log__class_weight': 'balanced', 'log__penalty':...</td>\n",
       "      <td>NaN</td>\n",
       "      <td>NaN</td>\n",
       "      <td>NaN</td>\n",
       "    </tr>\n",
       "    <tr>\n",
       "      <th>40</th>\n",
       "      <td>{'cc__sampling_strategy': 1.0, 'log__C': 1000.0, 'log__class_weight': 'balanced', 'log__penalty'...</td>\n",
       "      <td>NaN</td>\n",
       "      <td>NaN</td>\n",
       "      <td>NaN</td>\n",
       "    </tr>\n",
       "  </tbody>\n",
       "</table>\n",
       "</div>"
      ],
      "text/plain": [
       "                                                                                                 params  \\\n",
       "41  {'cc__sampling_strategy': 1.0, 'log__C': 1000.0, 'log__class_weight': 'balanced', 'log__penalty'...   \n",
       "39  {'cc__sampling_strategy': 1.0, 'log__C': 100.0, 'log__class_weight': 'balanced', 'log__penalty':...   \n",
       "37  {'cc__sampling_strategy': 1.0, 'log__C': 10.0, 'log__class_weight': 'balanced', 'log__penalty': ...   \n",
       "35  {'cc__sampling_strategy': 1.0, 'log__C': 1.0, 'log__class_weight': 'balanced', 'log__penalty': '...   \n",
       "23  {'cc__sampling_strategy': 0.75, 'log__C': 10.0, 'log__class_weight': 'balanced', 'log__penalty':...   \n",
       "27  {'cc__sampling_strategy': 0.75, 'log__C': 1000.0, 'log__class_weight': 'balanced', 'log__penalty...   \n",
       "25  {'cc__sampling_strategy': 0.75, 'log__C': 100.0, 'log__class_weight': 'balanced', 'log__penalty'...   \n",
       "21  {'cc__sampling_strategy': 0.75, 'log__C': 1.0, 'log__class_weight': 'balanced', 'log__penalty': ...   \n",
       "13  {'cc__sampling_strategy': 0.5, 'log__C': 1000.0, 'log__class_weight': 'balanced', 'log__penalty'...   \n",
       "11  {'cc__sampling_strategy': 0.5, 'log__C': 100.0, 'log__class_weight': 'balanced', 'log__penalty':...   \n",
       "9   {'cc__sampling_strategy': 0.5, 'log__C': 10.0, 'log__class_weight': 'balanced', 'log__penalty': ...   \n",
       "33  {'cc__sampling_strategy': 1.0, 'log__C': 0.1, 'log__class_weight': 'balanced', 'log__penalty': '...   \n",
       "7   {'cc__sampling_strategy': 0.5, 'log__C': 1.0, 'log__class_weight': 'balanced', 'log__penalty': '...   \n",
       "19  {'cc__sampling_strategy': 0.75, 'log__C': 0.1, 'log__class_weight': 'balanced', 'log__penalty': ...   \n",
       "5   {'cc__sampling_strategy': 0.5, 'log__C': 0.1, 'log__class_weight': 'balanced', 'log__penalty': '...   \n",
       "31  {'cc__sampling_strategy': 1.0, 'log__C': 0.01, 'log__class_weight': 'balanced', 'log__penalty': ...   \n",
       "29  {'cc__sampling_strategy': 1.0, 'log__C': 0.001, 'log__class_weight': 'balanced', 'log__penalty':...   \n",
       "17  {'cc__sampling_strategy': 0.75, 'log__C': 0.01, 'log__class_weight': 'balanced', 'log__penalty':...   \n",
       "3   {'cc__sampling_strategy': 0.5, 'log__C': 0.01, 'log__class_weight': 'balanced', 'log__penalty': ...   \n",
       "15  {'cc__sampling_strategy': 0.75, 'log__C': 0.001, 'log__class_weight': 'balanced', 'log__penalty'...   \n",
       "1   {'cc__sampling_strategy': 0.5, 'log__C': 0.001, 'log__class_weight': 'balanced', 'log__penalty':...   \n",
       "0   {'cc__sampling_strategy': 0.5, 'log__C': 0.001, 'log__class_weight': 'balanced', 'log__penalty':...   \n",
       "2   {'cc__sampling_strategy': 0.5, 'log__C': 0.01, 'log__class_weight': 'balanced', 'log__penalty': ...   \n",
       "4   {'cc__sampling_strategy': 0.5, 'log__C': 0.1, 'log__class_weight': 'balanced', 'log__penalty': '...   \n",
       "6   {'cc__sampling_strategy': 0.5, 'log__C': 1.0, 'log__class_weight': 'balanced', 'log__penalty': '...   \n",
       "8   {'cc__sampling_strategy': 0.5, 'log__C': 10.0, 'log__class_weight': 'balanced', 'log__penalty': ...   \n",
       "10  {'cc__sampling_strategy': 0.5, 'log__C': 100.0, 'log__class_weight': 'balanced', 'log__penalty':...   \n",
       "12  {'cc__sampling_strategy': 0.5, 'log__C': 1000.0, 'log__class_weight': 'balanced', 'log__penalty'...   \n",
       "14  {'cc__sampling_strategy': 0.75, 'log__C': 0.001, 'log__class_weight': 'balanced', 'log__penalty'...   \n",
       "16  {'cc__sampling_strategy': 0.75, 'log__C': 0.01, 'log__class_weight': 'balanced', 'log__penalty':...   \n",
       "18  {'cc__sampling_strategy': 0.75, 'log__C': 0.1, 'log__class_weight': 'balanced', 'log__penalty': ...   \n",
       "20  {'cc__sampling_strategy': 0.75, 'log__C': 1.0, 'log__class_weight': 'balanced', 'log__penalty': ...   \n",
       "22  {'cc__sampling_strategy': 0.75, 'log__C': 10.0, 'log__class_weight': 'balanced', 'log__penalty':...   \n",
       "24  {'cc__sampling_strategy': 0.75, 'log__C': 100.0, 'log__class_weight': 'balanced', 'log__penalty'...   \n",
       "26  {'cc__sampling_strategy': 0.75, 'log__C': 1000.0, 'log__class_weight': 'balanced', 'log__penalty...   \n",
       "28  {'cc__sampling_strategy': 1.0, 'log__C': 0.001, 'log__class_weight': 'balanced', 'log__penalty':...   \n",
       "30  {'cc__sampling_strategy': 1.0, 'log__C': 0.01, 'log__class_weight': 'balanced', 'log__penalty': ...   \n",
       "32  {'cc__sampling_strategy': 1.0, 'log__C': 0.1, 'log__class_weight': 'balanced', 'log__penalty': '...   \n",
       "34  {'cc__sampling_strategy': 1.0, 'log__C': 1.0, 'log__class_weight': 'balanced', 'log__penalty': '...   \n",
       "36  {'cc__sampling_strategy': 1.0, 'log__C': 10.0, 'log__class_weight': 'balanced', 'log__penalty': ...   \n",
       "38  {'cc__sampling_strategy': 1.0, 'log__C': 100.0, 'log__class_weight': 'balanced', 'log__penalty':...   \n",
       "40  {'cc__sampling_strategy': 1.0, 'log__C': 1000.0, 'log__class_weight': 'balanced', 'log__penalty'...   \n",
       "\n",
       "    mean_train_score  mean_test_score   diff, %  \n",
       "41          0.337186         0.326987  3.024835  \n",
       "39          0.337152         0.326987  3.015180  \n",
       "37          0.337188         0.326699  3.110814  \n",
       "35          0.336318         0.325983  3.073084  \n",
       "23          0.330791         0.322795  2.417301  \n",
       "27          0.330807         0.322795  2.421925  \n",
       "25          0.330807         0.322795  2.421864  \n",
       "21          0.330596         0.321620  2.715055  \n",
       "13          0.325144         0.321030  1.265120  \n",
       "11          0.325144         0.321030  1.265120  \n",
       "9           0.325111         0.321030  1.255059  \n",
       "33          0.332008         0.320221  3.550307  \n",
       "7           0.324500         0.320159  1.337645  \n",
       "19          0.326222         0.318718  2.300245  \n",
       "5           0.321621         0.317534  1.270702  \n",
       "31          0.321214         0.313789  2.311547  \n",
       "29          0.316056         0.313127  0.926954  \n",
       "17          0.317106         0.312919  1.320314  \n",
       "3           0.310973         0.306587  1.410500  \n",
       "15          0.304668         0.303652  0.333465  \n",
       "1           0.289224         0.285342  1.342238  \n",
       "0                NaN              NaN       NaN  \n",
       "2                NaN              NaN       NaN  \n",
       "4                NaN              NaN       NaN  \n",
       "6                NaN              NaN       NaN  \n",
       "8                NaN              NaN       NaN  \n",
       "10               NaN              NaN       NaN  \n",
       "12               NaN              NaN       NaN  \n",
       "14               NaN              NaN       NaN  \n",
       "16               NaN              NaN       NaN  \n",
       "18               NaN              NaN       NaN  \n",
       "20               NaN              NaN       NaN  \n",
       "22               NaN              NaN       NaN  \n",
       "24               NaN              NaN       NaN  \n",
       "26               NaN              NaN       NaN  \n",
       "28               NaN              NaN       NaN  \n",
       "30               NaN              NaN       NaN  \n",
       "32               NaN              NaN       NaN  \n",
       "34               NaN              NaN       NaN  \n",
       "36               NaN              NaN       NaN  \n",
       "38               NaN              NaN       NaN  \n",
       "40               NaN              NaN       NaN  "
      ]
     },
     "execution_count": 111,
     "metadata": {},
     "output_type": "execute_result"
    }
   ],
   "source": [
    "log_us_cv_results = pd.DataFrame(log_us_grid_search.cv_results_\n",
    "                         )[['params', 'mean_train_score', 'mean_test_score']]\n",
    "log_us_cv_results[\"diff, %\"] = 100*(log_us_cv_results[\"mean_train_score\"]-log_us_cv_results[\"mean_test_score\"]\n",
    "                                                     )/log_us_cv_results[\"mean_train_score\"]\n",
    "\n",
    "pd.set_option('display.max_colwidth', 100)\n",
    "log_us_cv_results.sort_values('mean_test_score', ascending=False)"
   ]
  },
  {
   "cell_type": "code",
   "execution_count": 113,
   "id": "1a9dbe15",
   "metadata": {},
   "outputs": [
    {
     "data": {
      "text/plain": [
       "<sklearn.metrics._plot.confusion_matrix.ConfusionMatrixDisplay at 0x7febb1d2dd60>"
      ]
     },
     "execution_count": 113,
     "metadata": {},
     "output_type": "execute_result"
    },
    {
     "data": {
      "image/png": "[encoded data removed]",
      "text/plain": [
       "<Figure size 432x288 with 2 Axes>"
      ]
     },
     "metadata": {
      "needs_background": "light"
     },
     "output_type": "display_data"
    }
   ],
   "source": [
    "# cross-validation confusion matrix\n",
    "y_pred = cross_val_predict(log_us_grid_search.best_estimator_, Xtrain, ytrain, cv=10)\n",
    "conf_mat = confusion_matrix(ytrain, y_pred, normalize=\"true\")\n",
    "ConfusionMatrixDisplay(confusion_matrix=conf_mat,\n",
    "                       display_labels=log_us_grid_search.best_estimator_.classes_\n",
    "                      ).plot(cmap=plt.cm.Blues)"
   ]
  },
  {
   "cell_type": "code",
   "execution_count": 114,
   "id": "c16480fe",
   "metadata": {},
   "outputs": [
    {
     "data": {
      "text/plain": [
       "<sklearn.metrics._plot.confusion_matrix.ConfusionMatrixDisplay at 0x7febd26b2d30>"
      ]
     },
     "execution_count": 114,
     "metadata": {},
     "output_type": "execute_result"
    },
    {
     "data": {
      "image/png": "[encoded data removed]",
      "text/plain": [
       "<Figure size 432x288 with 2 Axes>"
      ]
     },
     "metadata": {
      "needs_background": "light"
     },
     "output_type": "display_data"
    }
   ],
   "source": [
    "ConfusionMatrixDisplay.from_estimator(log_us_grid_search.best_estimator_, Xtest, ytest,\n",
    "                                 display_labels=log_us_grid_search.best_estimator_.classes_,\n",
    "                                 cmap=plt.cm.Blues,\n",
    "                                 normalize='true')"
   ]
  },
  {
   "cell_type": "markdown",
   "id": "c148afce",
   "metadata": {},
   "source": [
    "## Evaluation"
   ]
  },
  {
   "cell_type": "code",
   "execution_count": 107,
   "id": "c78118f9",
   "metadata": {},
   "outputs": [
    {
     "name": "stdout",
     "output_type": "stream",
     "text": [
      "              precision    recall  f1-score   support\n",
      "\n",
      "           0       0.97      0.71      0.82       942\n",
      "           1       0.06      0.49      0.10        35\n",
      "\n",
      "    accuracy                           0.70       977\n",
      "   macro avg       0.52      0.60      0.46       977\n",
      "weighted avg       0.94      0.70      0.79       977\n",
      "\n"
     ]
    }
   ],
   "source": [
    "# Unbalanced logistic regression\n",
    "evaluate_on_test(logistic_reg_cv.best_estimator_, ytest, Xtest)"
   ]
  },
  {
   "cell_type": "code",
   "execution_count": 108,
   "id": "45e1cfc7",
   "metadata": {},
   "outputs": [
    {
     "name": "stdout",
     "output_type": "stream",
     "text": [
      "              precision    recall  f1-score   support\n",
      "\n",
      "           0       0.97      0.66      0.79       942\n",
      "           1       0.06      0.54      0.10        35\n",
      "\n",
      "    accuracy                           0.66       977\n",
      "   macro avg       0.52      0.60      0.44       977\n",
      "weighted avg       0.94      0.66      0.76       977\n",
      "\n"
     ]
    }
   ],
   "source": [
    "# Oversampling logistic regression\n",
    "evaluate_on_test(log_os_grid_search.best_estimator_, ytest, Xtest)"
   ]
  },
  {
   "cell_type": "code",
   "execution_count": 115,
   "id": "e1ca2b3f",
   "metadata": {},
   "outputs": [
    {
     "name": "stdout",
     "output_type": "stream",
     "text": [
      "              precision    recall  f1-score   support\n",
      "\n",
      "           0       0.97      0.46      0.63       942\n",
      "           1       0.04      0.66      0.08        35\n",
      "\n",
      "    accuracy                           0.47       977\n",
      "   macro avg       0.51      0.56      0.36       977\n",
      "weighted avg       0.94      0.47      0.61       977\n",
      "\n"
     ]
    }
   ],
   "source": [
    "# Undersampling logistic regression\n",
    "evaluate_on_test(log_us_grid_search.best_estimator_, ytest, Xtest)"
   ]
  },
  {
   "cell_type": "markdown",
   "id": "7a5e0dbf",
   "metadata": {},
   "source": [
    "For logistic regression, using undersampling and oversampling improve the prediction on fatal cases a lot, but also drastically reduce the prediction on the non-fatal case. We want to achieve a balance here.\n",
    "The f-scores of 3 models are less than that of the baselinem of 0.496. Unbalance logistic regression seems to yield the best results here. "
   ]
  },
  {
   "cell_type": "markdown",
   "id": "dfc792bf",
   "metadata": {},
   "source": [
    "### 7.2.2 Support Vector Machine"
   ]
  },
  {
   "cell_type": "code",
   "execution_count": 116,
   "id": "f68da8c2",
   "metadata": {},
   "outputs": [
    {
     "name": "stdout",
     "output_type": "stream",
     "text": [
      "Took 5.60172700881958 seconds\n",
      "best parameters {'C': 5, 'class_weight': 'balanced'}\n",
      "f-score : 0.5305692267837259\n"
     ]
    }
   ],
   "source": [
    "from sklearn.svm import LinearSVC\n",
    "lsvm = LinearSVC(random_state=2022, max_iter=1000)\n",
    "param_grid = {\n",
    "    'C': [0.01, 0.1, 0.5, 1, 3, 5, 7, 10],\n",
    "    'class_weight':['balanced']\n",
    "}\n",
    "# we'll use 5-fold cross-validation\n",
    "linearSVC = GridSearchCV(lsvm, param_grid, cv=5,\n",
    "                           scoring='f1_macro', \n",
    "                           return_train_score=True) \n",
    "\n",
    "start = time.time()\n",
    "linearSVC.fit(Xtrain, ytrain)\n",
    "end = time.time() - start\n",
    "print(f\"Took {end} seconds\")\n",
    "print(\"best parameters\",linearSVC.best_params_)\n",
    "print(\"f-score :\",linearSVC.best_score_)"
   ]
  },
  {
   "cell_type": "code",
   "execution_count": 117,
   "id": "ce94505e",
   "metadata": {},
   "outputs": [
    {
     "data": {
      "text/html": [
       "<div>\n",
       "<style scoped>\n",
       "    .dataframe tbody tr th:only-of-type {\n",
       "        vertical-align: middle;\n",
       "    }\n",
       "\n",
       "    .dataframe tbody tr th {\n",
       "        vertical-align: top;\n",
       "    }\n",
       "\n",
       "    .dataframe thead th {\n",
       "        text-align: right;\n",
       "    }\n",
       "</style>\n",
       "<table border=\"1\" class=\"dataframe\">\n",
       "  <thead>\n",
       "    <tr style=\"text-align: right;\">\n",
       "      <th></th>\n",
       "      <th>params</th>\n",
       "      <th>mean_train_score</th>\n",
       "      <th>mean_test_score</th>\n",
       "      <th>diff, %</th>\n",
       "    </tr>\n",
       "  </thead>\n",
       "  <tbody>\n",
       "    <tr>\n",
       "      <th>5</th>\n",
       "      <td>{'C': 5, 'class_weight': 'balanced'}</td>\n",
       "      <td>0.535284</td>\n",
       "      <td>0.530569</td>\n",
       "      <td>0.880816</td>\n",
       "    </tr>\n",
       "    <tr>\n",
       "      <th>7</th>\n",
       "      <td>{'C': 10, 'class_weight': 'balanced'}</td>\n",
       "      <td>0.528929</td>\n",
       "      <td>0.519530</td>\n",
       "      <td>1.777006</td>\n",
       "    </tr>\n",
       "    <tr>\n",
       "      <th>6</th>\n",
       "      <td>{'C': 7, 'class_weight': 'balanced'}</td>\n",
       "      <td>0.513265</td>\n",
       "      <td>0.512125</td>\n",
       "      <td>0.222271</td>\n",
       "    </tr>\n",
       "    <tr>\n",
       "      <th>4</th>\n",
       "      <td>{'C': 3, 'class_weight': 'balanced'}</td>\n",
       "      <td>0.508203</td>\n",
       "      <td>0.502663</td>\n",
       "      <td>1.090140</td>\n",
       "    </tr>\n",
       "    <tr>\n",
       "      <th>3</th>\n",
       "      <td>{'C': 1, 'class_weight': 'balanced'}</td>\n",
       "      <td>0.449453</td>\n",
       "      <td>0.436570</td>\n",
       "      <td>2.866206</td>\n",
       "    </tr>\n",
       "    <tr>\n",
       "      <th>2</th>\n",
       "      <td>{'C': 0.5, 'class_weight': 'balanced'}</td>\n",
       "      <td>0.437487</td>\n",
       "      <td>0.422432</td>\n",
       "      <td>3.441358</td>\n",
       "    </tr>\n",
       "    <tr>\n",
       "      <th>0</th>\n",
       "      <td>{'C': 0.01, 'class_weight': 'balanced'}</td>\n",
       "      <td>0.435936</td>\n",
       "      <td>0.421395</td>\n",
       "      <td>3.335468</td>\n",
       "    </tr>\n",
       "    <tr>\n",
       "      <th>1</th>\n",
       "      <td>{'C': 0.1, 'class_weight': 'balanced'}</td>\n",
       "      <td>0.435538</td>\n",
       "      <td>0.421263</td>\n",
       "      <td>3.277503</td>\n",
       "    </tr>\n",
       "  </tbody>\n",
       "</table>\n",
       "</div>"
      ],
      "text/plain": [
       "                                    params  mean_train_score  mean_test_score  \\\n",
       "5     {'C': 5, 'class_weight': 'balanced'}          0.535284         0.530569   \n",
       "7    {'C': 10, 'class_weight': 'balanced'}          0.528929         0.519530   \n",
       "6     {'C': 7, 'class_weight': 'balanced'}          0.513265         0.512125   \n",
       "4     {'C': 3, 'class_weight': 'balanced'}          0.508203         0.502663   \n",
       "3     {'C': 1, 'class_weight': 'balanced'}          0.449453         0.436570   \n",
       "2   {'C': 0.5, 'class_weight': 'balanced'}          0.437487         0.422432   \n",
       "0  {'C': 0.01, 'class_weight': 'balanced'}          0.435936         0.421395   \n",
       "1   {'C': 0.1, 'class_weight': 'balanced'}          0.435538         0.421263   \n",
       "\n",
       "    diff, %  \n",
       "5  0.880816  \n",
       "7  1.777006  \n",
       "6  0.222271  \n",
       "4  1.090140  \n",
       "3  2.866206  \n",
       "2  3.441358  \n",
       "0  3.335468  \n",
       "1  3.277503  "
      ]
     },
     "execution_count": 117,
     "metadata": {},
     "output_type": "execute_result"
    }
   ],
   "source": [
    "# training and validation RMSE\n",
    "lsvm_cv_results = pd.DataFrame(linearSVC.cv_results_\n",
    "                         )[['params', 'mean_train_score', 'mean_test_score']]\n",
    "lsvm_cv_results[\"diff, %\"] = 100*(lsvm_cv_results[\"mean_train_score\"]-lsvm_cv_results[\"mean_test_score\"])/lsvm_cv_results[\"mean_train_score\"]\n",
    "\n",
    "pd.set_option('display.max_colwidth', 100)\n",
    "lsvm_cv_results.sort_values('mean_test_score', ascending=False)"
   ]
  },
  {
   "cell_type": "code",
   "execution_count": 118,
   "id": "ebf607b0",
   "metadata": {},
   "outputs": [
    {
     "data": {
      "text/plain": [
       "<sklearn.metrics._plot.confusion_matrix.ConfusionMatrixDisplay at 0x7febe18a2ca0>"
      ]
     },
     "execution_count": 118,
     "metadata": {},
     "output_type": "execute_result"
    },
    {
     "data": {
      "image/png": "[encoded data removed]",
      "text/plain": [
       "<Figure size 432x288 with 2 Axes>"
      ]
     },
     "metadata": {
      "needs_background": "light"
     },
     "output_type": "display_data"
    }
   ],
   "source": [
    "# cross-validation confusion matrix, training data\n",
    "y_pred_svc = cross_val_predict(linearSVC.best_estimator_, Xtrain, ytrain, cv=5)\n",
    "conf_mat = confusion_matrix(ytrain, y_pred_svc, normalize=\"true\")\n",
    "ConfusionMatrixDisplay(confusion_matrix=conf_mat,\n",
    "                       display_labels=linearSVC.best_estimator_.classes_\n",
    "                      ).plot(cmap=plt.cm.Blues)"
   ]
  },
  {
   "cell_type": "code",
   "execution_count": 119,
   "id": "eace5960",
   "metadata": {},
   "outputs": [
    {
     "data": {
      "text/plain": [
       "<sklearn.metrics._plot.confusion_matrix.ConfusionMatrixDisplay at 0x7febe170da90>"
      ]
     },
     "execution_count": 119,
     "metadata": {},
     "output_type": "execute_result"
    },
    {
     "data": {
      "image/png": "[encoded data removed]",
      "text/plain": [
       "<Figure size 432x288 with 2 Axes>"
      ]
     },
     "metadata": {
      "needs_background": "light"
     },
     "output_type": "display_data"
    }
   ],
   "source": [
    "ConfusionMatrixDisplay.from_estimator(linearSVC.best_estimator_, Xtest, ytest,\n",
    "                                 display_labels=linearSVC.best_estimator_.classes_,\n",
    "                                 cmap=plt.cm.Blues,\n",
    "                                 normalize='true')"
   ]
  },
  {
   "cell_type": "markdown",
   "id": "add2b534",
   "metadata": {},
   "source": [
    "While we observe an increase in the overall f-score 0.53 compare to the baseline of 0.496, only 11% of the fatal cases are correctly predicted."
   ]
  },
  {
   "cell_type": "markdown",
   "id": "fc98da74",
   "metadata": {},
   "source": [
    "### Oversampling for Support Vector Machine"
   ]
  },
  {
   "cell_type": "code",
   "execution_count": 121,
   "id": "01862578",
   "metadata": {},
   "outputs": [
    {
     "name": "stdout",
     "output_type": "stream",
     "text": [
      "best parameters {'lsvm__C': 10, 'lsvm__class_weight': 'balanced', 'smote__sampling_strategy': 0.5}\n",
      "f-score : 0.4217650715278712\n",
      "Took 29.32716703414917 seconds\n"
     ]
    }
   ],
   "source": [
    "\n",
    "pipeline = Pipeline([\n",
    "        ('smote', SMOTE(random_state=2022)),\n",
    "        ('lsvm', LinearSVC(random_state=2022, max_iter=1000))\n",
    "    ])\n",
    "\n",
    "param_grid = [\n",
    "    {\n",
    "        'smote__sampling_strategy': [0.5, 0.75, 1.0],\n",
    "        \"lsvm__C\": [0.01, 0.1, 0.5, 1, 3, 5, 7, 10],\n",
    "        'lsvm__class_weight':['balanced']\n",
    "    },\n",
    "]\n",
    "\n",
    "# we'll use 10-fold cross-validation\n",
    "lsvm_os_grid_search = GridSearchCV(pipeline, param_grid, cv=5, \n",
    "                              scoring='f1_macro',\n",
    "                              return_train_score=True)\n",
    "\n",
    "#estimate the time needed to run the model\n",
    "start = time.time()\n",
    "lsvm_os_grid_search.fit(Xtrain, ytrain)\n",
    "end = time.time() - start\n",
    "\n",
    "#Print results\n",
    "print(\"best parameters\",lsvm_os_grid_search.best_params_)\n",
    "print(\"f-score :\",lsvm_os_grid_search.best_score_)\n",
    "print(f\"Took {end} seconds\")"
   ]
  },
  {
   "cell_type": "code",
   "execution_count": 122,
   "id": "7b89d198",
   "metadata": {},
   "outputs": [
    {
     "data": {
      "text/html": [
       "<div>\n",
       "<style scoped>\n",
       "    .dataframe tbody tr th:only-of-type {\n",
       "        vertical-align: middle;\n",
       "    }\n",
       "\n",
       "    .dataframe tbody tr th {\n",
       "        vertical-align: top;\n",
       "    }\n",
       "\n",
       "    .dataframe thead th {\n",
       "        text-align: right;\n",
       "    }\n",
       "</style>\n",
       "<table border=\"1\" class=\"dataframe\">\n",
       "  <thead>\n",
       "    <tr style=\"text-align: right;\">\n",
       "      <th></th>\n",
       "      <th>params</th>\n",
       "      <th>mean_train_score</th>\n",
       "      <th>mean_test_score</th>\n",
       "      <th>diff, %</th>\n",
       "    </tr>\n",
       "  </thead>\n",
       "  <tbody>\n",
       "    <tr>\n",
       "      <th>21</th>\n",
       "      <td>{'lsvm__C': 10, 'lsvm__class_weight': 'balanced', 'smote__sampling_strategy': 0.5}</td>\n",
       "      <td>0.434981</td>\n",
       "      <td>0.421765</td>\n",
       "      <td>3.038295</td>\n",
       "    </tr>\n",
       "    <tr>\n",
       "      <th>22</th>\n",
       "      <td>{'lsvm__C': 10, 'lsvm__class_weight': 'balanced', 'smote__sampling_strategy': 0.75}</td>\n",
       "      <td>0.432081</td>\n",
       "      <td>0.419849</td>\n",
       "      <td>2.831028</td>\n",
       "    </tr>\n",
       "    <tr>\n",
       "      <th>15</th>\n",
       "      <td>{'lsvm__C': 5, 'lsvm__class_weight': 'balanced', 'smote__sampling_strategy': 0.5}</td>\n",
       "      <td>0.428218</td>\n",
       "      <td>0.417192</td>\n",
       "      <td>2.574799</td>\n",
       "    </tr>\n",
       "    <tr>\n",
       "      <th>18</th>\n",
       "      <td>{'lsvm__C': 7, 'lsvm__class_weight': 'balanced', 'smote__sampling_strategy': 0.5}</td>\n",
       "      <td>0.425659</td>\n",
       "      <td>0.416456</td>\n",
       "      <td>2.161963</td>\n",
       "    </tr>\n",
       "    <tr>\n",
       "      <th>1</th>\n",
       "      <td>{'lsvm__C': 0.01, 'lsvm__class_weight': 'balanced', 'smote__sampling_strategy': 0.75}</td>\n",
       "      <td>0.422825</td>\n",
       "      <td>0.414595</td>\n",
       "      <td>1.946362</td>\n",
       "    </tr>\n",
       "    <tr>\n",
       "      <th>12</th>\n",
       "      <td>{'lsvm__C': 3, 'lsvm__class_weight': 'balanced', 'smote__sampling_strategy': 0.5}</td>\n",
       "      <td>0.426178</td>\n",
       "      <td>0.414413</td>\n",
       "      <td>2.760446</td>\n",
       "    </tr>\n",
       "    <tr>\n",
       "      <th>0</th>\n",
       "      <td>{'lsvm__C': 0.01, 'lsvm__class_weight': 'balanced', 'smote__sampling_strategy': 0.5}</td>\n",
       "      <td>0.425529</td>\n",
       "      <td>0.414361</td>\n",
       "      <td>2.624528</td>\n",
       "    </tr>\n",
       "    <tr>\n",
       "      <th>16</th>\n",
       "      <td>{'lsvm__C': 5, 'lsvm__class_weight': 'balanced', 'smote__sampling_strategy': 0.75}</td>\n",
       "      <td>0.422822</td>\n",
       "      <td>0.413662</td>\n",
       "      <td>2.166608</td>\n",
       "    </tr>\n",
       "    <tr>\n",
       "      <th>4</th>\n",
       "      <td>{'lsvm__C': 0.1, 'lsvm__class_weight': 'balanced', 'smote__sampling_strategy': 0.75}</td>\n",
       "      <td>0.423673</td>\n",
       "      <td>0.413566</td>\n",
       "      <td>2.385616</td>\n",
       "    </tr>\n",
       "    <tr>\n",
       "      <th>7</th>\n",
       "      <td>{'lsvm__C': 0.5, 'lsvm__class_weight': 'balanced', 'smote__sampling_strategy': 0.75}</td>\n",
       "      <td>0.423877</td>\n",
       "      <td>0.413033</td>\n",
       "      <td>2.558395</td>\n",
       "    </tr>\n",
       "    <tr>\n",
       "      <th>9</th>\n",
       "      <td>{'lsvm__C': 1, 'lsvm__class_weight': 'balanced', 'smote__sampling_strategy': 0.5}</td>\n",
       "      <td>0.425085</td>\n",
       "      <td>0.412870</td>\n",
       "      <td>2.873519</td>\n",
       "    </tr>\n",
       "    <tr>\n",
       "      <th>11</th>\n",
       "      <td>{'lsvm__C': 1, 'lsvm__class_weight': 'balanced', 'smote__sampling_strategy': 1.0}</td>\n",
       "      <td>0.424385</td>\n",
       "      <td>0.412839</td>\n",
       "      <td>2.720645</td>\n",
       "    </tr>\n",
       "    <tr>\n",
       "      <th>10</th>\n",
       "      <td>{'lsvm__C': 1, 'lsvm__class_weight': 'balanced', 'smote__sampling_strategy': 0.75}</td>\n",
       "      <td>0.423732</td>\n",
       "      <td>0.412648</td>\n",
       "      <td>2.615802</td>\n",
       "    </tr>\n",
       "    <tr>\n",
       "      <th>6</th>\n",
       "      <td>{'lsvm__C': 0.5, 'lsvm__class_weight': 'balanced', 'smote__sampling_strategy': 0.5}</td>\n",
       "      <td>0.425119</td>\n",
       "      <td>0.412626</td>\n",
       "      <td>2.938710</td>\n",
       "    </tr>\n",
       "    <tr>\n",
       "      <th>3</th>\n",
       "      <td>{'lsvm__C': 0.1, 'lsvm__class_weight': 'balanced', 'smote__sampling_strategy': 0.5}</td>\n",
       "      <td>0.425241</td>\n",
       "      <td>0.412623</td>\n",
       "      <td>2.967397</td>\n",
       "    </tr>\n",
       "    <tr>\n",
       "      <th>8</th>\n",
       "      <td>{'lsvm__C': 0.5, 'lsvm__class_weight': 'balanced', 'smote__sampling_strategy': 1.0}</td>\n",
       "      <td>0.424052</td>\n",
       "      <td>0.412578</td>\n",
       "      <td>2.705776</td>\n",
       "    </tr>\n",
       "    <tr>\n",
       "      <th>5</th>\n",
       "      <td>{'lsvm__C': 0.1, 'lsvm__class_weight': 'balanced', 'smote__sampling_strategy': 1.0}</td>\n",
       "      <td>0.424144</td>\n",
       "      <td>0.412021</td>\n",
       "      <td>2.858324</td>\n",
       "    </tr>\n",
       "    <tr>\n",
       "      <th>14</th>\n",
       "      <td>{'lsvm__C': 3, 'lsvm__class_weight': 'balanced', 'smote__sampling_strategy': 1.0}</td>\n",
       "      <td>0.423616</td>\n",
       "      <td>0.411387</td>\n",
       "      <td>2.886901</td>\n",
       "    </tr>\n",
       "    <tr>\n",
       "      <th>2</th>\n",
       "      <td>{'lsvm__C': 0.01, 'lsvm__class_weight': 'balanced', 'smote__sampling_strategy': 1.0}</td>\n",
       "      <td>0.423290</td>\n",
       "      <td>0.410996</td>\n",
       "      <td>2.904469</td>\n",
       "    </tr>\n",
       "    <tr>\n",
       "      <th>13</th>\n",
       "      <td>{'lsvm__C': 3, 'lsvm__class_weight': 'balanced', 'smote__sampling_strategy': 0.75}</td>\n",
       "      <td>0.421928</td>\n",
       "      <td>0.410500</td>\n",
       "      <td>2.708564</td>\n",
       "    </tr>\n",
       "    <tr>\n",
       "      <th>17</th>\n",
       "      <td>{'lsvm__C': 5, 'lsvm__class_weight': 'balanced', 'smote__sampling_strategy': 1.0}</td>\n",
       "      <td>0.424379</td>\n",
       "      <td>0.410397</td>\n",
       "      <td>3.294856</td>\n",
       "    </tr>\n",
       "    <tr>\n",
       "      <th>20</th>\n",
       "      <td>{'lsvm__C': 7, 'lsvm__class_weight': 'balanced', 'smote__sampling_strategy': 1.0}</td>\n",
       "      <td>0.420872</td>\n",
       "      <td>0.410238</td>\n",
       "      <td>2.526776</td>\n",
       "    </tr>\n",
       "    <tr>\n",
       "      <th>19</th>\n",
       "      <td>{'lsvm__C': 7, 'lsvm__class_weight': 'balanced', 'smote__sampling_strategy': 0.75}</td>\n",
       "      <td>0.420215</td>\n",
       "      <td>0.409376</td>\n",
       "      <td>2.579283</td>\n",
       "    </tr>\n",
       "    <tr>\n",
       "      <th>23</th>\n",
       "      <td>{'lsvm__C': 10, 'lsvm__class_weight': 'balanced', 'smote__sampling_strategy': 1.0}</td>\n",
       "      <td>0.419365</td>\n",
       "      <td>0.404526</td>\n",
       "      <td>3.538431</td>\n",
       "    </tr>\n",
       "  </tbody>\n",
       "</table>\n",
       "</div>"
      ],
      "text/plain": [
       "                                                                                   params  \\\n",
       "21     {'lsvm__C': 10, 'lsvm__class_weight': 'balanced', 'smote__sampling_strategy': 0.5}   \n",
       "22    {'lsvm__C': 10, 'lsvm__class_weight': 'balanced', 'smote__sampling_strategy': 0.75}   \n",
       "15      {'lsvm__C': 5, 'lsvm__class_weight': 'balanced', 'smote__sampling_strategy': 0.5}   \n",
       "18      {'lsvm__C': 7, 'lsvm__class_weight': 'balanced', 'smote__sampling_strategy': 0.5}   \n",
       "1   {'lsvm__C': 0.01, 'lsvm__class_weight': 'balanced', 'smote__sampling_strategy': 0.75}   \n",
       "12      {'lsvm__C': 3, 'lsvm__class_weight': 'balanced', 'smote__sampling_strategy': 0.5}   \n",
       "0    {'lsvm__C': 0.01, 'lsvm__class_weight': 'balanced', 'smote__sampling_strategy': 0.5}   \n",
       "16     {'lsvm__C': 5, 'lsvm__class_weight': 'balanced', 'smote__sampling_strategy': 0.75}   \n",
       "4    {'lsvm__C': 0.1, 'lsvm__class_weight': 'balanced', 'smote__sampling_strategy': 0.75}   \n",
       "7    {'lsvm__C': 0.5, 'lsvm__class_weight': 'balanced', 'smote__sampling_strategy': 0.75}   \n",
       "9       {'lsvm__C': 1, 'lsvm__class_weight': 'balanced', 'smote__sampling_strategy': 0.5}   \n",
       "11      {'lsvm__C': 1, 'lsvm__class_weight': 'balanced', 'smote__sampling_strategy': 1.0}   \n",
       "10     {'lsvm__C': 1, 'lsvm__class_weight': 'balanced', 'smote__sampling_strategy': 0.75}   \n",
       "6     {'lsvm__C': 0.5, 'lsvm__class_weight': 'balanced', 'smote__sampling_strategy': 0.5}   \n",
       "3     {'lsvm__C': 0.1, 'lsvm__class_weight': 'balanced', 'smote__sampling_strategy': 0.5}   \n",
       "8     {'lsvm__C': 0.5, 'lsvm__class_weight': 'balanced', 'smote__sampling_strategy': 1.0}   \n",
       "5     {'lsvm__C': 0.1, 'lsvm__class_weight': 'balanced', 'smote__sampling_strategy': 1.0}   \n",
       "14      {'lsvm__C': 3, 'lsvm__class_weight': 'balanced', 'smote__sampling_strategy': 1.0}   \n",
       "2    {'lsvm__C': 0.01, 'lsvm__class_weight': 'balanced', 'smote__sampling_strategy': 1.0}   \n",
       "13     {'lsvm__C': 3, 'lsvm__class_weight': 'balanced', 'smote__sampling_strategy': 0.75}   \n",
       "17      {'lsvm__C': 5, 'lsvm__class_weight': 'balanced', 'smote__sampling_strategy': 1.0}   \n",
       "20      {'lsvm__C': 7, 'lsvm__class_weight': 'balanced', 'smote__sampling_strategy': 1.0}   \n",
       "19     {'lsvm__C': 7, 'lsvm__class_weight': 'balanced', 'smote__sampling_strategy': 0.75}   \n",
       "23     {'lsvm__C': 10, 'lsvm__class_weight': 'balanced', 'smote__sampling_strategy': 1.0}   \n",
       "\n",
       "    mean_train_score  mean_test_score   diff, %  \n",
       "21          0.434981         0.421765  3.038295  \n",
       "22          0.432081         0.419849  2.831028  \n",
       "15          0.428218         0.417192  2.574799  \n",
       "18          0.425659         0.416456  2.161963  \n",
       "1           0.422825         0.414595  1.946362  \n",
       "12          0.426178         0.414413  2.760446  \n",
       "0           0.425529         0.414361  2.624528  \n",
       "16          0.422822         0.413662  2.166608  \n",
       "4           0.423673         0.413566  2.385616  \n",
       "7           0.423877         0.413033  2.558395  \n",
       "9           0.425085         0.412870  2.873519  \n",
       "11          0.424385         0.412839  2.720645  \n",
       "10          0.423732         0.412648  2.615802  \n",
       "6           0.425119         0.412626  2.938710  \n",
       "3           0.425241         0.412623  2.967397  \n",
       "8           0.424052         0.412578  2.705776  \n",
       "5           0.424144         0.412021  2.858324  \n",
       "14          0.423616         0.411387  2.886901  \n",
       "2           0.423290         0.410996  2.904469  \n",
       "13          0.421928         0.410500  2.708564  \n",
       "17          0.424379         0.410397  3.294856  \n",
       "20          0.420872         0.410238  2.526776  \n",
       "19          0.420215         0.409376  2.579283  \n",
       "23          0.419365         0.404526  3.538431  "
      ]
     },
     "execution_count": 122,
     "metadata": {},
     "output_type": "execute_result"
    }
   ],
   "source": [
    "cv_results = pd.DataFrame(lsvm_os_grid_search.cv_results_\n",
    "                         )[['params', 'mean_train_score', 'mean_test_score']]\n",
    "cv_results[\"diff, %\"] = 100*(cv_results[\"mean_train_score\"]-cv_results[\"mean_test_score\"]\n",
    "                                                     )/cv_results[\"mean_train_score\"]\n",
    "\n",
    "pd.set_option('display.max_colwidth', 100)\n",
    "cv_results.sort_values('mean_test_score', ascending=False)"
   ]
  },
  {
   "cell_type": "code",
   "execution_count": 123,
   "id": "e71fc68d",
   "metadata": {},
   "outputs": [
    {
     "data": {
      "text/plain": [
       "<sklearn.metrics._plot.confusion_matrix.ConfusionMatrixDisplay at 0x7febe18adc10>"
      ]
     },
     "execution_count": 123,
     "metadata": {},
     "output_type": "execute_result"
    },
    {
     "data": {
      "image/png": "[encoded data removed]",
      "text/plain": [
       "<Figure size 432x288 with 2 Axes>"
      ]
     },
     "metadata": {
      "needs_background": "light"
     },
     "output_type": "display_data"
    }
   ],
   "source": [
    "# cross-validation confusion matrix, training data\n",
    "y_pred_os_lsvm = cross_val_predict(lsvm_os_grid_search.best_estimator_, Xtrain, ytrain, cv=10)\n",
    "conf_mat = confusion_matrix(ytrain, y_pred_os_lsvm, normalize=\"true\")\n",
    "ConfusionMatrixDisplay(confusion_matrix=conf_mat,\n",
    "                       display_labels=lsvm_os_grid_search.best_estimator_.classes_\n",
    "                      ).plot(cmap=plt.cm.Blues)"
   ]
  },
  {
   "cell_type": "code",
   "execution_count": 124,
   "id": "fdb5f9b6",
   "metadata": {},
   "outputs": [
    {
     "data": {
      "text/plain": [
       "<sklearn.metrics._plot.confusion_matrix.ConfusionMatrixDisplay at 0x7febc06bdfa0>"
      ]
     },
     "execution_count": 124,
     "metadata": {},
     "output_type": "execute_result"
    },
    {
     "data": {
      "image/png": "[encoded data removed]",
      "text/plain": [
       "<Figure size 432x288 with 2 Axes>"
      ]
     },
     "metadata": {
      "needs_background": "light"
     },
     "output_type": "display_data"
    }
   ],
   "source": [
    "#Confusion matrix on testset\n",
    "ConfusionMatrixDisplay.from_estimator(lsvm_os_grid_search.best_estimator_, Xtest, ytest,\n",
    "                                 display_labels=lsvm_os_grid_search.best_estimator_.classes_,\n",
    "                                 cmap=plt.cm.Blues,\n",
    "                                 normalize='true')"
   ]
  },
  {
   "cell_type": "markdown",
   "id": "5ae691bb",
   "metadata": {},
   "source": [
    "### Undersampling for Support Vector Machine"
   ]
  },
  {
   "cell_type": "code",
   "execution_count": 126,
   "id": "1e932d75",
   "metadata": {},
   "outputs": [
    {
     "name": "stdout",
     "output_type": "stream",
     "text": [
      "best parameters {'cc__sampling_strategy': 1.0, 'lsvm__C': 10, 'lsvm__class_weight': 'balanced'}\n",
      "Took 19.10361671447754 seconds\n"
     ]
    }
   ],
   "source": [
    "pipeline = Pipeline([\n",
    "        ('cc', ClusterCentroids(random_state=2022)),\n",
    "        ('lsvm', LinearSVC(random_state=2022, max_iter=1000)),\n",
    "    ])\n",
    "\n",
    "\n",
    "param_grid = [\n",
    "    {\n",
    "        'cc__sampling_strategy': [0.5, 0.75, 1.0],\n",
    "         \"lsvm__C\": [0.01, 0.1, 0.5, 1, 3, 5, 7, 10],\n",
    "       'lsvm__class_weight':['balanced']\n",
    "    },\n",
    "]\n",
    "\n",
    "# we'll use 10-fold cross-validation\n",
    "lsvm_us_grid_search = GridSearchCV(pipeline, param_grid, cv=5, n_jobs =-1,\n",
    "                              scoring='f1_macro',\n",
    "                              return_train_score=True)\n",
    "\n",
    "#estimate the time needed to run the model\n",
    "start = time.time()\n",
    "lsvm_us_grid_search.fit(Xtrain, ytrain)\n",
    "end = time.time() - start\n",
    "\n",
    "#Print results\n",
    "print(\"best parameters\",lsvm_us_grid_search.best_params_)\n",
    "print(f\"Took {end} seconds\")"
   ]
  },
  {
   "cell_type": "code",
   "execution_count": 127,
   "id": "2ea975d6",
   "metadata": {},
   "outputs": [
    {
     "data": {
      "text/html": [
       "<div>\n",
       "<style scoped>\n",
       "    .dataframe tbody tr th:only-of-type {\n",
       "        vertical-align: middle;\n",
       "    }\n",
       "\n",
       "    .dataframe tbody tr th {\n",
       "        vertical-align: top;\n",
       "    }\n",
       "\n",
       "    .dataframe thead th {\n",
       "        text-align: right;\n",
       "    }\n",
       "</style>\n",
       "<table border=\"1\" class=\"dataframe\">\n",
       "  <thead>\n",
       "    <tr style=\"text-align: right;\">\n",
       "      <th></th>\n",
       "      <th>params</th>\n",
       "      <th>mean_train_score</th>\n",
       "      <th>mean_test_score</th>\n",
       "      <th>diff, %</th>\n",
       "    </tr>\n",
       "  </thead>\n",
       "  <tbody>\n",
       "    <tr>\n",
       "      <th>23</th>\n",
       "      <td>{'cc__sampling_strategy': 1.0, 'lsvm__C': 10, 'lsvm__class_weight': 'balanced'}</td>\n",
       "      <td>0.338325</td>\n",
       "      <td>0.338422</td>\n",
       "      <td>-0.028684</td>\n",
       "    </tr>\n",
       "    <tr>\n",
       "      <th>20</th>\n",
       "      <td>{'cc__sampling_strategy': 1.0, 'lsvm__C': 3, 'lsvm__class_weight': 'balanced'}</td>\n",
       "      <td>0.339682</td>\n",
       "      <td>0.333428</td>\n",
       "      <td>1.841029</td>\n",
       "    </tr>\n",
       "    <tr>\n",
       "      <th>19</th>\n",
       "      <td>{'cc__sampling_strategy': 1.0, 'lsvm__C': 1, 'lsvm__class_weight': 'balanced'}</td>\n",
       "      <td>0.339849</td>\n",
       "      <td>0.332514</td>\n",
       "      <td>2.158284</td>\n",
       "    </tr>\n",
       "    <tr>\n",
       "      <th>21</th>\n",
       "      <td>{'cc__sampling_strategy': 1.0, 'lsvm__C': 5, 'lsvm__class_weight': 'balanced'}</td>\n",
       "      <td>0.338601</td>\n",
       "      <td>0.332161</td>\n",
       "      <td>1.901938</td>\n",
       "    </tr>\n",
       "    <tr>\n",
       "      <th>18</th>\n",
       "      <td>{'cc__sampling_strategy': 1.0, 'lsvm__C': 0.5, 'lsvm__class_weight': 'balanced'}</td>\n",
       "      <td>0.339319</td>\n",
       "      <td>0.331865</td>\n",
       "      <td>2.196639</td>\n",
       "    </tr>\n",
       "    <tr>\n",
       "      <th>17</th>\n",
       "      <td>{'cc__sampling_strategy': 1.0, 'lsvm__C': 0.1, 'lsvm__class_weight': 'balanced'}</td>\n",
       "      <td>0.338386</td>\n",
       "      <td>0.330141</td>\n",
       "      <td>2.436389</td>\n",
       "    </tr>\n",
       "    <tr>\n",
       "      <th>22</th>\n",
       "      <td>{'cc__sampling_strategy': 1.0, 'lsvm__C': 7, 'lsvm__class_weight': 'balanced'}</td>\n",
       "      <td>0.337667</td>\n",
       "      <td>0.329959</td>\n",
       "      <td>2.282925</td>\n",
       "    </tr>\n",
       "    <tr>\n",
       "      <th>16</th>\n",
       "      <td>{'cc__sampling_strategy': 1.0, 'lsvm__C': 0.01, 'lsvm__class_weight': 'balanced'}</td>\n",
       "      <td>0.336590</td>\n",
       "      <td>0.328978</td>\n",
       "      <td>2.261536</td>\n",
       "    </tr>\n",
       "    <tr>\n",
       "      <th>15</th>\n",
       "      <td>{'cc__sampling_strategy': 0.75, 'lsvm__C': 10, 'lsvm__class_weight': 'balanced'}</td>\n",
       "      <td>0.334954</td>\n",
       "      <td>0.327782</td>\n",
       "      <td>2.141366</td>\n",
       "    </tr>\n",
       "    <tr>\n",
       "      <th>9</th>\n",
       "      <td>{'cc__sampling_strategy': 0.75, 'lsvm__C': 0.1, 'lsvm__class_weight': 'balanced'}</td>\n",
       "      <td>0.336926</td>\n",
       "      <td>0.327398</td>\n",
       "      <td>2.828097</td>\n",
       "    </tr>\n",
       "    <tr>\n",
       "      <th>8</th>\n",
       "      <td>{'cc__sampling_strategy': 0.75, 'lsvm__C': 0.01, 'lsvm__class_weight': 'balanced'}</td>\n",
       "      <td>0.334365</td>\n",
       "      <td>0.327214</td>\n",
       "      <td>2.138732</td>\n",
       "    </tr>\n",
       "    <tr>\n",
       "      <th>7</th>\n",
       "      <td>{'cc__sampling_strategy': 0.5, 'lsvm__C': 10, 'lsvm__class_weight': 'balanced'}</td>\n",
       "      <td>0.335700</td>\n",
       "      <td>0.327036</td>\n",
       "      <td>2.580804</td>\n",
       "    </tr>\n",
       "    <tr>\n",
       "      <th>10</th>\n",
       "      <td>{'cc__sampling_strategy': 0.75, 'lsvm__C': 0.5, 'lsvm__class_weight': 'balanced'}</td>\n",
       "      <td>0.336802</td>\n",
       "      <td>0.326489</td>\n",
       "      <td>3.061899</td>\n",
       "    </tr>\n",
       "    <tr>\n",
       "      <th>11</th>\n",
       "      <td>{'cc__sampling_strategy': 0.75, 'lsvm__C': 1, 'lsvm__class_weight': 'balanced'}</td>\n",
       "      <td>0.335334</td>\n",
       "      <td>0.325967</td>\n",
       "      <td>2.793443</td>\n",
       "    </tr>\n",
       "    <tr>\n",
       "      <th>13</th>\n",
       "      <td>{'cc__sampling_strategy': 0.75, 'lsvm__C': 5, 'lsvm__class_weight': 'balanced'}</td>\n",
       "      <td>0.329659</td>\n",
       "      <td>0.324309</td>\n",
       "      <td>1.622938</td>\n",
       "    </tr>\n",
       "    <tr>\n",
       "      <th>12</th>\n",
       "      <td>{'cc__sampling_strategy': 0.75, 'lsvm__C': 3, 'lsvm__class_weight': 'balanced'}</td>\n",
       "      <td>0.333272</td>\n",
       "      <td>0.321930</td>\n",
       "      <td>3.403399</td>\n",
       "    </tr>\n",
       "    <tr>\n",
       "      <th>14</th>\n",
       "      <td>{'cc__sampling_strategy': 0.75, 'lsvm__C': 7, 'lsvm__class_weight': 'balanced'}</td>\n",
       "      <td>0.322428</td>\n",
       "      <td>0.317571</td>\n",
       "      <td>1.506422</td>\n",
       "    </tr>\n",
       "    <tr>\n",
       "      <th>2</th>\n",
       "      <td>{'cc__sampling_strategy': 0.5, 'lsvm__C': 0.5, 'lsvm__class_weight': 'balanced'}</td>\n",
       "      <td>0.323714</td>\n",
       "      <td>0.316743</td>\n",
       "      <td>2.153405</td>\n",
       "    </tr>\n",
       "    <tr>\n",
       "      <th>1</th>\n",
       "      <td>{'cc__sampling_strategy': 0.5, 'lsvm__C': 0.1, 'lsvm__class_weight': 'balanced'}</td>\n",
       "      <td>0.324443</td>\n",
       "      <td>0.316645</td>\n",
       "      <td>2.403472</td>\n",
       "    </tr>\n",
       "    <tr>\n",
       "      <th>0</th>\n",
       "      <td>{'cc__sampling_strategy': 0.5, 'lsvm__C': 0.01, 'lsvm__class_weight': 'balanced'}</td>\n",
       "      <td>0.321610</td>\n",
       "      <td>0.316279</td>\n",
       "      <td>1.657551</td>\n",
       "    </tr>\n",
       "    <tr>\n",
       "      <th>3</th>\n",
       "      <td>{'cc__sampling_strategy': 0.5, 'lsvm__C': 1, 'lsvm__class_weight': 'balanced'}</td>\n",
       "      <td>0.323731</td>\n",
       "      <td>0.315701</td>\n",
       "      <td>2.480610</td>\n",
       "    </tr>\n",
       "    <tr>\n",
       "      <th>6</th>\n",
       "      <td>{'cc__sampling_strategy': 0.5, 'lsvm__C': 7, 'lsvm__class_weight': 'balanced'}</td>\n",
       "      <td>0.325775</td>\n",
       "      <td>0.315682</td>\n",
       "      <td>3.098275</td>\n",
       "    </tr>\n",
       "    <tr>\n",
       "      <th>5</th>\n",
       "      <td>{'cc__sampling_strategy': 0.5, 'lsvm__C': 5, 'lsvm__class_weight': 'balanced'}</td>\n",
       "      <td>0.325064</td>\n",
       "      <td>0.314706</td>\n",
       "      <td>3.186332</td>\n",
       "    </tr>\n",
       "    <tr>\n",
       "      <th>4</th>\n",
       "      <td>{'cc__sampling_strategy': 0.5, 'lsvm__C': 3, 'lsvm__class_weight': 'balanced'}</td>\n",
       "      <td>0.321731</td>\n",
       "      <td>0.311656</td>\n",
       "      <td>3.131511</td>\n",
       "    </tr>\n",
       "  </tbody>\n",
       "</table>\n",
       "</div>"
      ],
      "text/plain": [
       "                                                                                params  \\\n",
       "23     {'cc__sampling_strategy': 1.0, 'lsvm__C': 10, 'lsvm__class_weight': 'balanced'}   \n",
       "20      {'cc__sampling_strategy': 1.0, 'lsvm__C': 3, 'lsvm__class_weight': 'balanced'}   \n",
       "19      {'cc__sampling_strategy': 1.0, 'lsvm__C': 1, 'lsvm__class_weight': 'balanced'}   \n",
       "21      {'cc__sampling_strategy': 1.0, 'lsvm__C': 5, 'lsvm__class_weight': 'balanced'}   \n",
       "18    {'cc__sampling_strategy': 1.0, 'lsvm__C': 0.5, 'lsvm__class_weight': 'balanced'}   \n",
       "17    {'cc__sampling_strategy': 1.0, 'lsvm__C': 0.1, 'lsvm__class_weight': 'balanced'}   \n",
       "22      {'cc__sampling_strategy': 1.0, 'lsvm__C': 7, 'lsvm__class_weight': 'balanced'}   \n",
       "16   {'cc__sampling_strategy': 1.0, 'lsvm__C': 0.01, 'lsvm__class_weight': 'balanced'}   \n",
       "15    {'cc__sampling_strategy': 0.75, 'lsvm__C': 10, 'lsvm__class_weight': 'balanced'}   \n",
       "9    {'cc__sampling_strategy': 0.75, 'lsvm__C': 0.1, 'lsvm__class_weight': 'balanced'}   \n",
       "8   {'cc__sampling_strategy': 0.75, 'lsvm__C': 0.01, 'lsvm__class_weight': 'balanced'}   \n",
       "7      {'cc__sampling_strategy': 0.5, 'lsvm__C': 10, 'lsvm__class_weight': 'balanced'}   \n",
       "10   {'cc__sampling_strategy': 0.75, 'lsvm__C': 0.5, 'lsvm__class_weight': 'balanced'}   \n",
       "11     {'cc__sampling_strategy': 0.75, 'lsvm__C': 1, 'lsvm__class_weight': 'balanced'}   \n",
       "13     {'cc__sampling_strategy': 0.75, 'lsvm__C': 5, 'lsvm__class_weight': 'balanced'}   \n",
       "12     {'cc__sampling_strategy': 0.75, 'lsvm__C': 3, 'lsvm__class_weight': 'balanced'}   \n",
       "14     {'cc__sampling_strategy': 0.75, 'lsvm__C': 7, 'lsvm__class_weight': 'balanced'}   \n",
       "2     {'cc__sampling_strategy': 0.5, 'lsvm__C': 0.5, 'lsvm__class_weight': 'balanced'}   \n",
       "1     {'cc__sampling_strategy': 0.5, 'lsvm__C': 0.1, 'lsvm__class_weight': 'balanced'}   \n",
       "0    {'cc__sampling_strategy': 0.5, 'lsvm__C': 0.01, 'lsvm__class_weight': 'balanced'}   \n",
       "3       {'cc__sampling_strategy': 0.5, 'lsvm__C': 1, 'lsvm__class_weight': 'balanced'}   \n",
       "6       {'cc__sampling_strategy': 0.5, 'lsvm__C': 7, 'lsvm__class_weight': 'balanced'}   \n",
       "5       {'cc__sampling_strategy': 0.5, 'lsvm__C': 5, 'lsvm__class_weight': 'balanced'}   \n",
       "4       {'cc__sampling_strategy': 0.5, 'lsvm__C': 3, 'lsvm__class_weight': 'balanced'}   \n",
       "\n",
       "    mean_train_score  mean_test_score   diff, %  \n",
       "23          0.338325         0.338422 -0.028684  \n",
       "20          0.339682         0.333428  1.841029  \n",
       "19          0.339849         0.332514  2.158284  \n",
       "21          0.338601         0.332161  1.901938  \n",
       "18          0.339319         0.331865  2.196639  \n",
       "17          0.338386         0.330141  2.436389  \n",
       "22          0.337667         0.329959  2.282925  \n",
       "16          0.336590         0.328978  2.261536  \n",
       "15          0.334954         0.327782  2.141366  \n",
       "9           0.336926         0.327398  2.828097  \n",
       "8           0.334365         0.327214  2.138732  \n",
       "7           0.335700         0.327036  2.580804  \n",
       "10          0.336802         0.326489  3.061899  \n",
       "11          0.335334         0.325967  2.793443  \n",
       "13          0.329659         0.324309  1.622938  \n",
       "12          0.333272         0.321930  3.403399  \n",
       "14          0.322428         0.317571  1.506422  \n",
       "2           0.323714         0.316743  2.153405  \n",
       "1           0.324443         0.316645  2.403472  \n",
       "0           0.321610         0.316279  1.657551  \n",
       "3           0.323731         0.315701  2.480610  \n",
       "6           0.325775         0.315682  3.098275  \n",
       "5           0.325064         0.314706  3.186332  \n",
       "4           0.321731         0.311656  3.131511  "
      ]
     },
     "execution_count": 127,
     "metadata": {},
     "output_type": "execute_result"
    }
   ],
   "source": [
    "cv_results = pd.DataFrame(lsvm_us_grid_search.cv_results_\n",
    "                         )[['params', 'mean_train_score', 'mean_test_score']]\n",
    "cv_results[\"diff, %\"] = 100*(cv_results[\"mean_train_score\"]-cv_results[\"mean_test_score\"]\n",
    "                                                     )/cv_results[\"mean_train_score\"]\n",
    "\n",
    "pd.set_option('display.max_colwidth', 100)\n",
    "cv_results.sort_values('mean_test_score', ascending=False)"
   ]
  },
  {
   "cell_type": "code",
   "execution_count": 128,
   "id": "bdcaac69",
   "metadata": {},
   "outputs": [
    {
     "data": {
      "text/plain": [
       "<sklearn.metrics._plot.confusion_matrix.ConfusionMatrixDisplay at 0x7febe13b6d00>"
      ]
     },
     "execution_count": 128,
     "metadata": {},
     "output_type": "execute_result"
    },
    {
     "data": {
      "image/png": "[encoded data removed]",
      "text/plain": [
       "<Figure size 432x288 with 2 Axes>"
      ]
     },
     "metadata": {
      "needs_background": "light"
     },
     "output_type": "display_data"
    }
   ],
   "source": [
    "# cross-validation confusion matrix, training data\n",
    "y_pred_lsvm_us = cross_val_predict(lsvm_us_grid_search.best_estimator_, Xtrain, ytrain, cv=5)\n",
    "conf_mat = confusion_matrix(ytrain, y_pred_lsvm_us, normalize=\"true\")\n",
    "ConfusionMatrixDisplay(confusion_matrix=conf_mat,\n",
    "                       display_labels=lsvm_us_grid_search.best_estimator_.classes_\n",
    "                      ).plot(cmap=plt.cm.Blues)"
   ]
  },
  {
   "cell_type": "code",
   "execution_count": 129,
   "id": "05cad384",
   "metadata": {},
   "outputs": [
    {
     "data": {
      "text/plain": [
       "<sklearn.metrics._plot.confusion_matrix.ConfusionMatrixDisplay at 0x7febb1d1abb0>"
      ]
     },
     "execution_count": 129,
     "metadata": {},
     "output_type": "execute_result"
    },
    {
     "data": {
      "image/png": "[encoded data removed]",
      "text/plain": [
       "<Figure size 432x288 with 2 Axes>"
      ]
     },
     "metadata": {
      "needs_background": "light"
     },
     "output_type": "display_data"
    }
   ],
   "source": [
    "#Confusion matrix on testing data\n",
    "ConfusionMatrixDisplay.from_estimator(lsvm_us_grid_search.best_estimator_, Xtest, ytest,\n",
    "                                 display_labels=lsvm_us_grid_search.best_estimator_.classes_,\n",
    "                                 cmap=plt.cm.Blues,\n",
    "                                 normalize='true')"
   ]
  },
  {
   "cell_type": "markdown",
   "id": "57f8c323",
   "metadata": {},
   "source": [
    "## Evaluation"
   ]
  },
  {
   "cell_type": "code",
   "execution_count": 120,
   "id": "fede2c6d",
   "metadata": {},
   "outputs": [
    {
     "name": "stdout",
     "output_type": "stream",
     "text": [
      "              precision    recall  f1-score   support\n",
      "\n",
      "           0       0.97      0.99      0.98       942\n",
      "           1       0.31      0.11      0.17        35\n",
      "\n",
      "    accuracy                           0.96       977\n",
      "   macro avg       0.64      0.55      0.57       977\n",
      "weighted avg       0.94      0.96      0.95       977\n",
      "\n"
     ]
    }
   ],
   "source": [
    "# Unbalanced SVM\n",
    "evaluate_on_test(linearSVC.best_estimator_, ytest, Xtest)"
   ]
  },
  {
   "cell_type": "code",
   "execution_count": 125,
   "id": "74f60f69",
   "metadata": {},
   "outputs": [
    {
     "name": "stdout",
     "output_type": "stream",
     "text": [
      "              precision    recall  f1-score   support\n",
      "\n",
      "           0       0.97      0.71      0.82       942\n",
      "           1       0.06      0.49      0.10        35\n",
      "\n",
      "    accuracy                           0.70       977\n",
      "   macro avg       0.52      0.60      0.46       977\n",
      "weighted avg       0.94      0.70      0.79       977\n",
      "\n"
     ]
    }
   ],
   "source": [
    "# oversampling SVM\n",
    "evaluate_on_test(lsvm_os_grid_search.best_estimator_, ytest, Xtest)"
   ]
  },
  {
   "cell_type": "code",
   "execution_count": 130,
   "id": "8fa5a398",
   "metadata": {},
   "outputs": [
    {
     "name": "stdout",
     "output_type": "stream",
     "text": [
      "              precision    recall  f1-score   support\n",
      "\n",
      "           0       0.98      0.42      0.58       942\n",
      "           1       0.05      0.74      0.08        35\n",
      "\n",
      "    accuracy                           0.43       977\n",
      "   macro avg       0.51      0.58      0.33       977\n",
      "weighted avg       0.94      0.43      0.56       977\n",
      "\n"
     ]
    }
   ],
   "source": [
    "# undersampling SVM\n",
    "evaluate_on_test(lsvm_us_grid_search.best_estimator_, ytest, Xtest)"
   ]
  },
  {
   "cell_type": "markdown",
   "id": "0b2c6745",
   "metadata": {},
   "source": [
    "For Support Vector Machine, it seems that oversampling is performing best here with the right blend of 0.49 for fatal cases and 0.71 for non-fatal cases. "
   ]
  },
  {
   "cell_type": "markdown",
   "id": "94f2e79a",
   "metadata": {},
   "source": [
    "## 7.2.3 Decision Tree"
   ]
  },
  {
   "cell_type": "code",
   "execution_count": 131,
   "id": "43d25610",
   "metadata": {},
   "outputs": [
    {
     "name": "stdout",
     "output_type": "stream",
     "text": [
      "Took 6.542407751083374 seconds\n",
      "best parameters {'ccp_alpha': 0.001, 'class_weight': 'balanced', 'criterion': 'entropy', 'max_depth': None, 'max_features': 'sqrt', 'min_samples_split': 2}\n",
      "f-score : 0.5136715021177073\n"
     ]
    }
   ],
   "source": [
    "from sklearn.tree import DecisionTreeClassifier\n",
    "from sklearn import tree\n",
    "dec_tree = tree.DecisionTreeClassifier()\n",
    "param_grid = {\n",
    "    'criterion':['gini','entropy'],\n",
    "    'max_depth': [5, None],\n",
    "    'max_features': ['auto', 'sqrt', 'log2'],\n",
    "    'ccp_alpha': [0.1, .01, .001],\n",
    "    'min_samples_split': [2, 3, 4],\n",
    "    'class_weight':['balanced']\n",
    "}\n",
    "\n",
    "# we'll use 10-fold cross-validation\n",
    "dec_tree_cv = GridSearchCV(dec_tree, param_grid, cv=10,\n",
    "                           scoring='f1_macro',\n",
    "                           return_train_score=True) \n",
    "\n",
    "#Estimate the time needed to run the model \n",
    "start = time.time()\n",
    "dec_tree_cv.fit(Xtrain, ytrain)\n",
    "end = time.time() - start\n",
    "\n",
    "# Print results\n",
    "print(f\"Took {end} seconds\")\n",
    "print(\"best parameters\",dec_tree_cv.best_params_)\n",
    "print(\"f-score :\",dec_tree_cv.best_score_)"
   ]
  },
  {
   "cell_type": "code",
   "execution_count": 132,
   "id": "46483a4a",
   "metadata": {},
   "outputs": [
    {
     "data": {
      "text/html": [
       "<div>\n",
       "<style scoped>\n",
       "    .dataframe tbody tr th:only-of-type {\n",
       "        vertical-align: middle;\n",
       "    }\n",
       "\n",
       "    .dataframe tbody tr th {\n",
       "        vertical-align: top;\n",
       "    }\n",
       "\n",
       "    .dataframe thead th {\n",
       "        text-align: right;\n",
       "    }\n",
       "</style>\n",
       "<table border=\"1\" class=\"dataframe\">\n",
       "  <thead>\n",
       "    <tr style=\"text-align: right;\">\n",
       "      <th></th>\n",
       "      <th>params</th>\n",
       "      <th>mean_train_score</th>\n",
       "      <th>mean_test_score</th>\n",
       "      <th>diff, %</th>\n",
       "    </tr>\n",
       "  </thead>\n",
       "  <tbody>\n",
       "    <tr>\n",
       "      <th>102</th>\n",
       "      <td>{'ccp_alpha': 0.001, 'class_weight': 'balanced', 'criterion': 'entropy', 'max_depth': None, 'max...</td>\n",
       "      <td>0.805561</td>\n",
       "      <td>0.513672</td>\n",
       "      <td>36.234324</td>\n",
       "    </tr>\n",
       "    <tr>\n",
       "      <th>101</th>\n",
       "      <td>{'ccp_alpha': 0.001, 'class_weight': 'balanced', 'criterion': 'entropy', 'max_depth': None, 'max...</td>\n",
       "      <td>0.779326</td>\n",
       "      <td>0.506507</td>\n",
       "      <td>35.007100</td>\n",
       "    </tr>\n",
       "    <tr>\n",
       "      <th>99</th>\n",
       "      <td>{'ccp_alpha': 0.001, 'class_weight': 'balanced', 'criterion': 'entropy', 'max_depth': None, 'max...</td>\n",
       "      <td>0.805772</td>\n",
       "      <td>0.502904</td>\n",
       "      <td>37.587340</td>\n",
       "    </tr>\n",
       "    <tr>\n",
       "      <th>104</th>\n",
       "      <td>{'ccp_alpha': 0.001, 'class_weight': 'balanced', 'criterion': 'entropy', 'max_depth': None, 'max...</td>\n",
       "      <td>0.780759</td>\n",
       "      <td>0.502079</td>\n",
       "      <td>35.693529</td>\n",
       "    </tr>\n",
       "    <tr>\n",
       "      <th>100</th>\n",
       "      <td>{'ccp_alpha': 0.001, 'class_weight': 'balanced', 'criterion': 'entropy', 'max_depth': None, 'max...</td>\n",
       "      <td>0.800317</td>\n",
       "      <td>0.501928</td>\n",
       "      <td>37.283884</td>\n",
       "    </tr>\n",
       "    <tr>\n",
       "      <th>...</th>\n",
       "      <td>...</td>\n",
       "      <td>...</td>\n",
       "      <td>...</td>\n",
       "      <td>...</td>\n",
       "    </tr>\n",
       "    <tr>\n",
       "      <th>24</th>\n",
       "      <td>{'ccp_alpha': 0.1, 'class_weight': 'balanced', 'criterion': 'entropy', 'max_depth': 5, 'max_feat...</td>\n",
       "      <td>0.217117</td>\n",
       "      <td>0.217146</td>\n",
       "      <td>-0.013444</td>\n",
       "    </tr>\n",
       "    <tr>\n",
       "      <th>23</th>\n",
       "      <td>{'ccp_alpha': 0.1, 'class_weight': 'balanced', 'criterion': 'entropy', 'max_depth': 5, 'max_feat...</td>\n",
       "      <td>0.217117</td>\n",
       "      <td>0.217146</td>\n",
       "      <td>-0.013444</td>\n",
       "    </tr>\n",
       "    <tr>\n",
       "      <th>22</th>\n",
       "      <td>{'ccp_alpha': 0.1, 'class_weight': 'balanced', 'criterion': 'entropy', 'max_depth': 5, 'max_feat...</td>\n",
       "      <td>0.217117</td>\n",
       "      <td>0.217146</td>\n",
       "      <td>-0.013444</td>\n",
       "    </tr>\n",
       "    <tr>\n",
       "      <th>0</th>\n",
       "      <td>{'ccp_alpha': 0.1, 'class_weight': 'balanced', 'criterion': 'gini', 'max_depth': 5, 'max_feature...</td>\n",
       "      <td>0.217117</td>\n",
       "      <td>0.217146</td>\n",
       "      <td>-0.013444</td>\n",
       "    </tr>\n",
       "    <tr>\n",
       "      <th>43</th>\n",
       "      <td>{'ccp_alpha': 0.01, 'class_weight': 'balanced', 'criterion': 'gini', 'max_depth': 5, 'max_featur...</td>\n",
       "      <td>0.212840</td>\n",
       "      <td>0.212354</td>\n",
       "      <td>0.228713</td>\n",
       "    </tr>\n",
       "  </tbody>\n",
       "</table>\n",
       "<p>108 rows × 4 columns</p>\n",
       "</div>"
      ],
      "text/plain": [
       "                                                                                                  params  \\\n",
       "102  {'ccp_alpha': 0.001, 'class_weight': 'balanced', 'criterion': 'entropy', 'max_depth': None, 'max...   \n",
       "101  {'ccp_alpha': 0.001, 'class_weight': 'balanced', 'criterion': 'entropy', 'max_depth': None, 'max...   \n",
       "99   {'ccp_alpha': 0.001, 'class_weight': 'balanced', 'criterion': 'entropy', 'max_depth': None, 'max...   \n",
       "104  {'ccp_alpha': 0.001, 'class_weight': 'balanced', 'criterion': 'entropy', 'max_depth': None, 'max...   \n",
       "100  {'ccp_alpha': 0.001, 'class_weight': 'balanced', 'criterion': 'entropy', 'max_depth': None, 'max...   \n",
       "..                                                                                                   ...   \n",
       "24   {'ccp_alpha': 0.1, 'class_weight': 'balanced', 'criterion': 'entropy', 'max_depth': 5, 'max_feat...   \n",
       "23   {'ccp_alpha': 0.1, 'class_weight': 'balanced', 'criterion': 'entropy', 'max_depth': 5, 'max_feat...   \n",
       "22   {'ccp_alpha': 0.1, 'class_weight': 'balanced', 'criterion': 'entropy', 'max_depth': 5, 'max_feat...   \n",
       "0    {'ccp_alpha': 0.1, 'class_weight': 'balanced', 'criterion': 'gini', 'max_depth': 5, 'max_feature...   \n",
       "43   {'ccp_alpha': 0.01, 'class_weight': 'balanced', 'criterion': 'gini', 'max_depth': 5, 'max_featur...   \n",
       "\n",
       "     mean_train_score  mean_test_score    diff, %  \n",
       "102          0.805561         0.513672  36.234324  \n",
       "101          0.779326         0.506507  35.007100  \n",
       "99           0.805772         0.502904  37.587340  \n",
       "104          0.780759         0.502079  35.693529  \n",
       "100          0.800317         0.501928  37.283884  \n",
       "..                ...              ...        ...  \n",
       "24           0.217117         0.217146  -0.013444  \n",
       "23           0.217117         0.217146  -0.013444  \n",
       "22           0.217117         0.217146  -0.013444  \n",
       "0            0.217117         0.217146  -0.013444  \n",
       "43           0.212840         0.212354   0.228713  \n",
       "\n",
       "[108 rows x 4 columns]"
      ]
     },
     "execution_count": 132,
     "metadata": {},
     "output_type": "execute_result"
    }
   ],
   "source": [
    "cv_results = pd.DataFrame(dec_tree_cv.cv_results_\n",
    "                         )[['params', 'mean_train_score', 'mean_test_score']]\n",
    "cv_results[\"diff, %\"] = 100*(cv_results[\"mean_train_score\"]-cv_results[\"mean_test_score\"]\n",
    "                                                     )/cv_results[\"mean_train_score\"]\n",
    "\n",
    "pd.set_option('display.max_colwidth', 100)\n",
    "cv_results.sort_values('mean_test_score', ascending=False)"
   ]
  },
  {
   "cell_type": "code",
   "execution_count": 133,
   "id": "db26040e",
   "metadata": {},
   "outputs": [
    {
     "data": {
      "text/plain": [
       "<sklearn.metrics._plot.confusion_matrix.ConfusionMatrixDisplay at 0x7feb6025ceb0>"
      ]
     },
     "execution_count": 133,
     "metadata": {},
     "output_type": "execute_result"
    },
    {
     "data": {
      "image/png": "[encoded data removed]",
      "text/plain": [
       "<Figure size 432x288 with 2 Axes>"
      ]
     },
     "metadata": {
      "needs_background": "light"
     },
     "output_type": "display_data"
    }
   ],
   "source": [
    "# cross-validation confusion matrix, training data\n",
    "y_pred_dt = cross_val_predict(dec_tree_cv.best_estimator_, Xtrain, ytrain, cv=10)\n",
    "conf_mat = confusion_matrix(ytrain, y_pred_dt, normalize=\"true\")\n",
    "ConfusionMatrixDisplay(confusion_matrix=conf_mat,\n",
    "                       display_labels=dec_tree_cv.best_estimator_.classes_\n",
    "                      ).plot(cmap=plt.cm.Blues)"
   ]
  },
  {
   "cell_type": "code",
   "execution_count": 134,
   "id": "b2efaf7d",
   "metadata": {},
   "outputs": [
    {
     "data": {
      "text/plain": [
       "<sklearn.metrics._plot.confusion_matrix.ConfusionMatrixDisplay at 0x7feb70387a60>"
      ]
     },
     "execution_count": 134,
     "metadata": {},
     "output_type": "execute_result"
    },
    {
     "data": {
      "image/png": "[encoded data removed]",
      "text/plain": [
       "<Figure size 432x288 with 2 Axes>"
      ]
     },
     "metadata": {
      "needs_background": "light"
     },
     "output_type": "display_data"
    }
   ],
   "source": [
    "#Confusion matrix on testing data\n",
    "ConfusionMatrixDisplay.from_estimator(dec_tree_cv.best_estimator_, Xtest, ytest,\n",
    "                                 display_labels=dec_tree_cv.best_estimator_.classes_,\n",
    "                                 cmap=plt.cm.Blues,\n",
    "                                 normalize='true')"
   ]
  },
  {
   "cell_type": "markdown",
   "id": "05440a93",
   "metadata": {},
   "source": [
    "### Oversampling for Decision Tree"
   ]
  },
  {
   "cell_type": "code",
   "execution_count": 136,
   "id": "0c8ce91d",
   "metadata": {},
   "outputs": [
    {
     "name": "stdout",
     "output_type": "stream",
     "text": [
      "best parameters {'dt__ccp_alpha': 0.001, 'dt__class_weight': 'balanced', 'dt__criterion': 'entropy', 'dt__max_depth': None, 'dt__max_features': 'auto', 'dt__min_samples_split': 2, 'smote__sampling_strategy': 0.5}\n",
      "f-score : 0.5133857423188736\n",
      "Took 44.79985308647156 seconds\n"
     ]
    }
   ],
   "source": [
    "pipeline = Pipeline([\n",
    "        ('smote', SMOTE(random_state=2022)),\n",
    "        ('dt', tree.DecisionTreeClassifier(random_state=2022))\n",
    "    ])\n",
    "\n",
    "param_grid = [\n",
    "    {\n",
    "        'smote__sampling_strategy': [0.5, 0.75, 1.0],\n",
    "        'dt__criterion':['gini','entropy'],\n",
    "    'dt__max_depth': [5, None],\n",
    "    'dt__max_features': ['auto', 'sqrt', 'log2'],\n",
    "    'dt__ccp_alpha': [0.1, .01, .001],\n",
    "    'dt__min_samples_split': [2, 3, 4],\n",
    "    'dt__class_weight':['balanced']\n",
    "    },\n",
    "]\n",
    "\n",
    "# we'll use 10-fold cross-validation\n",
    "dt_os_grid_search = GridSearchCV(pipeline, param_grid, cv=10, \n",
    "                              scoring='f1_macro',\n",
    "                              return_train_score=True)\n",
    "\n",
    "#estimate the time needed to run the model\n",
    "start = time.time()\n",
    "dt_os_grid_search.fit(Xtrain, ytrain)\n",
    "end = time.time() - start\n",
    "\n",
    "#Print results\n",
    "print(\"best parameters\",dt_os_grid_search.best_params_)\n",
    "print(\"f-score :\",dt_os_grid_search.best_score_)\n",
    "print(f\"Took {end} seconds\")"
   ]
  },
  {
   "cell_type": "code",
   "execution_count": 137,
   "id": "37e1a4a0",
   "metadata": {},
   "outputs": [
    {
     "data": {
      "text/html": [
       "<div>\n",
       "<style scoped>\n",
       "    .dataframe tbody tr th:only-of-type {\n",
       "        vertical-align: middle;\n",
       "    }\n",
       "\n",
       "    .dataframe tbody tr th {\n",
       "        vertical-align: top;\n",
       "    }\n",
       "\n",
       "    .dataframe thead th {\n",
       "        text-align: right;\n",
       "    }\n",
       "</style>\n",
       "<table border=\"1\" class=\"dataframe\">\n",
       "  <thead>\n",
       "    <tr style=\"text-align: right;\">\n",
       "      <th></th>\n",
       "      <th>params</th>\n",
       "      <th>mean_train_score</th>\n",
       "      <th>mean_test_score</th>\n",
       "      <th>diff, %</th>\n",
       "    </tr>\n",
       "  </thead>\n",
       "  <tbody>\n",
       "    <tr>\n",
       "      <th>297</th>\n",
       "      <td>{'dt__ccp_alpha': 0.001, 'dt__class_weight': 'balanced', 'dt__criterion': 'entropy', 'dt__max_de...</td>\n",
       "      <td>0.653006</td>\n",
       "      <td>0.513386</td>\n",
       "      <td>21.381148</td>\n",
       "    </tr>\n",
       "    <tr>\n",
       "      <th>306</th>\n",
       "      <td>{'dt__ccp_alpha': 0.001, 'dt__class_weight': 'balanced', 'dt__criterion': 'entropy', 'dt__max_de...</td>\n",
       "      <td>0.653006</td>\n",
       "      <td>0.513386</td>\n",
       "      <td>21.381148</td>\n",
       "    </tr>\n",
       "    <tr>\n",
       "      <th>315</th>\n",
       "      <td>{'dt__ccp_alpha': 0.001, 'dt__class_weight': 'balanced', 'dt__criterion': 'entropy', 'dt__max_de...</td>\n",
       "      <td>0.653006</td>\n",
       "      <td>0.513386</td>\n",
       "      <td>21.381148</td>\n",
       "    </tr>\n",
       "    <tr>\n",
       "      <th>311</th>\n",
       "      <td>{'dt__ccp_alpha': 0.001, 'dt__class_weight': 'balanced', 'dt__criterion': 'entropy', 'dt__max_de...</td>\n",
       "      <td>0.638591</td>\n",
       "      <td>0.512392</td>\n",
       "      <td>19.762113</td>\n",
       "    </tr>\n",
       "    <tr>\n",
       "      <th>302</th>\n",
       "      <td>{'dt__ccp_alpha': 0.001, 'dt__class_weight': 'balanced', 'dt__criterion': 'entropy', 'dt__max_de...</td>\n",
       "      <td>0.638591</td>\n",
       "      <td>0.512392</td>\n",
       "      <td>19.762113</td>\n",
       "    </tr>\n",
       "    <tr>\n",
       "      <th>...</th>\n",
       "      <td>...</td>\n",
       "      <td>...</td>\n",
       "      <td>...</td>\n",
       "      <td>...</td>\n",
       "    </tr>\n",
       "    <tr>\n",
       "      <th>84</th>\n",
       "      <td>{'dt__ccp_alpha': 0.1, 'dt__class_weight': 'balanced', 'dt__criterion': 'entropy', 'dt__max_dept...</td>\n",
       "      <td>0.308373</td>\n",
       "      <td>0.308344</td>\n",
       "      <td>0.009454</td>\n",
       "    </tr>\n",
       "    <tr>\n",
       "      <th>66</th>\n",
       "      <td>{'dt__ccp_alpha': 0.1, 'dt__class_weight': 'balanced', 'dt__criterion': 'entropy', 'dt__max_dept...</td>\n",
       "      <td>0.308373</td>\n",
       "      <td>0.308344</td>\n",
       "      <td>0.009454</td>\n",
       "    </tr>\n",
       "    <tr>\n",
       "      <th>63</th>\n",
       "      <td>{'dt__ccp_alpha': 0.1, 'dt__class_weight': 'balanced', 'dt__criterion': 'entropy', 'dt__max_dept...</td>\n",
       "      <td>0.308373</td>\n",
       "      <td>0.308344</td>\n",
       "      <td>0.009454</td>\n",
       "    </tr>\n",
       "    <tr>\n",
       "      <th>60</th>\n",
       "      <td>{'dt__ccp_alpha': 0.1, 'dt__class_weight': 'balanced', 'dt__criterion': 'entropy', 'dt__max_dept...</td>\n",
       "      <td>0.308373</td>\n",
       "      <td>0.308344</td>\n",
       "      <td>0.009454</td>\n",
       "    </tr>\n",
       "    <tr>\n",
       "      <th>0</th>\n",
       "      <td>{'dt__ccp_alpha': 0.1, 'dt__class_weight': 'balanced', 'dt__criterion': 'gini', 'dt__max_depth':...</td>\n",
       "      <td>0.308373</td>\n",
       "      <td>0.308344</td>\n",
       "      <td>0.009454</td>\n",
       "    </tr>\n",
       "  </tbody>\n",
       "</table>\n",
       "<p>324 rows × 4 columns</p>\n",
       "</div>"
      ],
      "text/plain": [
       "                                                                                                  params  \\\n",
       "297  {'dt__ccp_alpha': 0.001, 'dt__class_weight': 'balanced', 'dt__criterion': 'entropy', 'dt__max_de...   \n",
       "306  {'dt__ccp_alpha': 0.001, 'dt__class_weight': 'balanced', 'dt__criterion': 'entropy', 'dt__max_de...   \n",
       "315  {'dt__ccp_alpha': 0.001, 'dt__class_weight': 'balanced', 'dt__criterion': 'entropy', 'dt__max_de...   \n",
       "311  {'dt__ccp_alpha': 0.001, 'dt__class_weight': 'balanced', 'dt__criterion': 'entropy', 'dt__max_de...   \n",
       "302  {'dt__ccp_alpha': 0.001, 'dt__class_weight': 'balanced', 'dt__criterion': 'entropy', 'dt__max_de...   \n",
       "..                                                                                                   ...   \n",
       "84   {'dt__ccp_alpha': 0.1, 'dt__class_weight': 'balanced', 'dt__criterion': 'entropy', 'dt__max_dept...   \n",
       "66   {'dt__ccp_alpha': 0.1, 'dt__class_weight': 'balanced', 'dt__criterion': 'entropy', 'dt__max_dept...   \n",
       "63   {'dt__ccp_alpha': 0.1, 'dt__class_weight': 'balanced', 'dt__criterion': 'entropy', 'dt__max_dept...   \n",
       "60   {'dt__ccp_alpha': 0.1, 'dt__class_weight': 'balanced', 'dt__criterion': 'entropy', 'dt__max_dept...   \n",
       "0    {'dt__ccp_alpha': 0.1, 'dt__class_weight': 'balanced', 'dt__criterion': 'gini', 'dt__max_depth':...   \n",
       "\n",
       "     mean_train_score  mean_test_score    diff, %  \n",
       "297          0.653006         0.513386  21.381148  \n",
       "306          0.653006         0.513386  21.381148  \n",
       "315          0.653006         0.513386  21.381148  \n",
       "311          0.638591         0.512392  19.762113  \n",
       "302          0.638591         0.512392  19.762113  \n",
       "..                ...              ...        ...  \n",
       "84           0.308373         0.308344   0.009454  \n",
       "66           0.308373         0.308344   0.009454  \n",
       "63           0.308373         0.308344   0.009454  \n",
       "60           0.308373         0.308344   0.009454  \n",
       "0            0.308373         0.308344   0.009454  \n",
       "\n",
       "[324 rows x 4 columns]"
      ]
     },
     "execution_count": 137,
     "metadata": {},
     "output_type": "execute_result"
    }
   ],
   "source": [
    "# training and validation RMSE\n",
    "dt_os_cv_results = pd.DataFrame(dt_os_grid_search.cv_results_\n",
    "                         )[['params', 'mean_train_score', 'mean_test_score']]\n",
    "dt_os_cv_results[\"diff, %\"] = 100*(dt_os_cv_results[\"mean_train_score\"]-dt_os_cv_results[\"mean_test_score\"]\n",
    "                                                     )/dt_os_cv_results[\"mean_train_score\"]\n",
    "\n",
    "pd.set_option('display.max_colwidth', 100)\n",
    "dt_os_cv_results.sort_values('mean_test_score', ascending=False)"
   ]
  },
  {
   "cell_type": "markdown",
   "id": "7b4bcd68",
   "metadata": {},
   "source": [
    "the model seems to have overfitting problem. "
   ]
  },
  {
   "cell_type": "code",
   "execution_count": 138,
   "id": "8b9f29f9",
   "metadata": {},
   "outputs": [
    {
     "data": {
      "text/plain": [
       "<sklearn.metrics._plot.confusion_matrix.ConfusionMatrixDisplay at 0x7feb81d1afa0>"
      ]
     },
     "execution_count": 138,
     "metadata": {},
     "output_type": "execute_result"
    },
    {
     "data": {
      "image/png": "[encoded data removed]",
      "text/plain": [
       "<Figure size 432x288 with 2 Axes>"
      ]
     },
     "metadata": {
      "needs_background": "light"
     },
     "output_type": "display_data"
    }
   ],
   "source": [
    "# cross-validation confusion matrix, training data\n",
    "y_pred_os_dt = cross_val_predict(dt_os_grid_search.best_estimator_, Xtrain, ytrain, cv=10)\n",
    "conf_mat = confusion_matrix(ytrain, y_pred_os_dt, normalize=\"true\")\n",
    "ConfusionMatrixDisplay(confusion_matrix=conf_mat,\n",
    "                       display_labels=dt_os_grid_search.best_estimator_.classes_\n",
    "                      ).plot(cmap=plt.cm.Blues)"
   ]
  },
  {
   "cell_type": "code",
   "execution_count": 139,
   "id": "94aeb1bc",
   "metadata": {},
   "outputs": [
    {
     "data": {
      "text/plain": [
       "<sklearn.metrics._plot.confusion_matrix.ConfusionMatrixDisplay at 0x7feb7088a280>"
      ]
     },
     "execution_count": 139,
     "metadata": {},
     "output_type": "execute_result"
    },
    {
     "data": {
      "image/png": "[encoded data removed]",
      "text/plain": [
       "<Figure size 432x288 with 2 Axes>"
      ]
     },
     "metadata": {
      "needs_background": "light"
     },
     "output_type": "display_data"
    }
   ],
   "source": [
    "#Confusion matrix on testing data\n",
    "ConfusionMatrixDisplay.from_estimator(dt_os_grid_search.best_estimator_, Xtest, ytest,\n",
    "                                 display_labels=dt_os_grid_search.best_estimator_.classes_,\n",
    "                                 cmap=plt.cm.Blues,\n",
    "                                 normalize='true')"
   ]
  },
  {
   "cell_type": "markdown",
   "id": "e0a8793e",
   "metadata": {},
   "source": [
    "### Undersampling for Decision Tree"
   ]
  },
  {
   "cell_type": "code",
   "execution_count": 141,
   "id": "7317bb76",
   "metadata": {},
   "outputs": [
    {
     "name": "stdout",
     "output_type": "stream",
     "text": [
      "best parameters {'cc__sampling_strategy': 0.5, 'dt__ccp_alpha': 0.1, 'dt__class_weight': 'balanced', 'dt__criterion': 'gini', 'dt__max_depth': 5}\n",
      "f-score : 0.49087113794604004\n",
      "Took 76.58957195281982 seconds\n"
     ]
    }
   ],
   "source": [
    "pipeline = Pipeline([\n",
    "        ('cc', ClusterCentroids(random_state=2022)),\n",
    "        ('dt', tree.DecisionTreeClassifier(random_state=2022))\n",
    "    ])\n",
    "\n",
    "\n",
    "param_grid = [\n",
    "    {\n",
    "        'cc__sampling_strategy': [0.5, 0.75, 1.0],\n",
    "        'dt__criterion':['gini','entropy'],\n",
    "        'dt__max_depth': [5, None],\n",
    "        'dt__ccp_alpha': [0.1, .01, .001],\n",
    "        'dt__class_weight':['balanced']       \n",
    "    },\n",
    "]\n",
    "\n",
    "# we'll use 10-fold cross-validation\n",
    "dt_us_grid_search = GridSearchCV(pipeline, param_grid, cv=10, n_jobs =-1,\n",
    "                              scoring='f1_macro',\n",
    "                              return_train_score=True)\n",
    "\n",
    "#estimate the time needed to run the model\n",
    "start = time.time()\n",
    "dt_us_grid_search.fit(Xtrain, ytrain)\n",
    "end = time.time() - start\n",
    "\n",
    "#Print results\n",
    "print(\"best parameters\",dt_us_grid_search.best_params_)\n",
    "print(\"f-score :\",dt_us_grid_search.best_score_)\n",
    "print(f\"Took {end} seconds\")"
   ]
  },
  {
   "cell_type": "code",
   "execution_count": 142,
   "id": "cd0c3579",
   "metadata": {},
   "outputs": [
    {
     "data": {
      "text/html": [
       "<div>\n",
       "<style scoped>\n",
       "    .dataframe tbody tr th:only-of-type {\n",
       "        vertical-align: middle;\n",
       "    }\n",
       "\n",
       "    .dataframe tbody tr th {\n",
       "        vertical-align: top;\n",
       "    }\n",
       "\n",
       "    .dataframe thead th {\n",
       "        text-align: right;\n",
       "    }\n",
       "</style>\n",
       "<table border=\"1\" class=\"dataframe\">\n",
       "  <thead>\n",
       "    <tr style=\"text-align: right;\">\n",
       "      <th></th>\n",
       "      <th>params</th>\n",
       "      <th>mean_train_score</th>\n",
       "      <th>mean_test_score</th>\n",
       "      <th>diff, %</th>\n",
       "    </tr>\n",
       "  </thead>\n",
       "  <tbody>\n",
       "    <tr>\n",
       "      <th>0</th>\n",
       "      <td>{'cc__sampling_strategy': 0.5, 'dt__ccp_alpha': 0.1, 'dt__class_weight': 'balanced', 'dt__criter...</td>\n",
       "      <td>0.490871</td>\n",
       "      <td>0.490871</td>\n",
       "      <td>0.000003</td>\n",
       "    </tr>\n",
       "    <tr>\n",
       "      <th>2</th>\n",
       "      <td>{'cc__sampling_strategy': 0.5, 'dt__ccp_alpha': 0.1, 'dt__class_weight': 'balanced', 'dt__criter...</td>\n",
       "      <td>0.490871</td>\n",
       "      <td>0.490871</td>\n",
       "      <td>0.000003</td>\n",
       "    </tr>\n",
       "    <tr>\n",
       "      <th>3</th>\n",
       "      <td>{'cc__sampling_strategy': 0.5, 'dt__ccp_alpha': 0.1, 'dt__class_weight': 'balanced', 'dt__criter...</td>\n",
       "      <td>0.490871</td>\n",
       "      <td>0.490871</td>\n",
       "      <td>0.000003</td>\n",
       "    </tr>\n",
       "    <tr>\n",
       "      <th>1</th>\n",
       "      <td>{'cc__sampling_strategy': 0.5, 'dt__ccp_alpha': 0.1, 'dt__class_weight': 'balanced', 'dt__criter...</td>\n",
       "      <td>0.490871</td>\n",
       "      <td>0.490871</td>\n",
       "      <td>0.000003</td>\n",
       "    </tr>\n",
       "    <tr>\n",
       "      <th>24</th>\n",
       "      <td>{'cc__sampling_strategy': 1.0, 'dt__ccp_alpha': 0.1, 'dt__class_weight': 'balanced', 'dt__criter...</td>\n",
       "      <td>0.490871</td>\n",
       "      <td>0.490871</td>\n",
       "      <td>0.000003</td>\n",
       "    </tr>\n",
       "    <tr>\n",
       "      <th>25</th>\n",
       "      <td>{'cc__sampling_strategy': 1.0, 'dt__ccp_alpha': 0.1, 'dt__class_weight': 'balanced', 'dt__criter...</td>\n",
       "      <td>0.490871</td>\n",
       "      <td>0.490871</td>\n",
       "      <td>0.000003</td>\n",
       "    </tr>\n",
       "    <tr>\n",
       "      <th>26</th>\n",
       "      <td>{'cc__sampling_strategy': 1.0, 'dt__ccp_alpha': 0.1, 'dt__class_weight': 'balanced', 'dt__criter...</td>\n",
       "      <td>0.366113</td>\n",
       "      <td>0.361941</td>\n",
       "      <td>1.139494</td>\n",
       "    </tr>\n",
       "    <tr>\n",
       "      <th>27</th>\n",
       "      <td>{'cc__sampling_strategy': 1.0, 'dt__ccp_alpha': 0.1, 'dt__class_weight': 'balanced', 'dt__criter...</td>\n",
       "      <td>0.366113</td>\n",
       "      <td>0.361941</td>\n",
       "      <td>1.139494</td>\n",
       "    </tr>\n",
       "    <tr>\n",
       "      <th>9</th>\n",
       "      <td>{'cc__sampling_strategy': 0.5, 'dt__ccp_alpha': 0.001, 'dt__class_weight': 'balanced', 'dt__crit...</td>\n",
       "      <td>0.340309</td>\n",
       "      <td>0.302838</td>\n",
       "      <td>11.010902</td>\n",
       "    </tr>\n",
       "    <tr>\n",
       "      <th>10</th>\n",
       "      <td>{'cc__sampling_strategy': 0.5, 'dt__ccp_alpha': 0.001, 'dt__class_weight': 'balanced', 'dt__crit...</td>\n",
       "      <td>0.300179</td>\n",
       "      <td>0.285134</td>\n",
       "      <td>5.011840</td>\n",
       "    </tr>\n",
       "    <tr>\n",
       "      <th>11</th>\n",
       "      <td>{'cc__sampling_strategy': 0.5, 'dt__ccp_alpha': 0.001, 'dt__class_weight': 'balanced', 'dt__crit...</td>\n",
       "      <td>0.310330</td>\n",
       "      <td>0.283177</td>\n",
       "      <td>8.749800</td>\n",
       "    </tr>\n",
       "    <tr>\n",
       "      <th>6</th>\n",
       "      <td>{'cc__sampling_strategy': 0.5, 'dt__ccp_alpha': 0.01, 'dt__class_weight': 'balanced', 'dt__crite...</td>\n",
       "      <td>0.296859</td>\n",
       "      <td>0.281582</td>\n",
       "      <td>5.146444</td>\n",
       "    </tr>\n",
       "    <tr>\n",
       "      <th>8</th>\n",
       "      <td>{'cc__sampling_strategy': 0.5, 'dt__ccp_alpha': 0.001, 'dt__class_weight': 'balanced', 'dt__crit...</td>\n",
       "      <td>0.297348</td>\n",
       "      <td>0.277692</td>\n",
       "      <td>6.610526</td>\n",
       "    </tr>\n",
       "    <tr>\n",
       "      <th>4</th>\n",
       "      <td>{'cc__sampling_strategy': 0.5, 'dt__ccp_alpha': 0.01, 'dt__class_weight': 'balanced', 'dt__crite...</td>\n",
       "      <td>0.284588</td>\n",
       "      <td>0.271377</td>\n",
       "      <td>4.642023</td>\n",
       "    </tr>\n",
       "    <tr>\n",
       "      <th>34</th>\n",
       "      <td>{'cc__sampling_strategy': 1.0, 'dt__ccp_alpha': 0.001, 'dt__class_weight': 'balanced', 'dt__crit...</td>\n",
       "      <td>0.260448</td>\n",
       "      <td>0.256611</td>\n",
       "      <td>1.473225</td>\n",
       "    </tr>\n",
       "    <tr>\n",
       "      <th>21</th>\n",
       "      <td>{'cc__sampling_strategy': 0.75, 'dt__ccp_alpha': 0.001, 'dt__class_weight': 'balanced', 'dt__cri...</td>\n",
       "      <td>0.269204</td>\n",
       "      <td>0.252484</td>\n",
       "      <td>6.210877</td>\n",
       "    </tr>\n",
       "    <tr>\n",
       "      <th>20</th>\n",
       "      <td>{'cc__sampling_strategy': 0.75, 'dt__ccp_alpha': 0.001, 'dt__class_weight': 'balanced', 'dt__cri...</td>\n",
       "      <td>0.259209</td>\n",
       "      <td>0.251848</td>\n",
       "      <td>2.839852</td>\n",
       "    </tr>\n",
       "    <tr>\n",
       "      <th>30</th>\n",
       "      <td>{'cc__sampling_strategy': 1.0, 'dt__ccp_alpha': 0.01, 'dt__class_weight': 'balanced', 'dt__crite...</td>\n",
       "      <td>0.257913</td>\n",
       "      <td>0.249748</td>\n",
       "      <td>3.165503</td>\n",
       "    </tr>\n",
       "    <tr>\n",
       "      <th>5</th>\n",
       "      <td>{'cc__sampling_strategy': 0.5, 'dt__ccp_alpha': 0.01, 'dt__class_weight': 'balanced', 'dt__crite...</td>\n",
       "      <td>0.259572</td>\n",
       "      <td>0.244431</td>\n",
       "      <td>5.833026</td>\n",
       "    </tr>\n",
       "    <tr>\n",
       "      <th>32</th>\n",
       "      <td>{'cc__sampling_strategy': 1.0, 'dt__ccp_alpha': 0.001, 'dt__class_weight': 'balanced', 'dt__crit...</td>\n",
       "      <td>0.252856</td>\n",
       "      <td>0.243363</td>\n",
       "      <td>3.754184</td>\n",
       "    </tr>\n",
       "    <tr>\n",
       "      <th>18</th>\n",
       "      <td>{'cc__sampling_strategy': 0.75, 'dt__ccp_alpha': 0.01, 'dt__class_weight': 'balanced', 'dt__crit...</td>\n",
       "      <td>0.249364</td>\n",
       "      <td>0.239048</td>\n",
       "      <td>4.136712</td>\n",
       "    </tr>\n",
       "    <tr>\n",
       "      <th>22</th>\n",
       "      <td>{'cc__sampling_strategy': 0.75, 'dt__ccp_alpha': 0.001, 'dt__class_weight': 'balanced', 'dt__cri...</td>\n",
       "      <td>0.250054</td>\n",
       "      <td>0.238911</td>\n",
       "      <td>4.456210</td>\n",
       "    </tr>\n",
       "    <tr>\n",
       "      <th>7</th>\n",
       "      <td>{'cc__sampling_strategy': 0.5, 'dt__ccp_alpha': 0.01, 'dt__class_weight': 'balanced', 'dt__crite...</td>\n",
       "      <td>0.244539</td>\n",
       "      <td>0.233489</td>\n",
       "      <td>4.518758</td>\n",
       "    </tr>\n",
       "    <tr>\n",
       "      <th>28</th>\n",
       "      <td>{'cc__sampling_strategy': 1.0, 'dt__ccp_alpha': 0.01, 'dt__class_weight': 'balanced', 'dt__crite...</td>\n",
       "      <td>0.236658</td>\n",
       "      <td>0.228749</td>\n",
       "      <td>3.342075</td>\n",
       "    </tr>\n",
       "    <tr>\n",
       "      <th>16</th>\n",
       "      <td>{'cc__sampling_strategy': 0.75, 'dt__ccp_alpha': 0.01, 'dt__class_weight': 'balanced', 'dt__crit...</td>\n",
       "      <td>0.230879</td>\n",
       "      <td>0.228071</td>\n",
       "      <td>1.216228</td>\n",
       "    </tr>\n",
       "    <tr>\n",
       "      <th>23</th>\n",
       "      <td>{'cc__sampling_strategy': 0.75, 'dt__ccp_alpha': 0.001, 'dt__class_weight': 'balanced', 'dt__cri...</td>\n",
       "      <td>0.245605</td>\n",
       "      <td>0.225955</td>\n",
       "      <td>8.000795</td>\n",
       "    </tr>\n",
       "    <tr>\n",
       "      <th>17</th>\n",
       "      <td>{'cc__sampling_strategy': 0.75, 'dt__ccp_alpha': 0.01, 'dt__class_weight': 'balanced', 'dt__crit...</td>\n",
       "      <td>0.229139</td>\n",
       "      <td>0.224165</td>\n",
       "      <td>2.170472</td>\n",
       "    </tr>\n",
       "    <tr>\n",
       "      <th>31</th>\n",
       "      <td>{'cc__sampling_strategy': 1.0, 'dt__ccp_alpha': 0.01, 'dt__class_weight': 'balanced', 'dt__crite...</td>\n",
       "      <td>0.225647</td>\n",
       "      <td>0.218930</td>\n",
       "      <td>2.976599</td>\n",
       "    </tr>\n",
       "    <tr>\n",
       "      <th>19</th>\n",
       "      <td>{'cc__sampling_strategy': 0.75, 'dt__ccp_alpha': 0.01, 'dt__class_weight': 'balanced', 'dt__crit...</td>\n",
       "      <td>0.235748</td>\n",
       "      <td>0.216402</td>\n",
       "      <td>8.206202</td>\n",
       "    </tr>\n",
       "    <tr>\n",
       "      <th>35</th>\n",
       "      <td>{'cc__sampling_strategy': 1.0, 'dt__ccp_alpha': 0.001, 'dt__class_weight': 'balanced', 'dt__crit...</td>\n",
       "      <td>0.219975</td>\n",
       "      <td>0.211760</td>\n",
       "      <td>3.734371</td>\n",
       "    </tr>\n",
       "    <tr>\n",
       "      <th>29</th>\n",
       "      <td>{'cc__sampling_strategy': 1.0, 'dt__ccp_alpha': 0.01, 'dt__class_weight': 'balanced', 'dt__crite...</td>\n",
       "      <td>0.213770</td>\n",
       "      <td>0.205087</td>\n",
       "      <td>4.061715</td>\n",
       "    </tr>\n",
       "    <tr>\n",
       "      <th>33</th>\n",
       "      <td>{'cc__sampling_strategy': 1.0, 'dt__ccp_alpha': 0.001, 'dt__class_weight': 'balanced', 'dt__crit...</td>\n",
       "      <td>0.212055</td>\n",
       "      <td>0.198998</td>\n",
       "      <td>6.157385</td>\n",
       "    </tr>\n",
       "    <tr>\n",
       "      <th>15</th>\n",
       "      <td>{'cc__sampling_strategy': 0.75, 'dt__ccp_alpha': 0.1, 'dt__class_weight': 'balanced', 'dt__crite...</td>\n",
       "      <td>0.116158</td>\n",
       "      <td>0.112029</td>\n",
       "      <td>3.554878</td>\n",
       "    </tr>\n",
       "    <tr>\n",
       "      <th>14</th>\n",
       "      <td>{'cc__sampling_strategy': 0.75, 'dt__ccp_alpha': 0.1, 'dt__class_weight': 'balanced', 'dt__crite...</td>\n",
       "      <td>0.116158</td>\n",
       "      <td>0.112029</td>\n",
       "      <td>3.554878</td>\n",
       "    </tr>\n",
       "    <tr>\n",
       "      <th>13</th>\n",
       "      <td>{'cc__sampling_strategy': 0.75, 'dt__ccp_alpha': 0.1, 'dt__class_weight': 'balanced', 'dt__crite...</td>\n",
       "      <td>0.034619</td>\n",
       "      <td>0.034619</td>\n",
       "      <td>-0.000145</td>\n",
       "    </tr>\n",
       "    <tr>\n",
       "      <th>12</th>\n",
       "      <td>{'cc__sampling_strategy': 0.75, 'dt__ccp_alpha': 0.1, 'dt__class_weight': 'balanced', 'dt__crite...</td>\n",
       "      <td>0.034619</td>\n",
       "      <td>0.034619</td>\n",
       "      <td>-0.000145</td>\n",
       "    </tr>\n",
       "  </tbody>\n",
       "</table>\n",
       "</div>"
      ],
      "text/plain": [
       "                                                                                                 params  \\\n",
       "0   {'cc__sampling_strategy': 0.5, 'dt__ccp_alpha': 0.1, 'dt__class_weight': 'balanced', 'dt__criter...   \n",
       "2   {'cc__sampling_strategy': 0.5, 'dt__ccp_alpha': 0.1, 'dt__class_weight': 'balanced', 'dt__criter...   \n",
       "3   {'cc__sampling_strategy': 0.5, 'dt__ccp_alpha': 0.1, 'dt__class_weight': 'balanced', 'dt__criter...   \n",
       "1   {'cc__sampling_strategy': 0.5, 'dt__ccp_alpha': 0.1, 'dt__class_weight': 'balanced', 'dt__criter...   \n",
       "24  {'cc__sampling_strategy': 1.0, 'dt__ccp_alpha': 0.1, 'dt__class_weight': 'balanced', 'dt__criter...   \n",
       "25  {'cc__sampling_strategy': 1.0, 'dt__ccp_alpha': 0.1, 'dt__class_weight': 'balanced', 'dt__criter...   \n",
       "26  {'cc__sampling_strategy': 1.0, 'dt__ccp_alpha': 0.1, 'dt__class_weight': 'balanced', 'dt__criter...   \n",
       "27  {'cc__sampling_strategy': 1.0, 'dt__ccp_alpha': 0.1, 'dt__class_weight': 'balanced', 'dt__criter...   \n",
       "9   {'cc__sampling_strategy': 0.5, 'dt__ccp_alpha': 0.001, 'dt__class_weight': 'balanced', 'dt__crit...   \n",
       "10  {'cc__sampling_strategy': 0.5, 'dt__ccp_alpha': 0.001, 'dt__class_weight': 'balanced', 'dt__crit...   \n",
       "11  {'cc__sampling_strategy': 0.5, 'dt__ccp_alpha': 0.001, 'dt__class_weight': 'balanced', 'dt__crit...   \n",
       "6   {'cc__sampling_strategy': 0.5, 'dt__ccp_alpha': 0.01, 'dt__class_weight': 'balanced', 'dt__crite...   \n",
       "8   {'cc__sampling_strategy': 0.5, 'dt__ccp_alpha': 0.001, 'dt__class_weight': 'balanced', 'dt__crit...   \n",
       "4   {'cc__sampling_strategy': 0.5, 'dt__ccp_alpha': 0.01, 'dt__class_weight': 'balanced', 'dt__crite...   \n",
       "34  {'cc__sampling_strategy': 1.0, 'dt__ccp_alpha': 0.001, 'dt__class_weight': 'balanced', 'dt__crit...   \n",
       "21  {'cc__sampling_strategy': 0.75, 'dt__ccp_alpha': 0.001, 'dt__class_weight': 'balanced', 'dt__cri...   \n",
       "20  {'cc__sampling_strategy': 0.75, 'dt__ccp_alpha': 0.001, 'dt__class_weight': 'balanced', 'dt__cri...   \n",
       "30  {'cc__sampling_strategy': 1.0, 'dt__ccp_alpha': 0.01, 'dt__class_weight': 'balanced', 'dt__crite...   \n",
       "5   {'cc__sampling_strategy': 0.5, 'dt__ccp_alpha': 0.01, 'dt__class_weight': 'balanced', 'dt__crite...   \n",
       "32  {'cc__sampling_strategy': 1.0, 'dt__ccp_alpha': 0.001, 'dt__class_weight': 'balanced', 'dt__crit...   \n",
       "18  {'cc__sampling_strategy': 0.75, 'dt__ccp_alpha': 0.01, 'dt__class_weight': 'balanced', 'dt__crit...   \n",
       "22  {'cc__sampling_strategy': 0.75, 'dt__ccp_alpha': 0.001, 'dt__class_weight': 'balanced', 'dt__cri...   \n",
       "7   {'cc__sampling_strategy': 0.5, 'dt__ccp_alpha': 0.01, 'dt__class_weight': 'balanced', 'dt__crite...   \n",
       "28  {'cc__sampling_strategy': 1.0, 'dt__ccp_alpha': 0.01, 'dt__class_weight': 'balanced', 'dt__crite...   \n",
       "16  {'cc__sampling_strategy': 0.75, 'dt__ccp_alpha': 0.01, 'dt__class_weight': 'balanced', 'dt__crit...   \n",
       "23  {'cc__sampling_strategy': 0.75, 'dt__ccp_alpha': 0.001, 'dt__class_weight': 'balanced', 'dt__cri...   \n",
       "17  {'cc__sampling_strategy': 0.75, 'dt__ccp_alpha': 0.01, 'dt__class_weight': 'balanced', 'dt__crit...   \n",
       "31  {'cc__sampling_strategy': 1.0, 'dt__ccp_alpha': 0.01, 'dt__class_weight': 'balanced', 'dt__crite...   \n",
       "19  {'cc__sampling_strategy': 0.75, 'dt__ccp_alpha': 0.01, 'dt__class_weight': 'balanced', 'dt__crit...   \n",
       "35  {'cc__sampling_strategy': 1.0, 'dt__ccp_alpha': 0.001, 'dt__class_weight': 'balanced', 'dt__crit...   \n",
       "29  {'cc__sampling_strategy': 1.0, 'dt__ccp_alpha': 0.01, 'dt__class_weight': 'balanced', 'dt__crite...   \n",
       "33  {'cc__sampling_strategy': 1.0, 'dt__ccp_alpha': 0.001, 'dt__class_weight': 'balanced', 'dt__crit...   \n",
       "15  {'cc__sampling_strategy': 0.75, 'dt__ccp_alpha': 0.1, 'dt__class_weight': 'balanced', 'dt__crite...   \n",
       "14  {'cc__sampling_strategy': 0.75, 'dt__ccp_alpha': 0.1, 'dt__class_weight': 'balanced', 'dt__crite...   \n",
       "13  {'cc__sampling_strategy': 0.75, 'dt__ccp_alpha': 0.1, 'dt__class_weight': 'balanced', 'dt__crite...   \n",
       "12  {'cc__sampling_strategy': 0.75, 'dt__ccp_alpha': 0.1, 'dt__class_weight': 'balanced', 'dt__crite...   \n",
       "\n",
       "    mean_train_score  mean_test_score    diff, %  \n",
       "0           0.490871         0.490871   0.000003  \n",
       "2           0.490871         0.490871   0.000003  \n",
       "3           0.490871         0.490871   0.000003  \n",
       "1           0.490871         0.490871   0.000003  \n",
       "24          0.490871         0.490871   0.000003  \n",
       "25          0.490871         0.490871   0.000003  \n",
       "26          0.366113         0.361941   1.139494  \n",
       "27          0.366113         0.361941   1.139494  \n",
       "9           0.340309         0.302838  11.010902  \n",
       "10          0.300179         0.285134   5.011840  \n",
       "11          0.310330         0.283177   8.749800  \n",
       "6           0.296859         0.281582   5.146444  \n",
       "8           0.297348         0.277692   6.610526  \n",
       "4           0.284588         0.271377   4.642023  \n",
       "34          0.260448         0.256611   1.473225  \n",
       "21          0.269204         0.252484   6.210877  \n",
       "20          0.259209         0.251848   2.839852  \n",
       "30          0.257913         0.249748   3.165503  \n",
       "5           0.259572         0.244431   5.833026  \n",
       "32          0.252856         0.243363   3.754184  \n",
       "18          0.249364         0.239048   4.136712  \n",
       "22          0.250054         0.238911   4.456210  \n",
       "7           0.244539         0.233489   4.518758  \n",
       "28          0.236658         0.228749   3.342075  \n",
       "16          0.230879         0.228071   1.216228  \n",
       "23          0.245605         0.225955   8.000795  \n",
       "17          0.229139         0.224165   2.170472  \n",
       "31          0.225647         0.218930   2.976599  \n",
       "19          0.235748         0.216402   8.206202  \n",
       "35          0.219975         0.211760   3.734371  \n",
       "29          0.213770         0.205087   4.061715  \n",
       "33          0.212055         0.198998   6.157385  \n",
       "15          0.116158         0.112029   3.554878  \n",
       "14          0.116158         0.112029   3.554878  \n",
       "13          0.034619         0.034619  -0.000145  \n",
       "12          0.034619         0.034619  -0.000145  "
      ]
     },
     "execution_count": 142,
     "metadata": {},
     "output_type": "execute_result"
    }
   ],
   "source": [
    "# training and validation RMSE\n",
    "dt_us_cv_results = pd.DataFrame(dt_us_grid_search.cv_results_\n",
    "                         )[['params', 'mean_train_score', 'mean_test_score']]\n",
    "dt_us_cv_results[\"diff, %\"] = 100*(dt_us_cv_results[\"mean_train_score\"]-dt_us_cv_results[\"mean_test_score\"]\n",
    "                                                     )/dt_us_cv_results[\"mean_train_score\"]\n",
    "\n",
    "pd.set_option('display.max_colwidth', 100)\n",
    "dt_us_cv_results.sort_values('mean_test_score', ascending=False)"
   ]
  },
  {
   "cell_type": "code",
   "execution_count": 143,
   "id": "3794af4d",
   "metadata": {},
   "outputs": [
    {
     "data": {
      "text/plain": [
       "<sklearn.metrics._plot.confusion_matrix.ConfusionMatrixDisplay at 0x7feb70aedcd0>"
      ]
     },
     "execution_count": 143,
     "metadata": {},
     "output_type": "execute_result"
    },
    {
     "data": {
      "image/png": "[encoded data removed]",
      "text/plain": [
       "<Figure size 432x288 with 2 Axes>"
      ]
     },
     "metadata": {
      "needs_background": "light"
     },
     "output_type": "display_data"
    }
   ],
   "source": [
    "# cross-validation confusion matrix, training data\n",
    "y_pred_us_dt = cross_val_predict(dt_us_grid_search.best_estimator_, Xtrain, ytrain, cv=10)\n",
    "conf_mat = confusion_matrix(ytrain, y_pred_us_dt, normalize=\"true\")\n",
    "ConfusionMatrixDisplay(confusion_matrix=conf_mat,\n",
    "                       display_labels=dt_us_grid_search.best_estimator_.classes_\n",
    "                      ).plot(cmap=plt.cm.Blues)"
   ]
  },
  {
   "cell_type": "code",
   "execution_count": 144,
   "id": "91a7125c",
   "metadata": {},
   "outputs": [
    {
     "data": {
      "text/plain": [
       "<sklearn.metrics._plot.confusion_matrix.ConfusionMatrixDisplay at 0x7febe1403130>"
      ]
     },
     "execution_count": 144,
     "metadata": {},
     "output_type": "execute_result"
    },
    {
     "data": {
      "image/png": "[encoded data removed]",
      "text/plain": [
       "<Figure size 432x288 with 2 Axes>"
      ]
     },
     "metadata": {
      "needs_background": "light"
     },
     "output_type": "display_data"
    }
   ],
   "source": [
    "#Confusion matrix on testing data\n",
    "ConfusionMatrixDisplay.from_estimator(dt_us_grid_search.best_estimator_, Xtest, ytest,\n",
    "                                 display_labels=dt_us_grid_search.best_estimator_.classes_,\n",
    "                                 cmap=plt.cm.Blues,\n",
    "                                 normalize='true')"
   ]
  },
  {
   "cell_type": "markdown",
   "id": "d541ea32",
   "metadata": {},
   "source": [
    "## Evaluation"
   ]
  },
  {
   "cell_type": "code",
   "execution_count": 135,
   "id": "51c74893",
   "metadata": {},
   "outputs": [
    {
     "name": "stdout",
     "output_type": "stream",
     "text": [
      "              precision    recall  f1-score   support\n",
      "\n",
      "           0       0.97      0.92      0.94       942\n",
      "           1       0.09      0.23      0.13        35\n",
      "\n",
      "    accuracy                           0.89       977\n",
      "   macro avg       0.53      0.57      0.54       977\n",
      "weighted avg       0.94      0.89      0.91       977\n",
      "\n"
     ]
    }
   ],
   "source": [
    "# Unbalanced decision tree\n",
    "evaluate_on_test(dec_tree_cv.best_estimator_, ytest, Xtest)"
   ]
  },
  {
   "cell_type": "code",
   "execution_count": 140,
   "id": "4bab90cc",
   "metadata": {},
   "outputs": [
    {
     "name": "stdout",
     "output_type": "stream",
     "text": [
      "              precision    recall  f1-score   support\n",
      "\n",
      "           0       0.97      0.92      0.94       942\n",
      "           1       0.08      0.20      0.12        35\n",
      "\n",
      "    accuracy                           0.89       977\n",
      "   macro avg       0.53      0.56      0.53       977\n",
      "weighted avg       0.94      0.89      0.91       977\n",
      "\n"
     ]
    }
   ],
   "source": [
    "# Oversampling decision tree\n",
    "evaluate_on_test(dt_os_grid_search.best_estimator_, ytest, Xtest)"
   ]
  },
  {
   "cell_type": "code",
   "execution_count": 145,
   "id": "4307018c",
   "metadata": {},
   "outputs": [
    {
     "name": "stdout",
     "output_type": "stream",
     "text": [
      "              precision    recall  f1-score   support\n",
      "\n",
      "           0       0.96      1.00      0.98       942\n",
      "           1       0.00      0.00      0.00        35\n",
      "\n",
      "    accuracy                           0.96       977\n",
      "   macro avg       0.48      0.50      0.49       977\n",
      "weighted avg       0.93      0.96      0.95       977\n",
      "\n"
     ]
    }
   ],
   "source": [
    "# Undersampling decision tree\n",
    "evaluate_on_test(dt_us_grid_search.best_estimator_, ytest, Xtest)"
   ]
  },
  {
   "cell_type": "markdown",
   "id": "096980cf",
   "metadata": {},
   "source": [
    "We will not consider any Decision Tree model in our final model evaluation because \n",
    "1. Unbalanced decision tree model and oversampling decision tree model have overfitting problem\n",
    "2. Undersampling decision tree did not predict correctly any fatal cases."
   ]
  },
  {
   "cell_type": "markdown",
   "id": "06e5a1eb",
   "metadata": {},
   "source": [
    "## 7.2.4 Random Forest"
   ]
  },
  {
   "cell_type": "code",
   "execution_count": 146,
   "id": "3e3e3d97",
   "metadata": {},
   "outputs": [
    {
     "name": "stdout",
     "output_type": "stream",
     "text": [
      "best parameters {'class_weight': 'balanced_subsample', 'max_depth': 5, 'n_estimators': 200}\n",
      "f-score : 0.4935450589691556\n",
      "Took 38.535414934158325 seconds\n"
     ]
    }
   ],
   "source": [
    "from sklearn.ensemble import RandomForestClassifier\n",
    "\n",
    "# specify the hyperparameters and their values\n",
    "param_grid = [\n",
    "    {'n_estimators': [100, 200, 500],\n",
    "     'max_depth': [5, None],\n",
    "    'class_weight': ['balanced_subsample']}\n",
    "]\n",
    "\n",
    "forest = RandomForestClassifier(random_state=2022)\n",
    "\n",
    "rf_grid_search = GridSearchCV(forest, param_grid, cv=10, \n",
    "                              scoring='f1_macro',\n",
    "                              return_train_score=True)\n",
    "\n",
    "#estimate the time needed to run the model\n",
    "start = time.time()\n",
    "rf_grid_search.fit(Xtrain, ytrain)\n",
    "end = time.time() - start\n",
    "\n",
    "\n",
    "#Print results\n",
    "print(\"best parameters\",rf_grid_search.best_params_)\n",
    "print(\"f-score :\",rf_grid_search.best_score_)\n",
    "print(f\"Took {end} seconds\")"
   ]
  },
  {
   "cell_type": "code",
   "execution_count": 147,
   "id": "d3a8882e",
   "metadata": {},
   "outputs": [
    {
     "data": {
      "text/html": [
       "<div>\n",
       "<style scoped>\n",
       "    .dataframe tbody tr th:only-of-type {\n",
       "        vertical-align: middle;\n",
       "    }\n",
       "\n",
       "    .dataframe tbody tr th {\n",
       "        vertical-align: top;\n",
       "    }\n",
       "\n",
       "    .dataframe thead th {\n",
       "        text-align: right;\n",
       "    }\n",
       "</style>\n",
       "<table border=\"1\" class=\"dataframe\">\n",
       "  <thead>\n",
       "    <tr style=\"text-align: right;\">\n",
       "      <th></th>\n",
       "      <th>params</th>\n",
       "      <th>mean_train_score</th>\n",
       "      <th>mean_test_score</th>\n",
       "      <th>diff, %</th>\n",
       "    </tr>\n",
       "  </thead>\n",
       "  <tbody>\n",
       "    <tr>\n",
       "      <th>1</th>\n",
       "      <td>{'class_weight': 'balanced_subsample', 'max_depth': 5, 'n_estimators': 200}</td>\n",
       "      <td>0.566382</td>\n",
       "      <td>0.493545</td>\n",
       "      <td>12.859984</td>\n",
       "    </tr>\n",
       "    <tr>\n",
       "      <th>2</th>\n",
       "      <td>{'class_weight': 'balanced_subsample', 'max_depth': 5, 'n_estimators': 500}</td>\n",
       "      <td>0.564342</td>\n",
       "      <td>0.489531</td>\n",
       "      <td>13.256331</td>\n",
       "    </tr>\n",
       "    <tr>\n",
       "      <th>0</th>\n",
       "      <td>{'class_weight': 'balanced_subsample', 'max_depth': 5, 'n_estimators': 100}</td>\n",
       "      <td>0.560780</td>\n",
       "      <td>0.489469</td>\n",
       "      <td>12.716417</td>\n",
       "    </tr>\n",
       "    <tr>\n",
       "      <th>4</th>\n",
       "      <td>{'class_weight': 'balanced_subsample', 'max_depth': None, 'n_estimators': 200}</td>\n",
       "      <td>0.955782</td>\n",
       "      <td>0.488735</td>\n",
       "      <td>48.865446</td>\n",
       "    </tr>\n",
       "    <tr>\n",
       "      <th>5</th>\n",
       "      <td>{'class_weight': 'balanced_subsample', 'max_depth': None, 'n_estimators': 500}</td>\n",
       "      <td>0.957228</td>\n",
       "      <td>0.488735</td>\n",
       "      <td>48.942683</td>\n",
       "    </tr>\n",
       "    <tr>\n",
       "      <th>3</th>\n",
       "      <td>{'class_weight': 'balanced_subsample', 'max_depth': None, 'n_estimators': 100}</td>\n",
       "      <td>0.957015</td>\n",
       "      <td>0.488735</td>\n",
       "      <td>48.931336</td>\n",
       "    </tr>\n",
       "  </tbody>\n",
       "</table>\n",
       "</div>"
      ],
      "text/plain": [
       "                                                                           params  \\\n",
       "1     {'class_weight': 'balanced_subsample', 'max_depth': 5, 'n_estimators': 200}   \n",
       "2     {'class_weight': 'balanced_subsample', 'max_depth': 5, 'n_estimators': 500}   \n",
       "0     {'class_weight': 'balanced_subsample', 'max_depth': 5, 'n_estimators': 100}   \n",
       "4  {'class_weight': 'balanced_subsample', 'max_depth': None, 'n_estimators': 200}   \n",
       "5  {'class_weight': 'balanced_subsample', 'max_depth': None, 'n_estimators': 500}   \n",
       "3  {'class_weight': 'balanced_subsample', 'max_depth': None, 'n_estimators': 100}   \n",
       "\n",
       "   mean_train_score  mean_test_score    diff, %  \n",
       "1          0.566382         0.493545  12.859984  \n",
       "2          0.564342         0.489531  13.256331  \n",
       "0          0.560780         0.489469  12.716417  \n",
       "4          0.955782         0.488735  48.865446  \n",
       "5          0.957228         0.488735  48.942683  \n",
       "3          0.957015         0.488735  48.931336  "
      ]
     },
     "execution_count": 147,
     "metadata": {},
     "output_type": "execute_result"
    }
   ],
   "source": [
    "# training and validation RMSE\n",
    "rf_cv_results = pd.DataFrame(rf_grid_search.cv_results_\n",
    "                         )[['params', 'mean_train_score', 'mean_test_score']]\n",
    "rf_cv_results[\"diff, %\"] = 100*(rf_cv_results[\"mean_train_score\"]-rf_cv_results[\"mean_test_score\"]\n",
    "                                                     )/rf_cv_results[\"mean_train_score\"]\n",
    "\n",
    "pd.set_option('display.max_colwidth', 100)\n",
    "rf_cv_results.sort_values('mean_test_score', ascending=False)"
   ]
  },
  {
   "cell_type": "code",
   "execution_count": 148,
   "id": "ac108698",
   "metadata": {},
   "outputs": [
    {
     "data": {
      "text/plain": [
       "<sklearn.metrics._plot.confusion_matrix.ConfusionMatrixDisplay at 0x7febc096c070>"
      ]
     },
     "execution_count": 148,
     "metadata": {},
     "output_type": "execute_result"
    },
    {
     "data": {
      "image/png": "[encoded data removed]",
      "text/plain": [
       "<Figure size 432x288 with 2 Axes>"
      ]
     },
     "metadata": {
      "needs_background": "light"
     },
     "output_type": "display_data"
    }
   ],
   "source": [
    "# cross-validation confusion matrix, training data\n",
    "y_pred_rf = cross_val_predict(rf_grid_search.best_estimator_, Xtrain, ytrain, cv=10)\n",
    "conf_mat = confusion_matrix(ytrain, y_pred_rf, normalize=\"true\")\n",
    "ConfusionMatrixDisplay(confusion_matrix=conf_mat,\n",
    "                       display_labels=rf_grid_search.best_estimator_.classes_\n",
    "                      ).plot(cmap=plt.cm.Blues)"
   ]
  },
  {
   "cell_type": "code",
   "execution_count": 149,
   "id": "91971039",
   "metadata": {},
   "outputs": [
    {
     "data": {
      "text/plain": [
       "<sklearn.metrics._plot.confusion_matrix.ConfusionMatrixDisplay at 0x7feb70b0e0a0>"
      ]
     },
     "execution_count": 149,
     "metadata": {},
     "output_type": "execute_result"
    },
    {
     "data": {
      "image/png": "[encoded data removed]",
      "text/plain": [
       "<Figure size 432x288 with 2 Axes>"
      ]
     },
     "metadata": {
      "needs_background": "light"
     },
     "output_type": "display_data"
    }
   ],
   "source": [
    "#Confusion matrix on testing data\n",
    "ConfusionMatrixDisplay.from_estimator(rf_grid_search.best_estimator_, Xtest, ytest,\n",
    "                                 display_labels=rf_grid_search.best_estimator_.classes_,\n",
    "                                 cmap=plt.cm.Blues,\n",
    "                                 normalize='true')"
   ]
  },
  {
   "cell_type": "markdown",
   "id": "b7e82e71",
   "metadata": {},
   "source": [
    "### Oversampling for Random Forest"
   ]
  },
  {
   "cell_type": "code",
   "execution_count": 183,
   "id": "fd878b61",
   "metadata": {},
   "outputs": [
    {
     "name": "stdout",
     "output_type": "stream",
     "text": [
      "best parameters {'rf__class_weight': 'balanced', 'rf__max_depth': None, 'rf__n_estimators': 100, 'smote__sampling_strategy': 0.75}\n",
      "f-score : 0.5254716148967321\n",
      "Took 4245.5265510082245 seconds\n"
     ]
    }
   ],
   "source": [
    "pipeline = Pipeline([\n",
    "        ('smote', SMOTE(random_state=2022)),\n",
    "        ('rf', RandomForestClassifier(random_state=2022))\n",
    "    ])\n",
    "\n",
    "param_grid = [\n",
    "    {\n",
    "        'smote__sampling_strategy': [0.5, 0.75, 1.0],\n",
    "        'rf__n_estimators': [100, 200, 500],\n",
    "        'rf__max_depth': [5, None],\n",
    "        'rf__class_weight': ['balanced']\n",
    "    },\n",
    "]\n",
    "\n",
    "# we'll use 10-fold cross-validation\n",
    "rf_os_grid_search = GridSearchCV(pipeline, param_grid, cv=10, \n",
    "                              scoring='f1_macro',\n",
    "                              return_train_score=True)\n",
    "\n",
    "#estimate the time needed to run the model\n",
    "start = time.time()\n",
    "rf_os_grid_search.fit(Xtrain, ytrain)\n",
    "end = time.time() - start\n",
    "\n",
    "#Print results\n",
    "print(\"best parameters\",rf_os_grid_search.best_params_)\n",
    "print(\"f-score :\",rf_os_grid_search.best_score_)\n",
    "print(f\"Took {end} seconds\")"
   ]
  },
  {
   "cell_type": "code",
   "execution_count": 147,
   "id": "f05002bb",
   "metadata": {},
   "outputs": [
    {
     "data": {
      "text/html": [
       "<div>\n",
       "<style scoped>\n",
       "    .dataframe tbody tr th:only-of-type {\n",
       "        vertical-align: middle;\n",
       "    }\n",
       "\n",
       "    .dataframe tbody tr th {\n",
       "        vertical-align: top;\n",
       "    }\n",
       "\n",
       "    .dataframe thead th {\n",
       "        text-align: right;\n",
       "    }\n",
       "</style>\n",
       "<table border=\"1\" class=\"dataframe\">\n",
       "  <thead>\n",
       "    <tr style=\"text-align: right;\">\n",
       "      <th></th>\n",
       "      <th>params</th>\n",
       "      <th>mean_train_score</th>\n",
       "      <th>mean_test_score</th>\n",
       "      <th>diff, %</th>\n",
       "    </tr>\n",
       "  </thead>\n",
       "  <tbody>\n",
       "    <tr>\n",
       "      <th>10</th>\n",
       "      <td>{'rf__class_weight': 'balanced_subsample', 'rf__max_depth': None, 'rf__n_estimators': 100, 'smot...</td>\n",
       "      <td>0.981965</td>\n",
       "      <td>0.526716</td>\n",
       "      <td>46.360947</td>\n",
       "    </tr>\n",
       "    <tr>\n",
       "      <th>17</th>\n",
       "      <td>{'rf__class_weight': 'balanced_subsample', 'rf__max_depth': None, 'rf__n_estimators': 500, 'smot...</td>\n",
       "      <td>0.981829</td>\n",
       "      <td>0.522822</td>\n",
       "      <td>46.750255</td>\n",
       "    </tr>\n",
       "    <tr>\n",
       "      <th>16</th>\n",
       "      <td>{'rf__class_weight': 'balanced_subsample', 'rf__max_depth': None, 'rf__n_estimators': 500, 'smot...</td>\n",
       "      <td>0.981961</td>\n",
       "      <td>0.522015</td>\n",
       "      <td>46.839517</td>\n",
       "    </tr>\n",
       "    <tr>\n",
       "      <th>9</th>\n",
       "      <td>{'rf__class_weight': 'balanced_subsample', 'rf__max_depth': None, 'rf__n_estimators': 100, 'smot...</td>\n",
       "      <td>0.982072</td>\n",
       "      <td>0.519437</td>\n",
       "      <td>47.108066</td>\n",
       "    </tr>\n",
       "    <tr>\n",
       "      <th>13</th>\n",
       "      <td>{'rf__class_weight': 'balanced_subsample', 'rf__max_depth': None, 'rf__n_estimators': 200, 'smot...</td>\n",
       "      <td>0.981948</td>\n",
       "      <td>0.518150</td>\n",
       "      <td>47.232410</td>\n",
       "    </tr>\n",
       "    <tr>\n",
       "      <th>15</th>\n",
       "      <td>{'rf__class_weight': 'balanced_subsample', 'rf__max_depth': None, 'rf__n_estimators': 500, 'smot...</td>\n",
       "      <td>0.982101</td>\n",
       "      <td>0.515056</td>\n",
       "      <td>47.555690</td>\n",
       "    </tr>\n",
       "    <tr>\n",
       "      <th>14</th>\n",
       "      <td>{'rf__class_weight': 'balanced_subsample', 'rf__max_depth': None, 'rf__n_estimators': 200, 'smot...</td>\n",
       "      <td>0.981829</td>\n",
       "      <td>0.512926</td>\n",
       "      <td>47.758114</td>\n",
       "    </tr>\n",
       "    <tr>\n",
       "      <th>11</th>\n",
       "      <td>{'rf__class_weight': 'balanced_subsample', 'rf__max_depth': None, 'rf__n_estimators': 100, 'smot...</td>\n",
       "      <td>0.981872</td>\n",
       "      <td>0.508521</td>\n",
       "      <td>48.209021</td>\n",
       "    </tr>\n",
       "    <tr>\n",
       "      <th>12</th>\n",
       "      <td>{'rf__class_weight': 'balanced_subsample', 'rf__max_depth': None, 'rf__n_estimators': 200, 'smot...</td>\n",
       "      <td>0.982041</td>\n",
       "      <td>0.508281</td>\n",
       "      <td>48.242344</td>\n",
       "    </tr>\n",
       "    <tr>\n",
       "      <th>1</th>\n",
       "      <td>{'rf__class_weight': 'balanced_subsample', 'rf__max_depth': 5, 'rf__n_estimators': 100, 'smote__...</td>\n",
       "      <td>0.485211</td>\n",
       "      <td>0.462026</td>\n",
       "      <td>4.778351</td>\n",
       "    </tr>\n",
       "    <tr>\n",
       "      <th>2</th>\n",
       "      <td>{'rf__class_weight': 'balanced_subsample', 'rf__max_depth': 5, 'rf__n_estimators': 100, 'smote__...</td>\n",
       "      <td>0.482184</td>\n",
       "      <td>0.461967</td>\n",
       "      <td>4.192761</td>\n",
       "    </tr>\n",
       "    <tr>\n",
       "      <th>4</th>\n",
       "      <td>{'rf__class_weight': 'balanced_subsample', 'rf__max_depth': 5, 'rf__n_estimators': 200, 'smote__...</td>\n",
       "      <td>0.482162</td>\n",
       "      <td>0.459516</td>\n",
       "      <td>4.696793</td>\n",
       "    </tr>\n",
       "    <tr>\n",
       "      <th>3</th>\n",
       "      <td>{'rf__class_weight': 'balanced_subsample', 'rf__max_depth': 5, 'rf__n_estimators': 200, 'smote__...</td>\n",
       "      <td>0.483399</td>\n",
       "      <td>0.459125</td>\n",
       "      <td>5.021537</td>\n",
       "    </tr>\n",
       "    <tr>\n",
       "      <th>0</th>\n",
       "      <td>{'rf__class_weight': 'balanced_subsample', 'rf__max_depth': 5, 'rf__n_estimators': 100, 'smote__...</td>\n",
       "      <td>0.482607</td>\n",
       "      <td>0.458431</td>\n",
       "      <td>5.009468</td>\n",
       "    </tr>\n",
       "    <tr>\n",
       "      <th>7</th>\n",
       "      <td>{'rf__class_weight': 'balanced_subsample', 'rf__max_depth': 5, 'rf__n_estimators': 500, 'smote__...</td>\n",
       "      <td>0.481842</td>\n",
       "      <td>0.457713</td>\n",
       "      <td>5.007605</td>\n",
       "    </tr>\n",
       "    <tr>\n",
       "      <th>6</th>\n",
       "      <td>{'rf__class_weight': 'balanced_subsample', 'rf__max_depth': 5, 'rf__n_estimators': 500, 'smote__...</td>\n",
       "      <td>0.482048</td>\n",
       "      <td>0.455622</td>\n",
       "      <td>5.481872</td>\n",
       "    </tr>\n",
       "    <tr>\n",
       "      <th>8</th>\n",
       "      <td>{'rf__class_weight': 'balanced_subsample', 'rf__max_depth': 5, 'rf__n_estimators': 500, 'smote__...</td>\n",
       "      <td>0.476389</td>\n",
       "      <td>0.454909</td>\n",
       "      <td>4.508867</td>\n",
       "    </tr>\n",
       "    <tr>\n",
       "      <th>5</th>\n",
       "      <td>{'rf__class_weight': 'balanced_subsample', 'rf__max_depth': 5, 'rf__n_estimators': 200, 'smote__...</td>\n",
       "      <td>0.478340</td>\n",
       "      <td>0.453941</td>\n",
       "      <td>5.100672</td>\n",
       "    </tr>\n",
       "  </tbody>\n",
       "</table>\n",
       "</div>"
      ],
      "text/plain": [
       "                                                                                                 params  \\\n",
       "10  {'rf__class_weight': 'balanced_subsample', 'rf__max_depth': None, 'rf__n_estimators': 100, 'smot...   \n",
       "17  {'rf__class_weight': 'balanced_subsample', 'rf__max_depth': None, 'rf__n_estimators': 500, 'smot...   \n",
       "16  {'rf__class_weight': 'balanced_subsample', 'rf__max_depth': None, 'rf__n_estimators': 500, 'smot...   \n",
       "9   {'rf__class_weight': 'balanced_subsample', 'rf__max_depth': None, 'rf__n_estimators': 100, 'smot...   \n",
       "13  {'rf__class_weight': 'balanced_subsample', 'rf__max_depth': None, 'rf__n_estimators': 200, 'smot...   \n",
       "15  {'rf__class_weight': 'balanced_subsample', 'rf__max_depth': None, 'rf__n_estimators': 500, 'smot...   \n",
       "14  {'rf__class_weight': 'balanced_subsample', 'rf__max_depth': None, 'rf__n_estimators': 200, 'smot...   \n",
       "11  {'rf__class_weight': 'balanced_subsample', 'rf__max_depth': None, 'rf__n_estimators': 100, 'smot...   \n",
       "12  {'rf__class_weight': 'balanced_subsample', 'rf__max_depth': None, 'rf__n_estimators': 200, 'smot...   \n",
       "1   {'rf__class_weight': 'balanced_subsample', 'rf__max_depth': 5, 'rf__n_estimators': 100, 'smote__...   \n",
       "2   {'rf__class_weight': 'balanced_subsample', 'rf__max_depth': 5, 'rf__n_estimators': 100, 'smote__...   \n",
       "4   {'rf__class_weight': 'balanced_subsample', 'rf__max_depth': 5, 'rf__n_estimators': 200, 'smote__...   \n",
       "3   {'rf__class_weight': 'balanced_subsample', 'rf__max_depth': 5, 'rf__n_estimators': 200, 'smote__...   \n",
       "0   {'rf__class_weight': 'balanced_subsample', 'rf__max_depth': 5, 'rf__n_estimators': 100, 'smote__...   \n",
       "7   {'rf__class_weight': 'balanced_subsample', 'rf__max_depth': 5, 'rf__n_estimators': 500, 'smote__...   \n",
       "6   {'rf__class_weight': 'balanced_subsample', 'rf__max_depth': 5, 'rf__n_estimators': 500, 'smote__...   \n",
       "8   {'rf__class_weight': 'balanced_subsample', 'rf__max_depth': 5, 'rf__n_estimators': 500, 'smote__...   \n",
       "5   {'rf__class_weight': 'balanced_subsample', 'rf__max_depth': 5, 'rf__n_estimators': 200, 'smote__...   \n",
       "\n",
       "    mean_train_score  mean_test_score    diff, %  \n",
       "10          0.981965         0.526716  46.360947  \n",
       "17          0.981829         0.522822  46.750255  \n",
       "16          0.981961         0.522015  46.839517  \n",
       "9           0.982072         0.519437  47.108066  \n",
       "13          0.981948         0.518150  47.232410  \n",
       "15          0.982101         0.515056  47.555690  \n",
       "14          0.981829         0.512926  47.758114  \n",
       "11          0.981872         0.508521  48.209021  \n",
       "12          0.982041         0.508281  48.242344  \n",
       "1           0.485211         0.462026   4.778351  \n",
       "2           0.482184         0.461967   4.192761  \n",
       "4           0.482162         0.459516   4.696793  \n",
       "3           0.483399         0.459125   5.021537  \n",
       "0           0.482607         0.458431   5.009468  \n",
       "7           0.481842         0.457713   5.007605  \n",
       "6           0.482048         0.455622   5.481872  \n",
       "8           0.476389         0.454909   4.508867  \n",
       "5           0.478340         0.453941   5.100672  "
      ]
     },
     "execution_count": 147,
     "metadata": {},
     "output_type": "execute_result"
    }
   ],
   "source": [
    "# training and validation RMSE\n",
    "rf_os_cv_results = pd.DataFrame(rf_os_grid_search.cv_results_\n",
    "                         )[['params', 'mean_train_score', 'mean_test_score']]\n",
    "rf_os_cv_results[\"diff, %\"] = 100*(rf_os_cv_results[\"mean_train_score\"]-rf_os_cv_results[\"mean_test_score\"]\n",
    "                                                     )/rf_os_cv_results[\"mean_train_score\"]\n",
    "\n",
    "pd.set_option('display.max_colwidth', 100)\n",
    "rf_os_cv_results.sort_values('mean_test_score', ascending=False)"
   ]
  },
  {
   "cell_type": "code",
   "execution_count": 148,
   "id": "a2321e2e",
   "metadata": {},
   "outputs": [
    {
     "data": {
      "text/plain": [
       "<sklearn.metrics._plot.confusion_matrix.ConfusionMatrixDisplay at 0x7f7f2845b580>"
      ]
     },
     "execution_count": 148,
     "metadata": {},
     "output_type": "execute_result"
    },
    {
     "data": {
      "image/png": "[encoded data removed]",
      "text/plain": [
       "<Figure size 432x288 with 2 Axes>"
      ]
     },
     "metadata": {
      "needs_background": "light"
     },
     "output_type": "display_data"
    }
   ],
   "source": [
    "# cross-validation confusion matrix, training data\n",
    "y_pred_os_rf = cross_val_predict(rf_os_grid_search.best_estimator_, Xtrain, ytrain, cv=10)\n",
    "conf_mat = confusion_matrix(ytrain, y_pred_os_rf, normalize=\"true\")\n",
    "ConfusionMatrixDisplay(confusion_matrix=conf_mat,\n",
    "                       display_labels=rf_os_grid_search.best_estimator_.classes_\n",
    "                      ).plot(cmap=plt.cm.Blues)"
   ]
  },
  {
   "cell_type": "code",
   "execution_count": 149,
   "id": "8de4f32d",
   "metadata": {},
   "outputs": [
    {
     "data": {
      "text/plain": [
       "<sklearn.metrics._plot.confusion_matrix.ConfusionMatrixDisplay at 0x7f7f20501be0>"
      ]
     },
     "execution_count": 149,
     "metadata": {},
     "output_type": "execute_result"
    },
    {
     "data": {
      "image/png": "[encoded data removed]",
      "text/plain": [
       "<Figure size 432x288 with 2 Axes>"
      ]
     },
     "metadata": {
      "needs_background": "light"
     },
     "output_type": "display_data"
    }
   ],
   "source": [
    "#Confusion matrix on testing data\n",
    "ConfusionMatrixDisplay.from_estimator(rf_os_grid_search.best_estimator_, Xtest, ytest,\n",
    "                                 display_labels=rf_os_grid_search.best_estimator_.classes_,\n",
    "                                 cmap=plt.cm.Blues,\n",
    "                                 normalize='true')"
   ]
  },
  {
   "cell_type": "markdown",
   "id": "7dc65fde",
   "metadata": {},
   "source": [
    "We will not consider the oversampling for Random Forest because of the low prediction accuracy for fatal cases and overfitting problem."
   ]
  },
  {
   "cell_type": "markdown",
   "id": "671454cf",
   "metadata": {},
   "source": [
    "### Undersampling for Random Forest"
   ]
  },
  {
   "cell_type": "code",
   "execution_count": 150,
   "id": "f7963aee",
   "metadata": {},
   "outputs": [
    {
     "name": "stdout",
     "output_type": "stream",
     "text": [
      "best parameters {'cc__sampling_strategy': 0.5, 'rf__class_weight': 'balanced_subsample', 'rf__max_depth': None, 'rf__n_estimators': 200}\n",
      "f-score : 0.37233998095447884\n",
      "Took 23.39723515510559 seconds\n"
     ]
    }
   ],
   "source": [
    "pipeline = Pipeline([\n",
    "        ('cc', ClusterCentroids(random_state=2022)),\n",
    "        ('rf', RandomForestClassifier(random_state=2022))\n",
    "    ])\n",
    "\n",
    "\n",
    "param_grid = [\n",
    "    {\n",
    "        'cc__sampling_strategy': [0.5, 0.75, 1.0],\n",
    "        'rf__n_estimators': [100, 200, 500],\n",
    "        'rf__max_depth': [5, None],\n",
    "        'rf__class_weight': ['balanced_subsample']\n",
    "       \n",
    "    },\n",
    "]\n",
    "\n",
    "# we'll use 10-fold cross-validation\n",
    "rf_us_grid_search = GridSearchCV(pipeline, param_grid, cv=5, n_jobs =-1,\n",
    "                              scoring='f1_macro',\n",
    "                              return_train_score=True)\n",
    "\n",
    "#estimate the time needed to run the model\n",
    "start = time.time()\n",
    "rf_us_grid_search.fit(Xtrain, ytrain)\n",
    "end = time.time() - start\n",
    "\n",
    "#Print results\n",
    "print(\"best parameters\",rf_us_grid_search.best_params_)\n",
    "print(\"f-score :\",rf_us_grid_search.best_score_)\n",
    "print(f\"Took {end} seconds\")"
   ]
  },
  {
   "cell_type": "code",
   "execution_count": 151,
   "id": "a8593244",
   "metadata": {},
   "outputs": [
    {
     "data": {
      "text/html": [
       "<div>\n",
       "<style scoped>\n",
       "    .dataframe tbody tr th:only-of-type {\n",
       "        vertical-align: middle;\n",
       "    }\n",
       "\n",
       "    .dataframe tbody tr th {\n",
       "        vertical-align: top;\n",
       "    }\n",
       "\n",
       "    .dataframe thead th {\n",
       "        text-align: right;\n",
       "    }\n",
       "</style>\n",
       "<table border=\"1\" class=\"dataframe\">\n",
       "  <thead>\n",
       "    <tr style=\"text-align: right;\">\n",
       "      <th></th>\n",
       "      <th>params</th>\n",
       "      <th>mean_train_score</th>\n",
       "      <th>mean_test_score</th>\n",
       "      <th>diff, %</th>\n",
       "    </tr>\n",
       "  </thead>\n",
       "  <tbody>\n",
       "    <tr>\n",
       "      <th>4</th>\n",
       "      <td>{'cc__sampling_strategy': 0.5, 'rf__class_weight': 'balanced_subsample', 'rf__max_depth': None, ...</td>\n",
       "      <td>0.421082</td>\n",
       "      <td>0.372340</td>\n",
       "      <td>11.575362</td>\n",
       "    </tr>\n",
       "    <tr>\n",
       "      <th>5</th>\n",
       "      <td>{'cc__sampling_strategy': 0.5, 'rf__class_weight': 'balanced_subsample', 'rf__max_depth': None, ...</td>\n",
       "      <td>0.421155</td>\n",
       "      <td>0.371144</td>\n",
       "      <td>11.874643</td>\n",
       "    </tr>\n",
       "    <tr>\n",
       "      <th>3</th>\n",
       "      <td>{'cc__sampling_strategy': 0.5, 'rf__class_weight': 'balanced_subsample', 'rf__max_depth': None, ...</td>\n",
       "      <td>0.416863</td>\n",
       "      <td>0.370349</td>\n",
       "      <td>11.158051</td>\n",
       "    </tr>\n",
       "    <tr>\n",
       "      <th>0</th>\n",
       "      <td>{'cc__sampling_strategy': 0.5, 'rf__class_weight': 'balanced_subsample', 'rf__max_depth': 5, 'rf...</td>\n",
       "      <td>0.307395</td>\n",
       "      <td>0.287364</td>\n",
       "      <td>6.516434</td>\n",
       "    </tr>\n",
       "    <tr>\n",
       "      <th>1</th>\n",
       "      <td>{'cc__sampling_strategy': 0.5, 'rf__class_weight': 'balanced_subsample', 'rf__max_depth': 5, 'rf...</td>\n",
       "      <td>0.310469</td>\n",
       "      <td>0.287245</td>\n",
       "      <td>7.480327</td>\n",
       "    </tr>\n",
       "    <tr>\n",
       "      <th>2</th>\n",
       "      <td>{'cc__sampling_strategy': 0.5, 'rf__class_weight': 'balanced_subsample', 'rf__max_depth': 5, 'rf...</td>\n",
       "      <td>0.307657</td>\n",
       "      <td>0.285017</td>\n",
       "      <td>7.358781</td>\n",
       "    </tr>\n",
       "    <tr>\n",
       "      <th>11</th>\n",
       "      <td>{'cc__sampling_strategy': 0.75, 'rf__class_weight': 'balanced_subsample', 'rf__max_depth': None,...</td>\n",
       "      <td>0.261728</td>\n",
       "      <td>0.238299</td>\n",
       "      <td>8.951698</td>\n",
       "    </tr>\n",
       "    <tr>\n",
       "      <th>9</th>\n",
       "      <td>{'cc__sampling_strategy': 0.75, 'rf__class_weight': 'balanced_subsample', 'rf__max_depth': None,...</td>\n",
       "      <td>0.262053</td>\n",
       "      <td>0.236688</td>\n",
       "      <td>9.679415</td>\n",
       "    </tr>\n",
       "    <tr>\n",
       "      <th>10</th>\n",
       "      <td>{'cc__sampling_strategy': 0.75, 'rf__class_weight': 'balanced_subsample', 'rf__max_depth': None,...</td>\n",
       "      <td>0.261184</td>\n",
       "      <td>0.236348</td>\n",
       "      <td>9.508914</td>\n",
       "    </tr>\n",
       "    <tr>\n",
       "      <th>7</th>\n",
       "      <td>{'cc__sampling_strategy': 0.75, 'rf__class_weight': 'balanced_subsample', 'rf__max_depth': 5, 'r...</td>\n",
       "      <td>0.223992</td>\n",
       "      <td>0.212522</td>\n",
       "      <td>5.120556</td>\n",
       "    </tr>\n",
       "    <tr>\n",
       "      <th>6</th>\n",
       "      <td>{'cc__sampling_strategy': 0.75, 'rf__class_weight': 'balanced_subsample', 'rf__max_depth': 5, 'r...</td>\n",
       "      <td>0.225385</td>\n",
       "      <td>0.211126</td>\n",
       "      <td>6.326543</td>\n",
       "    </tr>\n",
       "    <tr>\n",
       "      <th>8</th>\n",
       "      <td>{'cc__sampling_strategy': 0.75, 'rf__class_weight': 'balanced_subsample', 'rf__max_depth': 5, 'r...</td>\n",
       "      <td>0.223739</td>\n",
       "      <td>0.210511</td>\n",
       "      <td>5.912409</td>\n",
       "    </tr>\n",
       "    <tr>\n",
       "      <th>12</th>\n",
       "      <td>{'cc__sampling_strategy': 1.0, 'rf__class_weight': 'balanced_subsample', 'rf__max_depth': 5, 'rf...</td>\n",
       "      <td>0.156376</td>\n",
       "      <td>0.149355</td>\n",
       "      <td>4.490133</td>\n",
       "    </tr>\n",
       "    <tr>\n",
       "      <th>15</th>\n",
       "      <td>{'cc__sampling_strategy': 1.0, 'rf__class_weight': 'balanced_subsample', 'rf__max_depth': None, ...</td>\n",
       "      <td>0.153631</td>\n",
       "      <td>0.142615</td>\n",
       "      <td>7.170416</td>\n",
       "    </tr>\n",
       "    <tr>\n",
       "      <th>14</th>\n",
       "      <td>{'cc__sampling_strategy': 1.0, 'rf__class_weight': 'balanced_subsample', 'rf__max_depth': 5, 'rf...</td>\n",
       "      <td>0.146907</td>\n",
       "      <td>0.140064</td>\n",
       "      <td>4.658175</td>\n",
       "    </tr>\n",
       "    <tr>\n",
       "      <th>13</th>\n",
       "      <td>{'cc__sampling_strategy': 1.0, 'rf__class_weight': 'balanced_subsample', 'rf__max_depth': 5, 'rf...</td>\n",
       "      <td>0.148293</td>\n",
       "      <td>0.139353</td>\n",
       "      <td>6.028759</td>\n",
       "    </tr>\n",
       "    <tr>\n",
       "      <th>17</th>\n",
       "      <td>{'cc__sampling_strategy': 1.0, 'rf__class_weight': 'balanced_subsample', 'rf__max_depth': None, ...</td>\n",
       "      <td>0.149245</td>\n",
       "      <td>0.137574</td>\n",
       "      <td>7.820206</td>\n",
       "    </tr>\n",
       "    <tr>\n",
       "      <th>16</th>\n",
       "      <td>{'cc__sampling_strategy': 1.0, 'rf__class_weight': 'balanced_subsample', 'rf__max_depth': None, ...</td>\n",
       "      <td>0.148194</td>\n",
       "      <td>0.136772</td>\n",
       "      <td>7.707174</td>\n",
       "    </tr>\n",
       "  </tbody>\n",
       "</table>\n",
       "</div>"
      ],
      "text/plain": [
       "                                                                                                 params  \\\n",
       "4   {'cc__sampling_strategy': 0.5, 'rf__class_weight': 'balanced_subsample', 'rf__max_depth': None, ...   \n",
       "5   {'cc__sampling_strategy': 0.5, 'rf__class_weight': 'balanced_subsample', 'rf__max_depth': None, ...   \n",
       "3   {'cc__sampling_strategy': 0.5, 'rf__class_weight': 'balanced_subsample', 'rf__max_depth': None, ...   \n",
       "0   {'cc__sampling_strategy': 0.5, 'rf__class_weight': 'balanced_subsample', 'rf__max_depth': 5, 'rf...   \n",
       "1   {'cc__sampling_strategy': 0.5, 'rf__class_weight': 'balanced_subsample', 'rf__max_depth': 5, 'rf...   \n",
       "2   {'cc__sampling_strategy': 0.5, 'rf__class_weight': 'balanced_subsample', 'rf__max_depth': 5, 'rf...   \n",
       "11  {'cc__sampling_strategy': 0.75, 'rf__class_weight': 'balanced_subsample', 'rf__max_depth': None,...   \n",
       "9   {'cc__sampling_strategy': 0.75, 'rf__class_weight': 'balanced_subsample', 'rf__max_depth': None,...   \n",
       "10  {'cc__sampling_strategy': 0.75, 'rf__class_weight': 'balanced_subsample', 'rf__max_depth': None,...   \n",
       "7   {'cc__sampling_strategy': 0.75, 'rf__class_weight': 'balanced_subsample', 'rf__max_depth': 5, 'r...   \n",
       "6   {'cc__sampling_strategy': 0.75, 'rf__class_weight': 'balanced_subsample', 'rf__max_depth': 5, 'r...   \n",
       "8   {'cc__sampling_strategy': 0.75, 'rf__class_weight': 'balanced_subsample', 'rf__max_depth': 5, 'r...   \n",
       "12  {'cc__sampling_strategy': 1.0, 'rf__class_weight': 'balanced_subsample', 'rf__max_depth': 5, 'rf...   \n",
       "15  {'cc__sampling_strategy': 1.0, 'rf__class_weight': 'balanced_subsample', 'rf__max_depth': None, ...   \n",
       "14  {'cc__sampling_strategy': 1.0, 'rf__class_weight': 'balanced_subsample', 'rf__max_depth': 5, 'rf...   \n",
       "13  {'cc__sampling_strategy': 1.0, 'rf__class_weight': 'balanced_subsample', 'rf__max_depth': 5, 'rf...   \n",
       "17  {'cc__sampling_strategy': 1.0, 'rf__class_weight': 'balanced_subsample', 'rf__max_depth': None, ...   \n",
       "16  {'cc__sampling_strategy': 1.0, 'rf__class_weight': 'balanced_subsample', 'rf__max_depth': None, ...   \n",
       "\n",
       "    mean_train_score  mean_test_score    diff, %  \n",
       "4           0.421082         0.372340  11.575362  \n",
       "5           0.421155         0.371144  11.874643  \n",
       "3           0.416863         0.370349  11.158051  \n",
       "0           0.307395         0.287364   6.516434  \n",
       "1           0.310469         0.287245   7.480327  \n",
       "2           0.307657         0.285017   7.358781  \n",
       "11          0.261728         0.238299   8.951698  \n",
       "9           0.262053         0.236688   9.679415  \n",
       "10          0.261184         0.236348   9.508914  \n",
       "7           0.223992         0.212522   5.120556  \n",
       "6           0.225385         0.211126   6.326543  \n",
       "8           0.223739         0.210511   5.912409  \n",
       "12          0.156376         0.149355   4.490133  \n",
       "15          0.153631         0.142615   7.170416  \n",
       "14          0.146907         0.140064   4.658175  \n",
       "13          0.148293         0.139353   6.028759  \n",
       "17          0.149245         0.137574   7.820206  \n",
       "16          0.148194         0.136772   7.707174  "
      ]
     },
     "execution_count": 151,
     "metadata": {},
     "output_type": "execute_result"
    }
   ],
   "source": [
    "# training and validation RMSE\n",
    "rf_us_cv_results = pd.DataFrame(rf_us_grid_search.cv_results_\n",
    "                         )[['params', 'mean_train_score', 'mean_test_score']]\n",
    "rf_us_cv_results[\"diff, %\"] = 100*(rf_us_cv_results[\"mean_train_score\"]-rf_us_cv_results[\"mean_test_score\"]\n",
    "                                                     )/rf_us_cv_results[\"mean_train_score\"]\n",
    "\n",
    "pd.set_option('display.max_colwidth', 100)\n",
    "rf_us_cv_results.sort_values('mean_test_score', ascending=False)"
   ]
  },
  {
   "cell_type": "code",
   "execution_count": 153,
   "id": "b4933114",
   "metadata": {},
   "outputs": [
    {
     "data": {
      "text/plain": [
       "<sklearn.metrics._plot.confusion_matrix.ConfusionMatrixDisplay at 0x7feb923165e0>"
      ]
     },
     "execution_count": 153,
     "metadata": {},
     "output_type": "execute_result"
    },
    {
     "data": {
      "image/png": "[encoded data removed]",
      "text/plain": [
       "<Figure size 432x288 with 2 Axes>"
      ]
     },
     "metadata": {
      "needs_background": "light"
     },
     "output_type": "display_data"
    }
   ],
   "source": [
    "# cross-validation confusion matrix, training data\n",
    "y_pred_us_rf = cross_val_predict(rf_us_grid_search.best_estimator_, Xtrain, ytrain, cv=5)\n",
    "conf_mat = confusion_matrix(ytrain, y_pred_us_rf, normalize=\"true\")\n",
    "ConfusionMatrixDisplay(confusion_matrix=conf_mat,\n",
    "                       display_labels=rf_us_grid_search.best_estimator_.classes_\n",
    "                      ).plot(cmap=plt.cm.Blues)"
   ]
  },
  {
   "cell_type": "code",
   "execution_count": 154,
   "id": "0997d609",
   "metadata": {},
   "outputs": [
    {
     "data": {
      "text/plain": [
       "<sklearn.metrics._plot.confusion_matrix.ConfusionMatrixDisplay at 0x7feb70ba8be0>"
      ]
     },
     "execution_count": 154,
     "metadata": {},
     "output_type": "execute_result"
    },
    {
     "data": {
      "image/png": "[encoded data removed]",
      "text/plain": [
       "<Figure size 432x288 with 2 Axes>"
      ]
     },
     "metadata": {
      "needs_background": "light"
     },
     "output_type": "display_data"
    }
   ],
   "source": [
    "#Confusion matrix on testing data\n",
    "ConfusionMatrixDisplay.from_estimator(rf_us_grid_search.best_estimator_, Xtest, ytest,\n",
    "                                 display_labels=rf_us_grid_search.best_estimator_.classes_,\n",
    "                                 cmap=plt.cm.Blues,\n",
    "                                 normalize='true')"
   ]
  },
  {
   "cell_type": "markdown",
   "id": "24ec6650",
   "metadata": {},
   "source": [
    "## Evaluation"
   ]
  },
  {
   "cell_type": "code",
   "execution_count": 155,
   "id": "60f9d5a8",
   "metadata": {},
   "outputs": [
    {
     "name": "stdout",
     "output_type": "stream",
     "text": [
      "              precision    recall  f1-score   support\n",
      "\n",
      "           0       0.97      0.85      0.90       942\n",
      "           1       0.05      0.20      0.08        35\n",
      "\n",
      "    accuracy                           0.83       977\n",
      "   macro avg       0.51      0.52      0.49       977\n",
      "weighted avg       0.93      0.83      0.87       977\n",
      "\n"
     ]
    }
   ],
   "source": [
    "# Unbalanced random forest\n",
    "evaluate_on_test(rf_grid_search.best_estimator_, ytest, Xtest)"
   ]
  },
  {
   "cell_type": "code",
   "execution_count": 156,
   "id": "3c92e098",
   "metadata": {},
   "outputs": [
    {
     "name": "stdout",
     "output_type": "stream",
     "text": [
      "              precision    recall  f1-score   support\n",
      "\n",
      "           0       0.96      0.55      0.70       942\n",
      "           1       0.04      0.46      0.07        35\n",
      "\n",
      "    accuracy                           0.55       977\n",
      "   macro avg       0.50      0.51      0.39       977\n",
      "weighted avg       0.93      0.55      0.68       977\n",
      "\n"
     ]
    }
   ],
   "source": [
    "# Undersampling random forest\n",
    "evaluate_on_test(rf_us_grid_search.best_estimator_, ytest, Xtest)"
   ]
  },
  {
   "cell_type": "markdown",
   "id": "830f3570",
   "metadata": {},
   "source": [
    "## 7.2.5 Light GBM"
   ]
  },
  {
   "cell_type": "markdown",
   "id": "2ce0973b",
   "metadata": {},
   "source": [
    "Light GBM is set up to work with moderate-size dataset, so with a small dataset like this one, it can perform poorly. After testing and hypertuning different parameters, this is the best parameter combination that I found for lightgbm"
   ]
  },
  {
   "cell_type": "code",
   "execution_count": 157,
   "id": "e3a253f8",
   "metadata": {},
   "outputs": [
    {
     "name": "stdout",
     "output_type": "stream",
     "text": [
      "[LightGBM] [Warning] bagging_freq is set=1, subsample_freq=0 will be ignored. Current value: bagging_freq=1\n",
      "[LightGBM] [Warning] bagging_freq is set=1, subsample_freq=0 will be ignored. Current value: bagging_freq=1\n",
      "[LightGBM] [Warning] bagging_freq is set=1, subsample_freq=0 will be ignored. Current value: bagging_freq=1\n",
      "[LightGBM] [Warning] bagging_freq is set=1, subsample_freq=0 will be ignored. Current value: bagging_freq=1\n",
      "[LightGBM] [Warning] bagging_freq is set=1, subsample_freq=0 will be ignored. Current value: bagging_freq=1\n",
      "[LightGBM] [Warning] bagging_freq is set=1, subsample_freq=0 will be ignored. Current value: bagging_freq=1\n",
      "[LightGBM] [Warning] bagging_freq is set=1, subsample_freq=0 will be ignored. Current value: bagging_freq=1\n",
      "[LightGBM] [Warning] bagging_freq is set=1, subsample_freq=0 will be ignored. Current value: bagging_freq=1\n",
      "[LightGBM] [Warning] bagging_freq is set=1, subsample_freq=0 will be ignored. Current value: bagging_freq=1\n",
      "[LightGBM] [Warning] bagging_freq is set=1, subsample_freq=0 will be ignored. Current value: bagging_freq=1\n",
      "[LightGBM] [Warning] bagging_freq is set=1, subsample_freq=0 will be ignored. Current value: bagging_freq=1\n",
      "[LightGBM] [Warning] bagging_freq is set=1, subsample_freq=0 will be ignored. Current value: bagging_freq=1\n",
      "[LightGBM] [Warning] bagging_freq is set=1, subsample_freq=0 will be ignored. Current value: bagging_freq=1\n",
      "[LightGBM] [Warning] bagging_freq is set=1, subsample_freq=0 will be ignored. Current value: bagging_freq=1\n",
      "[LightGBM] [Warning] bagging_freq is set=1, subsample_freq=0 will be ignored. Current value: bagging_freq=1\n",
      "[LightGBM] [Warning] bagging_freq is set=1, subsample_freq=0 will be ignored. Current value: bagging_freq=1\n",
      "[LightGBM] [Warning] bagging_freq is set=1, subsample_freq=0 will be ignored. Current value: bagging_freq=1\n",
      "[LightGBM] [Warning] bagging_freq is set=1, subsample_freq=0 will be ignored. Current value: bagging_freq=1\n",
      "[LightGBM] [Warning] bagging_freq is set=1, subsample_freq=0 will be ignored. Current value: bagging_freq=1\n",
      "[LightGBM] [Warning] bagging_freq is set=1, subsample_freq=0 will be ignored. Current value: bagging_freq=1\n",
      "[LightGBM] [Warning] bagging_freq is set=1, subsample_freq=0 will be ignored. Current value: bagging_freq=1\n",
      "[LightGBM] [Warning] bagging_freq is set=1, subsample_freq=0 will be ignored. Current value: bagging_freq=1\n",
      "[LightGBM] [Warning] bagging_freq is set=1, subsample_freq=0 will be ignored. Current value: bagging_freq=1\n",
      "[LightGBM] [Warning] bagging_freq is set=1, subsample_freq=0 will be ignored. Current value: bagging_freq=1\n",
      "[LightGBM] [Warning] bagging_freq is set=1, subsample_freq=0 will be ignored. Current value: bagging_freq=1\n",
      "[LightGBM] [Warning] bagging_freq is set=1, subsample_freq=0 will be ignored. Current value: bagging_freq=1\n",
      "[LightGBM] [Warning] bagging_freq is set=1, subsample_freq=0 will be ignored. Current value: bagging_freq=1\n",
      "[LightGBM] [Warning] bagging_freq is set=1, subsample_freq=0 will be ignored. Current value: bagging_freq=1\n",
      "[LightGBM] [Warning] bagging_freq is set=1, subsample_freq=0 will be ignored. Current value: bagging_freq=1\n",
      "[LightGBM] [Warning] bagging_freq is set=1, subsample_freq=0 will be ignored. Current value: bagging_freq=1\n",
      "[LightGBM] [Warning] bagging_freq is set=1, subsample_freq=0 will be ignored. Current value: bagging_freq=1\n",
      "[LightGBM] [Warning] bagging_freq is set=1, subsample_freq=0 will be ignored. Current value: bagging_freq=1\n",
      "[LightGBM] [Warning] bagging_freq is set=1, subsample_freq=0 will be ignored. Current value: bagging_freq=1\n",
      "[LightGBM] [Warning] bagging_freq is set=1, subsample_freq=0 will be ignored. Current value: bagging_freq=1\n",
      "[LightGBM] [Warning] bagging_freq is set=1, subsample_freq=0 will be ignored. Current value: bagging_freq=1\n",
      "[LightGBM] [Warning] bagging_freq is set=1, subsample_freq=0 will be ignored. Current value: bagging_freq=1\n",
      "[LightGBM] [Warning] bagging_freq is set=1, subsample_freq=0 will be ignored. Current value: bagging_freq=1\n",
      "[LightGBM] [Warning] bagging_freq is set=1, subsample_freq=0 will be ignored. Current value: bagging_freq=1\n",
      "[LightGBM] [Warning] bagging_freq is set=1, subsample_freq=0 will be ignored. Current value: bagging_freq=1\n",
      "[LightGBM] [Warning] bagging_freq is set=1, subsample_freq=0 will be ignored. Current value: bagging_freq=1\n",
      "[LightGBM] [Warning] bagging_freq is set=1, subsample_freq=0 will be ignored. Current value: bagging_freq=1\n",
      "Took 1.5640869140625 seconds\n",
      "best parameters {'bagging_freq': 1, 'boost_from_average': False, 'colsample_bytree': 1, 'max_depth': 63, 'min_child_weight': 3.9, 'num_leaves': 7, 'scale_pos_weight': 26.83}\n",
      "f-score : 0.4758943978581319\n"
     ]
    }
   ],
   "source": [
    "from sklearn.model_selection import GridSearchCV\n",
    "import lightgbm as lgb\n",
    "from lightgbm import LGBMClassifier\n",
    "lgb=lgb.LGBMClassifier(random_state = 2022,objective='binary')\n",
    "param_grid = {\n",
    "    'num_leaves':[7],\n",
    "    'max_depth':[2,63],\n",
    "    'bagging_freq': [1],\n",
    "    'scale_pos_weight':[26.83],#adjust the weights of the unbalanced class\n",
    "    'colsample_bytree': [0.4, 1],\n",
    "    'min_child_weight': [0.01, 3.9],\n",
    "    'boost_from_average':[False],\n",
    "    } \n",
    "\n",
    "\n",
    "# we'll use 10-fold cross-validation\n",
    "lgb_cv = GridSearchCV(lgb, param_grid, cv=5,\n",
    "                           scoring='f1_macro',\n",
    "                           return_train_score=True) \n",
    "\n",
    "#Estimate the time needed to run the model \n",
    "start = time.time()\n",
    "lgb_cv.fit(Xtrain, ytrain)\n",
    "end = time.time() - start\n",
    "\n",
    "# Print results\n",
    "print(f\"Took {end} seconds\")\n",
    "print(\"best parameters\",lgb_cv.best_params_)\n",
    "print(\"f-score :\",lgb_cv.best_score_)"
   ]
  },
  {
   "cell_type": "code",
   "execution_count": 158,
   "id": "e5e4990e",
   "metadata": {},
   "outputs": [
    {
     "data": {
      "text/html": [
       "<div>\n",
       "<style scoped>\n",
       "    .dataframe tbody tr th:only-of-type {\n",
       "        vertical-align: middle;\n",
       "    }\n",
       "\n",
       "    .dataframe tbody tr th {\n",
       "        vertical-align: top;\n",
       "    }\n",
       "\n",
       "    .dataframe thead th {\n",
       "        text-align: right;\n",
       "    }\n",
       "</style>\n",
       "<table border=\"1\" class=\"dataframe\">\n",
       "  <thead>\n",
       "    <tr style=\"text-align: right;\">\n",
       "      <th></th>\n",
       "      <th>params</th>\n",
       "      <th>mean_train_score</th>\n",
       "      <th>mean_test_score</th>\n",
       "      <th>diff, %</th>\n",
       "    </tr>\n",
       "  </thead>\n",
       "  <tbody>\n",
       "    <tr>\n",
       "      <th>7</th>\n",
       "      <td>{'bagging_freq': 1, 'boost_from_average': False, 'colsample_bytree': 1, 'max_depth': 63, 'min_ch...</td>\n",
       "      <td>0.570372</td>\n",
       "      <td>0.475894</td>\n",
       "      <td>16.564201</td>\n",
       "    </tr>\n",
       "    <tr>\n",
       "      <th>6</th>\n",
       "      <td>{'bagging_freq': 1, 'boost_from_average': False, 'colsample_bytree': 1, 'max_depth': 63, 'min_ch...</td>\n",
       "      <td>0.567284</td>\n",
       "      <td>0.470483</td>\n",
       "      <td>17.064026</td>\n",
       "    </tr>\n",
       "    <tr>\n",
       "      <th>3</th>\n",
       "      <td>{'bagging_freq': 1, 'boost_from_average': False, 'colsample_bytree': 0.4, 'max_depth': 63, 'min_...</td>\n",
       "      <td>0.543202</td>\n",
       "      <td>0.469516</td>\n",
       "      <td>13.565123</td>\n",
       "    </tr>\n",
       "    <tr>\n",
       "      <th>2</th>\n",
       "      <td>{'bagging_freq': 1, 'boost_from_average': False, 'colsample_bytree': 0.4, 'max_depth': 63, 'min_...</td>\n",
       "      <td>0.542933</td>\n",
       "      <td>0.469240</td>\n",
       "      <td>13.573170</td>\n",
       "    </tr>\n",
       "    <tr>\n",
       "      <th>4</th>\n",
       "      <td>{'bagging_freq': 1, 'boost_from_average': False, 'colsample_bytree': 1, 'max_depth': 2, 'min_chi...</td>\n",
       "      <td>0.482785</td>\n",
       "      <td>0.437947</td>\n",
       "      <td>9.287218</td>\n",
       "    </tr>\n",
       "    <tr>\n",
       "      <th>5</th>\n",
       "      <td>{'bagging_freq': 1, 'boost_from_average': False, 'colsample_bytree': 1, 'max_depth': 2, 'min_chi...</td>\n",
       "      <td>0.479776</td>\n",
       "      <td>0.436691</td>\n",
       "      <td>8.980164</td>\n",
       "    </tr>\n",
       "    <tr>\n",
       "      <th>1</th>\n",
       "      <td>{'bagging_freq': 1, 'boost_from_average': False, 'colsample_bytree': 0.4, 'max_depth': 2, 'min_c...</td>\n",
       "      <td>0.473806</td>\n",
       "      <td>0.435556</td>\n",
       "      <td>8.072986</td>\n",
       "    </tr>\n",
       "    <tr>\n",
       "      <th>0</th>\n",
       "      <td>{'bagging_freq': 1, 'boost_from_average': False, 'colsample_bytree': 0.4, 'max_depth': 2, 'min_c...</td>\n",
       "      <td>0.472820</td>\n",
       "      <td>0.434704</td>\n",
       "      <td>8.061600</td>\n",
       "    </tr>\n",
       "  </tbody>\n",
       "</table>\n",
       "</div>"
      ],
      "text/plain": [
       "                                                                                                params  \\\n",
       "7  {'bagging_freq': 1, 'boost_from_average': False, 'colsample_bytree': 1, 'max_depth': 63, 'min_ch...   \n",
       "6  {'bagging_freq': 1, 'boost_from_average': False, 'colsample_bytree': 1, 'max_depth': 63, 'min_ch...   \n",
       "3  {'bagging_freq': 1, 'boost_from_average': False, 'colsample_bytree': 0.4, 'max_depth': 63, 'min_...   \n",
       "2  {'bagging_freq': 1, 'boost_from_average': False, 'colsample_bytree': 0.4, 'max_depth': 63, 'min_...   \n",
       "4  {'bagging_freq': 1, 'boost_from_average': False, 'colsample_bytree': 1, 'max_depth': 2, 'min_chi...   \n",
       "5  {'bagging_freq': 1, 'boost_from_average': False, 'colsample_bytree': 1, 'max_depth': 2, 'min_chi...   \n",
       "1  {'bagging_freq': 1, 'boost_from_average': False, 'colsample_bytree': 0.4, 'max_depth': 2, 'min_c...   \n",
       "0  {'bagging_freq': 1, 'boost_from_average': False, 'colsample_bytree': 0.4, 'max_depth': 2, 'min_c...   \n",
       "\n",
       "   mean_train_score  mean_test_score    diff, %  \n",
       "7          0.570372         0.475894  16.564201  \n",
       "6          0.567284         0.470483  17.064026  \n",
       "3          0.543202         0.469516  13.565123  \n",
       "2          0.542933         0.469240  13.573170  \n",
       "4          0.482785         0.437947   9.287218  \n",
       "5          0.479776         0.436691   8.980164  \n",
       "1          0.473806         0.435556   8.072986  \n",
       "0          0.472820         0.434704   8.061600  "
      ]
     },
     "execution_count": 158,
     "metadata": {},
     "output_type": "execute_result"
    }
   ],
   "source": [
    "# training and validation RMSE\n",
    "lgb_cv_results = pd.DataFrame(lgb_cv.cv_results_\n",
    "                         )[['params', 'mean_train_score', 'mean_test_score']]\n",
    "lgb_cv_results[\"diff, %\"] = 100*(lgb_cv_results[\"mean_train_score\"]-lgb_cv_results[\"mean_test_score\"]\n",
    "                                                     )/lgb_cv_results[\"mean_train_score\"]\n",
    "\n",
    "pd.set_option('display.max_colwidth', 100)\n",
    "lgb_cv_results.sort_values('mean_test_score', ascending=False)"
   ]
  },
  {
   "cell_type": "code",
   "execution_count": 160,
   "id": "25de1684",
   "metadata": {},
   "outputs": [
    {
     "name": "stdout",
     "output_type": "stream",
     "text": [
      "[LightGBM] [Warning] bagging_freq is set=1, subsample_freq=0 will be ignored. Current value: bagging_freq=1\n",
      "[LightGBM] [Warning] bagging_freq is set=1, subsample_freq=0 will be ignored. Current value: bagging_freq=1\n",
      "[LightGBM] [Warning] bagging_freq is set=1, subsample_freq=0 will be ignored. Current value: bagging_freq=1\n",
      "[LightGBM] [Warning] bagging_freq is set=1, subsample_freq=0 will be ignored. Current value: bagging_freq=1\n",
      "[LightGBM] [Warning] bagging_freq is set=1, subsample_freq=0 will be ignored. Current value: bagging_freq=1\n"
     ]
    },
    {
     "data": {
      "text/plain": [
       "<sklearn.metrics._plot.confusion_matrix.ConfusionMatrixDisplay at 0x7febc0a03fa0>"
      ]
     },
     "execution_count": 160,
     "metadata": {},
     "output_type": "execute_result"
    },
    {
     "data": {
      "image/png": "[encoded data removed]",
      "text/plain": [
       "<Figure size 432x288 with 2 Axes>"
      ]
     },
     "metadata": {
      "needs_background": "light"
     },
     "output_type": "display_data"
    }
   ],
   "source": [
    "# cross-validation confusion matrix, training data\n",
    "y_pred_lgb = cross_val_predict(lgb_cv.best_estimator_, Xtrain, ytrain, cv=5)\n",
    "conf_mat = confusion_matrix(ytrain, y_pred_lgb, normalize=\"true\")\n",
    "ConfusionMatrixDisplay(confusion_matrix=conf_mat,\n",
    "                       display_labels=lgb_cv.best_estimator_.classes_\n",
    "                      ).plot(cmap=plt.cm.Blues)"
   ]
  },
  {
   "cell_type": "code",
   "execution_count": 161,
   "id": "a0826957",
   "metadata": {},
   "outputs": [
    {
     "data": {
      "text/plain": [
       "<sklearn.metrics._plot.confusion_matrix.ConfusionMatrixDisplay at 0x7feb70b01b50>"
      ]
     },
     "execution_count": 161,
     "metadata": {},
     "output_type": "execute_result"
    },
    {
     "data": {
      "image/png": "[encoded data removed]",
      "text/plain": [
       "<Figure size 432x288 with 2 Axes>"
      ]
     },
     "metadata": {
      "needs_background": "light"
     },
     "output_type": "display_data"
    }
   ],
   "source": [
    "#Confusion matrix on testing data\n",
    "ConfusionMatrixDisplay.from_estimator(lgb_cv.best_estimator_, Xtest, ytest,\n",
    "                                 display_labels=lgb_cv.best_estimator_.classes_,\n",
    "                                 cmap=plt.cm.Blues,\n",
    "                                 normalize='true')"
   ]
  },
  {
   "cell_type": "markdown",
   "id": "770cea48",
   "metadata": {},
   "source": [
    "### Oversampling for Light GBM"
   ]
  },
  {
   "cell_type": "code",
   "execution_count": 163,
   "id": "6829d785",
   "metadata": {},
   "outputs": [
    {
     "name": "stdout",
     "output_type": "stream",
     "text": [
      "[LightGBM] [Warning] bagging_freq is set=1, subsample_freq=0 will be ignored. Current value: bagging_freq=1\n",
      "[LightGBM] [Warning] bagging_freq is set=1, subsample_freq=0 will be ignored. Current value: bagging_freq=1\n",
      "[LightGBM] [Warning] bagging_freq is set=1, subsample_freq=0 will be ignored. Current value: bagging_freq=1\n",
      "[LightGBM] [Warning] bagging_freq is set=1, subsample_freq=0 will be ignored. Current value: bagging_freq=1\n",
      "[LightGBM] [Warning] bagging_freq is set=1, subsample_freq=0 will be ignored. Current value: bagging_freq=1\n",
      "[LightGBM] [Warning] bagging_freq is set=1, subsample_freq=0 will be ignored. Current value: bagging_freq=1\n",
      "[LightGBM] [Warning] bagging_freq is set=1, subsample_freq=0 will be ignored. Current value: bagging_freq=1\n",
      "[LightGBM] [Warning] bagging_freq is set=1, subsample_freq=0 will be ignored. Current value: bagging_freq=1\n",
      "[LightGBM] [Warning] bagging_freq is set=1, subsample_freq=0 will be ignored. Current value: bagging_freq=1\n",
      "[LightGBM] [Warning] bagging_freq is set=1, subsample_freq=0 will be ignored. Current value: bagging_freq=1\n",
      "[LightGBM] [Warning] bagging_freq is set=1, subsample_freq=0 will be ignored. Current value: bagging_freq=1\n",
      "[LightGBM] [Warning] bagging_freq is set=1, subsample_freq=0 will be ignored. Current value: bagging_freq=1\n",
      "[LightGBM] [Warning] bagging_freq is set=1, subsample_freq=0 will be ignored. Current value: bagging_freq=1\n",
      "[LightGBM] [Warning] bagging_freq is set=1, subsample_freq=0 will be ignored. Current value: bagging_freq=1\n",
      "[LightGBM] [Warning] bagging_freq is set=1, subsample_freq=0 will be ignored. Current value: bagging_freq=1\n",
      "[LightGBM] [Warning] bagging_freq is set=1, subsample_freq=0 will be ignored. Current value: bagging_freq=1\n",
      "[LightGBM] [Warning] bagging_freq is set=1, subsample_freq=0 will be ignored. Current value: bagging_freq=1\n",
      "[LightGBM] [Warning] bagging_freq is set=1, subsample_freq=0 will be ignored. Current value: bagging_freq=1\n",
      "[LightGBM] [Warning] bagging_freq is set=1, subsample_freq=0 will be ignored. Current value: bagging_freq=1\n",
      "[LightGBM] [Warning] bagging_freq is set=1, subsample_freq=0 will be ignored. Current value: bagging_freq=1\n",
      "[LightGBM] [Warning] bagging_freq is set=1, subsample_freq=0 will be ignored. Current value: bagging_freq=1\n",
      "[LightGBM] [Warning] bagging_freq is set=1, subsample_freq=0 will be ignored. Current value: bagging_freq=1\n",
      "[LightGBM] [Warning] bagging_freq is set=1, subsample_freq=0 will be ignored. Current value: bagging_freq=1\n",
      "[LightGBM] [Warning] bagging_freq is set=1, subsample_freq=0 will be ignored. Current value: bagging_freq=1\n",
      "[LightGBM] [Warning] bagging_freq is set=1, subsample_freq=0 will be ignored. Current value: bagging_freq=1\n",
      "[LightGBM] [Warning] bagging_freq is set=1, subsample_freq=0 will be ignored. Current value: bagging_freq=1\n",
      "[LightGBM] [Warning] bagging_freq is set=1, subsample_freq=0 will be ignored. Current value: bagging_freq=1\n",
      "[LightGBM] [Warning] bagging_freq is set=1, subsample_freq=0 will be ignored. Current value: bagging_freq=1\n",
      "[LightGBM] [Warning] bagging_freq is set=1, subsample_freq=0 will be ignored. Current value: bagging_freq=1\n",
      "[LightGBM] [Warning] bagging_freq is set=1, subsample_freq=0 will be ignored. Current value: bagging_freq=1\n",
      "[LightGBM] [Warning] bagging_freq is set=1, subsample_freq=0 will be ignored. Current value: bagging_freq=1\n",
      "[LightGBM] [Warning] bagging_freq is set=1, subsample_freq=0 will be ignored. Current value: bagging_freq=1\n",
      "[LightGBM] [Warning] bagging_freq is set=1, subsample_freq=0 will be ignored. Current value: bagging_freq=1\n",
      "[LightGBM] [Warning] bagging_freq is set=1, subsample_freq=0 will be ignored. Current value: bagging_freq=1\n",
      "[LightGBM] [Warning] bagging_freq is set=1, subsample_freq=0 will be ignored. Current value: bagging_freq=1\n",
      "[LightGBM] [Warning] bagging_freq is set=1, subsample_freq=0 will be ignored. Current value: bagging_freq=1\n",
      "[LightGBM] [Warning] bagging_freq is set=1, subsample_freq=0 will be ignored. Current value: bagging_freq=1\n",
      "[LightGBM] [Warning] bagging_freq is set=1, subsample_freq=0 will be ignored. Current value: bagging_freq=1\n",
      "[LightGBM] [Warning] bagging_freq is set=1, subsample_freq=0 will be ignored. Current value: bagging_freq=1\n",
      "[LightGBM] [Warning] bagging_freq is set=1, subsample_freq=0 will be ignored. Current value: bagging_freq=1\n",
      "[LightGBM] [Warning] bagging_freq is set=1, subsample_freq=0 will be ignored. Current value: bagging_freq=1\n",
      "[LightGBM] [Warning] bagging_freq is set=1, subsample_freq=0 will be ignored. Current value: bagging_freq=1\n",
      "[LightGBM] [Warning] bagging_freq is set=1, subsample_freq=0 will be ignored. Current value: bagging_freq=1\n",
      "[LightGBM] [Warning] bagging_freq is set=1, subsample_freq=0 will be ignored. Current value: bagging_freq=1\n",
      "[LightGBM] [Warning] bagging_freq is set=1, subsample_freq=0 will be ignored. Current value: bagging_freq=1\n",
      "[LightGBM] [Warning] bagging_freq is set=1, subsample_freq=0 will be ignored. Current value: bagging_freq=1\n",
      "[LightGBM] [Warning] bagging_freq is set=1, subsample_freq=0 will be ignored. Current value: bagging_freq=1\n",
      "[LightGBM] [Warning] bagging_freq is set=1, subsample_freq=0 will be ignored. Current value: bagging_freq=1\n",
      "[LightGBM] [Warning] bagging_freq is set=1, subsample_freq=0 will be ignored. Current value: bagging_freq=1\n",
      "[LightGBM] [Warning] bagging_freq is set=1, subsample_freq=0 will be ignored. Current value: bagging_freq=1\n",
      "[LightGBM] [Warning] bagging_freq is set=1, subsample_freq=0 will be ignored. Current value: bagging_freq=1\n",
      "[LightGBM] [Warning] bagging_freq is set=1, subsample_freq=0 will be ignored. Current value: bagging_freq=1\n",
      "[LightGBM] [Warning] bagging_freq is set=1, subsample_freq=0 will be ignored. Current value: bagging_freq=1\n",
      "[LightGBM] [Warning] bagging_freq is set=1, subsample_freq=0 will be ignored. Current value: bagging_freq=1\n",
      "[LightGBM] [Warning] bagging_freq is set=1, subsample_freq=0 will be ignored. Current value: bagging_freq=1\n",
      "[LightGBM] [Warning] bagging_freq is set=1, subsample_freq=0 will be ignored. Current value: bagging_freq=1\n",
      "[LightGBM] [Warning] bagging_freq is set=1, subsample_freq=0 will be ignored. Current value: bagging_freq=1\n",
      "[LightGBM] [Warning] bagging_freq is set=1, subsample_freq=0 will be ignored. Current value: bagging_freq=1\n",
      "[LightGBM] [Warning] bagging_freq is set=1, subsample_freq=0 will be ignored. Current value: bagging_freq=1\n",
      "[LightGBM] [Warning] bagging_freq is set=1, subsample_freq=0 will be ignored. Current value: bagging_freq=1\n",
      "[LightGBM] [Warning] bagging_freq is set=1, subsample_freq=0 will be ignored. Current value: bagging_freq=1\n",
      "[LightGBM] [Warning] bagging_freq is set=1, subsample_freq=0 will be ignored. Current value: bagging_freq=1\n",
      "[LightGBM] [Warning] bagging_freq is set=1, subsample_freq=0 will be ignored. Current value: bagging_freq=1\n",
      "[LightGBM] [Warning] bagging_freq is set=1, subsample_freq=0 will be ignored. Current value: bagging_freq=1\n",
      "[LightGBM] [Warning] bagging_freq is set=1, subsample_freq=0 will be ignored. Current value: bagging_freq=1\n",
      "[LightGBM] [Warning] bagging_freq is set=1, subsample_freq=0 will be ignored. Current value: bagging_freq=1\n",
      "[LightGBM] [Warning] bagging_freq is set=1, subsample_freq=0 will be ignored. Current value: bagging_freq=1\n",
      "[LightGBM] [Warning] bagging_freq is set=1, subsample_freq=0 will be ignored. Current value: bagging_freq=1\n",
      "[LightGBM] [Warning] bagging_freq is set=1, subsample_freq=0 will be ignored. Current value: bagging_freq=1\n",
      "[LightGBM] [Warning] bagging_freq is set=1, subsample_freq=0 will be ignored. Current value: bagging_freq=1\n",
      "[LightGBM] [Warning] bagging_freq is set=1, subsample_freq=0 will be ignored. Current value: bagging_freq=1\n",
      "[LightGBM] [Warning] bagging_freq is set=1, subsample_freq=0 will be ignored. Current value: bagging_freq=1\n",
      "[LightGBM] [Warning] bagging_freq is set=1, subsample_freq=0 will be ignored. Current value: bagging_freq=1\n",
      "[LightGBM] [Warning] bagging_freq is set=1, subsample_freq=0 will be ignored. Current value: bagging_freq=1\n",
      "[LightGBM] [Warning] bagging_freq is set=1, subsample_freq=0 will be ignored. Current value: bagging_freq=1\n",
      "[LightGBM] [Warning] bagging_freq is set=1, subsample_freq=0 will be ignored. Current value: bagging_freq=1\n",
      "[LightGBM] [Warning] bagging_freq is set=1, subsample_freq=0 will be ignored. Current value: bagging_freq=1\n",
      "[LightGBM] [Warning] bagging_freq is set=1, subsample_freq=0 will be ignored. Current value: bagging_freq=1\n",
      "[LightGBM] [Warning] bagging_freq is set=1, subsample_freq=0 will be ignored. Current value: bagging_freq=1\n",
      "[LightGBM] [Warning] bagging_freq is set=1, subsample_freq=0 will be ignored. Current value: bagging_freq=1\n"
     ]
    },
    {
     "name": "stdout",
     "output_type": "stream",
     "text": [
      "[LightGBM] [Warning] bagging_freq is set=1, subsample_freq=0 will be ignored. Current value: bagging_freq=1\n",
      "[LightGBM] [Warning] bagging_freq is set=1, subsample_freq=0 will be ignored. Current value: bagging_freq=1\n",
      "[LightGBM] [Warning] bagging_freq is set=1, subsample_freq=0 will be ignored. Current value: bagging_freq=1\n",
      "[LightGBM] [Warning] bagging_freq is set=1, subsample_freq=0 will be ignored. Current value: bagging_freq=1\n",
      "[LightGBM] [Warning] bagging_freq is set=1, subsample_freq=0 will be ignored. Current value: bagging_freq=1\n",
      "[LightGBM] [Warning] bagging_freq is set=1, subsample_freq=0 will be ignored. Current value: bagging_freq=1\n",
      "[LightGBM] [Warning] bagging_freq is set=1, subsample_freq=0 will be ignored. Current value: bagging_freq=1\n",
      "[LightGBM] [Warning] bagging_freq is set=1, subsample_freq=0 will be ignored. Current value: bagging_freq=1\n",
      "[LightGBM] [Warning] bagging_freq is set=1, subsample_freq=0 will be ignored. Current value: bagging_freq=1\n",
      "[LightGBM] [Warning] bagging_freq is set=1, subsample_freq=0 will be ignored. Current value: bagging_freq=1\n",
      "[LightGBM] [Warning] bagging_freq is set=1, subsample_freq=0 will be ignored. Current value: bagging_freq=1\n",
      "[LightGBM] [Warning] bagging_freq is set=1, subsample_freq=0 will be ignored. Current value: bagging_freq=1\n",
      "[LightGBM] [Warning] bagging_freq is set=1, subsample_freq=0 will be ignored. Current value: bagging_freq=1\n",
      "[LightGBM] [Warning] bagging_freq is set=1, subsample_freq=0 will be ignored. Current value: bagging_freq=1\n",
      "[LightGBM] [Warning] bagging_freq is set=1, subsample_freq=0 will be ignored. Current value: bagging_freq=1\n",
      "[LightGBM] [Warning] bagging_freq is set=1, subsample_freq=0 will be ignored. Current value: bagging_freq=1\n",
      "[LightGBM] [Warning] bagging_freq is set=1, subsample_freq=0 will be ignored. Current value: bagging_freq=1\n",
      "[LightGBM] [Warning] bagging_freq is set=1, subsample_freq=0 will be ignored. Current value: bagging_freq=1\n",
      "[LightGBM] [Warning] bagging_freq is set=1, subsample_freq=0 will be ignored. Current value: bagging_freq=1\n",
      "[LightGBM] [Warning] bagging_freq is set=1, subsample_freq=0 will be ignored. Current value: bagging_freq=1\n",
      "[LightGBM] [Warning] bagging_freq is set=1, subsample_freq=0 will be ignored. Current value: bagging_freq=1\n",
      "[LightGBM] [Warning] bagging_freq is set=1, subsample_freq=0 will be ignored. Current value: bagging_freq=1\n",
      "[LightGBM] [Warning] bagging_freq is set=1, subsample_freq=0 will be ignored. Current value: bagging_freq=1\n",
      "[LightGBM] [Warning] bagging_freq is set=1, subsample_freq=0 will be ignored. Current value: bagging_freq=1\n",
      "[LightGBM] [Warning] bagging_freq is set=1, subsample_freq=0 will be ignored. Current value: bagging_freq=1\n",
      "[LightGBM] [Warning] bagging_freq is set=1, subsample_freq=0 will be ignored. Current value: bagging_freq=1\n",
      "[LightGBM] [Warning] bagging_freq is set=1, subsample_freq=0 will be ignored. Current value: bagging_freq=1\n",
      "[LightGBM] [Warning] bagging_freq is set=1, subsample_freq=0 will be ignored. Current value: bagging_freq=1\n",
      "[LightGBM] [Warning] bagging_freq is set=1, subsample_freq=0 will be ignored. Current value: bagging_freq=1\n",
      "[LightGBM] [Warning] bagging_freq is set=1, subsample_freq=0 will be ignored. Current value: bagging_freq=1\n",
      "[LightGBM] [Warning] bagging_freq is set=1, subsample_freq=0 will be ignored. Current value: bagging_freq=1\n",
      "[LightGBM] [Warning] bagging_freq is set=1, subsample_freq=0 will be ignored. Current value: bagging_freq=1\n",
      "[LightGBM] [Warning] bagging_freq is set=1, subsample_freq=0 will be ignored. Current value: bagging_freq=1\n",
      "[LightGBM] [Warning] bagging_freq is set=1, subsample_freq=0 will be ignored. Current value: bagging_freq=1\n",
      "[LightGBM] [Warning] bagging_freq is set=1, subsample_freq=0 will be ignored. Current value: bagging_freq=1\n",
      "[LightGBM] [Warning] bagging_freq is set=1, subsample_freq=0 will be ignored. Current value: bagging_freq=1\n",
      "[LightGBM] [Warning] bagging_freq is set=1, subsample_freq=0 will be ignored. Current value: bagging_freq=1\n",
      "[LightGBM] [Warning] bagging_freq is set=1, subsample_freq=0 will be ignored. Current value: bagging_freq=1\n",
      "[LightGBM] [Warning] bagging_freq is set=1, subsample_freq=0 will be ignored. Current value: bagging_freq=1\n",
      "[LightGBM] [Warning] bagging_freq is set=1, subsample_freq=0 will be ignored. Current value: bagging_freq=1\n",
      "[LightGBM] [Warning] bagging_freq is set=1, subsample_freq=0 will be ignored. Current value: bagging_freq=1\n",
      "best parameters {'lgb__bagging_freq': 1, 'lgb__boost_from_average': False, 'lgb__colsample_bytree': 1, 'lgb__max_depth': 63, 'lgb__min_child_weight': 3.9, 'lgb__num_leaves': 7, 'lgb__scale_pos_weight': 26.82, 'smote__sampling_strategy': 0.5}\n",
      "f-score : 0.36790001083424545\n",
      "Took 6.789440155029297 seconds\n"
     ]
    }
   ],
   "source": [
    "pipeline = Pipeline([\n",
    "        ('smote', SMOTE(random_state=2022)),\n",
    "        ('lgb', LGBMClassifier(random_state = 2022,objective='binary'))\n",
    "    ])\n",
    "\n",
    "param_grid = [\n",
    "    {\n",
    "        'smote__sampling_strategy': [0.5, 0.75, 1.0],\n",
    "        'lgb__num_leaves':[7],\n",
    "        'lgb__max_depth':[2,63],\n",
    "        'lgb__bagging_freq': [1],\n",
    "        'lgb__scale_pos_weight':[26.82],#adjust the weights of the unbalanced class\n",
    "        'lgb__colsample_bytree': [0.4, 1],\n",
    "        'lgb__min_child_weight': [0.01, 3.9],\n",
    "        'lgb__boost_from_average':[False],\n",
    "    },\n",
    "]\n",
    "\n",
    "# we'll use 10-fold cross-validation\n",
    "lgb_os_grid_search = GridSearchCV(pipeline, param_grid, cv=5, \n",
    "                              scoring='f1_macro',\n",
    "                              return_train_score=True)\n",
    "\n",
    "#estimate the time needed to run the model\n",
    "start = time.time()\n",
    "lgb_os_grid_search.fit(Xtrain, ytrain)\n",
    "end = time.time() - start\n",
    "\n",
    "#Print results\n",
    "print(\"best parameters\",lgb_os_grid_search.best_params_)\n",
    "print(\"f-score :\",lgb_os_grid_search.best_score_)\n",
    "print(f\"Took {end} seconds\")"
   ]
  },
  {
   "cell_type": "code",
   "execution_count": 165,
   "id": "cec761ba",
   "metadata": {},
   "outputs": [
    {
     "data": {
      "text/html": [
       "<div>\n",
       "<style scoped>\n",
       "    .dataframe tbody tr th:only-of-type {\n",
       "        vertical-align: middle;\n",
       "    }\n",
       "\n",
       "    .dataframe tbody tr th {\n",
       "        vertical-align: top;\n",
       "    }\n",
       "\n",
       "    .dataframe thead th {\n",
       "        text-align: right;\n",
       "    }\n",
       "</style>\n",
       "<table border=\"1\" class=\"dataframe\">\n",
       "  <thead>\n",
       "    <tr style=\"text-align: right;\">\n",
       "      <th></th>\n",
       "      <th>params</th>\n",
       "      <th>mean_train_score</th>\n",
       "      <th>mean_test_score</th>\n",
       "      <th>diff, %</th>\n",
       "    </tr>\n",
       "  </thead>\n",
       "  <tbody>\n",
       "    <tr>\n",
       "      <th>21</th>\n",
       "      <td>{'lgb__bagging_freq': 1, 'lgb__boost_from_average': False, 'lgb__colsample_bytree': 1, 'lgb__max...</td>\n",
       "      <td>0.400937</td>\n",
       "      <td>0.367900</td>\n",
       "      <td>8.240031</td>\n",
       "    </tr>\n",
       "    <tr>\n",
       "      <th>18</th>\n",
       "      <td>{'lgb__bagging_freq': 1, 'lgb__boost_from_average': False, 'lgb__colsample_bytree': 1, 'lgb__max...</td>\n",
       "      <td>0.401633</td>\n",
       "      <td>0.367712</td>\n",
       "      <td>8.445779</td>\n",
       "    </tr>\n",
       "    <tr>\n",
       "      <th>19</th>\n",
       "      <td>{'lgb__bagging_freq': 1, 'lgb__boost_from_average': False, 'lgb__colsample_bytree': 1, 'lgb__max...</td>\n",
       "      <td>0.391794</td>\n",
       "      <td>0.357834</td>\n",
       "      <td>8.667873</td>\n",
       "    </tr>\n",
       "    <tr>\n",
       "      <th>22</th>\n",
       "      <td>{'lgb__bagging_freq': 1, 'lgb__boost_from_average': False, 'lgb__colsample_bytree': 1, 'lgb__max...</td>\n",
       "      <td>0.392218</td>\n",
       "      <td>0.356971</td>\n",
       "      <td>8.986566</td>\n",
       "    </tr>\n",
       "    <tr>\n",
       "      <th>20</th>\n",
       "      <td>{'lgb__bagging_freq': 1, 'lgb__boost_from_average': False, 'lgb__colsample_bytree': 1, 'lgb__max...</td>\n",
       "      <td>0.385419</td>\n",
       "      <td>0.356327</td>\n",
       "      <td>7.548342</td>\n",
       "    </tr>\n",
       "    <tr>\n",
       "      <th>23</th>\n",
       "      <td>{'lgb__bagging_freq': 1, 'lgb__boost_from_average': False, 'lgb__colsample_bytree': 1, 'lgb__max...</td>\n",
       "      <td>0.382251</td>\n",
       "      <td>0.356040</td>\n",
       "      <td>6.857019</td>\n",
       "    </tr>\n",
       "    <tr>\n",
       "      <th>6</th>\n",
       "      <td>{'lgb__bagging_freq': 1, 'lgb__boost_from_average': False, 'lgb__colsample_bytree': 0.4, 'lgb__m...</td>\n",
       "      <td>0.368122</td>\n",
       "      <td>0.340972</td>\n",
       "      <td>7.375345</td>\n",
       "    </tr>\n",
       "    <tr>\n",
       "      <th>9</th>\n",
       "      <td>{'lgb__bagging_freq': 1, 'lgb__boost_from_average': False, 'lgb__colsample_bytree': 0.4, 'lgb__m...</td>\n",
       "      <td>0.368122</td>\n",
       "      <td>0.340972</td>\n",
       "      <td>7.375345</td>\n",
       "    </tr>\n",
       "    <tr>\n",
       "      <th>7</th>\n",
       "      <td>{'lgb__bagging_freq': 1, 'lgb__boost_from_average': False, 'lgb__colsample_bytree': 0.4, 'lgb__m...</td>\n",
       "      <td>0.353598</td>\n",
       "      <td>0.331070</td>\n",
       "      <td>6.371332</td>\n",
       "    </tr>\n",
       "    <tr>\n",
       "      <th>10</th>\n",
       "      <td>{'lgb__bagging_freq': 1, 'lgb__boost_from_average': False, 'lgb__colsample_bytree': 0.4, 'lgb__m...</td>\n",
       "      <td>0.351676</td>\n",
       "      <td>0.330147</td>\n",
       "      <td>6.121984</td>\n",
       "    </tr>\n",
       "    <tr>\n",
       "      <th>8</th>\n",
       "      <td>{'lgb__bagging_freq': 1, 'lgb__boost_from_average': False, 'lgb__colsample_bytree': 0.4, 'lgb__m...</td>\n",
       "      <td>0.346438</td>\n",
       "      <td>0.328838</td>\n",
       "      <td>5.080199</td>\n",
       "    </tr>\n",
       "    <tr>\n",
       "      <th>11</th>\n",
       "      <td>{'lgb__bagging_freq': 1, 'lgb__boost_from_average': False, 'lgb__colsample_bytree': 0.4, 'lgb__m...</td>\n",
       "      <td>0.345416</td>\n",
       "      <td>0.327945</td>\n",
       "      <td>5.057929</td>\n",
       "    </tr>\n",
       "    <tr>\n",
       "      <th>15</th>\n",
       "      <td>{'lgb__bagging_freq': 1, 'lgb__boost_from_average': False, 'lgb__colsample_bytree': 1, 'lgb__max...</td>\n",
       "      <td>0.257332</td>\n",
       "      <td>0.239760</td>\n",
       "      <td>6.828434</td>\n",
       "    </tr>\n",
       "    <tr>\n",
       "      <th>12</th>\n",
       "      <td>{'lgb__bagging_freq': 1, 'lgb__boost_from_average': False, 'lgb__colsample_bytree': 1, 'lgb__max...</td>\n",
       "      <td>0.256940</td>\n",
       "      <td>0.239421</td>\n",
       "      <td>6.818165</td>\n",
       "    </tr>\n",
       "    <tr>\n",
       "      <th>16</th>\n",
       "      <td>{'lgb__bagging_freq': 1, 'lgb__boost_from_average': False, 'lgb__colsample_bytree': 1, 'lgb__max...</td>\n",
       "      <td>0.245811</td>\n",
       "      <td>0.234779</td>\n",
       "      <td>4.488136</td>\n",
       "    </tr>\n",
       "    <tr>\n",
       "      <th>13</th>\n",
       "      <td>{'lgb__bagging_freq': 1, 'lgb__boost_from_average': False, 'lgb__colsample_bytree': 1, 'lgb__max...</td>\n",
       "      <td>0.245543</td>\n",
       "      <td>0.234582</td>\n",
       "      <td>4.464158</td>\n",
       "    </tr>\n",
       "    <tr>\n",
       "      <th>3</th>\n",
       "      <td>{'lgb__bagging_freq': 1, 'lgb__boost_from_average': False, 'lgb__colsample_bytree': 0.4, 'lgb__m...</td>\n",
       "      <td>0.238887</td>\n",
       "      <td>0.229744</td>\n",
       "      <td>3.826985</td>\n",
       "    </tr>\n",
       "    <tr>\n",
       "      <th>0</th>\n",
       "      <td>{'lgb__bagging_freq': 1, 'lgb__boost_from_average': False, 'lgb__colsample_bytree': 0.4, 'lgb__m...</td>\n",
       "      <td>0.238932</td>\n",
       "      <td>0.229744</td>\n",
       "      <td>3.845214</td>\n",
       "    </tr>\n",
       "    <tr>\n",
       "      <th>17</th>\n",
       "      <td>{'lgb__bagging_freq': 1, 'lgb__boost_from_average': False, 'lgb__colsample_bytree': 1, 'lgb__max...</td>\n",
       "      <td>0.237873</td>\n",
       "      <td>0.225050</td>\n",
       "      <td>5.390455</td>\n",
       "    </tr>\n",
       "    <tr>\n",
       "      <th>14</th>\n",
       "      <td>{'lgb__bagging_freq': 1, 'lgb__boost_from_average': False, 'lgb__colsample_bytree': 1, 'lgb__max...</td>\n",
       "      <td>0.238142</td>\n",
       "      <td>0.224199</td>\n",
       "      <td>5.854837</td>\n",
       "    </tr>\n",
       "    <tr>\n",
       "      <th>4</th>\n",
       "      <td>{'lgb__bagging_freq': 1, 'lgb__boost_from_average': False, 'lgb__colsample_bytree': 0.4, 'lgb__m...</td>\n",
       "      <td>0.226756</td>\n",
       "      <td>0.216114</td>\n",
       "      <td>4.693186</td>\n",
       "    </tr>\n",
       "    <tr>\n",
       "      <th>1</th>\n",
       "      <td>{'lgb__bagging_freq': 1, 'lgb__boost_from_average': False, 'lgb__colsample_bytree': 0.4, 'lgb__m...</td>\n",
       "      <td>0.226337</td>\n",
       "      <td>0.215202</td>\n",
       "      <td>4.919765</td>\n",
       "    </tr>\n",
       "    <tr>\n",
       "      <th>2</th>\n",
       "      <td>{'lgb__bagging_freq': 1, 'lgb__boost_from_average': False, 'lgb__colsample_bytree': 0.4, 'lgb__m...</td>\n",
       "      <td>0.223245</td>\n",
       "      <td>0.211827</td>\n",
       "      <td>5.114675</td>\n",
       "    </tr>\n",
       "    <tr>\n",
       "      <th>5</th>\n",
       "      <td>{'lgb__bagging_freq': 1, 'lgb__boost_from_average': False, 'lgb__colsample_bytree': 0.4, 'lgb__m...</td>\n",
       "      <td>0.222796</td>\n",
       "      <td>0.211411</td>\n",
       "      <td>5.109847</td>\n",
       "    </tr>\n",
       "  </tbody>\n",
       "</table>\n",
       "</div>"
      ],
      "text/plain": [
       "                                                                                                 params  \\\n",
       "21  {'lgb__bagging_freq': 1, 'lgb__boost_from_average': False, 'lgb__colsample_bytree': 1, 'lgb__max...   \n",
       "18  {'lgb__bagging_freq': 1, 'lgb__boost_from_average': False, 'lgb__colsample_bytree': 1, 'lgb__max...   \n",
       "19  {'lgb__bagging_freq': 1, 'lgb__boost_from_average': False, 'lgb__colsample_bytree': 1, 'lgb__max...   \n",
       "22  {'lgb__bagging_freq': 1, 'lgb__boost_from_average': False, 'lgb__colsample_bytree': 1, 'lgb__max...   \n",
       "20  {'lgb__bagging_freq': 1, 'lgb__boost_from_average': False, 'lgb__colsample_bytree': 1, 'lgb__max...   \n",
       "23  {'lgb__bagging_freq': 1, 'lgb__boost_from_average': False, 'lgb__colsample_bytree': 1, 'lgb__max...   \n",
       "6   {'lgb__bagging_freq': 1, 'lgb__boost_from_average': False, 'lgb__colsample_bytree': 0.4, 'lgb__m...   \n",
       "9   {'lgb__bagging_freq': 1, 'lgb__boost_from_average': False, 'lgb__colsample_bytree': 0.4, 'lgb__m...   \n",
       "7   {'lgb__bagging_freq': 1, 'lgb__boost_from_average': False, 'lgb__colsample_bytree': 0.4, 'lgb__m...   \n",
       "10  {'lgb__bagging_freq': 1, 'lgb__boost_from_average': False, 'lgb__colsample_bytree': 0.4, 'lgb__m...   \n",
       "8   {'lgb__bagging_freq': 1, 'lgb__boost_from_average': False, 'lgb__colsample_bytree': 0.4, 'lgb__m...   \n",
       "11  {'lgb__bagging_freq': 1, 'lgb__boost_from_average': False, 'lgb__colsample_bytree': 0.4, 'lgb__m...   \n",
       "15  {'lgb__bagging_freq': 1, 'lgb__boost_from_average': False, 'lgb__colsample_bytree': 1, 'lgb__max...   \n",
       "12  {'lgb__bagging_freq': 1, 'lgb__boost_from_average': False, 'lgb__colsample_bytree': 1, 'lgb__max...   \n",
       "16  {'lgb__bagging_freq': 1, 'lgb__boost_from_average': False, 'lgb__colsample_bytree': 1, 'lgb__max...   \n",
       "13  {'lgb__bagging_freq': 1, 'lgb__boost_from_average': False, 'lgb__colsample_bytree': 1, 'lgb__max...   \n",
       "3   {'lgb__bagging_freq': 1, 'lgb__boost_from_average': False, 'lgb__colsample_bytree': 0.4, 'lgb__m...   \n",
       "0   {'lgb__bagging_freq': 1, 'lgb__boost_from_average': False, 'lgb__colsample_bytree': 0.4, 'lgb__m...   \n",
       "17  {'lgb__bagging_freq': 1, 'lgb__boost_from_average': False, 'lgb__colsample_bytree': 1, 'lgb__max...   \n",
       "14  {'lgb__bagging_freq': 1, 'lgb__boost_from_average': False, 'lgb__colsample_bytree': 1, 'lgb__max...   \n",
       "4   {'lgb__bagging_freq': 1, 'lgb__boost_from_average': False, 'lgb__colsample_bytree': 0.4, 'lgb__m...   \n",
       "1   {'lgb__bagging_freq': 1, 'lgb__boost_from_average': False, 'lgb__colsample_bytree': 0.4, 'lgb__m...   \n",
       "2   {'lgb__bagging_freq': 1, 'lgb__boost_from_average': False, 'lgb__colsample_bytree': 0.4, 'lgb__m...   \n",
       "5   {'lgb__bagging_freq': 1, 'lgb__boost_from_average': False, 'lgb__colsample_bytree': 0.4, 'lgb__m...   \n",
       "\n",
       "    mean_train_score  mean_test_score   diff, %  \n",
       "21          0.400937         0.367900  8.240031  \n",
       "18          0.401633         0.367712  8.445779  \n",
       "19          0.391794         0.357834  8.667873  \n",
       "22          0.392218         0.356971  8.986566  \n",
       "20          0.385419         0.356327  7.548342  \n",
       "23          0.382251         0.356040  6.857019  \n",
       "6           0.368122         0.340972  7.375345  \n",
       "9           0.368122         0.340972  7.375345  \n",
       "7           0.353598         0.331070  6.371332  \n",
       "10          0.351676         0.330147  6.121984  \n",
       "8           0.346438         0.328838  5.080199  \n",
       "11          0.345416         0.327945  5.057929  \n",
       "15          0.257332         0.239760  6.828434  \n",
       "12          0.256940         0.239421  6.818165  \n",
       "16          0.245811         0.234779  4.488136  \n",
       "13          0.245543         0.234582  4.464158  \n",
       "3           0.238887         0.229744  3.826985  \n",
       "0           0.238932         0.229744  3.845214  \n",
       "17          0.237873         0.225050  5.390455  \n",
       "14          0.238142         0.224199  5.854837  \n",
       "4           0.226756         0.216114  4.693186  \n",
       "1           0.226337         0.215202  4.919765  \n",
       "2           0.223245         0.211827  5.114675  \n",
       "5           0.222796         0.211411  5.109847  "
      ]
     },
     "execution_count": 165,
     "metadata": {},
     "output_type": "execute_result"
    }
   ],
   "source": [
    "# training and validation RMSE\n",
    "lgb_os_cv_results = pd.DataFrame(lgb_os_grid_search.cv_results_\n",
    "                         )[['params', 'mean_train_score', 'mean_test_score']]\n",
    "lgb_os_cv_results[\"diff, %\"] = 100*(lgb_os_cv_results[\"mean_train_score\"]-lgb_os_cv_results[\"mean_test_score\"]\n",
    "                                                     )/lgb_os_cv_results[\"mean_train_score\"]\n",
    "\n",
    "pd.set_option('display.max_colwidth', 100)\n",
    "lgb_os_cv_results.sort_values('mean_test_score', ascending=False)"
   ]
  },
  {
   "cell_type": "code",
   "execution_count": 166,
   "id": "34276ced",
   "metadata": {},
   "outputs": [
    {
     "name": "stdout",
     "output_type": "stream",
     "text": [
      "[LightGBM] [Warning] bagging_freq is set=1, subsample_freq=0 will be ignored. Current value: bagging_freq=1\n",
      "[LightGBM] [Warning] bagging_freq is set=1, subsample_freq=0 will be ignored. Current value: bagging_freq=1\n",
      "[LightGBM] [Warning] bagging_freq is set=1, subsample_freq=0 will be ignored. Current value: bagging_freq=1\n",
      "[LightGBM] [Warning] bagging_freq is set=1, subsample_freq=0 will be ignored. Current value: bagging_freq=1\n"
     ]
    },
    {
     "data": {
      "text/plain": [
       "<sklearn.metrics._plot.confusion_matrix.ConfusionMatrixDisplay at 0x7feb70d833a0>"
      ]
     },
     "execution_count": 166,
     "metadata": {},
     "output_type": "execute_result"
    },
    {
     "data": {
      "image/png": "[encoded data removed]",
      "text/plain": [
       "<Figure size 432x288 with 2 Axes>"
      ]
     },
     "metadata": {
      "needs_background": "light"
     },
     "output_type": "display_data"
    }
   ],
   "source": [
    "# cross-validation confusion matrix, training data\n",
    "y_pred_os_lgb = cross_val_predict(lgb_os_grid_search.best_estimator_, Xtrain, ytrain, cv=5)\n",
    "conf_mat = confusion_matrix(ytrain, y_pred_os_lgb, normalize=\"true\")\n",
    "ConfusionMatrixDisplay(confusion_matrix=conf_mat,\n",
    "                       display_labels=lgb_os_grid_search.best_estimator_.classes_\n",
    "                      ).plot(cmap=plt.cm.Blues)"
   ]
  },
  {
   "cell_type": "code",
   "execution_count": 167,
   "id": "0bc2abc2",
   "metadata": {},
   "outputs": [
    {
     "data": {
      "text/plain": [
       "<sklearn.metrics._plot.confusion_matrix.ConfusionMatrixDisplay at 0x7feb93799340>"
      ]
     },
     "execution_count": 167,
     "metadata": {},
     "output_type": "execute_result"
    },
    {
     "data": {
      "image/png": "[encoded data removed]",
      "text/plain": [
       "<Figure size 432x288 with 2 Axes>"
      ]
     },
     "metadata": {
      "needs_background": "light"
     },
     "output_type": "display_data"
    }
   ],
   "source": [
    "#Confusion matrix on testing data\n",
    "ConfusionMatrixDisplay.from_estimator(lgb_os_grid_search.best_estimator_, Xtest, ytest,\n",
    "                                 display_labels=lgb_os_grid_search.best_estimator_.classes_,\n",
    "                                 cmap=plt.cm.Blues,\n",
    "                                 normalize='true')"
   ]
  },
  {
   "cell_type": "markdown",
   "id": "76d7fe00",
   "metadata": {},
   "source": [
    "### Undersampling for Light GBM"
   ]
  },
  {
   "cell_type": "code",
   "execution_count": 168,
   "id": "7c9d0e9c",
   "metadata": {},
   "outputs": [
    {
     "name": "stdout",
     "output_type": "stream",
     "text": [
      "[LightGBM] [Warning] bagging_freq is set=1, subsample_freq=0 will be ignored. Current value: bagging_freq=1\n",
      "best parameters {'cc__sampling_strategy': 0.5, 'lgb__bagging_freq': 1, 'lgb__boost_from_average': False, 'lgb__colsample_bytree': 1, 'lgb__max_depth': 63, 'lgb__min_child_weight': 3.9, 'lgb__num_leaves': 7, 'lgb__scale_pos_weight': 2.82}\n",
      "f-score : 0.14300742051961254\n",
      "Took 20.64085292816162 seconds\n"
     ]
    }
   ],
   "source": [
    "pipeline = Pipeline([\n",
    "        ('cc', ClusterCentroids(random_state=2022)),\n",
    "        ('lgb', LGBMClassifier(random_state = 2022))\n",
    "    ])\n",
    "\n",
    "\n",
    "param_grid = [\n",
    "    {\n",
    "        'cc__sampling_strategy': [0.5, 0.75, 1.0],\n",
    "        'lgb__num_leaves':[7],\n",
    "        'lgb__max_depth':[2,63],\n",
    "        'lgb__bagging_freq': [1],\n",
    "        'lgb__scale_pos_weight':[2.82],#adjust the weights of the unbalanced class\n",
    "        'lgb__colsample_bytree': [0.4, 1],\n",
    "        'lgb__min_child_weight': [0.01, 3.9],\n",
    "        'lgb__boost_from_average':[False],\n",
    "       \n",
    "    },\n",
    "]\n",
    "\n",
    "# we'll use 10-fold cross-validation\n",
    "lgb_us_grid_search = GridSearchCV(pipeline, param_grid, cv=5, n_jobs =-1,\n",
    "                              scoring='f1_macro',\n",
    "                              return_train_score=True)\n",
    "\n",
    "#estimate the time needed to run the model\n",
    "start = time.time()\n",
    "lgb_us_grid_search.fit(Xtrain, ytrain)\n",
    "end = time.time() - start\n",
    "\n",
    "#Print results\n",
    "print(\"best parameters\",lgb_us_grid_search.best_params_)\n",
    "print(\"f-score :\",lgb_us_grid_search.best_score_)\n",
    "print(f\"Took {end} seconds\")"
   ]
  },
  {
   "cell_type": "code",
   "execution_count": 169,
   "id": "590c2301",
   "metadata": {},
   "outputs": [
    {
     "data": {
      "text/html": [
       "<div>\n",
       "<style scoped>\n",
       "    .dataframe tbody tr th:only-of-type {\n",
       "        vertical-align: middle;\n",
       "    }\n",
       "\n",
       "    .dataframe tbody tr th {\n",
       "        vertical-align: top;\n",
       "    }\n",
       "\n",
       "    .dataframe thead th {\n",
       "        text-align: right;\n",
       "    }\n",
       "</style>\n",
       "<table border=\"1\" class=\"dataframe\">\n",
       "  <thead>\n",
       "    <tr style=\"text-align: right;\">\n",
       "      <th></th>\n",
       "      <th>params</th>\n",
       "      <th>mean_train_score</th>\n",
       "      <th>mean_test_score</th>\n",
       "      <th>diff, %</th>\n",
       "    </tr>\n",
       "  </thead>\n",
       "  <tbody>\n",
       "    <tr>\n",
       "      <th>7</th>\n",
       "      <td>{'cc__sampling_strategy': 0.5, 'lgb__bagging_freq': 1, 'lgb__boost_from_average': False, 'lgb__c...</td>\n",
       "      <td>0.157569</td>\n",
       "      <td>0.143007</td>\n",
       "      <td>9.241349</td>\n",
       "    </tr>\n",
       "    <tr>\n",
       "      <th>6</th>\n",
       "      <td>{'cc__sampling_strategy': 0.5, 'lgb__bagging_freq': 1, 'lgb__boost_from_average': False, 'lgb__c...</td>\n",
       "      <td>0.150750</td>\n",
       "      <td>0.135883</td>\n",
       "      <td>9.862243</td>\n",
       "    </tr>\n",
       "    <tr>\n",
       "      <th>3</th>\n",
       "      <td>{'cc__sampling_strategy': 0.5, 'lgb__bagging_freq': 1, 'lgb__boost_from_average': False, 'lgb__c...</td>\n",
       "      <td>0.133243</td>\n",
       "      <td>0.122375</td>\n",
       "      <td>8.156561</td>\n",
       "    </tr>\n",
       "    <tr>\n",
       "      <th>2</th>\n",
       "      <td>{'cc__sampling_strategy': 0.5, 'lgb__bagging_freq': 1, 'lgb__boost_from_average': False, 'lgb__c...</td>\n",
       "      <td>0.127514</td>\n",
       "      <td>0.115812</td>\n",
       "      <td>9.177298</td>\n",
       "    </tr>\n",
       "    <tr>\n",
       "      <th>4</th>\n",
       "      <td>{'cc__sampling_strategy': 0.5, 'lgb__bagging_freq': 1, 'lgb__boost_from_average': False, 'lgb__c...</td>\n",
       "      <td>0.114485</td>\n",
       "      <td>0.103950</td>\n",
       "      <td>9.202013</td>\n",
       "    </tr>\n",
       "    <tr>\n",
       "      <th>5</th>\n",
       "      <td>{'cc__sampling_strategy': 0.5, 'lgb__bagging_freq': 1, 'lgb__boost_from_average': False, 'lgb__c...</td>\n",
       "      <td>0.114763</td>\n",
       "      <td>0.102148</td>\n",
       "      <td>10.992506</td>\n",
       "    </tr>\n",
       "    <tr>\n",
       "      <th>1</th>\n",
       "      <td>{'cc__sampling_strategy': 0.5, 'lgb__bagging_freq': 1, 'lgb__boost_from_average': False, 'lgb__c...</td>\n",
       "      <td>0.109209</td>\n",
       "      <td>0.097956</td>\n",
       "      <td>10.303566</td>\n",
       "    </tr>\n",
       "    <tr>\n",
       "      <th>0</th>\n",
       "      <td>{'cc__sampling_strategy': 0.5, 'lgb__bagging_freq': 1, 'lgb__boost_from_average': False, 'lgb__c...</td>\n",
       "      <td>0.108572</td>\n",
       "      <td>0.097460</td>\n",
       "      <td>10.235004</td>\n",
       "    </tr>\n",
       "    <tr>\n",
       "      <th>15</th>\n",
       "      <td>{'cc__sampling_strategy': 0.75, 'lgb__bagging_freq': 1, 'lgb__boost_from_average': False, 'lgb__...</td>\n",
       "      <td>0.103033</td>\n",
       "      <td>0.090230</td>\n",
       "      <td>12.426324</td>\n",
       "    </tr>\n",
       "    <tr>\n",
       "      <th>14</th>\n",
       "      <td>{'cc__sampling_strategy': 0.75, 'lgb__bagging_freq': 1, 'lgb__boost_from_average': False, 'lgb__...</td>\n",
       "      <td>0.086970</td>\n",
       "      <td>0.081860</td>\n",
       "      <td>5.875228</td>\n",
       "    </tr>\n",
       "    <tr>\n",
       "      <th>11</th>\n",
       "      <td>{'cc__sampling_strategy': 0.75, 'lgb__bagging_freq': 1, 'lgb__boost_from_average': False, 'lgb__...</td>\n",
       "      <td>0.079324</td>\n",
       "      <td>0.074372</td>\n",
       "      <td>6.242701</td>\n",
       "    </tr>\n",
       "    <tr>\n",
       "      <th>10</th>\n",
       "      <td>{'cc__sampling_strategy': 0.75, 'lgb__bagging_freq': 1, 'lgb__boost_from_average': False, 'lgb__...</td>\n",
       "      <td>0.068869</td>\n",
       "      <td>0.064478</td>\n",
       "      <td>6.376111</td>\n",
       "    </tr>\n",
       "    <tr>\n",
       "      <th>13</th>\n",
       "      <td>{'cc__sampling_strategy': 0.75, 'lgb__bagging_freq': 1, 'lgb__boost_from_average': False, 'lgb__...</td>\n",
       "      <td>0.068064</td>\n",
       "      <td>0.059693</td>\n",
       "      <td>12.298747</td>\n",
       "    </tr>\n",
       "    <tr>\n",
       "      <th>12</th>\n",
       "      <td>{'cc__sampling_strategy': 0.75, 'lgb__bagging_freq': 1, 'lgb__boost_from_average': False, 'lgb__...</td>\n",
       "      <td>0.062713</td>\n",
       "      <td>0.056251</td>\n",
       "      <td>10.304246</td>\n",
       "    </tr>\n",
       "    <tr>\n",
       "      <th>9</th>\n",
       "      <td>{'cc__sampling_strategy': 0.75, 'lgb__bagging_freq': 1, 'lgb__boost_from_average': False, 'lgb__...</td>\n",
       "      <td>0.063126</td>\n",
       "      <td>0.055511</td>\n",
       "      <td>12.063008</td>\n",
       "    </tr>\n",
       "    <tr>\n",
       "      <th>22</th>\n",
       "      <td>{'cc__sampling_strategy': 1.0, 'lgb__bagging_freq': 1, 'lgb__boost_from_average': False, 'lgb__c...</td>\n",
       "      <td>0.057040</td>\n",
       "      <td>0.052316</td>\n",
       "      <td>8.281486</td>\n",
       "    </tr>\n",
       "    <tr>\n",
       "      <th>8</th>\n",
       "      <td>{'cc__sampling_strategy': 0.75, 'lgb__bagging_freq': 1, 'lgb__boost_from_average': False, 'lgb__...</td>\n",
       "      <td>0.055844</td>\n",
       "      <td>0.051250</td>\n",
       "      <td>8.225935</td>\n",
       "    </tr>\n",
       "    <tr>\n",
       "      <th>23</th>\n",
       "      <td>{'cc__sampling_strategy': 1.0, 'lgb__bagging_freq': 1, 'lgb__boost_from_average': False, 'lgb__c...</td>\n",
       "      <td>0.052987</td>\n",
       "      <td>0.048349</td>\n",
       "      <td>8.753373</td>\n",
       "    </tr>\n",
       "    <tr>\n",
       "      <th>19</th>\n",
       "      <td>{'cc__sampling_strategy': 1.0, 'lgb__bagging_freq': 1, 'lgb__boost_from_average': False, 'lgb__c...</td>\n",
       "      <td>0.050051</td>\n",
       "      <td>0.046221</td>\n",
       "      <td>7.653549</td>\n",
       "    </tr>\n",
       "    <tr>\n",
       "      <th>18</th>\n",
       "      <td>{'cc__sampling_strategy': 1.0, 'lgb__bagging_freq': 1, 'lgb__boost_from_average': False, 'lgb__c...</td>\n",
       "      <td>0.046023</td>\n",
       "      <td>0.043547</td>\n",
       "      <td>5.380493</td>\n",
       "    </tr>\n",
       "    <tr>\n",
       "      <th>17</th>\n",
       "      <td>{'cc__sampling_strategy': 1.0, 'lgb__bagging_freq': 1, 'lgb__boost_from_average': False, 'lgb__c...</td>\n",
       "      <td>0.047331</td>\n",
       "      <td>0.043313</td>\n",
       "      <td>8.489935</td>\n",
       "    </tr>\n",
       "    <tr>\n",
       "      <th>21</th>\n",
       "      <td>{'cc__sampling_strategy': 1.0, 'lgb__bagging_freq': 1, 'lgb__boost_from_average': False, 'lgb__c...</td>\n",
       "      <td>0.048124</td>\n",
       "      <td>0.043059</td>\n",
       "      <td>10.524725</td>\n",
       "    </tr>\n",
       "    <tr>\n",
       "      <th>20</th>\n",
       "      <td>{'cc__sampling_strategy': 1.0, 'lgb__bagging_freq': 1, 'lgb__boost_from_average': False, 'lgb__c...</td>\n",
       "      <td>0.047649</td>\n",
       "      <td>0.041992</td>\n",
       "      <td>11.872669</td>\n",
       "    </tr>\n",
       "    <tr>\n",
       "      <th>16</th>\n",
       "      <td>{'cc__sampling_strategy': 1.0, 'lgb__bagging_freq': 1, 'lgb__boost_from_average': False, 'lgb__c...</td>\n",
       "      <td>0.044332</td>\n",
       "      <td>0.041187</td>\n",
       "      <td>7.095280</td>\n",
       "    </tr>\n",
       "  </tbody>\n",
       "</table>\n",
       "</div>"
      ],
      "text/plain": [
       "                                                                                                 params  \\\n",
       "7   {'cc__sampling_strategy': 0.5, 'lgb__bagging_freq': 1, 'lgb__boost_from_average': False, 'lgb__c...   \n",
       "6   {'cc__sampling_strategy': 0.5, 'lgb__bagging_freq': 1, 'lgb__boost_from_average': False, 'lgb__c...   \n",
       "3   {'cc__sampling_strategy': 0.5, 'lgb__bagging_freq': 1, 'lgb__boost_from_average': False, 'lgb__c...   \n",
       "2   {'cc__sampling_strategy': 0.5, 'lgb__bagging_freq': 1, 'lgb__boost_from_average': False, 'lgb__c...   \n",
       "4   {'cc__sampling_strategy': 0.5, 'lgb__bagging_freq': 1, 'lgb__boost_from_average': False, 'lgb__c...   \n",
       "5   {'cc__sampling_strategy': 0.5, 'lgb__bagging_freq': 1, 'lgb__boost_from_average': False, 'lgb__c...   \n",
       "1   {'cc__sampling_strategy': 0.5, 'lgb__bagging_freq': 1, 'lgb__boost_from_average': False, 'lgb__c...   \n",
       "0   {'cc__sampling_strategy': 0.5, 'lgb__bagging_freq': 1, 'lgb__boost_from_average': False, 'lgb__c...   \n",
       "15  {'cc__sampling_strategy': 0.75, 'lgb__bagging_freq': 1, 'lgb__boost_from_average': False, 'lgb__...   \n",
       "14  {'cc__sampling_strategy': 0.75, 'lgb__bagging_freq': 1, 'lgb__boost_from_average': False, 'lgb__...   \n",
       "11  {'cc__sampling_strategy': 0.75, 'lgb__bagging_freq': 1, 'lgb__boost_from_average': False, 'lgb__...   \n",
       "10  {'cc__sampling_strategy': 0.75, 'lgb__bagging_freq': 1, 'lgb__boost_from_average': False, 'lgb__...   \n",
       "13  {'cc__sampling_strategy': 0.75, 'lgb__bagging_freq': 1, 'lgb__boost_from_average': False, 'lgb__...   \n",
       "12  {'cc__sampling_strategy': 0.75, 'lgb__bagging_freq': 1, 'lgb__boost_from_average': False, 'lgb__...   \n",
       "9   {'cc__sampling_strategy': 0.75, 'lgb__bagging_freq': 1, 'lgb__boost_from_average': False, 'lgb__...   \n",
       "22  {'cc__sampling_strategy': 1.0, 'lgb__bagging_freq': 1, 'lgb__boost_from_average': False, 'lgb__c...   \n",
       "8   {'cc__sampling_strategy': 0.75, 'lgb__bagging_freq': 1, 'lgb__boost_from_average': False, 'lgb__...   \n",
       "23  {'cc__sampling_strategy': 1.0, 'lgb__bagging_freq': 1, 'lgb__boost_from_average': False, 'lgb__c...   \n",
       "19  {'cc__sampling_strategy': 1.0, 'lgb__bagging_freq': 1, 'lgb__boost_from_average': False, 'lgb__c...   \n",
       "18  {'cc__sampling_strategy': 1.0, 'lgb__bagging_freq': 1, 'lgb__boost_from_average': False, 'lgb__c...   \n",
       "17  {'cc__sampling_strategy': 1.0, 'lgb__bagging_freq': 1, 'lgb__boost_from_average': False, 'lgb__c...   \n",
       "21  {'cc__sampling_strategy': 1.0, 'lgb__bagging_freq': 1, 'lgb__boost_from_average': False, 'lgb__c...   \n",
       "20  {'cc__sampling_strategy': 1.0, 'lgb__bagging_freq': 1, 'lgb__boost_from_average': False, 'lgb__c...   \n",
       "16  {'cc__sampling_strategy': 1.0, 'lgb__bagging_freq': 1, 'lgb__boost_from_average': False, 'lgb__c...   \n",
       "\n",
       "    mean_train_score  mean_test_score    diff, %  \n",
       "7           0.157569         0.143007   9.241349  \n",
       "6           0.150750         0.135883   9.862243  \n",
       "3           0.133243         0.122375   8.156561  \n",
       "2           0.127514         0.115812   9.177298  \n",
       "4           0.114485         0.103950   9.202013  \n",
       "5           0.114763         0.102148  10.992506  \n",
       "1           0.109209         0.097956  10.303566  \n",
       "0           0.108572         0.097460  10.235004  \n",
       "15          0.103033         0.090230  12.426324  \n",
       "14          0.086970         0.081860   5.875228  \n",
       "11          0.079324         0.074372   6.242701  \n",
       "10          0.068869         0.064478   6.376111  \n",
       "13          0.068064         0.059693  12.298747  \n",
       "12          0.062713         0.056251  10.304246  \n",
       "9           0.063126         0.055511  12.063008  \n",
       "22          0.057040         0.052316   8.281486  \n",
       "8           0.055844         0.051250   8.225935  \n",
       "23          0.052987         0.048349   8.753373  \n",
       "19          0.050051         0.046221   7.653549  \n",
       "18          0.046023         0.043547   5.380493  \n",
       "17          0.047331         0.043313   8.489935  \n",
       "21          0.048124         0.043059  10.524725  \n",
       "20          0.047649         0.041992  11.872669  \n",
       "16          0.044332         0.041187   7.095280  "
      ]
     },
     "execution_count": 169,
     "metadata": {},
     "output_type": "execute_result"
    }
   ],
   "source": [
    "# training and validation RMSE\n",
    "lgb_us_cv_results = pd.DataFrame(lgb_us_grid_search.cv_results_\n",
    "                         )[['params', 'mean_train_score', 'mean_test_score']]\n",
    "lgb_us_cv_results[\"diff, %\"] = 100*(lgb_us_cv_results[\"mean_train_score\"]-lgb_us_cv_results[\"mean_test_score\"]\n",
    "                                                     )/lgb_us_cv_results[\"mean_train_score\"]\n",
    "\n",
    "pd.set_option('display.max_colwidth', 100)\n",
    "lgb_us_cv_results.sort_values('mean_test_score', ascending=False)"
   ]
  },
  {
   "cell_type": "code",
   "execution_count": 170,
   "id": "e9b65922",
   "metadata": {},
   "outputs": [
    {
     "name": "stdout",
     "output_type": "stream",
     "text": [
      "[LightGBM] [Warning] bagging_freq is set=1, subsample_freq=0 will be ignored. Current value: bagging_freq=1\n",
      "[LightGBM] [Warning] bagging_freq is set=1, subsample_freq=0 will be ignored. Current value: bagging_freq=1\n",
      "[LightGBM] [Warning] bagging_freq is set=1, subsample_freq=0 will be ignored. Current value: bagging_freq=1\n",
      "[LightGBM] [Warning] bagging_freq is set=1, subsample_freq=0 will be ignored. Current value: bagging_freq=1\n"
     ]
    },
    {
     "data": {
      "text/plain": [
       "<sklearn.metrics._plot.confusion_matrix.ConfusionMatrixDisplay at 0x7febe1411ca0>"
      ]
     },
     "execution_count": 170,
     "metadata": {},
     "output_type": "execute_result"
    },
    {
     "data": {
      "image/png": "[encoded data removed]",
      "text/plain": [
       "<Figure size 432x288 with 2 Axes>"
      ]
     },
     "metadata": {
      "needs_background": "light"
     },
     "output_type": "display_data"
    }
   ],
   "source": [
    "# cross-validation confusion matrix, training data\n",
    "y_pred_us_lgb = cross_val_predict(lgb_us_grid_search.best_estimator_, Xtrain, ytrain, cv=5)\n",
    "conf_mat = confusion_matrix(ytrain, y_pred_us_lgb, normalize=\"true\")\n",
    "ConfusionMatrixDisplay(confusion_matrix=conf_mat,\n",
    "                       display_labels=lgb_us_grid_search.best_estimator_.classes_\n",
    "                      ).plot(cmap=plt.cm.Blues)"
   ]
  },
  {
   "cell_type": "code",
   "execution_count": 171,
   "id": "fd6f1ff1",
   "metadata": {},
   "outputs": [
    {
     "data": {
      "text/plain": [
       "<sklearn.metrics._plot.confusion_matrix.ConfusionMatrixDisplay at 0x7febd32c6b80>"
      ]
     },
     "execution_count": 171,
     "metadata": {},
     "output_type": "execute_result"
    },
    {
     "data": {
      "image/png": "[encoded data removed]",
      "text/plain": [
       "<Figure size 432x288 with 2 Axes>"
      ]
     },
     "metadata": {
      "needs_background": "light"
     },
     "output_type": "display_data"
    }
   ],
   "source": [
    "#Confusion matrix on testing data\n",
    "ConfusionMatrixDisplay.from_estimator(lgb_us_grid_search.best_estimator_, Xtest, ytest,\n",
    "                                 display_labels=lgb_us_grid_search.best_estimator_.classes_,\n",
    "                                 cmap=plt.cm.Blues,\n",
    "                                 normalize='true')"
   ]
  },
  {
   "cell_type": "markdown",
   "id": "672a01b4",
   "metadata": {},
   "source": [
    "# Evaluation"
   ]
  },
  {
   "cell_type": "code",
   "execution_count": 162,
   "id": "dc57b612",
   "metadata": {},
   "outputs": [
    {
     "name": "stdout",
     "output_type": "stream",
     "text": [
      "              precision    recall  f1-score   support\n",
      "\n",
      "           0       0.96      0.79      0.87       942\n",
      "           1       0.03      0.17      0.05        35\n",
      "\n",
      "    accuracy                           0.77       977\n",
      "   macro avg       0.50      0.48      0.46       977\n",
      "weighted avg       0.93      0.77      0.84       977\n",
      "\n"
     ]
    }
   ],
   "source": [
    "# Unbalanced light GBM\n",
    "evaluate_on_test(lgb_cv.best_estimator_, ytest, Xtest)"
   ]
  },
  {
   "cell_type": "code",
   "execution_count": 173,
   "id": "228bd20e",
   "metadata": {},
   "outputs": [
    {
     "name": "stdout",
     "output_type": "stream",
     "text": [
      "              precision    recall  f1-score   support\n",
      "\n",
      "           0       0.96      0.49      0.65       942\n",
      "           1       0.03      0.49      0.06        35\n",
      "\n",
      "    accuracy                           0.49       977\n",
      "   macro avg       0.50      0.49      0.36       977\n",
      "weighted avg       0.93      0.49      0.63       977\n",
      "\n"
     ]
    }
   ],
   "source": [
    "# Oversampling light GBM\n",
    "evaluate_on_test(lgb_os_grid_search.best_estimator_, ytest, Xtest)"
   ]
  },
  {
   "cell_type": "code",
   "execution_count": 172,
   "id": "a672bb3a",
   "metadata": {},
   "outputs": [
    {
     "name": "stdout",
     "output_type": "stream",
     "text": [
      "              precision    recall  f1-score   support\n",
      "\n",
      "           0       0.93      0.08      0.15       942\n",
      "           1       0.03      0.83      0.06        35\n",
      "\n",
      "    accuracy                           0.11       977\n",
      "   macro avg       0.48      0.45      0.10       977\n",
      "weighted avg       0.89      0.11      0.14       977\n",
      "\n"
     ]
    }
   ],
   "source": [
    "# Undersampling light GBM\n",
    "evaluate_on_test(lgb_us_grid_search.best_estimator_, ytest, Xtest)"
   ]
  },
  {
   "cell_type": "markdown",
   "id": "66501f18",
   "metadata": {},
   "source": [
    "# 8. Conclusion"
   ]
  },
  {
   "cell_type": "markdown",
   "id": "0bcb2e4f",
   "metadata": {},
   "source": [
    "From the extensive test, I found 2 models that perform the best with my current dataset:"
   ]
  },
  {
   "cell_type": "code",
   "execution_count": 174,
   "id": "cf29135f",
   "metadata": {},
   "outputs": [
    {
     "name": "stdout",
     "output_type": "stream",
     "text": [
      "              precision    recall  f1-score   support\n",
      "\n",
      "           0       0.97      0.71      0.82       942\n",
      "           1       0.06      0.49      0.10        35\n",
      "\n",
      "    accuracy                           0.70       977\n",
      "   macro avg       0.52      0.60      0.46       977\n",
      "weighted avg       0.94      0.70      0.79       977\n",
      "\n"
     ]
    }
   ],
   "source": [
    "# oversampling SVM\n",
    "evaluate_on_test(lsvm_os_grid_search.best_estimator_, ytest, Xtest)"
   ]
  },
  {
   "cell_type": "code",
   "execution_count": 175,
   "id": "5c3a3f28",
   "metadata": {},
   "outputs": [
    {
     "name": "stdout",
     "output_type": "stream",
     "text": [
      "              precision    recall  f1-score   support\n",
      "\n",
      "           0       0.97      0.71      0.82       942\n",
      "           1       0.06      0.49      0.10        35\n",
      "\n",
      "    accuracy                           0.70       977\n",
      "   macro avg       0.52      0.60      0.46       977\n",
      "weighted avg       0.94      0.70      0.79       977\n",
      "\n"
     ]
    }
   ],
   "source": [
    "# Unbalanced logistic regression\n",
    "evaluate_on_test(logistic_reg_cv.best_estimator_, ytest, Xtest)"
   ]
  },
  {
   "cell_type": "markdown",
   "id": "8bdd0e12",
   "metadata": {},
   "source": [
    "While both models outperform the other models in this dataset, the mean f-score is only approximately 0.45, which is still below the baseline model's 0.496 score. We should choose logistic regression over the oversampling SVM because it is much easier and quicker to implement.\n",
    "My sample is substantially smaller than the original dataset since I only want to look at the fatality rate for people over 75. Some models, such as Light GBM, are designed to function with moderate to large datasets, hence they may perform poorly and be prone to overfitting when used with a small dataset."
   ]
  },
  {
   "cell_type": "markdown",
   "id": "128c9b6f",
   "metadata": {},
   "source": [
    "# 9. Possible Future Improvement"
   ]
  },
  {
   "cell_type": "markdown",
   "id": "bdef34c4",
   "metadata": {},
   "source": [
    "This research can be expanded and applied to other age groups. More importantly, the methods to run the models should also be upgraded. Logistic Regression works best with a small data sample size, so when the dataset is enlarged, Light GBM or other Gradient Boost model might be more appropriate. \n",
    "In addition, insurance firms can now collect more sophisticated data, such as telematics or sensor device data, to better forecast the driver's behaviour and lower the risk of causing a fatal accident."
   ]
  }
 ],
 "metadata": {
  "kernelspec": {
   "display_name": "Python 3",
   "language": "python",
   "name": "python3"
  },
  "language_info": {
   "codemirror_mode": {
    "name": "ipython",
    "version": 3
   },
   "file_extension": ".py",
   "mimetype": "text/x-python",
   "name": "python",
   "nbconvert_exporter": "python",
   "pygments_lexer": "ipython3",
   "version": "3.8.8"
  }
 },
 "nbformat": 4,
 "nbformat_minor": 5
}
